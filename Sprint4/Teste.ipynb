{
 "cells": [
  {
   "cell_type": "code",
   "execution_count": 1,
   "id": "9883ae34",
   "metadata": {},
   "outputs": [
    {
     "name": "stdout",
     "output_type": "stream",
     "text": [
      "American Express\n",
      "Boeing\n",
      "Coca-Cola\n",
      "Walt Disney\n",
      "Nike\n",
      "JPMorgan\n",
      "Walmart\n"
     ]
    }
   ],
   "source": [
    "financial_info = {\n",
    "    'American Express': 93.23,\n",
    "    'Boeing': 178.44,\n",
    "    'Coca-Cola': 45.15,\n",
    "    'Walt Disney': 119.34,\n",
    "    'Nike': 97.99,\n",
    "    'JPMorgan':96.27,\n",
    "    'Walmart': 130.68 \n",
    "}\n",
    "\n",
    "for key in financial_info.keys():\n",
    "    print(key)"
   ]
  },
  {
   "cell_type": "code",
   "execution_count": 2,
   "id": "dd55aaf8",
   "metadata": {},
   "outputs": [
    {
     "name": "stdout",
     "output_type": "stream",
     "text": [
      "93.23\n",
      "178.44\n",
      "45.15\n",
      "119.34\n",
      "97.99\n",
      "96.27\n",
      "130.68\n"
     ]
    }
   ],
   "source": [
    "financial_info = {\n",
    "    'American Express': 93.23,\n",
    "    'Boeing': 178.44,\n",
    "    'Coca-Cola': 45.15,\n",
    "    'Walt Disney': 119.34,\n",
    "    'Nike': 97.99,\n",
    "    'JPMorgan':96.27,\n",
    "    'Walmart': 130.68 \n",
    "}\n",
    "\n",
    "for value in financial_info.values():\n",
    "    print(value)"
   ]
  },
  {
   "cell_type": "code",
   "execution_count": null,
   "id": "5098b371",
   "metadata": {},
   "outputs": [
    {
     "name": "stdout",
     "output_type": "stream",
     "text": [
      "758\n"
     ]
    }
   ],
   "source": [
    "financial_info = {\n",
    "    'American Express': 93,\n",
    "    'Boeing': 178,\n",
    "    'Coca-Cola': 45,\n",
    "    'Walt Disney': 119,\n",
    "    'Nike': 97,\n",
    "    'JPMorgan': 96,\n",
    "    'Walmart': 130\n",
    "}\n",
    "\n",
    "total_value = 0 \n",
    "\n",
    "for value in financial_info.values():\n",
    "    total_value += value\n",
    "\n",
    "print(total_value)"
   ]
  },
  {
   "cell_type": "code",
   "execution_count": 4,
   "id": "b6e2a16c",
   "metadata": {},
   "outputs": [
    {
     "name": "stdout",
     "output_type": "stream",
     "text": [
      "American Express 93.23\n",
      "Boeing 178.44\n",
      "Coca-Cola 45.15\n",
      "Walt Disney 119.34\n",
      "Nike 97.99\n",
      "JPMorgan 96.27\n",
      "Walmart 130.68\n"
     ]
    }
   ],
   "source": [
    "financial_info = {\n",
    "    'American Express': 93.23,\n",
    "    'Boeing': 178.44,\n",
    "    'Coca-Cola': 45.15,\n",
    "    'Walt Disney': 119.34,\n",
    "    'Nike': 97.99,\n",
    "    'JPMorgan':96.27,\n",
    "    'Walmart': 130.68 \n",
    "}\n",
    "\n",
    "for key, value in financial_info.items():\n",
    "    print(key, value)"
   ]
  },
  {
   "cell_type": "code",
   "execution_count": 5,
   "id": "c1f7d9ff",
   "metadata": {},
   "outputs": [
    {
     "name": "stdout",
     "output_type": "stream",
     "text": [
      "758\n"
     ]
    }
   ],
   "source": [
    "financial_info = {\n",
    "    'American Express': 93,\n",
    "    'Boeing': 178,\n",
    "    'Coca-Cola': 45,\n",
    "    'Walt Disney': 119,\n",
    "    'Nike': 97,\n",
    "    'JPMorgan': 96,\n",
    "    'Walmart': 130\n",
    "}\n",
    "\n",
    "total_value = 0 # o valor que você vai atualizar a cada iteração do ciclo\n",
    "for key, value in financial_info.items():\n",
    "     total_value += value    \n",
    "print(total_value)"
   ]
  },
  {
   "cell_type": "code",
   "execution_count": 6,
   "id": "d334e44a",
   "metadata": {},
   "outputs": [
    {
     "name": "stdout",
     "output_type": "stream",
     "text": [
      "93.23\n",
      "178.44\n",
      "45.15\n",
      "119.34\n",
      "97.99\n",
      "96.27\n",
      "130.68\n"
     ]
    }
   ],
   "source": [
    "financial_info = {\n",
    "    'American Express': 93.23,\n",
    "    'Boeing': 178.44,\n",
    "    'Coca-Cola': 45.15,\n",
    "    'Walt Disney': 119.34,\n",
    "    'Nike': 97.99,\n",
    "    'JPMorgan':96.27,\n",
    "    'Walmart': 130.68 \n",
    "}\n",
    "\n",
    "for value in financial_info.values():\n",
    "    print(value)"
   ]
  },
  {
   "cell_type": "code",
   "execution_count": 7,
   "id": "ca968638",
   "metadata": {},
   "outputs": [
    {
     "name": "stdout",
     "output_type": "stream",
     "text": [
      "The Shawshank Redemption USA 1994 drama 142 9.111\n",
      "The Godfather USA 1972 drama, crime 175 8.73\n",
      "The Dark Knight USA 2008 fantasy, action, thriller 152 8.499\n",
      "Schindler's List USA 1993 drama 195 8.818\n",
      "The Lord of the Rings: The Return of the King New Zealand 2003 fantasy, adventure, drama 201 8.625\n",
      "Pulp Fiction USA 1994 thriller, comedy, crime 154 8.619\n",
      "The Good, the Bad and the Ugly Italy 1966 western 178 8.521\n",
      "Fight Club USA 1999 thriller, drama, crime 139 8.644\n",
      "Harakiri Japan 1962 drama, action, history 133 8.106\n",
      "Good Will Hunting USA 1997 drama, romance 126 8.077\n"
     ]
    }
   ],
   "source": [
    "movies_info = [\n",
    "    ['The Shawshank Redemption', 'USA', 1994, 'drama', 142, 9.111],\n",
    "    ['The Godfather', 'USA', 1972, 'drama, crime', 175, 8.730],\n",
    "    ['The Dark Knight', 'USA', 2008, 'fantasy, action, thriller', 152, 8.499],\n",
    "    [\"Schindler's List\", 'USA', 1993, 'drama', 195, 8.818],\n",
    "    ['The Lord of the Rings: The Return of the King', 'New Zealand', 2003, 'fantasy, adventure, drama', 201, 8.625],\n",
    "    ['Pulp Fiction', 'USA', 1994, 'thriller, comedy, crime', 154, 8.619],\n",
    "    ['The Good, the Bad and the Ugly', 'Italy', 1966, 'western', 178, 8.521],\n",
    "    ['Fight Club', 'USA', 1999, 'thriller, drama, crime', 139, 8.644],\n",
    "    ['Harakiri', 'Japan', 1962, 'drama, action, history', 133, 8.106],\n",
    "    ['Good Will Hunting', 'USA', 1997, 'drama, romance', 126, 8.077]\n",
    "]\n",
    "for movie in movies_info:\n",
    "    print(movie[0], movie[1], movie[2], movie[3], movie[4], movie[5])"
   ]
  },
  {
   "cell_type": "code",
   "execution_count": 8,
   "id": "21fa42d5",
   "metadata": {},
   "outputs": [
    {
     "name": "stdout",
     "output_type": "stream",
     "text": [
      "Linha 72 - Partida 8:00\n",
      "Linha 72 - Partida 12:00\n",
      "Linha 72 - Partida 17:30\n",
      "Linha 26 - Partida 9:30\n",
      "Linha 26 - Partida 15:00\n",
      "Linha 17 - Partida 7:30\n",
      "Linha 17 - Partida 12:30\n",
      "Linha 17 - Partida 15:30\n"
     ]
    }
   ],
   "source": [
    "bus_schedule = {\n",
    "    '72': ['8:00', '12:00', '17:30'],\n",
    "    '26': ['9:30', '15:00'],\n",
    "    '17': ['7:30', '12:30', '15:30']\n",
    "}\n",
    "\n",
    "# itere sobre as chaves e os valores do dicionário\n",
    "for route, times in bus_schedule.items():\n",
    "    # itere sobre os valores da lista\n",
    "    for time in times:\n",
    "        # imprima o itinerário e seus horários associados\n",
    "\t      print(f\"Linha {route} - Partida {time}\")"
   ]
  },
  {
   "cell_type": "code",
   "execution_count": 9,
   "id": "7c6b0c76",
   "metadata": {},
   "outputs": [
    {
     "name": "stdout",
     "output_type": "stream",
     "text": [
      "O horário da primeira partida do ônibus #72 é 8:00\n",
      "O horário da primeira partida do ônibus #26 é 9:30\n",
      "O horário da primeira partida do ônibus #17 é 7:30\n"
     ]
    }
   ],
   "source": [
    "bus_schedule = {\n",
    "    '72': ['8:00', '12:00', '17:30'],\n",
    "    '26': ['9:30', '15:00'],\n",
    "    '17': ['7:30', '12:30', '15:30']\n",
    "}\n",
    "\n",
    "for route, times in bus_schedule.items():\n",
    "    earliest_time = times[0]\n",
    "    print(f'O horário da primeira partida do ônibus #{route} é {earliest_time}')"
   ]
  },
  {
   "cell_type": "code",
   "execution_count": 10,
   "id": "6b7a749c",
   "metadata": {},
   "outputs": [
    {
     "name": "stdout",
     "output_type": "stream",
     "text": [
      "The Shawshank Redemption (USA) - drama (1994) - 142 min - 9.111 rating\n",
      "The Godfather (USA) - drama, crime (1972) - 175 min - 8.73 rating\n",
      "The Dark Knight (USA) - fantasy, action, thriller (2008) - 152 min - 8.499 rating\n"
     ]
    }
   ],
   "source": [
    "movies_table = [\n",
    "    ['The Shawshank Redemption', 'USA', 'drama', 1994, 142, 9.111],\n",
    "    ['The Godfather', 'USA', 'drama, crime', 1972, 175, 8.730],\n",
    "    ['The Dark Knight', 'USA', 'fantasy, action, thriller', 2008, 152, 8.499]\n",
    "]\n",
    "for movie in movies_table:\n",
    "    print(f\"{movie[0]} ({movie[1]}) - {movie[2]} ({movie[3]}) - {movie[4]} min - {movie[5]} rating\")"
   ]
  },
  {
   "cell_type": "code",
   "execution_count": 11,
   "id": "4d8fd985",
   "metadata": {},
   "outputs": [
    {
     "name": "stdout",
     "output_type": "stream",
     "text": [
      "2008\n"
     ]
    }
   ],
   "source": [
    "movies_table = [\n",
    "    ['The Shawshank Redemption', 'USA', 'drama', 1994, 142, 9.111],\n",
    "    ['The Godfather', 'USA', 'drama, crime', 1972, 175, 8.730],\n",
    "    ['The Dark Knight', 'USA', 'fantasy, action, thriller', 2008, 152, 8.499]\n",
    "]\n",
    "\n",
    "print(movies_table[2][3])"
   ]
  },
  {
   "cell_type": "code",
   "execution_count": 12,
   "id": "e46fbe37",
   "metadata": {},
   "outputs": [
    {
     "name": "stdout",
     "output_type": "stream",
     "text": [
      "The Dark Knight\n"
     ]
    }
   ],
   "source": [
    "movies_table = [\n",
    "    {'movie_name':'The Shawshank Redemption', 'country':'USA', 'genre':'drama', 'year':1994, 'duration':142, 'rating':9.111},\n",
    "    {'movie_name':'The Godfather', 'country':'USA', 'genre':'drama, crime', 'year':1972, 'duration':175, 'rating':8.730},\n",
    "    {'movie_name':'The Dark Knight', 'country':'USA', 'genre':'fantasy, action, thriller', 'year':2008, 'duration':152, 'rating':8.499}\n",
    "]\n",
    "\n",
    "# agora acesse a coluna pelo nome:\n",
    "print(movies_table[2]['movie_name'])"
   ]
  },
  {
   "cell_type": "code",
   "execution_count": 15,
   "id": "9f647887",
   "metadata": {},
   "outputs": [
    {
     "name": "stdout",
     "output_type": "stream",
     "text": [
      "The Dark Knight\n"
     ]
    }
   ],
   "source": [
    "movies_table = [\n",
    "    {'movie_name':'The Shawshank Redemption', 'country':'USA', 'genre':'drama', 'year':1994, 'duration':142, 'rating':9.111},\n",
    "    {'movie_name':'The Godfather', 'country':'USA', 'genre':'drama, crime', 'year':1972, 'duration':175, 'rating':8.730},\n",
    "    {'movie_name':'The Dark Knight', 'country':'USA', 'genre':'fantasy, action, thriller', 'year':2008, 'duration':152, 'rating':8.499}\n",
    "]\n",
    "print(movies_table[-1]['movie_name'])"
   ]
  },
  {
   "cell_type": "code",
   "execution_count": 22,
   "id": "2361d094",
   "metadata": {},
   "outputs": [
    {
     "name": "stdout",
     "output_type": "stream",
     "text": [
      "36\n"
     ]
    }
   ],
   "source": [
    "order = [\n",
    "    {\n",
    "        'item': 'Margherita pizza',\n",
    "        'category': 'pizza',\n",
    "        'quantity': 2,\n",
    "        'price': 9\n",
    "    },\n",
    "    {\n",
    "        'item': 'Ham pizza',\n",
    "        'category': 'pizza',\n",
    "        'quantity': 1,\n",
    "        'price': 12\n",
    "    },\n",
    "    {\n",
    "        'item': 'Pepsi 1 l',\n",
    "        'category': 'beverages',\n",
    "        'quantity': 3,\n",
    "        'price': 2\n",
    "    }\n",
    "]\n",
    "total_price = 0\n",
    "for item in order:\n",
    "    total_price += item['price'] * item['quantity']\n",
    "\n",
    "print(total_price)"
   ]
  },
  {
   "cell_type": "code",
   "execution_count": 23,
   "id": "c4df05d6",
   "metadata": {},
   "outputs": [
    {
     "name": "stdout",
     "output_type": "stream",
     "text": [
      "[\"Schindler's List\", 'USA', 1993, 'drama', 195, 8.818]\n",
      "['The Lord of the Rings: The Return of the King', 'New Zealand', 2003, 'fantasy, adventure, drama', 201, 8.625]\n"
     ]
    }
   ],
   "source": [
    "movies_info = [\n",
    "    ['The Shawshank Redemption', 'USA', 1994, 'drama', 142, 9.111],\n",
    "    ['The Godfather', 'USA', 1972, 'drama, crime', 175, 8.730],\n",
    "    ['The Dark Knight', 'USA', 2008, 'fantasy, action, thriller', 152, 8.499],\n",
    "    [\"Schindler's List\", 'USA', 1993, 'drama', 195, 8.818],\n",
    "    ['The Lord of the Rings: The Return of the King', 'New Zealand', 2003, 'fantasy, adventure, drama', 201, 8.625],\n",
    "    ['Pulp Fiction', 'USA', 1994, 'thriller, comedy, crime', 154, 8.619],\n",
    "    ['The Good, the Bad and the Ugly', 'Italy', 1966, 'western', 178, 8.521],\n",
    "    ['Fight Club', 'USA', 1999, 'thriller, drama, crime', 139, 8.644],\n",
    "    ['Harakiri', 'Japan', 1962, 'drama, action, history', 133, 8.106],\n",
    "    ['Good Will Hunting', 'USA', 1997, 'drama, romance', 126, 8.077]\n",
    "]\n",
    "\n",
    "movies_filtered = [] # lista vazia para armazenar o resultado\n",
    "\n",
    "for movie in movies_info: # iterando sobre as linhas da tabela original\n",
    "    if movie[4] > 180: # se um filme dura mais do que 180 min\n",
    "        movies_filtered.append(movie) # adiciona a linha à lista movie_filtered\n",
    "\n",
    "for movie in movies_filtered: # imprimindo o conteúdo da lista movies_filtered\n",
    "    print(movie) "
   ]
  },
  {
   "cell_type": "code",
   "execution_count": 24,
   "id": "146c2dbc",
   "metadata": {},
   "outputs": [
    {
     "name": "stdout",
     "output_type": "stream",
     "text": [
      "[{'item': 'Margherita pizza', 'category': 'pizza', 'quantity': 2, 'price': 9}, {'item': 'Ham pizza', 'category': 'pizza', 'quantity': 1, 'price': 12}]\n"
     ]
    }
   ],
   "source": [
    "order = [\n",
    "    {\n",
    "        'item': 'Margherita pizza',\n",
    "        'category': 'pizza',\n",
    "        'quantity': 2,\n",
    "        'price': 9\n",
    "    },\n",
    "    {\n",
    "        'item': 'Ham pizza',\n",
    "        'category': 'pizza',\n",
    "        'quantity': 1,\n",
    "        'price': 12\n",
    "    },\n",
    "    {\n",
    "        'item': 'Pepsi 1 l',\n",
    "        'category': 'beverages',\n",
    "        'quantity': 3,\n",
    "        'price': 2\n",
    "    }\n",
    "]\n",
    "\n",
    "# variável para armazenar o resultado\n",
    "filtered_order = [] \n",
    "\n",
    "for item in order: # itera sobre cada dicionário da lista\n",
    "\tif item['category'] == 'pizza': # se a categoria for pizza...\n",
    "\t\tfiltered_order.append(item) # adiciona o dicionário à lista filtered_order\n",
    "\n",
    "# imprime a lista de dicionários filtrada\n",
    "print(filtered_order) "
   ]
  },
  {
   "cell_type": "code",
   "execution_count": 21,
   "id": "db099b6c",
   "metadata": {},
   "outputs": [
    {
     "name": "stdout",
     "output_type": "stream",
     "text": [
      "30\n"
     ]
    }
   ],
   "source": [
    "order = [\n",
    "    {\n",
    "        'item': 'Margherita pizza',\n",
    "        'category': 'pizza',\n",
    "        'quantity': 2,\n",
    "        'comment': 'Add extra cheese please!',\n",
    "        'price': 9 # preço por item\n",
    "    },\n",
    "    {\n",
    "        'item': 'Ham pizza',\n",
    "        'category': 'pizza',\n",
    "        'quantity': 1,\n",
    "        'comment': '',\n",
    "        'price': 12\n",
    "    },\n",
    "    {\n",
    "        'item': 'Pepsi 1 l',\n",
    "        'category': 'beverages',\n",
    "        'quantity': 3,\n",
    "        'comment': '',\n",
    "        'price': 2\n",
    "    },\n",
    "    {\n",
    "        'item': 'Apple juice 0.5 l',\n",
    "        'category': 'beverages',\n",
    "        'quantity': 1,\n",
    "        'comment': '',\n",
    "        'price': 1\n",
    "    },\n",
    "    {\n",
    "        'item': 'Croissant with cheese',\n",
    "        'category': 'baked foods',\n",
    "        'quantity': 2,\n",
    "        'comment': '',\n",
    "        'price': 1\n",
    "    }\n",
    "]\n",
    "\n",
    "total_pizza_price = 0\n",
    "\n",
    "for item in order:\n",
    "    if item['category'] == 'pizza':\n",
    "        total_pizza_price += item['price'] * item['quantity']\n",
    "\n",
    "print(total_pizza_price)"
   ]
  },
  {
   "cell_type": "code",
   "execution_count": 2,
   "id": "f3917e51",
   "metadata": {},
   "outputs": [
    {
     "name": "stdout",
     "output_type": "stream",
     "text": [
      "A omelete está pronta! Ovos usados: 2\n"
     ]
    }
   ],
   "source": [
    "def omelet(eggs_number=2):\n",
    "    result = 'A omelete está pronta! Ovos usados: ' + str(eggs_number)\n",
    "    return result\n",
    "\n",
    "print(omelet())"
   ]
  },
  {
   "cell_type": "code",
   "execution_count": 3,
   "id": "6e9b276c",
   "metadata": {},
   "outputs": [
    {
     "name": "stdout",
     "output_type": "stream",
     "text": [
      "A omelete está pronta! Ovos usados: 2, sem queijo\n"
     ]
    }
   ],
   "source": [
    "def omelet(cheese, eggs_number=2):\n",
    "    result = 'A omelete está pronta! Ovos usados: ' + str(eggs_number)\n",
    "    if cheese == True:\n",
    "        result = result + ', com queijo'\n",
    "    else:\n",
    "        result = result + ', sem queijo'\n",
    "    return result\n",
    "\n",
    "print(omelet(False))"
   ]
  },
  {
   "cell_type": "code",
   "execution_count": 4,
   "id": "f2c5eaa2",
   "metadata": {},
   "outputs": [
    {
     "name": "stdout",
     "output_type": "stream",
     "text": [
      "A omelete está pronta! Ovos usados: 3\n",
      "Como fazer uma omelete sem ovos?\n"
     ]
    }
   ],
   "source": [
    "def omelet(eggs_number=2):\n",
    "    if eggs_number > 0:\n",
    "        return 'A omelete está pronta! Ovos usados: ' + str(eggs_number)\n",
    "    else:\n",
    "        return 'Como fazer uma omelete sem ovos?'\n",
    "    print('Eu nunca serei impressa :(')\n",
    "\n",
    "\n",
    "print(omelet(3))\n",
    "print(omelet(0))"
   ]
  },
  {
   "cell_type": "code",
   "execution_count": 5,
   "id": "536d3864",
   "metadata": {},
   "outputs": [
    {
     "name": "stdout",
     "output_type": "stream",
     "text": [
      "(6, 10)\n"
     ]
    }
   ],
   "source": [
    "def area_and_perim(side_1, side_2):\n",
    "    area = side_1 * side_2\n",
    "    perimeter = 2 * (side_1 + side_2)\n",
    "    return area, perimeter\n",
    "\n",
    "print(area_and_perim(2, 3))"
   ]
  },
  {
   "cell_type": "code",
   "execution_count": 6,
   "id": "0de4ace5",
   "metadata": {},
   "outputs": [
    {
     "name": "stdout",
     "output_type": "stream",
     "text": [
      "A área do retângulo é 21, o perímetro é 20\n"
     ]
    }
   ],
   "source": [
    "def find_area_and_perim(side1, side2):\n",
    "    area = side1 * side2\n",
    "    perimeter = 2 * (side1 + side2)\n",
    "    return area, perimeter\n",
    "\n",
    "# desagrupa o resultado da função\n",
    "rec_area, rec_perimeter = (find_area_and_perim(7, 3))\n",
    "\n",
    "print(f'A área do retângulo é {rec_area}, o perímetro é {rec_perimeter}')"
   ]
  }
 ],
 "metadata": {
  "kernelspec": {
   "display_name": "Python 3",
   "language": "python",
   "name": "python3"
  },
  "language_info": {
   "codemirror_mode": {
    "name": "ipython",
    "version": 3
   },
   "file_extension": ".py",
   "mimetype": "text/x-python",
   "name": "python",
   "nbconvert_exporter": "python",
   "pygments_lexer": "ipython3",
   "version": "3.11.9"
  }
 },
 "nbformat": 4,
 "nbformat_minor": 5
}
