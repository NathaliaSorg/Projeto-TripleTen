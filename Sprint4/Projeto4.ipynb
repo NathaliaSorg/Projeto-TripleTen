{
 "cells": [
  {
   "cell_type": "markdown",
   "metadata": {
    "id": "eAkbw7Ueuj8X"
   },
   "source": [
    "# Qual é o melhor plano?\n",
    "\n",
    "Você trabalha como analista para a empresa de telecomunicações Megaline. A empresa oferece aos clientes dois planos pré-pagos: Surf e Ultimate. O departamento comercial quer saber qual dos planos gera mais receita para ajustar o orçamento de publicidade.\n",
    "\n",
    "Você vai realizar uma análise preliminar dos planos com base em uma pequena seleção de clientes. Você terá dados de 500 clientes da Megaline: que clientes são, de onde eles são, qual plano usam e o número de chamadas e mensagens realizadas em 2018. Seu trabalho é analisar o comportamento dos clientes e determinar qual plano pré-pago gera mais receita."
   ]
  },
  {
   "cell_type": "markdown",
   "metadata": {
    "id": "Z_iOKMX_uj8a"
   },
   "source": [
    "[Fornecemos alguns comentários para guiar sua linha de raciocínio enquanto você trabalha neste projeto. Entretanto, certifique-se de remover todos os comentários entre colchetes antes de enviar o projeto.]\n",
    "\n",
    "[Antes de começar a análise dos dados, explique com suas próprias palavras o propósito do projeto e as ações que planeja realizar.]\n",
    "\n",
    "[Tenha em mente que estudar, modificar e analisar dados é um processo iterativo. É normal retornar a etapas anteriores e corrigir/expandir algo para permitir as próximas etapas.]"
   ]
  },
  {
   "cell_type": "markdown",
   "metadata": {
    "id": "lnomf-3Xuj8b"
   },
   "source": [
    "## Inicialização"
   ]
  },
  {
   "cell_type": "code",
   "execution_count": 132,
   "metadata": {
    "id": "JdJusn5ouj8c"
   },
   "outputs": [],
   "source": [
    "# Carregando todas as bibliotecas\n",
    "import pandas as pd\n",
    "import numpy as np\n",
    "import scipy.stats as stats\n"
   ]
  },
  {
   "cell_type": "markdown",
   "metadata": {
    "id": "rzqsCrgquj8d"
   },
   "source": [
    "## Carregue os dados"
   ]
  },
  {
   "cell_type": "code",
   "execution_count": 133,
   "metadata": {
    "id": "HmzmQRXIuj8e"
   },
   "outputs": [],
   "source": [
    "# Carregue os arquivos de dados em diferentes DataFrames\n",
    "calls = pd.read_csv(r'C:\\Users\\Usuário\\Documents\\Projetos TripleTen\\Sprint4\\megaline_calls.csv')\n",
    "internet = pd.read_csv(r'C:\\Users\\Usuário\\Documents\\Projetos TripleTen\\Sprint4\\megaline_internet.csv')\n",
    "messages = pd.read_csv(r'C:\\Users\\Usuário\\Documents\\Projetos TripleTen\\Sprint4\\megaline_messages.csv')\n",
    "plans = pd.read_csv(r'C:\\Users\\Usuário\\Documents\\Projetos TripleTen\\Sprint4\\megaline_plans.csv')\n",
    "users = pd.read_csv(r'C:\\Users\\Usuário\\Documents\\Projetos TripleTen\\Sprint4\\megaline_users.csv')\n"
   ]
  },
  {
   "cell_type": "markdown",
   "metadata": {
    "id": "XQh-EeiIuj8e"
   },
   "source": [
    "## Prepare os dados"
   ]
  },
  {
   "cell_type": "markdown",
   "metadata": {
    "id": "RmibJmmzuj8e"
   },
   "source": [
    "[Os dados deste projeto estão divididos em várias tabelas. Explore cada uma para obter uma compreensão inicial dos dados. Faça correções em cada tabela, se necessário.]"
   ]
  },
  {
   "cell_type": "markdown",
   "metadata": {
    "id": "TlZUw_Cyuj8f"
   },
   "source": [
    "## Planos"
   ]
  },
  {
   "cell_type": "code",
   "execution_count": 134,
   "metadata": {
    "id": "x9qB5mAOuj8f"
   },
   "outputs": [
    {
     "name": "stdout",
     "output_type": "stream",
     "text": [
      "<class 'pandas.core.frame.DataFrame'>\n",
      "RangeIndex: 2 entries, 0 to 1\n",
      "Data columns (total 8 columns):\n",
      " #   Column                 Non-Null Count  Dtype  \n",
      "---  ------                 --------------  -----  \n",
      " 0   messages_included      2 non-null      int64  \n",
      " 1   mb_per_month_included  2 non-null      int64  \n",
      " 2   minutes_included       2 non-null      int64  \n",
      " 3   usd_monthly_pay        2 non-null      int64  \n",
      " 4   usd_per_gb             2 non-null      int64  \n",
      " 5   usd_per_message        2 non-null      float64\n",
      " 6   usd_per_minute         2 non-null      float64\n",
      " 7   plan_name              2 non-null      object \n",
      "dtypes: float64(2), int64(5), object(1)\n",
      "memory usage: 260.0+ bytes\n"
     ]
    },
    {
     "data": {
      "application/vnd.microsoft.datawrangler.viewer.v0+json": {
       "columns": [
        {
         "name": "index",
         "rawType": "object",
         "type": "string"
        },
        {
         "name": "messages_included",
         "rawType": "float64",
         "type": "float"
        },
        {
         "name": "mb_per_month_included",
         "rawType": "float64",
         "type": "float"
        },
        {
         "name": "minutes_included",
         "rawType": "float64",
         "type": "float"
        },
        {
         "name": "usd_monthly_pay",
         "rawType": "float64",
         "type": "float"
        },
        {
         "name": "usd_per_gb",
         "rawType": "float64",
         "type": "float"
        },
        {
         "name": "usd_per_message",
         "rawType": "float64",
         "type": "float"
        },
        {
         "name": "usd_per_minute",
         "rawType": "float64",
         "type": "float"
        }
       ],
       "ref": "78e915a8-c406-44da-a262-280ed67a90f6",
       "rows": [
        [
         "count",
         "2.0",
         "2.0",
         "2.0",
         "2.0",
         "2.0",
         "2.0",
         "2.0"
        ],
        [
         "mean",
         "525.0",
         "23040.0",
         "1750.0",
         "45.0",
         "8.5",
         "0.02",
         "0.02"
        ],
        [
         "std",
         "671.7514421272201",
         "10861.16015902537",
         "1767.7669529663688",
         "35.35533905932738",
         "2.1213203435596424",
         "0.01414213562373095",
         "0.01414213562373095"
        ],
        [
         "min",
         "50.0",
         "15360.0",
         "500.0",
         "20.0",
         "7.0",
         "0.01",
         "0.01"
        ],
        [
         "25%",
         "287.5",
         "19200.0",
         "1125.0",
         "32.5",
         "7.75",
         "0.015",
         "0.015"
        ],
        [
         "50%",
         "525.0",
         "23040.0",
         "1750.0",
         "45.0",
         "8.5",
         "0.02",
         "0.02"
        ],
        [
         "75%",
         "762.5",
         "26880.0",
         "2375.0",
         "57.5",
         "9.25",
         "0.025",
         "0.025"
        ],
        [
         "max",
         "1000.0",
         "30720.0",
         "3000.0",
         "70.0",
         "10.0",
         "0.03",
         "0.03"
        ]
       ],
       "shape": {
        "columns": 7,
        "rows": 8
       }
      },
      "text/html": [
       "<div>\n",
       "<style scoped>\n",
       "    .dataframe tbody tr th:only-of-type {\n",
       "        vertical-align: middle;\n",
       "    }\n",
       "\n",
       "    .dataframe tbody tr th {\n",
       "        vertical-align: top;\n",
       "    }\n",
       "\n",
       "    .dataframe thead th {\n",
       "        text-align: right;\n",
       "    }\n",
       "</style>\n",
       "<table border=\"1\" class=\"dataframe\">\n",
       "  <thead>\n",
       "    <tr style=\"text-align: right;\">\n",
       "      <th></th>\n",
       "      <th>messages_included</th>\n",
       "      <th>mb_per_month_included</th>\n",
       "      <th>minutes_included</th>\n",
       "      <th>usd_monthly_pay</th>\n",
       "      <th>usd_per_gb</th>\n",
       "      <th>usd_per_message</th>\n",
       "      <th>usd_per_minute</th>\n",
       "    </tr>\n",
       "  </thead>\n",
       "  <tbody>\n",
       "    <tr>\n",
       "      <th>count</th>\n",
       "      <td>2.000000</td>\n",
       "      <td>2.000000</td>\n",
       "      <td>2.000000</td>\n",
       "      <td>2.000000</td>\n",
       "      <td>2.00000</td>\n",
       "      <td>2.000000</td>\n",
       "      <td>2.000000</td>\n",
       "    </tr>\n",
       "    <tr>\n",
       "      <th>mean</th>\n",
       "      <td>525.000000</td>\n",
       "      <td>23040.000000</td>\n",
       "      <td>1750.000000</td>\n",
       "      <td>45.000000</td>\n",
       "      <td>8.50000</td>\n",
       "      <td>0.020000</td>\n",
       "      <td>0.020000</td>\n",
       "    </tr>\n",
       "    <tr>\n",
       "      <th>std</th>\n",
       "      <td>671.751442</td>\n",
       "      <td>10861.160159</td>\n",
       "      <td>1767.766953</td>\n",
       "      <td>35.355339</td>\n",
       "      <td>2.12132</td>\n",
       "      <td>0.014142</td>\n",
       "      <td>0.014142</td>\n",
       "    </tr>\n",
       "    <tr>\n",
       "      <th>min</th>\n",
       "      <td>50.000000</td>\n",
       "      <td>15360.000000</td>\n",
       "      <td>500.000000</td>\n",
       "      <td>20.000000</td>\n",
       "      <td>7.00000</td>\n",
       "      <td>0.010000</td>\n",
       "      <td>0.010000</td>\n",
       "    </tr>\n",
       "    <tr>\n",
       "      <th>25%</th>\n",
       "      <td>287.500000</td>\n",
       "      <td>19200.000000</td>\n",
       "      <td>1125.000000</td>\n",
       "      <td>32.500000</td>\n",
       "      <td>7.75000</td>\n",
       "      <td>0.015000</td>\n",
       "      <td>0.015000</td>\n",
       "    </tr>\n",
       "    <tr>\n",
       "      <th>50%</th>\n",
       "      <td>525.000000</td>\n",
       "      <td>23040.000000</td>\n",
       "      <td>1750.000000</td>\n",
       "      <td>45.000000</td>\n",
       "      <td>8.50000</td>\n",
       "      <td>0.020000</td>\n",
       "      <td>0.020000</td>\n",
       "    </tr>\n",
       "    <tr>\n",
       "      <th>75%</th>\n",
       "      <td>762.500000</td>\n",
       "      <td>26880.000000</td>\n",
       "      <td>2375.000000</td>\n",
       "      <td>57.500000</td>\n",
       "      <td>9.25000</td>\n",
       "      <td>0.025000</td>\n",
       "      <td>0.025000</td>\n",
       "    </tr>\n",
       "    <tr>\n",
       "      <th>max</th>\n",
       "      <td>1000.000000</td>\n",
       "      <td>30720.000000</td>\n",
       "      <td>3000.000000</td>\n",
       "      <td>70.000000</td>\n",
       "      <td>10.00000</td>\n",
       "      <td>0.030000</td>\n",
       "      <td>0.030000</td>\n",
       "    </tr>\n",
       "  </tbody>\n",
       "</table>\n",
       "</div>"
      ],
      "text/plain": [
       "       messages_included  mb_per_month_included  minutes_included  \\\n",
       "count           2.000000               2.000000          2.000000   \n",
       "mean          525.000000           23040.000000       1750.000000   \n",
       "std           671.751442           10861.160159       1767.766953   \n",
       "min            50.000000           15360.000000        500.000000   \n",
       "25%           287.500000           19200.000000       1125.000000   \n",
       "50%           525.000000           23040.000000       1750.000000   \n",
       "75%           762.500000           26880.000000       2375.000000   \n",
       "max          1000.000000           30720.000000       3000.000000   \n",
       "\n",
       "       usd_monthly_pay  usd_per_gb  usd_per_message  usd_per_minute  \n",
       "count         2.000000     2.00000         2.000000        2.000000  \n",
       "mean         45.000000     8.50000         0.020000        0.020000  \n",
       "std          35.355339     2.12132         0.014142        0.014142  \n",
       "min          20.000000     7.00000         0.010000        0.010000  \n",
       "25%          32.500000     7.75000         0.015000        0.015000  \n",
       "50%          45.000000     8.50000         0.020000        0.020000  \n",
       "75%          57.500000     9.25000         0.025000        0.025000  \n",
       "max          70.000000    10.00000         0.030000        0.030000  "
      ]
     },
     "execution_count": 134,
     "metadata": {},
     "output_type": "execute_result"
    }
   ],
   "source": [
    "# Imprima informações gerais/resumo sobre o DataFrame dos planos\n",
    "plans.info()\n",
    "plans.describe()\n",
    "\n"
   ]
  },
  {
   "cell_type": "code",
   "execution_count": 135,
   "metadata": {
    "id": "9MRo7tyVuj8f"
   },
   "outputs": [
    {
     "data": {
      "application/vnd.microsoft.datawrangler.viewer.v0+json": {
       "columns": [
        {
         "name": "index",
         "rawType": "int64",
         "type": "integer"
        },
        {
         "name": "messages_included",
         "rawType": "int64",
         "type": "integer"
        },
        {
         "name": "mb_per_month_included",
         "rawType": "int64",
         "type": "integer"
        },
        {
         "name": "minutes_included",
         "rawType": "int64",
         "type": "integer"
        },
        {
         "name": "usd_monthly_pay",
         "rawType": "int64",
         "type": "integer"
        },
        {
         "name": "usd_per_gb",
         "rawType": "int64",
         "type": "integer"
        },
        {
         "name": "usd_per_message",
         "rawType": "float64",
         "type": "float"
        },
        {
         "name": "usd_per_minute",
         "rawType": "float64",
         "type": "float"
        },
        {
         "name": "plan_name",
         "rawType": "object",
         "type": "string"
        }
       ],
       "ref": "7b967c22-a287-4c35-a189-c1a44003a490",
       "rows": [
        [
         "0",
         "50",
         "15360",
         "500",
         "20",
         "10",
         "0.03",
         "0.03",
         "surf"
        ],
        [
         "1",
         "1000",
         "30720",
         "3000",
         "70",
         "7",
         "0.01",
         "0.01",
         "ultimate"
        ]
       ],
       "shape": {
        "columns": 8,
        "rows": 2
       }
      },
      "text/html": [
       "<div>\n",
       "<style scoped>\n",
       "    .dataframe tbody tr th:only-of-type {\n",
       "        vertical-align: middle;\n",
       "    }\n",
       "\n",
       "    .dataframe tbody tr th {\n",
       "        vertical-align: top;\n",
       "    }\n",
       "\n",
       "    .dataframe thead th {\n",
       "        text-align: right;\n",
       "    }\n",
       "</style>\n",
       "<table border=\"1\" class=\"dataframe\">\n",
       "  <thead>\n",
       "    <tr style=\"text-align: right;\">\n",
       "      <th></th>\n",
       "      <th>messages_included</th>\n",
       "      <th>mb_per_month_included</th>\n",
       "      <th>minutes_included</th>\n",
       "      <th>usd_monthly_pay</th>\n",
       "      <th>usd_per_gb</th>\n",
       "      <th>usd_per_message</th>\n",
       "      <th>usd_per_minute</th>\n",
       "      <th>plan_name</th>\n",
       "    </tr>\n",
       "  </thead>\n",
       "  <tbody>\n",
       "    <tr>\n",
       "      <th>0</th>\n",
       "      <td>50</td>\n",
       "      <td>15360</td>\n",
       "      <td>500</td>\n",
       "      <td>20</td>\n",
       "      <td>10</td>\n",
       "      <td>0.03</td>\n",
       "      <td>0.03</td>\n",
       "      <td>surf</td>\n",
       "    </tr>\n",
       "    <tr>\n",
       "      <th>1</th>\n",
       "      <td>1000</td>\n",
       "      <td>30720</td>\n",
       "      <td>3000</td>\n",
       "      <td>70</td>\n",
       "      <td>7</td>\n",
       "      <td>0.01</td>\n",
       "      <td>0.01</td>\n",
       "      <td>ultimate</td>\n",
       "    </tr>\n",
       "  </tbody>\n",
       "</table>\n",
       "</div>"
      ],
      "text/plain": [
       "   messages_included  mb_per_month_included  minutes_included  \\\n",
       "0                 50                  15360               500   \n",
       "1               1000                  30720              3000   \n",
       "\n",
       "   usd_monthly_pay  usd_per_gb  usd_per_message  usd_per_minute plan_name  \n",
       "0               20          10             0.03            0.03      surf  \n",
       "1               70           7             0.01            0.01  ultimate  "
      ]
     },
     "execution_count": 135,
     "metadata": {},
     "output_type": "execute_result"
    }
   ],
   "source": [
    "# Imprima uma amostra de dados dos planos\n",
    "plans.head()\n"
   ]
  },
  {
   "cell_type": "markdown",
   "metadata": {
    "id": "P8hzr-lquj8f"
   },
   "source": [
    "[Descreva o que você nota sobre as informações gerais e sobre a amostra de dados impressa acima. Existem problemas (tipos de dados inadequados, dados ausentes, etc.) que precisam de mais investigação e alterações? Como isso pode ser corrigido?]\n",
    "*Na verificação de planos a tabela demostra ausência de valores. Apresentam números inteiro, float, contendo dois planos: surf e ultimate.* "
   ]
  },
  {
   "cell_type": "markdown",
   "metadata": {
    "collapsed": false,
    "id": "KXtaxmKsuj8f",
    "jupyter": {
     "outputs_hidden": false
    }
   },
   "source": [
    "## Corrija os dados"
   ]
  },
  {
   "cell_type": "markdown",
   "metadata": {
    "id": "9BWuM80Buj8f"
   },
   "source": [
    "[Corrija problemas óbvios com os dados conforme as observações iniciais.]"
   ]
  },
  {
   "cell_type": "code",
   "execution_count": 136,
   "metadata": {
    "id": "Hen8bhG1uj8g"
   },
   "outputs": [
    {
     "name": "stdout",
     "output_type": "stream",
     "text": [
      "messages_included        0\n",
      "mb_per_month_included    0\n",
      "minutes_included         0\n",
      "usd_monthly_pay          0\n",
      "usd_per_gb               0\n",
      "usd_per_message          0\n",
      "usd_per_minute           0\n",
      "plan_name                0\n",
      "dtype: int64\n",
      "Número de linhas duplicadas: 0\n"
     ]
    }
   ],
   "source": [
    "print(plans.isna().sum())\n",
    "print(f\"Número de linhas duplicadas: {plans.duplicated().sum()}\")"
   ]
  },
  {
   "cell_type": "markdown",
   "metadata": {
    "id": "kLcdKu6Duj8g"
   },
   "source": [
    "## Enriqueça os dados"
   ]
  },
  {
   "cell_type": "markdown",
   "metadata": {
    "id": "x1L6F_gmuj8g"
   },
   "source": [
    "[Inclua fatores adicionais aos dados se você acredita que eles podem ser úteis.]\n",
    "*Converter mb_per_month_included (megabytes incluídos por mês) para gb_per_month_included (gigabytes incluídos por mês). Fator de Conversão: 1 GB = 1024 MB.*"
   ]
  },
  {
   "cell_type": "code",
   "execution_count": 137,
   "metadata": {
    "id": "6j4XA9_ruj8g"
   },
   "outputs": [
    {
     "name": "stdout",
     "output_type": "stream",
     "text": [
      "   messages_included  mb_per_month_included  minutes_included  \\\n",
      "0                 50                  15360               500   \n",
      "1               1000                  30720              3000   \n",
      "\n",
      "   usd_monthly_pay  usd_per_gb  usd_per_message  usd_per_minute plan_name  \\\n",
      "0               20          10             0.03            0.03      surf   \n",
      "1               70           7             0.01            0.01  ultimate   \n",
      "\n",
      "   gb_per_month_included  \n",
      "0                     15  \n",
      "1                     30  \n"
     ]
    }
   ],
   "source": [
    "plans['gb_per_month_included'] = plans['mb_per_month_included'] / 1024\n",
    "plans['gb_per_month_included'] = np.ceil(plans['gb_per_month_included']).astype(int)\n",
    "print(plans.head())"
   ]
  },
  {
   "cell_type": "markdown",
   "metadata": {
    "id": "YJg2O9qjuj8g"
   },
   "source": [
    "## Usuários"
   ]
  },
  {
   "cell_type": "code",
   "execution_count": 138,
   "metadata": {
    "id": "7JzxwD2juj8g"
   },
   "outputs": [
    {
     "name": "stdout",
     "output_type": "stream",
     "text": [
      "<class 'pandas.core.frame.DataFrame'>\n",
      "RangeIndex: 500 entries, 0 to 499\n",
      "Data columns (total 8 columns):\n",
      " #   Column      Non-Null Count  Dtype \n",
      "---  ------      --------------  ----- \n",
      " 0   user_id     500 non-null    int64 \n",
      " 1   first_name  500 non-null    object\n",
      " 2   last_name   500 non-null    object\n",
      " 3   age         500 non-null    int64 \n",
      " 4   city        500 non-null    object\n",
      " 5   reg_date    500 non-null    object\n",
      " 6   plan        500 non-null    object\n",
      " 7   churn_date  34 non-null     object\n",
      "dtypes: int64(2), object(6)\n",
      "memory usage: 31.4+ KB\n"
     ]
    },
    {
     "data": {
      "application/vnd.microsoft.datawrangler.viewer.v0+json": {
       "columns": [
        {
         "name": "index",
         "rawType": "object",
         "type": "string"
        },
        {
         "name": "user_id",
         "rawType": "float64",
         "type": "float"
        },
        {
         "name": "age",
         "rawType": "float64",
         "type": "float"
        }
       ],
       "ref": "a0da6a02-58fc-451e-b781-fadbef679a00",
       "rows": [
        [
         "count",
         "500.0",
         "500.0"
        ],
        [
         "mean",
         "1249.5",
         "45.486"
        ],
        [
         "std",
         "144.4818327679989",
         "16.972269142329772"
        ],
        [
         "min",
         "1000.0",
         "18.0"
        ],
        [
         "25%",
         "1124.75",
         "30.0"
        ],
        [
         "50%",
         "1249.5",
         "46.0"
        ],
        [
         "75%",
         "1374.25",
         "61.0"
        ],
        [
         "max",
         "1499.0",
         "75.0"
        ]
       ],
       "shape": {
        "columns": 2,
        "rows": 8
       }
      },
      "text/html": [
       "<div>\n",
       "<style scoped>\n",
       "    .dataframe tbody tr th:only-of-type {\n",
       "        vertical-align: middle;\n",
       "    }\n",
       "\n",
       "    .dataframe tbody tr th {\n",
       "        vertical-align: top;\n",
       "    }\n",
       "\n",
       "    .dataframe thead th {\n",
       "        text-align: right;\n",
       "    }\n",
       "</style>\n",
       "<table border=\"1\" class=\"dataframe\">\n",
       "  <thead>\n",
       "    <tr style=\"text-align: right;\">\n",
       "      <th></th>\n",
       "      <th>user_id</th>\n",
       "      <th>age</th>\n",
       "    </tr>\n",
       "  </thead>\n",
       "  <tbody>\n",
       "    <tr>\n",
       "      <th>count</th>\n",
       "      <td>500.000000</td>\n",
       "      <td>500.000000</td>\n",
       "    </tr>\n",
       "    <tr>\n",
       "      <th>mean</th>\n",
       "      <td>1249.500000</td>\n",
       "      <td>45.486000</td>\n",
       "    </tr>\n",
       "    <tr>\n",
       "      <th>std</th>\n",
       "      <td>144.481833</td>\n",
       "      <td>16.972269</td>\n",
       "    </tr>\n",
       "    <tr>\n",
       "      <th>min</th>\n",
       "      <td>1000.000000</td>\n",
       "      <td>18.000000</td>\n",
       "    </tr>\n",
       "    <tr>\n",
       "      <th>25%</th>\n",
       "      <td>1124.750000</td>\n",
       "      <td>30.000000</td>\n",
       "    </tr>\n",
       "    <tr>\n",
       "      <th>50%</th>\n",
       "      <td>1249.500000</td>\n",
       "      <td>46.000000</td>\n",
       "    </tr>\n",
       "    <tr>\n",
       "      <th>75%</th>\n",
       "      <td>1374.250000</td>\n",
       "      <td>61.000000</td>\n",
       "    </tr>\n",
       "    <tr>\n",
       "      <th>max</th>\n",
       "      <td>1499.000000</td>\n",
       "      <td>75.000000</td>\n",
       "    </tr>\n",
       "  </tbody>\n",
       "</table>\n",
       "</div>"
      ],
      "text/plain": [
       "           user_id         age\n",
       "count   500.000000  500.000000\n",
       "mean   1249.500000   45.486000\n",
       "std     144.481833   16.972269\n",
       "min    1000.000000   18.000000\n",
       "25%    1124.750000   30.000000\n",
       "50%    1249.500000   46.000000\n",
       "75%    1374.250000   61.000000\n",
       "max    1499.000000   75.000000"
      ]
     },
     "execution_count": 138,
     "metadata": {},
     "output_type": "execute_result"
    }
   ],
   "source": [
    "# Imprima informações gerais/resumo sobre o DataFrame dos usuários\n",
    "users.info()\n",
    "users.describe()\n",
    "\n"
   ]
  },
  {
   "cell_type": "code",
   "execution_count": 139,
   "metadata": {
    "id": "5KZ8XmD8uj8g"
   },
   "outputs": [
    {
     "data": {
      "application/vnd.microsoft.datawrangler.viewer.v0+json": {
       "columns": [
        {
         "name": "index",
         "rawType": "int64",
         "type": "integer"
        },
        {
         "name": "user_id",
         "rawType": "int64",
         "type": "integer"
        },
        {
         "name": "first_name",
         "rawType": "object",
         "type": "string"
        },
        {
         "name": "last_name",
         "rawType": "object",
         "type": "string"
        },
        {
         "name": "age",
         "rawType": "int64",
         "type": "integer"
        },
        {
         "name": "city",
         "rawType": "object",
         "type": "string"
        },
        {
         "name": "reg_date",
         "rawType": "object",
         "type": "string"
        },
        {
         "name": "plan",
         "rawType": "object",
         "type": "string"
        },
        {
         "name": "churn_date",
         "rawType": "object",
         "type": "unknown"
        }
       ],
       "ref": "7ada658e-f535-42e3-9a6f-2a08e30dd123",
       "rows": [
        [
         "0",
         "1000",
         "Anamaria",
         "Bauer",
         "45",
         "Atlanta-Sandy Springs-Roswell, GA MSA",
         "2018-12-24",
         "ultimate",
         null
        ],
        [
         "1",
         "1001",
         "Mickey",
         "Wilkerson",
         "28",
         "Seattle-Tacoma-Bellevue, WA MSA",
         "2018-08-13",
         "surf",
         null
        ],
        [
         "2",
         "1002",
         "Carlee",
         "Hoffman",
         "36",
         "Las Vegas-Henderson-Paradise, NV MSA",
         "2018-10-21",
         "surf",
         null
        ],
        [
         "3",
         "1003",
         "Reynaldo",
         "Jenkins",
         "52",
         "Tulsa, OK MSA",
         "2018-01-28",
         "surf",
         null
        ],
        [
         "4",
         "1004",
         "Leonila",
         "Thompson",
         "40",
         "Seattle-Tacoma-Bellevue, WA MSA",
         "2018-05-23",
         "surf",
         null
        ]
       ],
       "shape": {
        "columns": 8,
        "rows": 5
       }
      },
      "text/html": [
       "<div>\n",
       "<style scoped>\n",
       "    .dataframe tbody tr th:only-of-type {\n",
       "        vertical-align: middle;\n",
       "    }\n",
       "\n",
       "    .dataframe tbody tr th {\n",
       "        vertical-align: top;\n",
       "    }\n",
       "\n",
       "    .dataframe thead th {\n",
       "        text-align: right;\n",
       "    }\n",
       "</style>\n",
       "<table border=\"1\" class=\"dataframe\">\n",
       "  <thead>\n",
       "    <tr style=\"text-align: right;\">\n",
       "      <th></th>\n",
       "      <th>user_id</th>\n",
       "      <th>first_name</th>\n",
       "      <th>last_name</th>\n",
       "      <th>age</th>\n",
       "      <th>city</th>\n",
       "      <th>reg_date</th>\n",
       "      <th>plan</th>\n",
       "      <th>churn_date</th>\n",
       "    </tr>\n",
       "  </thead>\n",
       "  <tbody>\n",
       "    <tr>\n",
       "      <th>0</th>\n",
       "      <td>1000</td>\n",
       "      <td>Anamaria</td>\n",
       "      <td>Bauer</td>\n",
       "      <td>45</td>\n",
       "      <td>Atlanta-Sandy Springs-Roswell, GA MSA</td>\n",
       "      <td>2018-12-24</td>\n",
       "      <td>ultimate</td>\n",
       "      <td>NaN</td>\n",
       "    </tr>\n",
       "    <tr>\n",
       "      <th>1</th>\n",
       "      <td>1001</td>\n",
       "      <td>Mickey</td>\n",
       "      <td>Wilkerson</td>\n",
       "      <td>28</td>\n",
       "      <td>Seattle-Tacoma-Bellevue, WA MSA</td>\n",
       "      <td>2018-08-13</td>\n",
       "      <td>surf</td>\n",
       "      <td>NaN</td>\n",
       "    </tr>\n",
       "    <tr>\n",
       "      <th>2</th>\n",
       "      <td>1002</td>\n",
       "      <td>Carlee</td>\n",
       "      <td>Hoffman</td>\n",
       "      <td>36</td>\n",
       "      <td>Las Vegas-Henderson-Paradise, NV MSA</td>\n",
       "      <td>2018-10-21</td>\n",
       "      <td>surf</td>\n",
       "      <td>NaN</td>\n",
       "    </tr>\n",
       "    <tr>\n",
       "      <th>3</th>\n",
       "      <td>1003</td>\n",
       "      <td>Reynaldo</td>\n",
       "      <td>Jenkins</td>\n",
       "      <td>52</td>\n",
       "      <td>Tulsa, OK MSA</td>\n",
       "      <td>2018-01-28</td>\n",
       "      <td>surf</td>\n",
       "      <td>NaN</td>\n",
       "    </tr>\n",
       "    <tr>\n",
       "      <th>4</th>\n",
       "      <td>1004</td>\n",
       "      <td>Leonila</td>\n",
       "      <td>Thompson</td>\n",
       "      <td>40</td>\n",
       "      <td>Seattle-Tacoma-Bellevue, WA MSA</td>\n",
       "      <td>2018-05-23</td>\n",
       "      <td>surf</td>\n",
       "      <td>NaN</td>\n",
       "    </tr>\n",
       "  </tbody>\n",
       "</table>\n",
       "</div>"
      ],
      "text/plain": [
       "   user_id first_name  last_name  age                                   city  \\\n",
       "0     1000   Anamaria      Bauer   45  Atlanta-Sandy Springs-Roswell, GA MSA   \n",
       "1     1001     Mickey  Wilkerson   28        Seattle-Tacoma-Bellevue, WA MSA   \n",
       "2     1002     Carlee    Hoffman   36   Las Vegas-Henderson-Paradise, NV MSA   \n",
       "3     1003   Reynaldo    Jenkins   52                          Tulsa, OK MSA   \n",
       "4     1004    Leonila   Thompson   40        Seattle-Tacoma-Bellevue, WA MSA   \n",
       "\n",
       "     reg_date      plan churn_date  \n",
       "0  2018-12-24  ultimate        NaN  \n",
       "1  2018-08-13      surf        NaN  \n",
       "2  2018-10-21      surf        NaN  \n",
       "3  2018-01-28      surf        NaN  \n",
       "4  2018-05-23      surf        NaN  "
      ]
     },
     "execution_count": 139,
     "metadata": {},
     "output_type": "execute_result"
    }
   ],
   "source": [
    "# Imprima uma amostra de dados dos usuários\n",
    "\n",
    "users.head()"
   ]
  },
  {
   "cell_type": "markdown",
   "metadata": {
    "id": "XGCgkfLvuj8h"
   },
   "source": [
    "[Descreva o que você nota sobre as informações gerais e sobre a amostra de dados impressa acima. Existem problemas (tipos de dados inadequados, dados ausentes, etc.) que precisam de mais investigação e alterações? Como isso pode ser corrigido?]\n",
    "*Através do código isna() e duplicated() caso seja necessário.*"
   ]
  },
  {
   "cell_type": "markdown",
   "metadata": {
    "id": "ppiEfe3luj8i"
   },
   "source": [
    "### Corrija os dados"
   ]
  },
  {
   "cell_type": "markdown",
   "metadata": {
    "id": "os4Gubp_uj8j"
   },
   "source": [
    "[Corrija problemas óbvios com os dados conforme as observações iniciais.]"
   ]
  },
  {
   "cell_type": "code",
   "execution_count": 140,
   "metadata": {
    "id": "Oa1XFooouj8j"
   },
   "outputs": [
    {
     "name": "stdout",
     "output_type": "stream",
     "text": [
      "user_id         0\n",
      "first_name      0\n",
      "last_name       0\n",
      "age             0\n",
      "city            0\n",
      "reg_date        0\n",
      "plan            0\n",
      "churn_date    466\n",
      "dtype: int64\n",
      "Número de linhas duplicadas: 0\n",
      "   user_id first_name  last_name  age                                   city  \\\n",
      "0     1000   Anamaria      Bauer   45  Atlanta-Sandy Springs-Roswell, GA MSA   \n",
      "1     1001     Mickey  Wilkerson   28        Seattle-Tacoma-Bellevue, WA MSA   \n",
      "2     1002     Carlee    Hoffman   36   Las Vegas-Henderson-Paradise, NV MSA   \n",
      "3     1003   Reynaldo    Jenkins   52                          Tulsa, OK MSA   \n",
      "4     1004    Leonila   Thompson   40        Seattle-Tacoma-Bellevue, WA MSA   \n",
      "\n",
      "     reg_date      plan churn_date  \n",
      "0  2018-12-24  ultimate        NaN  \n",
      "1  2018-08-13      surf        NaN  \n",
      "2  2018-10-21      surf        NaN  \n",
      "3  2018-01-28      surf        NaN  \n",
      "4  2018-05-23      surf        NaN  \n"
     ]
    }
   ],
   "source": [
    "print(users.isna().sum())\n",
    "print(f\"Número de linhas duplicadas: {users.duplicated().sum()}\")\n",
    "print(users.head())"
   ]
  },
  {
   "cell_type": "markdown",
   "metadata": {
    "id": "H3gpde3Juj8j"
   },
   "source": [
    "### Enriqueça os dados"
   ]
  },
  {
   "cell_type": "markdown",
   "metadata": {
    "id": "HOZyfII6uj8j"
   },
   "source": [
    "[Inclua fatores adicionais aos dados se você acredita que eles podem ser úteis.]\n"
   ]
  },
  {
   "cell_type": "code",
   "execution_count": 141,
   "metadata": {
    "id": "4vuUjT2juj8j"
   },
   "outputs": [
    {
     "name": "stdout",
     "output_type": "stream",
     "text": [
      "   user_id first_name  last_name  age                                   city  \\\n",
      "0     1000   Anamaria      Bauer   45  Atlanta-Sandy Springs-Roswell, GA MSA   \n",
      "1     1001     Mickey  Wilkerson   28        Seattle-Tacoma-Bellevue, WA MSA   \n",
      "2     1002     Carlee    Hoffman   36   Las Vegas-Henderson-Paradise, NV MSA   \n",
      "3     1003   Reynaldo    Jenkins   52                          Tulsa, OK MSA   \n",
      "4     1004    Leonila   Thompson   40        Seattle-Tacoma-Bellevue, WA MSA   \n",
      "\n",
      "     reg_date      plan churn_date  reg_year  \n",
      "0  2018-12-24  ultimate        NaN      2018  \n",
      "1  2018-08-13      surf        NaN      2018  \n",
      "2  2018-10-21      surf        NaN      2018  \n",
      "3  2018-01-28      surf        NaN      2018  \n",
      "4  2018-05-23      surf        NaN      2018  \n"
     ]
    }
   ],
   "source": [
    "users['reg_year'] = pd.to_datetime(users['reg_date']).dt.year\n",
    "print(users.head())\n"
   ]
  },
  {
   "cell_type": "markdown",
   "metadata": {
    "id": "f4uSIMuuuj8j"
   },
   "source": [
    "## Chamadas"
   ]
  },
  {
   "cell_type": "code",
   "execution_count": 142,
   "metadata": {
    "id": "hkY01fJnuj8j"
   },
   "outputs": [
    {
     "name": "stdout",
     "output_type": "stream",
     "text": [
      "<class 'pandas.core.frame.DataFrame'>\n",
      "RangeIndex: 137735 entries, 0 to 137734\n",
      "Data columns (total 4 columns):\n",
      " #   Column     Non-Null Count   Dtype  \n",
      "---  ------     --------------   -----  \n",
      " 0   id         137735 non-null  object \n",
      " 1   user_id    137735 non-null  int64  \n",
      " 2   call_date  137735 non-null  object \n",
      " 3   duration   137735 non-null  float64\n",
      "dtypes: float64(1), int64(1), object(2)\n",
      "memory usage: 4.2+ MB\n"
     ]
    },
    {
     "data": {
      "application/vnd.microsoft.datawrangler.viewer.v0+json": {
       "columns": [
        {
         "name": "index",
         "rawType": "object",
         "type": "string"
        },
        {
         "name": "user_id",
         "rawType": "float64",
         "type": "float"
        },
        {
         "name": "duration",
         "rawType": "float64",
         "type": "float"
        }
       ],
       "ref": "e1df4619-3ca2-4567-8c4a-5cd9f22b8d60",
       "rows": [
        [
         "count",
         "137735.0",
         "137735.0"
        ],
        [
         "mean",
         "1247.6580462482302",
         "6.745927033796782"
        ],
        [
         "std",
         "139.41626783173777",
         "5.839241137578812"
        ],
        [
         "min",
         "1000.0",
         "0.0"
        ],
        [
         "25%",
         "1128.0",
         "1.29"
        ],
        [
         "50%",
         "1247.0",
         "5.98"
        ],
        [
         "75%",
         "1365.0",
         "10.69"
        ],
        [
         "max",
         "1499.0",
         "37.6"
        ]
       ],
       "shape": {
        "columns": 2,
        "rows": 8
       }
      },
      "text/html": [
       "<div>\n",
       "<style scoped>\n",
       "    .dataframe tbody tr th:only-of-type {\n",
       "        vertical-align: middle;\n",
       "    }\n",
       "\n",
       "    .dataframe tbody tr th {\n",
       "        vertical-align: top;\n",
       "    }\n",
       "\n",
       "    .dataframe thead th {\n",
       "        text-align: right;\n",
       "    }\n",
       "</style>\n",
       "<table border=\"1\" class=\"dataframe\">\n",
       "  <thead>\n",
       "    <tr style=\"text-align: right;\">\n",
       "      <th></th>\n",
       "      <th>user_id</th>\n",
       "      <th>duration</th>\n",
       "    </tr>\n",
       "  </thead>\n",
       "  <tbody>\n",
       "    <tr>\n",
       "      <th>count</th>\n",
       "      <td>137735.000000</td>\n",
       "      <td>137735.000000</td>\n",
       "    </tr>\n",
       "    <tr>\n",
       "      <th>mean</th>\n",
       "      <td>1247.658046</td>\n",
       "      <td>6.745927</td>\n",
       "    </tr>\n",
       "    <tr>\n",
       "      <th>std</th>\n",
       "      <td>139.416268</td>\n",
       "      <td>5.839241</td>\n",
       "    </tr>\n",
       "    <tr>\n",
       "      <th>min</th>\n",
       "      <td>1000.000000</td>\n",
       "      <td>0.000000</td>\n",
       "    </tr>\n",
       "    <tr>\n",
       "      <th>25%</th>\n",
       "      <td>1128.000000</td>\n",
       "      <td>1.290000</td>\n",
       "    </tr>\n",
       "    <tr>\n",
       "      <th>50%</th>\n",
       "      <td>1247.000000</td>\n",
       "      <td>5.980000</td>\n",
       "    </tr>\n",
       "    <tr>\n",
       "      <th>75%</th>\n",
       "      <td>1365.000000</td>\n",
       "      <td>10.690000</td>\n",
       "    </tr>\n",
       "    <tr>\n",
       "      <th>max</th>\n",
       "      <td>1499.000000</td>\n",
       "      <td>37.600000</td>\n",
       "    </tr>\n",
       "  </tbody>\n",
       "</table>\n",
       "</div>"
      ],
      "text/plain": [
       "             user_id       duration\n",
       "count  137735.000000  137735.000000\n",
       "mean     1247.658046       6.745927\n",
       "std       139.416268       5.839241\n",
       "min      1000.000000       0.000000\n",
       "25%      1128.000000       1.290000\n",
       "50%      1247.000000       5.980000\n",
       "75%      1365.000000      10.690000\n",
       "max      1499.000000      37.600000"
      ]
     },
     "execution_count": 142,
     "metadata": {},
     "output_type": "execute_result"
    }
   ],
   "source": [
    "# Imprima informações gerais/resumo sobre o DataFrame das chamadas\n",
    "calls.info()\n",
    "calls.describe()"
   ]
  },
  {
   "cell_type": "code",
   "execution_count": 143,
   "metadata": {
    "id": "wdBwJG5Yuj8k"
   },
   "outputs": [
    {
     "data": {
      "application/vnd.microsoft.datawrangler.viewer.v0+json": {
       "columns": [
        {
         "name": "index",
         "rawType": "int64",
         "type": "integer"
        },
        {
         "name": "id",
         "rawType": "object",
         "type": "string"
        },
        {
         "name": "user_id",
         "rawType": "int64",
         "type": "integer"
        },
        {
         "name": "call_date",
         "rawType": "object",
         "type": "string"
        },
        {
         "name": "duration",
         "rawType": "float64",
         "type": "float"
        }
       ],
       "ref": "45b7773c-a3f3-4d95-84c8-8823b7be8311",
       "rows": [
        [
         "0",
         "1000_93",
         "1000",
         "2018-12-27",
         "8.52"
        ],
        [
         "1",
         "1000_145",
         "1000",
         "2018-12-27",
         "13.66"
        ],
        [
         "2",
         "1000_247",
         "1000",
         "2018-12-27",
         "14.48"
        ],
        [
         "3",
         "1000_309",
         "1000",
         "2018-12-28",
         "5.76"
        ],
        [
         "4",
         "1000_380",
         "1000",
         "2018-12-30",
         "4.22"
        ]
       ],
       "shape": {
        "columns": 4,
        "rows": 5
       }
      },
      "text/html": [
       "<div>\n",
       "<style scoped>\n",
       "    .dataframe tbody tr th:only-of-type {\n",
       "        vertical-align: middle;\n",
       "    }\n",
       "\n",
       "    .dataframe tbody tr th {\n",
       "        vertical-align: top;\n",
       "    }\n",
       "\n",
       "    .dataframe thead th {\n",
       "        text-align: right;\n",
       "    }\n",
       "</style>\n",
       "<table border=\"1\" class=\"dataframe\">\n",
       "  <thead>\n",
       "    <tr style=\"text-align: right;\">\n",
       "      <th></th>\n",
       "      <th>id</th>\n",
       "      <th>user_id</th>\n",
       "      <th>call_date</th>\n",
       "      <th>duration</th>\n",
       "    </tr>\n",
       "  </thead>\n",
       "  <tbody>\n",
       "    <tr>\n",
       "      <th>0</th>\n",
       "      <td>1000_93</td>\n",
       "      <td>1000</td>\n",
       "      <td>2018-12-27</td>\n",
       "      <td>8.52</td>\n",
       "    </tr>\n",
       "    <tr>\n",
       "      <th>1</th>\n",
       "      <td>1000_145</td>\n",
       "      <td>1000</td>\n",
       "      <td>2018-12-27</td>\n",
       "      <td>13.66</td>\n",
       "    </tr>\n",
       "    <tr>\n",
       "      <th>2</th>\n",
       "      <td>1000_247</td>\n",
       "      <td>1000</td>\n",
       "      <td>2018-12-27</td>\n",
       "      <td>14.48</td>\n",
       "    </tr>\n",
       "    <tr>\n",
       "      <th>3</th>\n",
       "      <td>1000_309</td>\n",
       "      <td>1000</td>\n",
       "      <td>2018-12-28</td>\n",
       "      <td>5.76</td>\n",
       "    </tr>\n",
       "    <tr>\n",
       "      <th>4</th>\n",
       "      <td>1000_380</td>\n",
       "      <td>1000</td>\n",
       "      <td>2018-12-30</td>\n",
       "      <td>4.22</td>\n",
       "    </tr>\n",
       "  </tbody>\n",
       "</table>\n",
       "</div>"
      ],
      "text/plain": [
       "         id  user_id   call_date  duration\n",
       "0   1000_93     1000  2018-12-27      8.52\n",
       "1  1000_145     1000  2018-12-27     13.66\n",
       "2  1000_247     1000  2018-12-27     14.48\n",
       "3  1000_309     1000  2018-12-28      5.76\n",
       "4  1000_380     1000  2018-12-30      4.22"
      ]
     },
     "execution_count": 143,
     "metadata": {},
     "output_type": "execute_result"
    }
   ],
   "source": [
    "# Imprima uma amostra de dados das chamadas\n",
    "calls.head()\n"
   ]
  },
  {
   "cell_type": "markdown",
   "metadata": {
    "id": "Y8An85-Tuj8k"
   },
   "source": [
    "[Descreva o que você nota sobre as informações gerais e sobre a amostra de dados impressa acima. Existem problemas (tipos de dados inadequados, dados ausentes, etc.) que precisam de mais investigação e alterações? Como isso pode ser corrigido?]\n",
    "*Verificar se há valores 0 na duração arredondada (se a regra for que 0 também conta como 1).  Aplicando o arredondamento para o minuto inteiro mais próximo.*"
   ]
  },
  {
   "cell_type": "markdown",
   "metadata": {
    "id": "x5a99U4xuj8k"
   },
   "source": [
    "### Corrija os dados"
   ]
  },
  {
   "cell_type": "markdown",
   "metadata": {
    "id": "MQqkU83Xuj8k"
   },
   "source": [
    "[Corrija problemas óbvios com os dados conforme as observações iniciais.]"
   ]
  },
  {
   "cell_type": "code",
   "execution_count": 144,
   "metadata": {},
   "outputs": [
    {
     "name": "stdout",
     "output_type": "stream",
     "text": [
      "Número de duplicatas no DataFrame 'calls': 0\n"
     ]
    }
   ],
   "source": [
    "print(f\"Número de duplicatas no DataFrame 'calls': {calls.duplicated().sum()}\")"
   ]
  },
  {
   "cell_type": "code",
   "execution_count": 145,
   "metadata": {
    "id": "lBjdw0Bnuj8l"
   },
   "outputs": [
    {
     "name": "stdout",
     "output_type": "stream",
     "text": [
      "Resumo estatístico da coluna 'duration' após arredondamento:\n",
      "count    137735.000000\n",
      "mean          8.876197\n",
      "std           5.347848\n",
      "min           1.000000\n",
      "25%           5.000000\n",
      "50%           8.000000\n",
      "75%          12.000000\n",
      "max          38.000000\n",
      "Name: duration, dtype: float64\n",
      "Verificando algumas durações após arredondamento (as 10 primeiras):\n",
      "         id  duration\n",
      "0   1000_93       9.0\n",
      "1  1000_145      14.0\n",
      "2  1000_247      15.0\n",
      "3  1000_309       6.0\n",
      "4  1000_380       5.0\n",
      "5  1000_388       3.0\n",
      "6  1000_510       6.0\n",
      "7  1000_521      15.0\n",
      "8  1000_530       6.0\n",
      "9  1000_544       5.0\n"
     ]
    },
    {
     "name": "stderr",
     "output_type": "stream",
     "text": [
      "C:\\Users\\Usuário\\AppData\\Local\\Temp\\ipykernel_332\\788820732.py:3: FutureWarning: Series.replace without 'value' and with non-dict-like 'to_replace' is deprecated and will raise in a future version. Explicitly specify the new values instead.\n",
      "  calls['duration'] = calls['duration'].replace(0)\n"
     ]
    }
   ],
   "source": [
    "calls['duration_rounded'] = np.ceil(calls['duration'] / 60)\n",
    "calls['duration'] = calls['duration'].apply(np.ceil)\n",
    "calls['duration'] = calls['duration'].replace(0)\n",
    "print(\"Resumo estatístico da coluna 'duration' após arredondamento:\")\n",
    "print(calls['duration'].describe())\n",
    "print(\"Verificando algumas durações após arredondamento (as 10 primeiras):\")\n",
    "print(calls[['id', 'duration']].head(10))"
   ]
  },
  {
   "cell_type": "code",
   "execution_count": 146,
   "metadata": {},
   "outputs": [
    {
     "name": "stdout",
     "output_type": "stream",
     "text": [
      "Número de chamadas com duração 0 após arredondamento (se houver):\n",
      "0\n"
     ]
    }
   ],
   "source": [
    "print(\"Número de chamadas com duração 0 após arredondamento (se houver):\")\n",
    "print(calls[calls['duration'] == 0].shape[0])"
   ]
  },
  {
   "cell_type": "markdown",
   "metadata": {
    "id": "MFm5xyh4uj8l"
   },
   "source": [
    "### Enriqueça os dados"
   ]
  },
  {
   "cell_type": "markdown",
   "metadata": {
    "id": "Udv2togruj8l"
   },
   "source": [
    "[Inclua fatores adicionais aos dados se você acredita que eles podem ser úteis.]"
   ]
  },
  {
   "cell_type": "code",
   "execution_count": 147,
   "metadata": {
    "id": "nwOKTgfluj8l"
   },
   "outputs": [
    {
     "name": "stdout",
     "output_type": "stream",
     "text": [
      "         id  user_id   call_date  duration  duration_rounded\n",
      "0   1000_93     1000  2018-12-27         9               1.0\n",
      "1  1000_145     1000  2018-12-27        14               1.0\n",
      "2  1000_247     1000  2018-12-27        15               1.0\n",
      "3  1000_309     1000  2018-12-28         6               1.0\n",
      "4  1000_380     1000  2018-12-30         5               1.0\n"
     ]
    }
   ],
   "source": [
    "calls['duration'] = np.ceil(calls['duration']).astype(int)\n",
    "monthly_calls = calls.groupby('user_id')['duration'].sum().reset_index()\n",
    "monthly_calls.rename(columns={'duration': 'total_minutes_calls'}, inplace=True)\n",
    "print(calls.head())"
   ]
  },
  {
   "cell_type": "markdown",
   "metadata": {
    "id": "qLz4FkyRuj8l"
   },
   "source": [
    "## Mensagens"
   ]
  },
  {
   "cell_type": "code",
   "execution_count": 148,
   "metadata": {
    "id": "nFA9DFkCuj8l"
   },
   "outputs": [
    {
     "name": "stdout",
     "output_type": "stream",
     "text": [
      "<class 'pandas.core.frame.DataFrame'>\n",
      "RangeIndex: 76051 entries, 0 to 76050\n",
      "Data columns (total 3 columns):\n",
      " #   Column        Non-Null Count  Dtype \n",
      "---  ------        --------------  ----- \n",
      " 0   id            76051 non-null  object\n",
      " 1   user_id       76051 non-null  int64 \n",
      " 2   message_date  76051 non-null  object\n",
      "dtypes: int64(1), object(2)\n",
      "memory usage: 1.7+ MB\n"
     ]
    },
    {
     "data": {
      "application/vnd.microsoft.datawrangler.viewer.v0+json": {
       "columns": [
        {
         "name": "index",
         "rawType": "object",
         "type": "string"
        },
        {
         "name": "user_id",
         "rawType": "float64",
         "type": "float"
        }
       ],
       "ref": "5eaec2d2-fbed-4a86-9fb9-f64b3514e9b3",
       "rows": [
        [
         "count",
         "76051.0"
        ],
        [
         "mean",
         "1245.9727682739215"
        ],
        [
         "std",
         "139.8436349760035"
        ],
        [
         "min",
         "1000.0"
        ],
        [
         "25%",
         "1123.0"
        ],
        [
         "50%",
         "1251.0"
        ],
        [
         "75%",
         "1362.0"
        ],
        [
         "max",
         "1497.0"
        ]
       ],
       "shape": {
        "columns": 1,
        "rows": 8
       }
      },
      "text/html": [
       "<div>\n",
       "<style scoped>\n",
       "    .dataframe tbody tr th:only-of-type {\n",
       "        vertical-align: middle;\n",
       "    }\n",
       "\n",
       "    .dataframe tbody tr th {\n",
       "        vertical-align: top;\n",
       "    }\n",
       "\n",
       "    .dataframe thead th {\n",
       "        text-align: right;\n",
       "    }\n",
       "</style>\n",
       "<table border=\"1\" class=\"dataframe\">\n",
       "  <thead>\n",
       "    <tr style=\"text-align: right;\">\n",
       "      <th></th>\n",
       "      <th>user_id</th>\n",
       "    </tr>\n",
       "  </thead>\n",
       "  <tbody>\n",
       "    <tr>\n",
       "      <th>count</th>\n",
       "      <td>76051.000000</td>\n",
       "    </tr>\n",
       "    <tr>\n",
       "      <th>mean</th>\n",
       "      <td>1245.972768</td>\n",
       "    </tr>\n",
       "    <tr>\n",
       "      <th>std</th>\n",
       "      <td>139.843635</td>\n",
       "    </tr>\n",
       "    <tr>\n",
       "      <th>min</th>\n",
       "      <td>1000.000000</td>\n",
       "    </tr>\n",
       "    <tr>\n",
       "      <th>25%</th>\n",
       "      <td>1123.000000</td>\n",
       "    </tr>\n",
       "    <tr>\n",
       "      <th>50%</th>\n",
       "      <td>1251.000000</td>\n",
       "    </tr>\n",
       "    <tr>\n",
       "      <th>75%</th>\n",
       "      <td>1362.000000</td>\n",
       "    </tr>\n",
       "    <tr>\n",
       "      <th>max</th>\n",
       "      <td>1497.000000</td>\n",
       "    </tr>\n",
       "  </tbody>\n",
       "</table>\n",
       "</div>"
      ],
      "text/plain": [
       "            user_id\n",
       "count  76051.000000\n",
       "mean    1245.972768\n",
       "std      139.843635\n",
       "min     1000.000000\n",
       "25%     1123.000000\n",
       "50%     1251.000000\n",
       "75%     1362.000000\n",
       "max     1497.000000"
      ]
     },
     "execution_count": 148,
     "metadata": {},
     "output_type": "execute_result"
    }
   ],
   "source": [
    "# Imprima informações gerais/resumo sobre o DataFrame das mensagens\n",
    "messages.info()\n",
    "messages.describe()\n"
   ]
  },
  {
   "cell_type": "code",
   "execution_count": 149,
   "metadata": {
    "id": "ysEFBZWxuj8m"
   },
   "outputs": [
    {
     "data": {
      "application/vnd.microsoft.datawrangler.viewer.v0+json": {
       "columns": [
        {
         "name": "index",
         "rawType": "int64",
         "type": "integer"
        },
        {
         "name": "id",
         "rawType": "object",
         "type": "string"
        },
        {
         "name": "user_id",
         "rawType": "int64",
         "type": "integer"
        },
        {
         "name": "message_date",
         "rawType": "object",
         "type": "string"
        }
       ],
       "ref": "2d65a35a-250f-4abc-99d6-a18dbad1ac68",
       "rows": [
        [
         "0",
         "1000_125",
         "1000",
         "2018-12-27"
        ],
        [
         "1",
         "1000_160",
         "1000",
         "2018-12-31"
        ],
        [
         "2",
         "1000_223",
         "1000",
         "2018-12-31"
        ],
        [
         "3",
         "1000_251",
         "1000",
         "2018-12-27"
        ],
        [
         "4",
         "1000_255",
         "1000",
         "2018-12-26"
        ]
       ],
       "shape": {
        "columns": 3,
        "rows": 5
       }
      },
      "text/html": [
       "<div>\n",
       "<style scoped>\n",
       "    .dataframe tbody tr th:only-of-type {\n",
       "        vertical-align: middle;\n",
       "    }\n",
       "\n",
       "    .dataframe tbody tr th {\n",
       "        vertical-align: top;\n",
       "    }\n",
       "\n",
       "    .dataframe thead th {\n",
       "        text-align: right;\n",
       "    }\n",
       "</style>\n",
       "<table border=\"1\" class=\"dataframe\">\n",
       "  <thead>\n",
       "    <tr style=\"text-align: right;\">\n",
       "      <th></th>\n",
       "      <th>id</th>\n",
       "      <th>user_id</th>\n",
       "      <th>message_date</th>\n",
       "    </tr>\n",
       "  </thead>\n",
       "  <tbody>\n",
       "    <tr>\n",
       "      <th>0</th>\n",
       "      <td>1000_125</td>\n",
       "      <td>1000</td>\n",
       "      <td>2018-12-27</td>\n",
       "    </tr>\n",
       "    <tr>\n",
       "      <th>1</th>\n",
       "      <td>1000_160</td>\n",
       "      <td>1000</td>\n",
       "      <td>2018-12-31</td>\n",
       "    </tr>\n",
       "    <tr>\n",
       "      <th>2</th>\n",
       "      <td>1000_223</td>\n",
       "      <td>1000</td>\n",
       "      <td>2018-12-31</td>\n",
       "    </tr>\n",
       "    <tr>\n",
       "      <th>3</th>\n",
       "      <td>1000_251</td>\n",
       "      <td>1000</td>\n",
       "      <td>2018-12-27</td>\n",
       "    </tr>\n",
       "    <tr>\n",
       "      <th>4</th>\n",
       "      <td>1000_255</td>\n",
       "      <td>1000</td>\n",
       "      <td>2018-12-26</td>\n",
       "    </tr>\n",
       "  </tbody>\n",
       "</table>\n",
       "</div>"
      ],
      "text/plain": [
       "         id  user_id message_date\n",
       "0  1000_125     1000   2018-12-27\n",
       "1  1000_160     1000   2018-12-31\n",
       "2  1000_223     1000   2018-12-31\n",
       "3  1000_251     1000   2018-12-27\n",
       "4  1000_255     1000   2018-12-26"
      ]
     },
     "execution_count": 149,
     "metadata": {},
     "output_type": "execute_result"
    }
   ],
   "source": [
    "# Imprima uma amostra dos dados das mensagens\n",
    "messages.head()"
   ]
  },
  {
   "cell_type": "markdown",
   "metadata": {
    "id": "GUtt1TqCuj8m"
   },
   "source": [
    "[Descreva o que você nota sobre as informações gerais e sobre a amostra de dados impressa acima. Existem problemas (tipos de dados inadequados, dados ausentes, etc.) que precisam de mais investigação e alterações? Como isso pode ser corrigido?]*Verificação.  Não há problemas óbvios de dados ausentes ou de arredondamento como no caso das chamadas, já que mensagens SMS são geralmente contadas individualmente e não têm duração.*"
   ]
  },
  {
   "cell_type": "markdown",
   "metadata": {
    "id": "tT8N_hc6uj8m"
   },
   "source": [
    "### Corrija os dados"
   ]
  },
  {
   "cell_type": "markdown",
   "metadata": {
    "id": "IgO0SzXKuj8m"
   },
   "source": [
    "[Corrija problemas óbvios com os dados conforme as observações iniciais.]"
   ]
  },
  {
   "cell_type": "code",
   "execution_count": 150,
   "metadata": {},
   "outputs": [
    {
     "name": "stdout",
     "output_type": "stream",
     "text": [
      "Número de duplicatas no DataFrame 'messages': 0\n"
     ]
    }
   ],
   "source": [
    "print(f\"Número de duplicatas no DataFrame 'messages': {messages.duplicated().sum()}\")"
   ]
  },
  {
   "cell_type": "code",
   "execution_count": 151,
   "metadata": {
    "id": "SpBqbQHCuj8m"
   },
   "outputs": [
    {
     "name": "stdout",
     "output_type": "stream",
     "text": [
      "         id  user_id message_date\n",
      "0  1000_125     1000   2018-12-27\n",
      "1  1000_160     1000   2018-12-31\n",
      "2  1000_223     1000   2018-12-31\n",
      "3  1000_251     1000   2018-12-27\n",
      "4  1000_255     1000   2018-12-26"
     ]
    },
    {
     "name": "stdout",
     "output_type": "stream",
     "text": [
      "\n",
      "Primeiras 5 linhas do DataFrame 'messages' com a coluna 'month':\n",
      "         id  user_id message_date  month\n",
      "0  1000_125     1000   2018-12-27     12\n",
      "1  1000_160     1000   2018-12-31     12\n",
      "2  1000_223     1000   2018-12-31     12\n",
      "3  1000_251     1000   2018-12-27     12\n",
      "4  1000_255     1000   2018-12-26     12\n"
     ]
    }
   ],
   "source": [
    "messages['message_date'] = pd.to_datetime(messages['message_date'])\n",
    "print(messages.head())\n",
    "messages['month'] = messages['message_date'].dt.month\n",
    "print(\"Primeiras 5 linhas do DataFrame 'messages' com a coluna 'month':\")\n",
    "print(messages.head())"
   ]
  },
  {
   "cell_type": "markdown",
   "metadata": {
    "id": "feV2Njo9uj8n"
   },
   "source": [
    "### Enriqueça os dados"
   ]
  },
  {
   "cell_type": "markdown",
   "metadata": {
    "id": "KA5XDEoZuj8n"
   },
   "source": [
    "[Inclua fatores adicionais aos dados se você acredita que eles podem ser úteis.]"
   ]
  },
  {
   "cell_type": "code",
   "execution_count": 152,
   "metadata": {
    "id": "SkuCXcLJuj8n"
   },
   "outputs": [
    {
     "name": "stdout",
     "output_type": "stream",
     "text": [
      "Contagem de mensagens por usuário e mês:\n",
      "   user_id  month  messages_count\n",
      "0     1000     12              11\n",
      "1     1001      8              30\n",
      "2     1001      9              44\n",
      "3     1001     10              53\n",
      "4     1001     11              36\n",
      "Informações sobre o DataFrame 'monthly_messages':\n",
      "<class 'pandas.core.frame.DataFrame'>\n",
      "RangeIndex: 1806 entries, 0 to 1805\n",
      "Data columns (total 3 columns):\n",
      " #   Column          Non-Null Count  Dtype\n",
      "---  ------          --------------  -----\n",
      " 0   user_id         1806 non-null   int64\n",
      " 1   month           1806 non-null   int32\n",
      " 2   messages_count  1806 non-null   int64\n",
      "dtypes: int32(1), int64(2)\n",
      "memory usage: 35.4 KB\n",
      "None\n"
     ]
    }
   ],
   "source": [
    "monthly_messages = messages.groupby(['user_id', 'month']).agg(\n",
    "    messages_count=('id', 'count') \n",
    ").reset_index() \n",
    "print(\"Contagem de mensagens por usuário e mês:\")\n",
    "print(monthly_messages.head())\n",
    "print(\"Informações sobre o DataFrame 'monthly_messages':\")\n",
    "print(monthly_messages.info())"
   ]
  },
  {
   "cell_type": "markdown",
   "metadata": {
    "id": "ZRFaOWzGuj8n"
   },
   "source": [
    "## Internet"
   ]
  },
  {
   "cell_type": "code",
   "execution_count": 153,
   "metadata": {
    "id": "ob3-qv4nuj8n"
   },
   "outputs": [
    {
     "name": "stdout",
     "output_type": "stream",
     "text": [
      "<class 'pandas.core.frame.DataFrame'>\n",
      "RangeIndex: 104825 entries, 0 to 104824\n",
      "Data columns (total 4 columns):\n",
      " #   Column        Non-Null Count   Dtype  \n",
      "---  ------        --------------   -----  \n",
      " 0   id            104825 non-null  object \n",
      " 1   user_id       104825 non-null  int64  \n",
      " 2   session_date  104825 non-null  object \n",
      " 3   mb_used       104825 non-null  float64\n",
      "dtypes: float64(1), int64(1), object(2)\n",
      "memory usage: 3.2+ MB\n"
     ]
    },
    {
     "data": {
      "application/vnd.microsoft.datawrangler.viewer.v0+json": {
       "columns": [
        {
         "name": "index",
         "rawType": "object",
         "type": "string"
        },
        {
         "name": "user_id",
         "rawType": "float64",
         "type": "float"
        },
        {
         "name": "mb_used",
         "rawType": "float64",
         "type": "float"
        }
       ],
       "ref": "880894e7-ce5b-4651-978d-1026efa2447e",
       "rows": [
        [
         "count",
         "104825.0",
         "104825.0"
        ],
        [
         "mean",
         "1242.4963606010017",
         "366.71370102551873"
        ],
        [
         "std",
         "142.05391297670724",
         "277.1705420373537"
        ],
        [
         "min",
         "1000.0",
         "0.0"
        ],
        [
         "25%",
         "1122.0",
         "136.08"
        ],
        [
         "50%",
         "1236.0",
         "343.98"
        ],
        [
         "75%",
         "1367.0",
         "554.61"
        ],
        [
         "max",
         "1499.0",
         "1693.47"
        ]
       ],
       "shape": {
        "columns": 2,
        "rows": 8
       }
      },
      "text/html": [
       "<div>\n",
       "<style scoped>\n",
       "    .dataframe tbody tr th:only-of-type {\n",
       "        vertical-align: middle;\n",
       "    }\n",
       "\n",
       "    .dataframe tbody tr th {\n",
       "        vertical-align: top;\n",
       "    }\n",
       "\n",
       "    .dataframe thead th {\n",
       "        text-align: right;\n",
       "    }\n",
       "</style>\n",
       "<table border=\"1\" class=\"dataframe\">\n",
       "  <thead>\n",
       "    <tr style=\"text-align: right;\">\n",
       "      <th></th>\n",
       "      <th>user_id</th>\n",
       "      <th>mb_used</th>\n",
       "    </tr>\n",
       "  </thead>\n",
       "  <tbody>\n",
       "    <tr>\n",
       "      <th>count</th>\n",
       "      <td>104825.000000</td>\n",
       "      <td>104825.000000</td>\n",
       "    </tr>\n",
       "    <tr>\n",
       "      <th>mean</th>\n",
       "      <td>1242.496361</td>\n",
       "      <td>366.713701</td>\n",
       "    </tr>\n",
       "    <tr>\n",
       "      <th>std</th>\n",
       "      <td>142.053913</td>\n",
       "      <td>277.170542</td>\n",
       "    </tr>\n",
       "    <tr>\n",
       "      <th>min</th>\n",
       "      <td>1000.000000</td>\n",
       "      <td>0.000000</td>\n",
       "    </tr>\n",
       "    <tr>\n",
       "      <th>25%</th>\n",
       "      <td>1122.000000</td>\n",
       "      <td>136.080000</td>\n",
       "    </tr>\n",
       "    <tr>\n",
       "      <th>50%</th>\n",
       "      <td>1236.000000</td>\n",
       "      <td>343.980000</td>\n",
       "    </tr>\n",
       "    <tr>\n",
       "      <th>75%</th>\n",
       "      <td>1367.000000</td>\n",
       "      <td>554.610000</td>\n",
       "    </tr>\n",
       "    <tr>\n",
       "      <th>max</th>\n",
       "      <td>1499.000000</td>\n",
       "      <td>1693.470000</td>\n",
       "    </tr>\n",
       "  </tbody>\n",
       "</table>\n",
       "</div>"
      ],
      "text/plain": [
       "             user_id        mb_used\n",
       "count  104825.000000  104825.000000\n",
       "mean     1242.496361     366.713701\n",
       "std       142.053913     277.170542\n",
       "min      1000.000000       0.000000\n",
       "25%      1122.000000     136.080000\n",
       "50%      1236.000000     343.980000\n",
       "75%      1367.000000     554.610000\n",
       "max      1499.000000    1693.470000"
      ]
     },
     "execution_count": 153,
     "metadata": {},
     "output_type": "execute_result"
    }
   ],
   "source": [
    "# Imprima informações gerais/resumo sobre o DataFrame da internet\n",
    "internet.info()\n",
    "internet.describe()\n"
   ]
  },
  {
   "cell_type": "code",
   "execution_count": 154,
   "metadata": {
    "id": "iIHK4fZsuj8n"
   },
   "outputs": [
    {
     "data": {
      "application/vnd.microsoft.datawrangler.viewer.v0+json": {
       "columns": [
        {
         "name": "index",
         "rawType": "int64",
         "type": "integer"
        },
        {
         "name": "id",
         "rawType": "object",
         "type": "string"
        },
        {
         "name": "user_id",
         "rawType": "int64",
         "type": "integer"
        },
        {
         "name": "session_date",
         "rawType": "object",
         "type": "string"
        },
        {
         "name": "mb_used",
         "rawType": "float64",
         "type": "float"
        }
       ],
       "ref": "bb7649e6-423c-4f0b-8e67-9b9b570fa479",
       "rows": [
        [
         "0",
         "1000_13",
         "1000",
         "2018-12-29",
         "89.86"
        ],
        [
         "1",
         "1000_204",
         "1000",
         "2018-12-31",
         "0.0"
        ],
        [
         "2",
         "1000_379",
         "1000",
         "2018-12-28",
         "660.4"
        ],
        [
         "3",
         "1000_413",
         "1000",
         "2018-12-26",
         "270.99"
        ],
        [
         "4",
         "1000_442",
         "1000",
         "2018-12-27",
         "880.22"
        ]
       ],
       "shape": {
        "columns": 4,
        "rows": 5
       }
      },
      "text/html": [
       "<div>\n",
       "<style scoped>\n",
       "    .dataframe tbody tr th:only-of-type {\n",
       "        vertical-align: middle;\n",
       "    }\n",
       "\n",
       "    .dataframe tbody tr th {\n",
       "        vertical-align: top;\n",
       "    }\n",
       "\n",
       "    .dataframe thead th {\n",
       "        text-align: right;\n",
       "    }\n",
       "</style>\n",
       "<table border=\"1\" class=\"dataframe\">\n",
       "  <thead>\n",
       "    <tr style=\"text-align: right;\">\n",
       "      <th></th>\n",
       "      <th>id</th>\n",
       "      <th>user_id</th>\n",
       "      <th>session_date</th>\n",
       "      <th>mb_used</th>\n",
       "    </tr>\n",
       "  </thead>\n",
       "  <tbody>\n",
       "    <tr>\n",
       "      <th>0</th>\n",
       "      <td>1000_13</td>\n",
       "      <td>1000</td>\n",
       "      <td>2018-12-29</td>\n",
       "      <td>89.86</td>\n",
       "    </tr>\n",
       "    <tr>\n",
       "      <th>1</th>\n",
       "      <td>1000_204</td>\n",
       "      <td>1000</td>\n",
       "      <td>2018-12-31</td>\n",
       "      <td>0.00</td>\n",
       "    </tr>\n",
       "    <tr>\n",
       "      <th>2</th>\n",
       "      <td>1000_379</td>\n",
       "      <td>1000</td>\n",
       "      <td>2018-12-28</td>\n",
       "      <td>660.40</td>\n",
       "    </tr>\n",
       "    <tr>\n",
       "      <th>3</th>\n",
       "      <td>1000_413</td>\n",
       "      <td>1000</td>\n",
       "      <td>2018-12-26</td>\n",
       "      <td>270.99</td>\n",
       "    </tr>\n",
       "    <tr>\n",
       "      <th>4</th>\n",
       "      <td>1000_442</td>\n",
       "      <td>1000</td>\n",
       "      <td>2018-12-27</td>\n",
       "      <td>880.22</td>\n",
       "    </tr>\n",
       "  </tbody>\n",
       "</table>\n",
       "</div>"
      ],
      "text/plain": [
       "         id  user_id session_date  mb_used\n",
       "0   1000_13     1000   2018-12-29    89.86\n",
       "1  1000_204     1000   2018-12-31     0.00\n",
       "2  1000_379     1000   2018-12-28   660.40\n",
       "3  1000_413     1000   2018-12-26   270.99\n",
       "4  1000_442     1000   2018-12-27   880.22"
      ]
     },
     "execution_count": 154,
     "metadata": {},
     "output_type": "execute_result"
    }
   ],
   "source": [
    "#  Imprima uma amostra de dados para o tráfego da internet\n",
    "internet.head()"
   ]
  },
  {
   "cell_type": "markdown",
   "metadata": {
    "id": "6wpo7ugquj8o"
   },
   "source": [
    "[Descreva o que você nota sobre as informações gerais e sobre a amostra de dados impressa acima. Existem problemas (tipos de dados inadequados, dados ausentes, etc.) que precisam de mais investigação e alterações? Como isso pode ser corrigido?] \n",
    "*Conversão da coluna. Criação de uma coluna. Regra de arredondamento de dados."
   ]
  },
  {
   "cell_type": "markdown",
   "metadata": {
    "id": "Tly90YrTuj8o"
   },
   "source": [
    "### Corrija os dados"
   ]
  },
  {
   "cell_type": "markdown",
   "metadata": {
    "id": "F_yvcX-9uj8o"
   },
   "source": [
    "[Corrija problemas óbvios com os dados conforme as observações iniciais.]"
   ]
  },
  {
   "cell_type": "code",
   "execution_count": 155,
   "metadata": {
    "id": "GCoX7kbmuj8o"
   },
   "outputs": [
    {
     "name": "stdout",
     "output_type": "stream",
     "text": [
      "         id  user_id session_date  mb_used  month\n",
      "0   1000_13     1000   2018-12-29     90.0     12\n",
      "1  1000_204     1000   2018-12-31      0.0     12\n",
      "2  1000_379     1000   2018-12-28    661.0     12\n",
      "3  1000_413     1000   2018-12-26    271.0     12\n",
      "4  1000_442     1000   2018-12-27    881.0     12\n"
     ]
    }
   ],
   "source": [
    "internet['session_date'] = pd.to_datetime(internet['session_date'])\n",
    "internet['month'] = internet['session_date'].dt.month\n",
    "internet['mb_used'] = internet['mb_used'].apply(np.ceil)\n",
    "print(internet.head())"
   ]
  },
  {
   "cell_type": "markdown",
   "metadata": {
    "id": "DEDbrtFduj8o"
   },
   "source": [
    "### Enriqueça os dados"
   ]
  },
  {
   "cell_type": "markdown",
   "metadata": {
    "id": "ilg-XzXpuj8p"
   },
   "source": [
    "[Inclua fatores adicionais aos dados se você acredita que eles podem ser úteis.]"
   ]
  },
  {
   "cell_type": "code",
   "execution_count": 156,
   "metadata": {
    "id": "f1PoZ3Ukuj8p"
   },
   "outputs": [
    {
     "name": "stdout",
     "output_type": "stream",
     "text": [
      "Consumo mensal de internet por usuário (monthly_internet):\n",
      "   user_id  month  mb_used_sum  gb_used_sum\n",
      "0     1000     12       1903.0     1.858398\n",
      "1     1001      8       6929.0     6.766602\n",
      "2     1001      9      13333.0    13.020508\n",
      "3     1001     10      22356.0    21.832031\n",
      "4     1001     11      18524.0    18.089844\n",
      "Informações sobre o DataFrame 'monthly_internet':\n",
      "<class 'pandas.core.frame.DataFrame'>\n",
      "RangeIndex: 2277 entries, 0 to 2276\n",
      "Data columns (total 4 columns):\n",
      " #   Column       Non-Null Count  Dtype  \n",
      "---  ------       --------------  -----  \n",
      " 0   user_id      2277 non-null   int64  \n",
      " 1   month        2277 non-null   int32  \n",
      " 2   mb_used_sum  2277 non-null   float64\n",
      " 3   gb_used_sum  2277 non-null   float64\n",
      "dtypes: float64(2), int32(1), int64(1)\n",
      "memory usage: 62.4 KB\n",
      "None\n"
     ]
    }
   ],
   "source": [
    "monthly_internet = internet.groupby(['user_id', 'month']).agg(\n",
    "    mb_used_sum=('mb_used', 'sum') \n",
    ").reset_index()\n",
    "monthly_internet['gb_used_sum'] = monthly_internet['mb_used_sum'] / 1024\n",
    "print(\"Consumo mensal de internet por usuário (monthly_internet):\")\n",
    "print(monthly_internet.head())\n",
    "print(\"Informações sobre o DataFrame 'monthly_internet':\")\n",
    "print(monthly_internet.info())"
   ]
  },
  {
   "cell_type": "markdown",
   "metadata": {
    "id": "bnOX4ARJuj8p"
   },
   "source": [
    "## Estude as condições dos planos"
   ]
  },
  {
   "cell_type": "markdown",
   "metadata": {
    "id": "vMu9_L8quj8p"
   },
   "source": [
    "[É fundamental entender como os planos funcionam, ou seja, como as cobranças dos usuários são feitas com base na assinatura. Sugerimos imprimir as informações sobre os planos para visualizar novamente as condições.]"
   ]
  },
  {
   "cell_type": "code",
   "execution_count": 157,
   "metadata": {
    "id": "vMXVndWEuj8p"
   },
   "outputs": [
    {
     "name": "stdout",
     "output_type": "stream",
     "text": [
      "<class 'pandas.core.frame.DataFrame'>\n",
      "RangeIndex: 2 entries, 0 to 1\n",
      "Data columns (total 9 columns):\n",
      " #   Column                 Non-Null Count  Dtype  \n",
      "---  ------                 --------------  -----  \n",
      " 0   messages_included      2 non-null      int64  \n",
      " 1   mb_per_month_included  2 non-null      int64  \n",
      " 2   minutes_included       2 non-null      int64  \n",
      " 3   usd_monthly_pay        2 non-null      int64  \n",
      " 4   usd_per_gb             2 non-null      int64  \n",
      " 5   usd_per_message        2 non-null      float64\n",
      " 6   usd_per_minute         2 non-null      float64\n",
      " 7   plan_name              2 non-null      object \n",
      " 8   gb_per_month_included  2 non-null      int64  \n",
      "dtypes: float64(2), int64(6), object(1)\n",
      "memory usage: 276.0+ bytes\n",
      "None\n",
      "   messages_included  mb_per_month_included  minutes_included  \\\n",
      "0                 50                  15360               500   \n",
      "1               1000                  30720              3000   \n",
      "\n",
      "   usd_monthly_pay  usd_per_gb  usd_per_message  usd_per_minute plan_name  \\\n",
      "0               20          10             0.03            0.03      surf   \n",
      "1               70           7             0.01            0.01  ultimate   \n",
      "\n",
      "   gb_per_month_included  \n",
      "0                     15  \n",
      "1                     30  \n"
     ]
    }
   ],
   "source": [
    "# Imprima as condições dos planos e certifique-se de que elas fazem sentido para você\n",
    "print(plans.info())\n",
    "print(plans.head())"
   ]
  },
  {
   "cell_type": "markdown",
   "metadata": {
    "id": "1v1EshDmuj8q"
   },
   "source": [
    "## Agregue os dados por usuário\n",
    "\n",
    "[Agora, como os dados estão limpos, os agregue por usuário e por período para ter apenas um registro dessas informações. Isso vai facilitar muito as próximas análises.]"
   ]
  },
  {
   "cell_type": "code",
   "execution_count": 158,
   "metadata": {
    "id": "4hmb2pSPuj8q"
   },
   "outputs": [
    {
     "name": "stdout",
     "output_type": "stream",
     "text": [
      "Número de chamadas feitas por cada usuário por mês:\n",
      "   user_id  month  calls_made\n",
      "0     1000     12          16\n",
      "1     1001      8          27\n",
      "2     1001      9          49\n",
      "3     1001     10          65\n",
      "4     1001     11          64\n",
      "Informações sobre o novo DataFrame 'calls_count_monthly':\n",
      "<class 'pandas.core.frame.DataFrame'>\n",
      "RangeIndex: 2258 entries, 0 to 2257\n",
      "Data columns (total 3 columns):\n",
      " #   Column      Non-Null Count  Dtype\n",
      "---  ------      --------------  -----\n",
      " 0   user_id     2258 non-null   int64\n",
      " 1   month       2258 non-null   int32\n",
      " 2   calls_made  2258 non-null   int64\n",
      "dtypes: int32(1), int64(2)\n",
      "memory usage: 44.2 KB\n",
      "None\n"
     ]
    }
   ],
   "source": [
    "# Calcule o número de chamadas feitas por cada usuário por mês. Salve o resultado.\n",
    "calls['call_date'] = pd.to_datetime(calls['call_date'])\n",
    "calls['month'] = calls['call_date'].dt.month\n",
    "calls_count_monthly = calls.groupby(['user_id', 'month']).agg(\n",
    "    calls_made=('id', 'count') \n",
    ").reset_index()\n",
    "print(\"Número de chamadas feitas por cada usuário por mês:\")\n",
    "print(calls_count_monthly.head())\n",
    "\n",
    "print(\"Informações sobre o novo DataFrame 'calls_count_monthly':\")\n",
    "print(calls_count_monthly.info())\n"
   ]
  },
  {
   "cell_type": "code",
   "execution_count": 159,
   "metadata": {
    "id": "yHgBWCJJuj8q"
   },
   "outputs": [
    {
     "name": "stdout",
     "output_type": "stream",
     "text": [
      "Quantidade de minutos gastos por cada usuário por mês:\n",
      "   user_id  month  minutes_used\n",
      "0     1000     12           124\n",
      "1     1001      8           219\n",
      "2     1001      9           414\n",
      "3     1001     10           578\n",
      "4     1001     11           575\n",
      "Informações sobre o novo DataFrame 'minutes_spent_monthly':\n",
      "<class 'pandas.core.frame.DataFrame'>\n",
      "RangeIndex: 2258 entries, 0 to 2257\n",
      "Data columns (total 3 columns):\n",
      " #   Column        Non-Null Count  Dtype\n",
      "---  ------        --------------  -----\n",
      " 0   user_id       2258 non-null   int64\n",
      " 1   month         2258 non-null   int32\n",
      " 2   minutes_used  2258 non-null   int64\n",
      "dtypes: int32(1), int64(2)\n",
      "memory usage: 44.2 KB\n",
      "None\n"
     ]
    }
   ],
   "source": [
    "# Calcule a quantidade de minutos gastos por cada usuário por mês. Salve o resultado.\n",
    "calls['call_date'] = pd.to_datetime(calls['call_date'])\n",
    "calls['duration'] = calls['duration'].apply(np.ceil) \n",
    "calls['month'] = calls['call_date'].dt.month\n",
    "minutes_spent_monthly = calls.groupby(['user_id', 'month']).agg(\n",
    "    minutes_used=('duration', 'sum') \n",
    ").reset_index()\n",
    "print(\"Quantidade de minutos gastos por cada usuário por mês:\")\n",
    "print(minutes_spent_monthly.head())\n",
    "\n",
    "print(\"Informações sobre o novo DataFrame 'minutes_spent_monthly':\")\n",
    "print(minutes_spent_monthly.info())"
   ]
  },
  {
   "cell_type": "code",
   "execution_count": 160,
   "metadata": {
    "id": "MaM_cPxauj8q"
   },
   "outputs": [
    {
     "name": "stdout",
     "output_type": "stream",
     "text": [
      "Número de mensagens enviadas por cada usuário por mês:\n",
      "   user_id  month  messages_sent\n",
      "0     1000     12             11\n",
      "1     1001      8             30\n",
      "2     1001      9             44\n",
      "3     1001     10             53\n",
      "4     1001     11             36\n",
      "Informações sobre o novo DataFrame 'messages_count_monthly':\n",
      "<class 'pandas.core.frame.DataFrame'>\n",
      "RangeIndex: 1806 entries, 0 to 1805\n",
      "Data columns (total 3 columns):\n",
      " #   Column         Non-Null Count  Dtype\n",
      "---  ------         --------------  -----\n",
      " 0   user_id        1806 non-null   int64\n",
      " 1   month          1806 non-null   int32\n",
      " 2   messages_sent  1806 non-null   int64\n",
      "dtypes: int32(1), int64(2)\n",
      "memory usage: 35.4 KB\n",
      "None\n"
     ]
    }
   ],
   "source": [
    "# Calcule o número de mensagens enviadas por cada usuário por mês. Salve o resultado.\n",
    "messages['message_date'] = pd.to_datetime(messages['message_date'])\n",
    "messages['month'] = messages['message_date'].dt.month\n",
    "messages_count_monthly = messages.groupby(['user_id', 'month']).agg(\n",
    "    messages_sent=('id', 'count') \n",
    ").reset_index()\n",
    "print(\"Número de mensagens enviadas por cada usuário por mês:\")\n",
    "print(messages_count_monthly.head())\n",
    "\n",
    "print(\"Informações sobre o novo DataFrame 'messages_count_monthly':\")\n",
    "print(messages_count_monthly.info())"
   ]
  },
  {
   "cell_type": "code",
   "execution_count": 161,
   "metadata": {
    "id": "WsCEZJ_xuj8q"
   },
   "outputs": [
    {
     "name": "stdout",
     "output_type": "stream",
     "text": [
      "Volume de tráfego de internet (GB) usado por cada usuário por mês:\n",
      "   user_id  month  mb_used_total  gb_used_total\n",
      "0     1000     12         1903.0            2.0\n",
      "1     1001      8         6929.0            7.0\n",
      "2     1001      9        13333.0           14.0\n",
      "3     1001     10        22356.0           22.0\n",
      "4     1001     11        18524.0           19.0\n",
      "Informações sobre o novo DataFrame 'traffic_volume_monthly':\n",
      "<class 'pandas.core.frame.DataFrame'>\n",
      "RangeIndex: 2277 entries, 0 to 2276\n",
      "Data columns (total 4 columns):\n",
      " #   Column         Non-Null Count  Dtype  \n",
      "---  ------         --------------  -----  \n",
      " 0   user_id        2277 non-null   int64  \n",
      " 1   month          2277 non-null   int32  \n",
      " 2   mb_used_total  2277 non-null   float64\n",
      " 3   gb_used_total  2277 non-null   float64\n",
      "dtypes: float64(2), int32(1), int64(1)\n",
      "memory usage: 62.4 KB\n",
      "None\n",
      "Resumo estatístico do tráfego de internet em GBs por mês:\n",
      "count    2277.000000\n",
      "mean       17.007466\n",
      "std         7.699111\n",
      "min         1.000000\n",
      "25%        13.000000\n",
      "50%        17.000000\n",
      "75%        21.000000\n",
      "max        70.000000\n",
      "Name: gb_used_total, dtype: float64\n"
     ]
    }
   ],
   "source": [
    "# Calcule o volume de tráfego de internet usado por cada usuário por mês. Salve o resultado.\n",
    "internet['session_date'] = pd.to_datetime(internet['session_date'])\n",
    "internet['month'] = internet['session_date'].dt.month\n",
    "internet['mb_used'] = internet['mb_used'].apply(np.ceil)\n",
    "traffic_volume_monthly = internet.groupby(['user_id', 'month']).agg(\n",
    "    mb_used_total=('mb_used', 'sum') \n",
    ").reset_index()\n",
    "traffic_volume_monthly['gb_used_total'] = traffic_volume_monthly['mb_used_total'] / 1024\n",
    "traffic_volume_monthly['gb_used_total'] = traffic_volume_monthly['gb_used_total'].apply(np.ceil)\n",
    "print(\"Volume de tráfego de internet (GB) usado por cada usuário por mês:\")\n",
    "print(traffic_volume_monthly.head())\n",
    "\n",
    "print(\"Informações sobre o novo DataFrame 'traffic_volume_monthly':\")\n",
    "print(traffic_volume_monthly.info())\n",
    "\n",
    "print(\"Resumo estatístico do tráfego de internet em GBs por mês:\")\n",
    "print(traffic_volume_monthly['gb_used_total'].describe())"
   ]
  },
  {
   "cell_type": "markdown",
   "metadata": {
    "id": "6nBsD4hduj8q"
   },
   "source": [
    "[Coloque os dados agregados em um DataFrame para que cada registro nele represente o que cada usuário consumiu em um determinado mês.]\n",
    "*calls_count_monthly (número de chamadas feitas por mês)\n",
    "minutes_spent_monthly (minutos gastos por mês)\n",
    "messages_count_monthly (mensagens enviadas por mês)\n",
    "traffic_volume_monthly (GBs de internet usados por mês).*"
   ]
  },
  {
   "cell_type": "code",
   "execution_count": 162,
   "metadata": {
    "id": "BYDTkxOauj8r"
   },
   "outputs": [],
   "source": [
    "# Junte os dados de chamadas, minutos, mensagens e internet com base em user_id e month\n",
    "monthly_usage = pd.merge(\n",
    "    minutes_spent_monthly,\n",
    "    messages_count_monthly,\n",
    "    on=['user_id', 'month'],\n",
    "    how='outer'\n",
    ")\n",
    "    \n"
   ]
  },
  {
   "cell_type": "code",
   "execution_count": 163,
   "metadata": {},
   "outputs": [],
   "source": [
    "monthly_usage = pd.merge(\n",
    "    monthly_usage,\n",
    "    traffic_volume_monthly,\n",
    "    on=['user_id', 'month'],\n",
    "    how='outer'\n",
    ")"
   ]
  },
  {
   "cell_type": "code",
   "execution_count": 164,
   "metadata": {},
   "outputs": [],
   "source": [
    "monthly_usage = pd.merge(\n",
    "    monthly_usage,\n",
    "    calls_count_monthly,\n",
    "    on=['user_id', 'month'],\n",
    "    how='outer'\n",
    ")"
   ]
  },
  {
   "cell_type": "code",
   "execution_count": 165,
   "metadata": {},
   "outputs": [
    {
     "name": "stdout",
     "output_type": "stream",
     "text": [
      "DataFrame consolidado de uso mensal por usuário (monthly_usage.head()):\n",
      "DataFrame consolidado de uso mensal por usuário (monthly_usage.head()):\n",
      "DataFrame consolidado de uso mensal por usuário (monthly_usage.head()):\n",
      "   user_id  month  minutes_used  messages_sent  mb_used_total  gb_used_total  \\\n",
      "0     1000     12           124             11         1903.0            2.0   \n",
      "1     1001      8           219             30         6929.0            7.0   \n",
      "2     1001      9           414             44        13333.0           14.0   \n",
      "3     1001     10           578             53        22356.0           22.0   \n",
      "4     1001     11           575             36        18524.0           19.0   \n",
      "\n",
      "   calls_made  \n",
      "0          16  \n",
      "1          27  \n",
      "2          49  \n",
      "3          65  \n",
      "4          64  \n",
      "Informações gerais sobre o DataFrame 'monthly_usage' (monthly_usage.info()):\n",
      "<class 'pandas.core.frame.DataFrame'>\n",
      "RangeIndex: 2293 entries, 0 to 2292\n",
      "Data columns (total 7 columns):\n",
      " #   Column         Non-Null Count  Dtype  \n",
      "---  ------         --------------  -----  \n",
      " 0   user_id        2293 non-null   int64  \n",
      " 1   month          2293 non-null   int32  \n",
      " 2   minutes_used   2293 non-null   int64  \n",
      " 3   messages_sent  2293 non-null   int64  \n",
      " 4   mb_used_total  2293 non-null   float64\n",
      " 5   gb_used_total  2293 non-null   float64\n",
      " 6   calls_made     2293 non-null   int64  \n",
      "dtypes: float64(2), int32(1), int64(4)\n",
      "memory usage: 116.6 KB\n",
      "None\n",
      "Verificando se há valores NaN após o preenchimento:\n",
      "user_id          0\n",
      "month            0\n",
      "minutes_used     0\n",
      "messages_sent    0\n",
      "mb_used_total    0\n",
      "gb_used_total    0\n",
      "calls_made       0\n",
      "dtype: int64\n"
     ]
    }
   ],
   "source": [
    "monthly_usage = monthly_usage.fillna(0)\n",
    "int_cols = ['minutes_used', 'messages_sent', 'calls_made']\n",
    "for col in int_cols:\n",
    "    monthly_usage[col] = monthly_usage[col].astype(int)\n",
    "    print(\"DataFrame consolidado de uso mensal por usuário (monthly_usage.head()):\")\n",
    "print(monthly_usage.head())\n",
    "\n",
    "print(\"Informações gerais sobre o DataFrame 'monthly_usage' (monthly_usage.info()):\")\n",
    "print(monthly_usage.info())\n",
    "\n",
    "print(\"Verificando se há valores NaN após o preenchimento:\")\n",
    "print(monthly_usage.isnull().sum())"
   ]
  },
  {
   "cell_type": "code",
   "execution_count": 166,
   "metadata": {
    "id": "SW-sgLaHuj8r"
   },
   "outputs": [
    {
     "name": "stdout",
     "output_type": "stream",
     "text": [
      "Primeiras linhas do DataFrame 'plans':\n",
      "   messages_included  mb_per_month_included  minutes_included  \\\n",
      "0                 50                  15360               500   \n",
      "1               1000                  30720              3000   \n",
      "\n",
      "   usd_monthly_pay  usd_per_gb  usd_per_message  usd_per_minute plan_name  \\\n",
      "0               20          10             0.03            0.03      surf   \n",
      "1               70           7             0.01            0.01  ultimate   \n",
      "\n",
      "   gb_per_month_included  \n",
      "0                     15  \n",
      "1                     30  \n",
      "Nomes de planos únicos disponíveis:\n",
      "['surf' 'ultimate']\n"
     ]
    }
   ],
   "source": [
    "# Adicione as informações sobre o plano\n",
    "print(\"Primeiras linhas do DataFrame 'plans':\")\n",
    "print(plans.head())\n",
    "print(\"Nomes de planos únicos disponíveis:\")\n",
    "print(plans['plan_name'].unique())\n"
   ]
  },
  {
   "cell_type": "markdown",
   "metadata": {
    "id": "mU8dKHTQuj8r"
   },
   "source": [
    "[Calcule a receita mensal para cada usuário: subtraia o limite gratuito do pacote do número total de chamadas, mensagens de texto e dados; multiplique o resultado pelo valor do plano; adicione o preço mensal dependendo do plano. Importante: isso talvez não seja tão simples e necessite de várias linhas, considerando as condições do plano. Portanto, não se preocupe se você passar algum tempo nesta etapa.]"
   ]
  },
  {
   "cell_type": "code",
   "execution_count": 167,
   "metadata": {},
   "outputs": [
    {
     "name": "stdout",
     "output_type": "stream",
     "text": [
      "Detalhes dos planos definidos: {'surf': {'monthly_price': 20, 'call_limit_minutes': 500, 'messages_limit': 50, 'data_limit_mb': 15360, 'cost_per_minute_extra': 0.03, 'cost_per_message_extra': 0.03, 'cost_per_gb_extra': 10}, 'ultimate': {'monthly_price': 70, 'call_limit_minutes': 3000, 'messages_limit': 1000, 'data_limit_mb': 30720, 'cost_per_minute_extra': 0.01, 'cost_per_message_extra': 0.01, 'cost_per_gb_extra': 7}}\n"
     ]
    }
   ],
   "source": [
    "plans_details = {\n",
    "    \"surf\": {\n",
    "        \"monthly_price\": 20,\n",
    "        \"call_limit_minutes\": 500,\n",
    "        \"messages_limit\": 50,\n",
    "        \"data_limit_mb\": 15 * 1024,  # 15 GB convertidos para MB\n",
    "        \"cost_per_minute_extra\": 0.03,  # 3 centavos\n",
    "        \"cost_per_message_extra\": 0.03, # 3 centavos\n",
    "        \"cost_per_gb_extra\": 10      # $10 por GB extra\n",
    "    },\n",
    "    \"ultimate\": {\n",
    "        \"monthly_price\": 70,\n",
    "        \"call_limit_minutes\": 3000,\n",
    "        \"messages_limit\": 1000,\n",
    "        \"data_limit_mb\": 30 * 1024,  # 30 GB convertidos para MB\n",
    "        \"cost_per_minute_extra\": 0.01,  # 1 centavo\n",
    "        \"cost_per_message_extra\": 0.01, # 1 centavo\n",
    "        \"cost_per_gb_extra\": 7       # $7 por GB extra\n",
    "    }\n",
    "}\n",
    "\n",
    "print(\"Detalhes dos planos definidos:\", plans_details)"
   ]
  },
  {
   "cell_type": "code",
   "execution_count": 168,
   "metadata": {
    "id": "JiPHXbQAuj8r"
   },
   "outputs": [
    {
     "name": "stdout",
     "output_type": "stream",
     "text": [
      "Monthly revenue for Surf user: $40983.60\n",
      "Monthly revenue for Ultimate user: $43080.50\n",
      "Monthly revenue for Surf user (within limits): $20.00\n"
     ]
    }
   ],
   "source": [
    "# Calcule a receita mensal para cada usuário\n",
    "\n",
    "\n",
    "def calculate_monthly_revenue(plan_name, used_minutes, used_messages, used_data_mb, plans_details):\n",
    "    \"\"\"\n",
    "    Calculates the monthly revenue for a user based on their plan and usage.\n",
    "\n",
    "    Args:\n",
    "        plan_name (str): The name of the plan ('surf' or 'ultimate').\n",
    "        used_minutes (int): Total minutes used by the user.\n",
    "        used_messages (int): Total messages sent by the user.\n",
    "        used_data_mb (int): Total data used by the user in MB.\n",
    "        plans_details (dict): A dictionary containing details for all plans.\n",
    "\n",
    "    Returns:\n",
    "        float: The total monthly revenue for the user.\n",
    "    \"\"\"\n",
    "    if plan_name not in plans_details:\n",
    "        raise ValueError(\"Invalid plan name provided.\")\n",
    "\n",
    "    plan = plans_details[plan_name]\n",
    "\n",
    "    monthly_revenue = plan[\"monthly_price\"]\n",
    "\n",
    "    # Calculate extra call costs\n",
    "    if used_minutes > plan[\"call_limit_minutes\"]:\n",
    "        extra_minutes = used_minutes - plan[\"call_limit_minutes\"]\n",
    "        monthly_revenue += extra_minutes * plan[\"cost_per_minute_extra\"]\n",
    "\n",
    "    # Calculate extra message costs\n",
    "    if used_messages > plan[\"messages_limit\"]:\n",
    "        extra_messages = used_messages - plan[\"messages_limit\"]\n",
    "        monthly_revenue += extra_messages * plan[\"cost_per_message_extra\"]\n",
    "\n",
    "    # Calculate extra data costs\n",
    "    if used_data_mb > plan[\"data_limit_mb\"]:\n",
    "        extra_data_mb = used_data_mb - plan[\"data_limit_mb\"]\n",
    "       \n",
    "        extra_data_gb = (extra_data_mb + 1024)\n",
    "        monthly_revenue += extra_data_gb * plan[\"cost_per_gb_extra\"]\n",
    "\n",
    "    return monthly_revenue\n",
    "\n",
    "\n",
    "user_surf_revenue = calculate_monthly_revenue(\n",
    "    plan_name=\"surf\",\n",
    "    used_minutes=600,\n",
    "    used_messages=70,\n",
    "    used_data_mb=18432,\n",
    "    plans_details=plans_details\n",
    ")\n",
    "print(f\"Monthly revenue for Surf user: ${user_surf_revenue:.2f}\")\n",
    "\n",
    "\n",
    "user_ultimate_revenue = calculate_monthly_revenue(\n",
    "    plan_name=\"ultimate\",\n",
    "    used_minutes=3200,\n",
    "    used_messages=1050,\n",
    "    used_data_mb=35840, \n",
    "    plans_details=plans_details\n",
    ")\n",
    "print(f\"Monthly revenue for Ultimate user: ${user_ultimate_revenue:.2f}\")\n",
    "\n",
    "\n",
    "user_surf_within_limits_revenue = calculate_monthly_revenue(\n",
    "    plan_name=\"surf\",\n",
    "    used_minutes=400,\n",
    "    used_messages=30,\n",
    "    used_data_mb=10240, \n",
    "    plans_details=plans_details\n",
    ")\n",
    "print(f\"Monthly revenue for Surf user (within limits): ${user_surf_within_limits_revenue:.2f}\")\n"
   ]
  },
  {
   "cell_type": "markdown",
   "metadata": {
    "id": "0HFWXKTQuj8r"
   },
   "source": [
    "## Estude o comportamento do usuário"
   ]
  },
  {
   "cell_type": "markdown",
   "metadata": {
    "id": "i6gGFggkuj8s"
   },
   "source": [
    "[Calcule algumas estatísticas descritivas úteis para os dados agregados, o que costuma revelar uma imagem geral capturada pelos dados. Desenhe gráficos úteis para ajudar na compreensão. Já que a tarefa principal é comparar os planos e decidir qual é mais rentável, as estatísticas e os gráficos devem ser calculados por plano.]\n",
    "\n",
    "[Existem dicas relevantes nos comentários para as chamadas. Essas dicas não foram fornecidas para as mensagens e internet, mas o princípio do estudo estatístico é o mesmo em todos os casos.]"
   ]
  },
  {
   "cell_type": "code",
   "execution_count": 169,
   "metadata": {},
   "outputs": [
    {
     "data": {
      "application/vnd.microsoft.datawrangler.viewer.v0+json": {
       "columns": [
        {
         "name": "index",
         "rawType": "int64",
         "type": "integer"
        },
        {
         "name": "user_id",
         "rawType": "int64",
         "type": "integer"
        },
        {
         "name": "month",
         "rawType": "int32",
         "type": "integer"
        },
        {
         "name": "minutes_used",
         "rawType": "int64",
         "type": "integer"
        },
        {
         "name": "messages_sent",
         "rawType": "int64",
         "type": "integer"
        },
        {
         "name": "mb_used_total",
         "rawType": "float64",
         "type": "float"
        },
        {
         "name": "gb_used_total",
         "rawType": "float64",
         "type": "float"
        },
        {
         "name": "calls_made",
         "rawType": "int64",
         "type": "integer"
        },
        {
         "name": "plan",
         "rawType": "object",
         "type": "string"
        }
       ],
       "ref": "7d8e3f39-ea26-4e02-9cce-09b889fb15ec",
       "rows": [
        [
         "0",
         "1000",
         "12",
         "124",
         "11",
         "1903.0",
         "2.0",
         "16",
         "ultimate"
        ],
        [
         "1",
         "1001",
         "8",
         "219",
         "30",
         "6929.0",
         "7.0",
         "27",
         "surf"
        ],
        [
         "2",
         "1001",
         "9",
         "414",
         "44",
         "13333.0",
         "14.0",
         "49",
         "surf"
        ],
        [
         "3",
         "1001",
         "10",
         "578",
         "53",
         "22356.0",
         "22.0",
         "65",
         "surf"
        ],
        [
         "4",
         "1001",
         "11",
         "575",
         "36",
         "18524.0",
         "19.0",
         "64",
         "surf"
        ]
       ],
       "shape": {
        "columns": 8,
        "rows": 5
       }
      },
      "text/html": [
       "<div>\n",
       "<style scoped>\n",
       "    .dataframe tbody tr th:only-of-type {\n",
       "        vertical-align: middle;\n",
       "    }\n",
       "\n",
       "    .dataframe tbody tr th {\n",
       "        vertical-align: top;\n",
       "    }\n",
       "\n",
       "    .dataframe thead th {\n",
       "        text-align: right;\n",
       "    }\n",
       "</style>\n",
       "<table border=\"1\" class=\"dataframe\">\n",
       "  <thead>\n",
       "    <tr style=\"text-align: right;\">\n",
       "      <th></th>\n",
       "      <th>user_id</th>\n",
       "      <th>month</th>\n",
       "      <th>minutes_used</th>\n",
       "      <th>messages_sent</th>\n",
       "      <th>mb_used_total</th>\n",
       "      <th>gb_used_total</th>\n",
       "      <th>calls_made</th>\n",
       "      <th>plan</th>\n",
       "    </tr>\n",
       "  </thead>\n",
       "  <tbody>\n",
       "    <tr>\n",
       "      <th>0</th>\n",
       "      <td>1000</td>\n",
       "      <td>12</td>\n",
       "      <td>124</td>\n",
       "      <td>11</td>\n",
       "      <td>1903.0</td>\n",
       "      <td>2.0</td>\n",
       "      <td>16</td>\n",
       "      <td>ultimate</td>\n",
       "    </tr>\n",
       "    <tr>\n",
       "      <th>1</th>\n",
       "      <td>1001</td>\n",
       "      <td>8</td>\n",
       "      <td>219</td>\n",
       "      <td>30</td>\n",
       "      <td>6929.0</td>\n",
       "      <td>7.0</td>\n",
       "      <td>27</td>\n",
       "      <td>surf</td>\n",
       "    </tr>\n",
       "    <tr>\n",
       "      <th>2</th>\n",
       "      <td>1001</td>\n",
       "      <td>9</td>\n",
       "      <td>414</td>\n",
       "      <td>44</td>\n",
       "      <td>13333.0</td>\n",
       "      <td>14.0</td>\n",
       "      <td>49</td>\n",
       "      <td>surf</td>\n",
       "    </tr>\n",
       "    <tr>\n",
       "      <th>3</th>\n",
       "      <td>1001</td>\n",
       "      <td>10</td>\n",
       "      <td>578</td>\n",
       "      <td>53</td>\n",
       "      <td>22356.0</td>\n",
       "      <td>22.0</td>\n",
       "      <td>65</td>\n",
       "      <td>surf</td>\n",
       "    </tr>\n",
       "    <tr>\n",
       "      <th>4</th>\n",
       "      <td>1001</td>\n",
       "      <td>11</td>\n",
       "      <td>575</td>\n",
       "      <td>36</td>\n",
       "      <td>18524.0</td>\n",
       "      <td>19.0</td>\n",
       "      <td>64</td>\n",
       "      <td>surf</td>\n",
       "    </tr>\n",
       "  </tbody>\n",
       "</table>\n",
       "</div>"
      ],
      "text/plain": [
       "   user_id  month  minutes_used  messages_sent  mb_used_total  gb_used_total  \\\n",
       "0     1000     12           124             11         1903.0            2.0   \n",
       "1     1001      8           219             30         6929.0            7.0   \n",
       "2     1001      9           414             44        13333.0           14.0   \n",
       "3     1001     10           578             53        22356.0           22.0   \n",
       "4     1001     11           575             36        18524.0           19.0   \n",
       "\n",
       "   calls_made      plan  \n",
       "0          16  ultimate  \n",
       "1          27      surf  \n",
       "2          49      surf  \n",
       "3          65      surf  \n",
       "4          64      surf  "
      ]
     },
     "execution_count": 169,
     "metadata": {},
     "output_type": "execute_result"
    }
   ],
   "source": [
    "monthly_usage = monthly_usage.merge(users[['user_id', 'plan']], on='user_id', how='left')\n",
    "monthly_usage.head()"
   ]
  },
  {
   "cell_type": "markdown",
   "metadata": {
    "id": "umaMfSLxuj8s"
   },
   "source": [
    "### Chamadas"
   ]
  },
  {
   "cell_type": "code",
   "execution_count": 170,
   "metadata": {
    "id": "0236-tJnuj8t"
   },
   "outputs": [
    {
     "name": "stdout",
     "output_type": "stream",
     "text": [
      "Duração Média das Chamadas por Plano e Mês:\n",
      "        plan  month  minutes_used\n",
      "0       surf      1    260.500000\n",
      "1       surf      2    359.111111\n",
      "2       surf      3    403.130435\n",
      "3       surf      4    436.620000\n",
      "4       surf      5    497.194805\n",
      "5       surf      6    534.360825\n",
      "6       surf      7    557.570248\n",
      "7       surf      8    510.950617\n",
      "8       surf      9    515.077320\n",
      "9       surf     10    533.856540\n",
      "10      surf     11    522.671378\n",
      "11      surf     12    586.990566\n",
      "12  ultimate      1    254.750000\n",
      "13  ultimate      2    493.142857\n",
      "14  ultimate      3    391.000000\n",
      "15  ultimate      4    409.095238\n",
      "16  ultimate      5    505.000000\n",
      "17  ultimate      6    459.957447\n",
      "18  ultimate      7    529.237288\n",
      "19  ultimate      8    525.619718\n",
      "20  ultimate      9    547.220930\n",
      "21  ultimate     10    566.396226\n",
      "22  ultimate     11    554.047244\n",
      "23  ultimate     12    571.509934\n"
     ]
    }
   ],
   "source": [
    "#Compare a duração média das chamadas de cada plano para cada mês.\n",
    "\n",
    "                               \n",
    "calls_with_plans = pd.merge(calls, users, on='user_id', how='left')\n",
    "\n",
    "\n",
    "calls_with_plans['month'] = calls_with_plans['call_date'].dt.month\n",
    "\n",
    "\n",
    "average_call_duration = monthly_usage.groupby(['plan', 'month'])['minutes_used'].mean().reset_index()\n",
    "\n",
    "print(\"Duração Média das Chamadas por Plano e Mês:\")\n",
    "print(average_call_duration)\n"
   ]
  },
  {
   "cell_type": "code",
   "execution_count": 171,
   "metadata": {},
   "outputs": [
    {
     "name": "stderr",
     "output_type": "stream",
     "text": [
      "C:\\Users\\Usuário\\AppData\\Local\\Temp\\ipykernel_332\\2903987852.py:9: UserWarning: No artists with labels found to put in legend.  Note that artists whose label start with an underscore are ignored when legend() is called with no argument.\n",
      "  plt.legend(title='Plano')\n"
     ]
    },
    {
     "data": {
      "image/png": "[encoded data removed]",
      "text/plain": [
       "<Figure size 1000x600 with 1 Axes>"
      ]
     },
     "metadata": {},
     "output_type": "display_data"
    }
   ],
   "source": [
    "import matplotlib.pyplot as plt\n",
    "import seaborn as sns\n",
    "\n",
    "plt.figure(figsize=(10, 6))\n",
    "sns.boxplot(data=average_call_duration, x='plan', y='minutes_used', hue='plan')\n",
    "plt.title('Duração Média das Chamadas por Plano e Mês')\n",
    "plt.ylabel('Duração Média das Chamadas (Minutos)')\n",
    "plt.grid(True)\n",
    "plt.legend(title='Plano')\n",
    "plt.show()\n"
   ]
  },
  {
   "cell_type": "code",
   "execution_count": 172,
   "metadata": {},
   "outputs": [
    {
     "data": {
      "image/png": "[encoded data removed]",
      "text/plain": [
       "<Figure size 1000x600 with 1 Axes>"
      ]
     },
     "metadata": {},
     "output_type": "display_data"
    }
   ],
   "source": [
    "import matplotlib.pyplot as plt\n",
    "import seaborn as sns\n",
    "\n",
    "plt.figure(figsize=(10, 6))\n",
    "sns.lineplot(data=average_call_duration, x='month', y='minutes_used', hue='plan', marker='o')\n",
    "plt.title('Duração Média das Chamadas por Plano e Mês')\n",
    "plt.xlabel('Mês')\n",
    "plt.ylabel('Duração Média das Chamadas (Minutos)')\n",
    "plt.xticks(range(1, 7), ['Jan', 'Fev', 'Mar', 'Abr', 'Mai', 'Jun'])\n",
    "plt.grid(True)\n",
    "plt.legend(title='Plano')\n",
    "plt.show()"
   ]
  },
  {
   "cell_type": "code",
   "execution_count": 173,
   "metadata": {
    "id": "9sCQ1lP8uj8u"
   },
   "outputs": [
    {
     "name": "stdout",
     "output_type": "stream",
     "text": [
      "Total de Minutos Usados por Plano e Mês:\n",
      "        plan  month  duration\n",
      "0       surf      1       521\n",
      "1       surf      2      3232\n",
      "2       surf      3      9272\n",
      "3       surf      4     21831\n",
      "4       surf      5     38284\n",
      "5       surf      6     51833\n",
      "6       surf      7     67466\n",
      "7       surf      8     82774\n",
      "8       surf      9     99925\n",
      "9       surf     10    126524\n",
      "10      surf     11    147916\n",
      "11      surf     12    186663\n",
      "12  ultimate      1      1019\n",
      "13  ultimate      2      3452\n",
      "14  ultimate      3      4692\n",
      "15  ultimate      4      8591\n",
      "16  ultimate      5     14645\n",
      "17  ultimate      6     21618\n",
      "18  ultimate      7     31225\n",
      "19  ultimate      8     37319\n",
      "20  ultimate      9     47061\n",
      "21  ultimate     10     60038\n",
      "22  ultimate     11     70364\n",
      "23  ultimate     12     86298\n"
     ]
    }
   ],
   "source": [
    "# Compare o número de minutos que os usuários de cada plano necessitam a cada mês. Construa um histograma.\n",
    "\n",
    "calls_with_plans = pd.merge(calls, users, on='user_id', how='left')\n",
    "\n",
    "calls_with_plans['month'] = calls_with_plans['call_date'].dt.month\n",
    "\n",
    "total_monthly_minutes = calls_with_plans.groupby(['plan', 'month'])['duration'].sum().reset_index()\n",
    "\n",
    "\n",
    "print(\"Total de Minutos Usados por Plano e Mês:\")\n",
    "print(total_monthly_minutes)\n"
   ]
  },
  {
   "cell_type": "code",
   "execution_count": 174,
   "metadata": {},
   "outputs": [
    {
     "data": {
      "image/png": "[encoded data removed]",
      "text/plain": [
       "<Figure size 1200x700 with 1 Axes>"
      ]
     },
     "metadata": {},
     "output_type": "display_data"
    }
   ],
   "source": [
    "plt.figure(figsize=(12, 7))\n",
    "sns.histplot(data=calls_with_plans, x='duration', hue='plan', multiple='dodge', bins=30, kde=True)\n",
    "plt.title('Distribution of Call Duration (Minutes) by Plan')\n",
    "plt.xlabel('Call Duration (Minutes)')\n",
    "plt.ylabel('Frequency')\n",
    "plt.show()\n"
   ]
  },
  {
   "cell_type": "markdown",
   "metadata": {
    "id": "_x1pRDFtuj8u"
   },
   "source": [
    "[Calcule a média e a variância da duração das chamadas para refletir se os usuários de cada plano possuem comportamentos diferentes sobre as chamadas.]"
   ]
  },
  {
   "cell_type": "code",
   "execution_count": 175,
   "metadata": {
    "id": "cIdodPExuj8u"
   },
   "outputs": [
    {
     "name": "stdout",
     "output_type": "stream",
     "text": [
      "Média e Variância da Duração Mensal das Chamadas:\n",
      "    month      mean        var\n",
      "0       1  8.953488  26.301918\n",
      "1       2  8.635659  29.279762\n",
      "2       3  8.619753  27.756497\n",
      "3       4  8.838466  28.209296\n",
      "4       5  8.882195  28.841440\n",
      "5       6  8.934558  29.453624\n",
      "6       7  8.887078  28.303710\n",
      "7       8  8.836865  28.279441\n",
      "8       9  8.895842  28.742873\n",
      "9      10  8.856912  28.618465\n",
      "10     11  8.854813  28.391212\n",
      "11     12  8.916215  28.734789\n"
     ]
    }
   ],
   "source": [
    "# Calcule a média e a variância da duração mensal das chamadas\n",
    "monthly_call_stats = calls_with_plans.groupby('month')['duration'].agg(['mean', 'var']).reset_index()\n",
    "\n",
    "print(\"Média e Variância da Duração Mensal das Chamadas:\")\n",
    "print(monthly_call_stats)"
   ]
  },
  {
   "cell_type": "code",
   "execution_count": 176,
   "metadata": {
    "id": "DW7vTypxuj8u"
   },
   "outputs": [
    {
     "name": "stderr",
     "output_type": "stream",
     "text": [
      "C:\\Users\\Usuário\\AppData\\Local\\Temp\\ipykernel_332\\150368021.py:4: FutureWarning: \n",
      "\n",
      "Passing `palette` without assigning `hue` is deprecated and will be removed in v0.14.0. Assign the `x` variable to `hue` and set `legend=False` for the same effect.\n",
      "\n",
      "  sns.boxplot(x='month', y='duration', data=calls_with_plans, palette='viridis')\n"
     ]
    },
    {
     "data": {
      "image/png": "[encoded data removed]",
      "text/plain": [
       "<Figure size 1200x700 with 1 Axes>"
      ]
     },
     "metadata": {},
     "output_type": "display_data"
    }
   ],
   "source": [
    "# Faça um diagrama de caixa para visualizar a distribuição da duração mensal das chamadas\n",
    "\n",
    "plt.figure(figsize=(12, 7)) \n",
    "sns.boxplot(x='month', y='duration', data=calls_with_plans, palette='viridis')\n",
    "\n",
    "plt.title('Distribuição Mensal da Duração das Chamadas', fontsize=16) \n",
    "plt.xlabel('Mês', fontsize=12) \n",
    "plt.ylabel('Duração da Chamada (minutos)', fontsize=12) \n",
    "plt.grid(axis='y', linestyle='--', alpha=0.7) \n",
    "plt.show()\n"
   ]
  },
  {
   "cell_type": "markdown",
   "metadata": {
    "id": "Uyt3rWn7uj8u"
   },
   "source": [
    "[Formule conclusões sobre como os usuários se comportam em termos de chamadas. O comportamento é diferente dependendo do plano?]\n",
    "*Verificação da distribuição por chamada e por plano, há uma pequena diferença, no plano Surf é utilizado mais a chamada do que menssagem, já o plano Ultimate é o oposto, é utilizado mais menssagem que chamadas.*"
   ]
  },
  {
   "cell_type": "markdown",
   "metadata": {
    "id": "2hWSPtrnuj8v"
   },
   "source": [
    "### Mensagens"
   ]
  },
  {
   "cell_type": "code",
   "execution_count": 177,
   "metadata": {},
   "outputs": [
    {
     "name": "stdout",
     "output_type": "stream",
     "text": [
      "Média de mensagens enviadas por plano:\n",
      "        plan  month  messages_sent\n",
      "0       surf      1      10.500000\n",
      "1       surf      2      12.000000\n",
      "2       surf      3      15.260870\n",
      "3       surf      4      17.400000\n",
      "4       surf      5      24.012987\n",
      "5       surf      6      25.298969\n",
      "6       surf      7      27.033058\n",
      "7       surf      8      28.777778\n",
      "8       surf      9      30.762887\n",
      "9       surf     10      33.839662\n",
      "10      surf     11      32.385159\n",
      "11      surf     12      38.600629\n",
      "12  ultimate      1      15.500000\n",
      "13  ultimate      2      21.571429\n",
      "14  ultimate      3      20.250000\n",
      "15  ultimate      4      22.047619\n",
      "16  ultimate      5      32.103448\n",
      "17  ultimate      6      29.340426\n",
      "18  ultimate      7      32.830508\n",
      "19  ultimate      8      38.478873\n",
      "20  ultimate      9      37.895349\n",
      "21  ultimate     10      39.443396\n",
      "22  ultimate     11      38.606299\n",
      "23  ultimate     12      45.006623\n"
     ]
    }
   ],
   "source": [
    "average_messages_per_plan = monthly_usage.groupby(['plan', 'month'])['messages_sent'].mean().reset_index()\n",
    "\n",
    "print(\"Média de mensagens enviadas por plano:\")\n",
    "print(average_messages_per_plan)"
   ]
  },
  {
   "cell_type": "code",
   "execution_count": 178,
   "metadata": {
    "id": "9kPlAhOJuj8v"
   },
   "outputs": [
    {
     "name": "stderr",
     "output_type": "stream",
     "text": [
      "C:\\Users\\Usuário\\AppData\\Local\\Temp\\ipykernel_332\\2567205622.py:2: FutureWarning: \n",
      "\n",
      "Passing `palette` without assigning `hue` is deprecated and will be removed in v0.14.0. Assign the `x` variable to `hue` and set `legend=False` for the same effect.\n",
      "\n",
      "  sns.boxplot(x='plan', y='messages_sent', data=monthly_usage, palette='Set2')\n"
     ]
    },
    {
     "data": {
      "image/png": "[encoded data removed]",
      "text/plain": [
       "<Figure size 1000x600 with 1 Axes>"
      ]
     },
     "metadata": {},
     "output_type": "display_data"
    }
   ],
   "source": [
    "\n",
    "plt.figure(figsize=(10, 6)) \n",
    "sns.boxplot(x='plan', y='messages_sent', data=monthly_usage, palette='Set2') \n",
    "plt.title('Distribuição de Mensagens Enviadas por Plano')\n",
    "plt.xlabel('Plano')\n",
    "plt.ylabel('Mensagens Enviadas')\n",
    "plt.grid(axis='y', linestyle='--') \n",
    "plt.show()\n",
    "\n",
    "\n",
    "\n",
    "\n",
    "\n"
   ]
  },
  {
   "cell_type": "code",
   "execution_count": 179,
   "metadata": {
    "id": "fIVdRuT6uj8v"
   },
   "outputs": [
    {
     "name": "stdout",
     "output_type": "stream",
     "text": [
      "Volume de tráfego mensal com informações de plano:\n",
      "   user_id  month  mb_used_total  gb_used_total      plan\n",
      "0     1000     12         1903.0            2.0  ultimate\n",
      "1     1001      8         6929.0            7.0      surf\n",
      "2     1001      9        13333.0           14.0      surf\n",
      "3     1001     10        22356.0           22.0      surf\n",
      "4     1001     11        18524.0           19.0      surf\n",
      "Informações sobre o DataFrame 'traffic_with_plans':\n",
      "<class 'pandas.core.frame.DataFrame'>\n",
      "RangeIndex: 2277 entries, 0 to 2276\n",
      "Data columns (total 5 columns):\n",
      " #   Column         Non-Null Count  Dtype  \n",
      "---  ------         --------------  -----  \n",
      " 0   user_id        2277 non-null   int64  \n",
      " 1   month          2277 non-null   int32  \n",
      " 2   mb_used_total  2277 non-null   float64\n",
      " 3   gb_used_total  2277 non-null   float64\n",
      " 4   plan           2277 non-null   object \n",
      "dtypes: float64(2), int32(1), int64(1), object(1)\n",
      "memory usage: 80.2+ KB\n",
      "None\n",
      "Média de GBs de internet consumidos por plano:\n",
      "       plan  gb_used_total\n",
      "0      surf      16.845315\n",
      "1  ultimate      17.358832\n"
     ]
    }
   ],
   "source": [
    "# Compare a quantidade de tráfego de internet consumido pelos usuários por plano\n",
    "traffic_with_plans = traffic_volume_monthly.merge(users[['user_id', 'plan']], on='user_id', how='left')\n",
    "\n",
    "print(\"Volume de tráfego mensal com informações de plano:\")\n",
    "print(traffic_with_plans.head())\n",
    "print(\"Informações sobre o DataFrame 'traffic_with_plans':\")\n",
    "print(traffic_with_plans.info())\n",
    "\n",
    "\n",
    "average_gb_per_plan = traffic_with_plans.groupby('plan')['gb_used_total'].mean().reset_index()\n",
    "\n",
    "print(\"Média de GBs de internet consumidos por plano:\")\n",
    "print(average_gb_per_plan)\n"
   ]
  },
  {
   "cell_type": "code",
   "execution_count": 180,
   "metadata": {
    "id": "di6wucOLuj8v"
   },
   "outputs": [
    {
     "name": "stderr",
     "output_type": "stream",
     "text": [
      "C:\\Users\\Usuário\\AppData\\Local\\Temp\\ipykernel_332\\2981015701.py:2: FutureWarning: \n",
      "\n",
      "Passing `palette` without assigning `hue` is deprecated and will be removed in v0.14.0. Assign the `x` variable to `hue` and set `legend=False` for the same effect.\n",
      "\n",
      "  sns.barplot(x='plan', y='gb_used_total', data=average_gb_per_plan, palette='pastel')\n"
     ]
    },
    {
     "data": {
      "image/png": "[encoded data removed]",
      "text/plain": [
       "<Figure size 1000x600 with 1 Axes>"
      ]
     },
     "metadata": {},
     "output_type": "display_data"
    }
   ],
   "source": [
    "plt.figure(figsize=(10, 6))\n",
    "sns.barplot(x='plan', y='gb_used_total', data=average_gb_per_plan, palette='pastel')\n",
    "plt.xlabel('Plano')\n",
    "plt.ylabel('Média de GB Consumidos')\n",
    "plt.title('Média de GBs de Internet Consumidos por Plano')\n",
    "plt.xticks(rotation=45, ha='right')\n",
    "plt.tight_layout()\n",
    "plt.show()\n",
    "\n",
    "\n",
    "\n",
    "\n",
    "\n",
    "\n",
    "\n"
   ]
  },
  {
   "cell_type": "markdown",
   "metadata": {
    "id": "v6QELMtcuj8v"
   },
   "source": [
    "[Formule conclusões sobre como os usuários costumam consumir o tráfego da internet. O comportamento é diferente dependendo do plano?]\n",
    "*Há uma difença muito pequena, praticamente mínima, não diria que exista um comportamento diferente dos usários em relação aos planos.*"
   ]
  },
  {
   "cell_type": "markdown",
   "metadata": {
    "id": "g23qXaYNuj8x"
   },
   "source": [
    "## Receita"
   ]
  },
  {
   "cell_type": "markdown",
   "metadata": {
    "id": "qI9oKXFZuj8y"
   },
   "source": [
    "[Da mesma forma que você estudou o comportamento dos usuários, descreva estatisticamente as receitas dos planos.]"
   ]
  },
  {
   "cell_type": "code",
   "execution_count": 181,
   "metadata": {},
   "outputs": [
    {
     "data": {
      "application/vnd.microsoft.datawrangler.viewer.v0+json": {
       "columns": [
        {
         "name": "index",
         "rawType": "int64",
         "type": "integer"
        },
        {
         "name": "user_id",
         "rawType": "int64",
         "type": "integer"
        },
        {
         "name": "month",
         "rawType": "int32",
         "type": "integer"
        },
        {
         "name": "minutes_used",
         "rawType": "int64",
         "type": "integer"
        },
        {
         "name": "messages_sent",
         "rawType": "int64",
         "type": "integer"
        },
        {
         "name": "mb_used_total",
         "rawType": "float64",
         "type": "float"
        },
        {
         "name": "gb_used_total",
         "rawType": "float64",
         "type": "float"
        },
        {
         "name": "calls_made",
         "rawType": "int64",
         "type": "integer"
        },
        {
         "name": "plan",
         "rawType": "object",
         "type": "string"
        },
        {
         "name": "messages_included",
         "rawType": "int64",
         "type": "integer"
        },
        {
         "name": "mb_per_month_included",
         "rawType": "int64",
         "type": "integer"
        },
        {
         "name": "minutes_included",
         "rawType": "int64",
         "type": "integer"
        },
        {
         "name": "usd_monthly_pay",
         "rawType": "int64",
         "type": "integer"
        },
        {
         "name": "usd_per_gb",
         "rawType": "int64",
         "type": "integer"
        },
        {
         "name": "usd_per_message",
         "rawType": "float64",
         "type": "float"
        },
        {
         "name": "usd_per_minute",
         "rawType": "float64",
         "type": "float"
        },
        {
         "name": "plan_name",
         "rawType": "object",
         "type": "string"
        },
        {
         "name": "gb_per_month_included",
         "rawType": "int64",
         "type": "integer"
        }
       ],
       "ref": "8477c987-365d-4acc-8ab2-0ee74f061e32",
       "rows": [
        [
         "0",
         "1000",
         "12",
         "124",
         "11",
         "1903.0",
         "2.0",
         "16",
         "ultimate",
         "1000",
         "30720",
         "3000",
         "70",
         "7",
         "0.01",
         "0.01",
         "ultimate",
         "30"
        ],
        [
         "1",
         "1001",
         "8",
         "219",
         "30",
         "6929.0",
         "7.0",
         "27",
         "surf",
         "50",
         "15360",
         "500",
         "20",
         "10",
         "0.03",
         "0.03",
         "surf",
         "15"
        ],
        [
         "2",
         "1001",
         "9",
         "414",
         "44",
         "13333.0",
         "14.0",
         "49",
         "surf",
         "50",
         "15360",
         "500",
         "20",
         "10",
         "0.03",
         "0.03",
         "surf",
         "15"
        ],
        [
         "3",
         "1001",
         "10",
         "578",
         "53",
         "22356.0",
         "22.0",
         "65",
         "surf",
         "50",
         "15360",
         "500",
         "20",
         "10",
         "0.03",
         "0.03",
         "surf",
         "15"
        ],
        [
         "4",
         "1001",
         "11",
         "575",
         "36",
         "18524.0",
         "19.0",
         "64",
         "surf",
         "50",
         "15360",
         "500",
         "20",
         "10",
         "0.03",
         "0.03",
         "surf",
         "15"
        ]
       ],
       "shape": {
        "columns": 17,
        "rows": 5
       }
      },
      "text/html": [
       "<div>\n",
       "<style scoped>\n",
       "    .dataframe tbody tr th:only-of-type {\n",
       "        vertical-align: middle;\n",
       "    }\n",
       "\n",
       "    .dataframe tbody tr th {\n",
       "        vertical-align: top;\n",
       "    }\n",
       "\n",
       "    .dataframe thead th {\n",
       "        text-align: right;\n",
       "    }\n",
       "</style>\n",
       "<table border=\"1\" class=\"dataframe\">\n",
       "  <thead>\n",
       "    <tr style=\"text-align: right;\">\n",
       "      <th></th>\n",
       "      <th>user_id</th>\n",
       "      <th>month</th>\n",
       "      <th>minutes_used</th>\n",
       "      <th>messages_sent</th>\n",
       "      <th>mb_used_total</th>\n",
       "      <th>gb_used_total</th>\n",
       "      <th>calls_made</th>\n",
       "      <th>plan</th>\n",
       "      <th>messages_included</th>\n",
       "      <th>mb_per_month_included</th>\n",
       "      <th>minutes_included</th>\n",
       "      <th>usd_monthly_pay</th>\n",
       "      <th>usd_per_gb</th>\n",
       "      <th>usd_per_message</th>\n",
       "      <th>usd_per_minute</th>\n",
       "      <th>plan_name</th>\n",
       "      <th>gb_per_month_included</th>\n",
       "    </tr>\n",
       "  </thead>\n",
       "  <tbody>\n",
       "    <tr>\n",
       "      <th>0</th>\n",
       "      <td>1000</td>\n",
       "      <td>12</td>\n",
       "      <td>124</td>\n",
       "      <td>11</td>\n",
       "      <td>1903.0</td>\n",
       "      <td>2.0</td>\n",
       "      <td>16</td>\n",
       "      <td>ultimate</td>\n",
       "      <td>1000</td>\n",
       "      <td>30720</td>\n",
       "      <td>3000</td>\n",
       "      <td>70</td>\n",
       "      <td>7</td>\n",
       "      <td>0.01</td>\n",
       "      <td>0.01</td>\n",
       "      <td>ultimate</td>\n",
       "      <td>30</td>\n",
       "    </tr>\n",
       "    <tr>\n",
       "      <th>1</th>\n",
       "      <td>1001</td>\n",
       "      <td>8</td>\n",
       "      <td>219</td>\n",
       "      <td>30</td>\n",
       "      <td>6929.0</td>\n",
       "      <td>7.0</td>\n",
       "      <td>27</td>\n",
       "      <td>surf</td>\n",
       "      <td>50</td>\n",
       "      <td>15360</td>\n",
       "      <td>500</td>\n",
       "      <td>20</td>\n",
       "      <td>10</td>\n",
       "      <td>0.03</td>\n",
       "      <td>0.03</td>\n",
       "      <td>surf</td>\n",
       "      <td>15</td>\n",
       "    </tr>\n",
       "    <tr>\n",
       "      <th>2</th>\n",
       "      <td>1001</td>\n",
       "      <td>9</td>\n",
       "      <td>414</td>\n",
       "      <td>44</td>\n",
       "      <td>13333.0</td>\n",
       "      <td>14.0</td>\n",
       "      <td>49</td>\n",
       "      <td>surf</td>\n",
       "      <td>50</td>\n",
       "      <td>15360</td>\n",
       "      <td>500</td>\n",
       "      <td>20</td>\n",
       "      <td>10</td>\n",
       "      <td>0.03</td>\n",
       "      <td>0.03</td>\n",
       "      <td>surf</td>\n",
       "      <td>15</td>\n",
       "    </tr>\n",
       "    <tr>\n",
       "      <th>3</th>\n",
       "      <td>1001</td>\n",
       "      <td>10</td>\n",
       "      <td>578</td>\n",
       "      <td>53</td>\n",
       "      <td>22356.0</td>\n",
       "      <td>22.0</td>\n",
       "      <td>65</td>\n",
       "      <td>surf</td>\n",
       "      <td>50</td>\n",
       "      <td>15360</td>\n",
       "      <td>500</td>\n",
       "      <td>20</td>\n",
       "      <td>10</td>\n",
       "      <td>0.03</td>\n",
       "      <td>0.03</td>\n",
       "      <td>surf</td>\n",
       "      <td>15</td>\n",
       "    </tr>\n",
       "    <tr>\n",
       "      <th>4</th>\n",
       "      <td>1001</td>\n",
       "      <td>11</td>\n",
       "      <td>575</td>\n",
       "      <td>36</td>\n",
       "      <td>18524.0</td>\n",
       "      <td>19.0</td>\n",
       "      <td>64</td>\n",
       "      <td>surf</td>\n",
       "      <td>50</td>\n",
       "      <td>15360</td>\n",
       "      <td>500</td>\n",
       "      <td>20</td>\n",
       "      <td>10</td>\n",
       "      <td>0.03</td>\n",
       "      <td>0.03</td>\n",
       "      <td>surf</td>\n",
       "      <td>15</td>\n",
       "    </tr>\n",
       "  </tbody>\n",
       "</table>\n",
       "</div>"
      ],
      "text/plain": [
       "   user_id  month  minutes_used  messages_sent  mb_used_total  gb_used_total  \\\n",
       "0     1000     12           124             11         1903.0            2.0   \n",
       "1     1001      8           219             30         6929.0            7.0   \n",
       "2     1001      9           414             44        13333.0           14.0   \n",
       "3     1001     10           578             53        22356.0           22.0   \n",
       "4     1001     11           575             36        18524.0           19.0   \n",
       "\n",
       "   calls_made      plan  messages_included  mb_per_month_included  \\\n",
       "0          16  ultimate               1000                  30720   \n",
       "1          27      surf                 50                  15360   \n",
       "2          49      surf                 50                  15360   \n",
       "3          65      surf                 50                  15360   \n",
       "4          64      surf                 50                  15360   \n",
       "\n",
       "   minutes_included  usd_monthly_pay  usd_per_gb  usd_per_message  \\\n",
       "0              3000               70           7             0.01   \n",
       "1               500               20          10             0.03   \n",
       "2               500               20          10             0.03   \n",
       "3               500               20          10             0.03   \n",
       "4               500               20          10             0.03   \n",
       "\n",
       "   usd_per_minute plan_name  gb_per_month_included  \n",
       "0            0.01  ultimate                     30  \n",
       "1            0.03      surf                     15  \n",
       "2            0.03      surf                     15  \n",
       "3            0.03      surf                     15  \n",
       "4            0.03      surf                     15  "
      ]
     },
     "execution_count": 181,
     "metadata": {},
     "output_type": "execute_result"
    }
   ],
   "source": [
    "monthly_usage = monthly_usage.merge(plans, right_on='plan_name', left_on='plan', how='left')\n",
    "monthly_usage.head()"
   ]
  },
  {
   "cell_type": "code",
   "execution_count": 182,
   "metadata": {},
   "outputs": [
    {
     "data": {
      "application/vnd.microsoft.datawrangler.viewer.v0+json": {
       "columns": [
        {
         "name": "index",
         "rawType": "int64",
         "type": "integer"
        },
        {
         "name": "user_id",
         "rawType": "int64",
         "type": "integer"
        },
        {
         "name": "month",
         "rawType": "int32",
         "type": "integer"
        },
        {
         "name": "minutes_used",
         "rawType": "int64",
         "type": "integer"
        },
        {
         "name": "messages_sent",
         "rawType": "int64",
         "type": "integer"
        },
        {
         "name": "mb_used_total",
         "rawType": "float64",
         "type": "float"
        },
        {
         "name": "gb_used_total",
         "rawType": "float64",
         "type": "float"
        },
        {
         "name": "calls_made",
         "rawType": "int64",
         "type": "integer"
        },
        {
         "name": "plan",
         "rawType": "object",
         "type": "string"
        },
        {
         "name": "messages_included",
         "rawType": "int64",
         "type": "integer"
        },
        {
         "name": "mb_per_month_included",
         "rawType": "int64",
         "type": "integer"
        },
        {
         "name": "minutes_included",
         "rawType": "int64",
         "type": "integer"
        },
        {
         "name": "usd_monthly_pay",
         "rawType": "int64",
         "type": "integer"
        },
        {
         "name": "usd_per_gb",
         "rawType": "int64",
         "type": "integer"
        },
        {
         "name": "usd_per_message",
         "rawType": "float64",
         "type": "float"
        },
        {
         "name": "usd_per_minute",
         "rawType": "float64",
         "type": "float"
        },
        {
         "name": "plan_name",
         "rawType": "object",
         "type": "string"
        },
        {
         "name": "gb_per_month_included",
         "rawType": "int64",
         "type": "integer"
        },
        {
         "name": "mb_exceded",
         "rawType": "float64",
         "type": "float"
        },
        {
         "name": "gb_exceded",
         "rawType": "float64",
         "type": "float"
        },
        {
         "name": "total_internet",
         "rawType": "float64",
         "type": "float"
        },
        {
         "name": "receita",
         "rawType": "float64",
         "type": "float"
        }
       ],
       "ref": "6dc2aa2d-fc46-4b44-8e25-2db6f48ba095",
       "rows": [
        [
         "0",
         "1000",
         "12",
         "124",
         "11",
         "1903.0",
         "2.0",
         "16",
         "ultimate",
         "1000",
         "30720",
         "3000",
         "70",
         "7",
         "0.01",
         "0.01",
         "ultimate",
         "30",
         "0.0",
         "0.0",
         "0.0",
         "70.0"
        ],
        [
         "1",
         "1001",
         "8",
         "219",
         "30",
         "6929.0",
         "7.0",
         "27",
         "surf",
         "50",
         "15360",
         "500",
         "20",
         "10",
         "0.03",
         "0.03",
         "surf",
         "15",
         "0.0",
         "0.0",
         "0.0",
         "20.0"
        ],
        [
         "2",
         "1001",
         "9",
         "414",
         "44",
         "13333.0",
         "14.0",
         "49",
         "surf",
         "50",
         "15360",
         "500",
         "20",
         "10",
         "0.03",
         "0.03",
         "surf",
         "15",
         "0.0",
         "0.0",
         "0.0",
         "20.0"
        ],
        [
         "3",
         "1001",
         "10",
         "578",
         "53",
         "22356.0",
         "22.0",
         "65",
         "surf",
         "50",
         "15360",
         "500",
         "20",
         "10",
         "0.03",
         "0.03",
         "surf",
         "15",
         "6996.0",
         "7.0",
         "70.0",
         "90.0"
        ],
        [
         "4",
         "1001",
         "11",
         "575",
         "36",
         "18524.0",
         "19.0",
         "64",
         "surf",
         "50",
         "15360",
         "500",
         "20",
         "10",
         "0.03",
         "0.03",
         "surf",
         "15",
         "3164.0",
         "4.0",
         "40.0",
         "60.0"
        ]
       ],
       "shape": {
        "columns": 21,
        "rows": 5
       }
      },
      "text/html": [
       "<div>\n",
       "<style scoped>\n",
       "    .dataframe tbody tr th:only-of-type {\n",
       "        vertical-align: middle;\n",
       "    }\n",
       "\n",
       "    .dataframe tbody tr th {\n",
       "        vertical-align: top;\n",
       "    }\n",
       "\n",
       "    .dataframe thead th {\n",
       "        text-align: right;\n",
       "    }\n",
       "</style>\n",
       "<table border=\"1\" class=\"dataframe\">\n",
       "  <thead>\n",
       "    <tr style=\"text-align: right;\">\n",
       "      <th></th>\n",
       "      <th>user_id</th>\n",
       "      <th>month</th>\n",
       "      <th>minutes_used</th>\n",
       "      <th>messages_sent</th>\n",
       "      <th>mb_used_total</th>\n",
       "      <th>gb_used_total</th>\n",
       "      <th>calls_made</th>\n",
       "      <th>plan</th>\n",
       "      <th>messages_included</th>\n",
       "      <th>mb_per_month_included</th>\n",
       "      <th>...</th>\n",
       "      <th>usd_monthly_pay</th>\n",
       "      <th>usd_per_gb</th>\n",
       "      <th>usd_per_message</th>\n",
       "      <th>usd_per_minute</th>\n",
       "      <th>plan_name</th>\n",
       "      <th>gb_per_month_included</th>\n",
       "      <th>mb_exceded</th>\n",
       "      <th>gb_exceded</th>\n",
       "      <th>total_internet</th>\n",
       "      <th>receita</th>\n",
       "    </tr>\n",
       "  </thead>\n",
       "  <tbody>\n",
       "    <tr>\n",
       "      <th>0</th>\n",
       "      <td>1000</td>\n",
       "      <td>12</td>\n",
       "      <td>124</td>\n",
       "      <td>11</td>\n",
       "      <td>1903.0</td>\n",
       "      <td>2.0</td>\n",
       "      <td>16</td>\n",
       "      <td>ultimate</td>\n",
       "      <td>1000</td>\n",
       "      <td>30720</td>\n",
       "      <td>...</td>\n",
       "      <td>70</td>\n",
       "      <td>7</td>\n",
       "      <td>0.01</td>\n",
       "      <td>0.01</td>\n",
       "      <td>ultimate</td>\n",
       "      <td>30</td>\n",
       "      <td>0.0</td>\n",
       "      <td>0.0</td>\n",
       "      <td>0.0</td>\n",
       "      <td>70.0</td>\n",
       "    </tr>\n",
       "    <tr>\n",
       "      <th>1</th>\n",
       "      <td>1001</td>\n",
       "      <td>8</td>\n",
       "      <td>219</td>\n",
       "      <td>30</td>\n",
       "      <td>6929.0</td>\n",
       "      <td>7.0</td>\n",
       "      <td>27</td>\n",
       "      <td>surf</td>\n",
       "      <td>50</td>\n",
       "      <td>15360</td>\n",
       "      <td>...</td>\n",
       "      <td>20</td>\n",
       "      <td>10</td>\n",
       "      <td>0.03</td>\n",
       "      <td>0.03</td>\n",
       "      <td>surf</td>\n",
       "      <td>15</td>\n",
       "      <td>0.0</td>\n",
       "      <td>0.0</td>\n",
       "      <td>0.0</td>\n",
       "      <td>20.0</td>\n",
       "    </tr>\n",
       "    <tr>\n",
       "      <th>2</th>\n",
       "      <td>1001</td>\n",
       "      <td>9</td>\n",
       "      <td>414</td>\n",
       "      <td>44</td>\n",
       "      <td>13333.0</td>\n",
       "      <td>14.0</td>\n",
       "      <td>49</td>\n",
       "      <td>surf</td>\n",
       "      <td>50</td>\n",
       "      <td>15360</td>\n",
       "      <td>...</td>\n",
       "      <td>20</td>\n",
       "      <td>10</td>\n",
       "      <td>0.03</td>\n",
       "      <td>0.03</td>\n",
       "      <td>surf</td>\n",
       "      <td>15</td>\n",
       "      <td>0.0</td>\n",
       "      <td>0.0</td>\n",
       "      <td>0.0</td>\n",
       "      <td>20.0</td>\n",
       "    </tr>\n",
       "    <tr>\n",
       "      <th>3</th>\n",
       "      <td>1001</td>\n",
       "      <td>10</td>\n",
       "      <td>578</td>\n",
       "      <td>53</td>\n",
       "      <td>22356.0</td>\n",
       "      <td>22.0</td>\n",
       "      <td>65</td>\n",
       "      <td>surf</td>\n",
       "      <td>50</td>\n",
       "      <td>15360</td>\n",
       "      <td>...</td>\n",
       "      <td>20</td>\n",
       "      <td>10</td>\n",
       "      <td>0.03</td>\n",
       "      <td>0.03</td>\n",
       "      <td>surf</td>\n",
       "      <td>15</td>\n",
       "      <td>6996.0</td>\n",
       "      <td>7.0</td>\n",
       "      <td>70.0</td>\n",
       "      <td>90.0</td>\n",
       "    </tr>\n",
       "    <tr>\n",
       "      <th>4</th>\n",
       "      <td>1001</td>\n",
       "      <td>11</td>\n",
       "      <td>575</td>\n",
       "      <td>36</td>\n",
       "      <td>18524.0</td>\n",
       "      <td>19.0</td>\n",
       "      <td>64</td>\n",
       "      <td>surf</td>\n",
       "      <td>50</td>\n",
       "      <td>15360</td>\n",
       "      <td>...</td>\n",
       "      <td>20</td>\n",
       "      <td>10</td>\n",
       "      <td>0.03</td>\n",
       "      <td>0.03</td>\n",
       "      <td>surf</td>\n",
       "      <td>15</td>\n",
       "      <td>3164.0</td>\n",
       "      <td>4.0</td>\n",
       "      <td>40.0</td>\n",
       "      <td>60.0</td>\n",
       "    </tr>\n",
       "  </tbody>\n",
       "</table>\n",
       "<p>5 rows × 21 columns</p>\n",
       "</div>"
      ],
      "text/plain": [
       "   user_id  month  minutes_used  messages_sent  mb_used_total  gb_used_total  \\\n",
       "0     1000     12           124             11         1903.0            2.0   \n",
       "1     1001      8           219             30         6929.0            7.0   \n",
       "2     1001      9           414             44        13333.0           14.0   \n",
       "3     1001     10           578             53        22356.0           22.0   \n",
       "4     1001     11           575             36        18524.0           19.0   \n",
       "\n",
       "   calls_made      plan  messages_included  mb_per_month_included  ...  \\\n",
       "0          16  ultimate               1000                  30720  ...   \n",
       "1          27      surf                 50                  15360  ...   \n",
       "2          49      surf                 50                  15360  ...   \n",
       "3          65      surf                 50                  15360  ...   \n",
       "4          64      surf                 50                  15360  ...   \n",
       "\n",
       "   usd_monthly_pay  usd_per_gb  usd_per_message  usd_per_minute  plan_name  \\\n",
       "0               70           7             0.01            0.01   ultimate   \n",
       "1               20          10             0.03            0.03       surf   \n",
       "2               20          10             0.03            0.03       surf   \n",
       "3               20          10             0.03            0.03       surf   \n",
       "4               20          10             0.03            0.03       surf   \n",
       "\n",
       "  gb_per_month_included  mb_exceded  gb_exceded  total_internet  receita  \n",
       "0                    30         0.0         0.0             0.0     70.0  \n",
       "1                    15         0.0         0.0             0.0     20.0  \n",
       "2                    15         0.0         0.0             0.0     20.0  \n",
       "3                    15      6996.0         7.0            70.0     90.0  \n",
       "4                    15      3164.0         4.0            40.0     60.0  \n",
       "\n",
       "[5 rows x 21 columns]"
      ]
     },
     "execution_count": 182,
     "metadata": {},
     "output_type": "execute_result"
    }
   ],
   "source": [
    "monthly_usage['mb_exceded'] = np.maximum(0, monthly_usage['mb_used_total'] - monthly_usage['mb_per_month_included'])\n",
    "monthly_usage['gb_exceded'] = np.ceil(monthly_usage['mb_exceded'] / 1024)\n",
    "monthly_usage['total_internet'] = monthly_usage['gb_exceded'] * monthly_usage['usd_per_gb']\n",
    "monthly_usage['receita'] = monthly_usage['total_internet'] + monthly_usage['usd_monthly_pay']\n",
    "monthly_usage.head()"
   ]
  },
  {
   "cell_type": "code",
   "execution_count": 183,
   "metadata": {},
   "outputs": [
    {
     "data": {
      "application/vnd.microsoft.datawrangler.viewer.v0+json": {
       "columns": [
        {
         "name": "index",
         "rawType": "int64",
         "type": "integer"
        },
        {
         "name": "user_id",
         "rawType": "int64",
         "type": "integer"
        },
        {
         "name": "month",
         "rawType": "int32",
         "type": "integer"
        },
        {
         "name": "minutes_used",
         "rawType": "int64",
         "type": "integer"
        },
        {
         "name": "messages_sent",
         "rawType": "int64",
         "type": "integer"
        },
        {
         "name": "mb_used_total",
         "rawType": "float64",
         "type": "float"
        },
        {
         "name": "gb_used_total",
         "rawType": "float64",
         "type": "float"
        },
        {
         "name": "calls_made",
         "rawType": "int64",
         "type": "integer"
        },
        {
         "name": "plan",
         "rawType": "object",
         "type": "string"
        },
        {
         "name": "messages_included",
         "rawType": "int64",
         "type": "integer"
        },
        {
         "name": "mb_per_month_included",
         "rawType": "int64",
         "type": "integer"
        },
        {
         "name": "minutes_included",
         "rawType": "int64",
         "type": "integer"
        },
        {
         "name": "usd_monthly_pay",
         "rawType": "int64",
         "type": "integer"
        },
        {
         "name": "usd_per_gb",
         "rawType": "int64",
         "type": "integer"
        },
        {
         "name": "usd_per_message",
         "rawType": "float64",
         "type": "float"
        },
        {
         "name": "usd_per_minute",
         "rawType": "float64",
         "type": "float"
        },
        {
         "name": "plan_name",
         "rawType": "object",
         "type": "string"
        },
        {
         "name": "gb_per_month_included",
         "rawType": "int64",
         "type": "integer"
        },
        {
         "name": "mb_exceded",
         "rawType": "float64",
         "type": "float"
        },
        {
         "name": "gb_exceded",
         "rawType": "float64",
         "type": "float"
        },
        {
         "name": "total_internet",
         "rawType": "float64",
         "type": "float"
        },
        {
         "name": "receita",
         "rawType": "float64",
         "type": "float"
        },
        {
         "name": "qtd_messages",
         "rawType": "int64",
         "type": "integer"
        },
        {
         "name": "messages_total",
         "rawType": "float64",
         "type": "float"
        }
       ],
       "ref": "fa9e0747-90c6-47f5-9d5a-2d9d083b255a",
       "rows": [
        [
         "0",
         "1000",
         "12",
         "124",
         "11",
         "1903.0",
         "2.0",
         "16",
         "ultimate",
         "1000",
         "30720",
         "3000",
         "70",
         "7",
         "0.01",
         "0.01",
         "ultimate",
         "30",
         "0.0",
         "0.0",
         "0.0",
         "70.0",
         "989",
         "9.89"
        ],
        [
         "1",
         "1001",
         "8",
         "219",
         "30",
         "6929.0",
         "7.0",
         "27",
         "surf",
         "50",
         "15360",
         "500",
         "20",
         "10",
         "0.03",
         "0.03",
         "surf",
         "15",
         "0.0",
         "0.0",
         "0.0",
         "20.0",
         "20",
         "0.6"
        ],
        [
         "2",
         "1001",
         "9",
         "414",
         "44",
         "13333.0",
         "14.0",
         "49",
         "surf",
         "50",
         "15360",
         "500",
         "20",
         "10",
         "0.03",
         "0.03",
         "surf",
         "15",
         "0.0",
         "0.0",
         "0.0",
         "20.0",
         "6",
         "0.18"
        ],
        [
         "3",
         "1001",
         "10",
         "578",
         "53",
         "22356.0",
         "22.0",
         "65",
         "surf",
         "50",
         "15360",
         "500",
         "20",
         "10",
         "0.03",
         "0.03",
         "surf",
         "15",
         "6996.0",
         "7.0",
         "70.0",
         "90.0",
         "0",
         "0.0"
        ],
        [
         "4",
         "1001",
         "11",
         "575",
         "36",
         "18524.0",
         "19.0",
         "64",
         "surf",
         "50",
         "15360",
         "500",
         "20",
         "10",
         "0.03",
         "0.03",
         "surf",
         "15",
         "3164.0",
         "4.0",
         "40.0",
         "60.0",
         "14",
         "0.42"
        ]
       ],
       "shape": {
        "columns": 23,
        "rows": 5
       }
      },
      "text/html": [
       "<div>\n",
       "<style scoped>\n",
       "    .dataframe tbody tr th:only-of-type {\n",
       "        vertical-align: middle;\n",
       "    }\n",
       "\n",
       "    .dataframe tbody tr th {\n",
       "        vertical-align: top;\n",
       "    }\n",
       "\n",
       "    .dataframe thead th {\n",
       "        text-align: right;\n",
       "    }\n",
       "</style>\n",
       "<table border=\"1\" class=\"dataframe\">\n",
       "  <thead>\n",
       "    <tr style=\"text-align: right;\">\n",
       "      <th></th>\n",
       "      <th>user_id</th>\n",
       "      <th>month</th>\n",
       "      <th>minutes_used</th>\n",
       "      <th>messages_sent</th>\n",
       "      <th>mb_used_total</th>\n",
       "      <th>gb_used_total</th>\n",
       "      <th>calls_made</th>\n",
       "      <th>plan</th>\n",
       "      <th>messages_included</th>\n",
       "      <th>mb_per_month_included</th>\n",
       "      <th>...</th>\n",
       "      <th>usd_per_message</th>\n",
       "      <th>usd_per_minute</th>\n",
       "      <th>plan_name</th>\n",
       "      <th>gb_per_month_included</th>\n",
       "      <th>mb_exceded</th>\n",
       "      <th>gb_exceded</th>\n",
       "      <th>total_internet</th>\n",
       "      <th>receita</th>\n",
       "      <th>qtd_messages</th>\n",
       "      <th>messages_total</th>\n",
       "    </tr>\n",
       "  </thead>\n",
       "  <tbody>\n",
       "    <tr>\n",
       "      <th>0</th>\n",
       "      <td>1000</td>\n",
       "      <td>12</td>\n",
       "      <td>124</td>\n",
       "      <td>11</td>\n",
       "      <td>1903.0</td>\n",
       "      <td>2.0</td>\n",
       "      <td>16</td>\n",
       "      <td>ultimate</td>\n",
       "      <td>1000</td>\n",
       "      <td>30720</td>\n",
       "      <td>...</td>\n",
       "      <td>0.01</td>\n",
       "      <td>0.01</td>\n",
       "      <td>ultimate</td>\n",
       "      <td>30</td>\n",
       "      <td>0.0</td>\n",
       "      <td>0.0</td>\n",
       "      <td>0.0</td>\n",
       "      <td>70.0</td>\n",
       "      <td>989</td>\n",
       "      <td>9.89</td>\n",
       "    </tr>\n",
       "    <tr>\n",
       "      <th>1</th>\n",
       "      <td>1001</td>\n",
       "      <td>8</td>\n",
       "      <td>219</td>\n",
       "      <td>30</td>\n",
       "      <td>6929.0</td>\n",
       "      <td>7.0</td>\n",
       "      <td>27</td>\n",
       "      <td>surf</td>\n",
       "      <td>50</td>\n",
       "      <td>15360</td>\n",
       "      <td>...</td>\n",
       "      <td>0.03</td>\n",
       "      <td>0.03</td>\n",
       "      <td>surf</td>\n",
       "      <td>15</td>\n",
       "      <td>0.0</td>\n",
       "      <td>0.0</td>\n",
       "      <td>0.0</td>\n",
       "      <td>20.0</td>\n",
       "      <td>20</td>\n",
       "      <td>0.60</td>\n",
       "    </tr>\n",
       "    <tr>\n",
       "      <th>2</th>\n",
       "      <td>1001</td>\n",
       "      <td>9</td>\n",
       "      <td>414</td>\n",
       "      <td>44</td>\n",
       "      <td>13333.0</td>\n",
       "      <td>14.0</td>\n",
       "      <td>49</td>\n",
       "      <td>surf</td>\n",
       "      <td>50</td>\n",
       "      <td>15360</td>\n",
       "      <td>...</td>\n",
       "      <td>0.03</td>\n",
       "      <td>0.03</td>\n",
       "      <td>surf</td>\n",
       "      <td>15</td>\n",
       "      <td>0.0</td>\n",
       "      <td>0.0</td>\n",
       "      <td>0.0</td>\n",
       "      <td>20.0</td>\n",
       "      <td>6</td>\n",
       "      <td>0.18</td>\n",
       "    </tr>\n",
       "    <tr>\n",
       "      <th>3</th>\n",
       "      <td>1001</td>\n",
       "      <td>10</td>\n",
       "      <td>578</td>\n",
       "      <td>53</td>\n",
       "      <td>22356.0</td>\n",
       "      <td>22.0</td>\n",
       "      <td>65</td>\n",
       "      <td>surf</td>\n",
       "      <td>50</td>\n",
       "      <td>15360</td>\n",
       "      <td>...</td>\n",
       "      <td>0.03</td>\n",
       "      <td>0.03</td>\n",
       "      <td>surf</td>\n",
       "      <td>15</td>\n",
       "      <td>6996.0</td>\n",
       "      <td>7.0</td>\n",
       "      <td>70.0</td>\n",
       "      <td>90.0</td>\n",
       "      <td>0</td>\n",
       "      <td>0.00</td>\n",
       "    </tr>\n",
       "    <tr>\n",
       "      <th>4</th>\n",
       "      <td>1001</td>\n",
       "      <td>11</td>\n",
       "      <td>575</td>\n",
       "      <td>36</td>\n",
       "      <td>18524.0</td>\n",
       "      <td>19.0</td>\n",
       "      <td>64</td>\n",
       "      <td>surf</td>\n",
       "      <td>50</td>\n",
       "      <td>15360</td>\n",
       "      <td>...</td>\n",
       "      <td>0.03</td>\n",
       "      <td>0.03</td>\n",
       "      <td>surf</td>\n",
       "      <td>15</td>\n",
       "      <td>3164.0</td>\n",
       "      <td>4.0</td>\n",
       "      <td>40.0</td>\n",
       "      <td>60.0</td>\n",
       "      <td>14</td>\n",
       "      <td>0.42</td>\n",
       "    </tr>\n",
       "  </tbody>\n",
       "</table>\n",
       "<p>5 rows × 23 columns</p>\n",
       "</div>"
      ],
      "text/plain": [
       "   user_id  month  minutes_used  messages_sent  mb_used_total  gb_used_total  \\\n",
       "0     1000     12           124             11         1903.0            2.0   \n",
       "1     1001      8           219             30         6929.0            7.0   \n",
       "2     1001      9           414             44        13333.0           14.0   \n",
       "3     1001     10           578             53        22356.0           22.0   \n",
       "4     1001     11           575             36        18524.0           19.0   \n",
       "\n",
       "   calls_made      plan  messages_included  mb_per_month_included  ...  \\\n",
       "0          16  ultimate               1000                  30720  ...   \n",
       "1          27      surf                 50                  15360  ...   \n",
       "2          49      surf                 50                  15360  ...   \n",
       "3          65      surf                 50                  15360  ...   \n",
       "4          64      surf                 50                  15360  ...   \n",
       "\n",
       "   usd_per_message  usd_per_minute  plan_name  gb_per_month_included  \\\n",
       "0             0.01            0.01   ultimate                     30   \n",
       "1             0.03            0.03       surf                     15   \n",
       "2             0.03            0.03       surf                     15   \n",
       "3             0.03            0.03       surf                     15   \n",
       "4             0.03            0.03       surf                     15   \n",
       "\n",
       "   mb_exceded gb_exceded  total_internet  receita  qtd_messages  \\\n",
       "0         0.0        0.0             0.0     70.0           989   \n",
       "1         0.0        0.0             0.0     20.0            20   \n",
       "2         0.0        0.0             0.0     20.0             6   \n",
       "3      6996.0        7.0            70.0     90.0             0   \n",
       "4      3164.0        4.0            40.0     60.0            14   \n",
       "\n",
       "   messages_total  \n",
       "0            9.89  \n",
       "1            0.60  \n",
       "2            0.18  \n",
       "3            0.00  \n",
       "4            0.42  \n",
       "\n",
       "[5 rows x 23 columns]"
      ]
     },
     "execution_count": 183,
     "metadata": {},
     "output_type": "execute_result"
    }
   ],
   "source": [
    "monthly_usage['qtd_messages'] = np.maximum(0, monthly_usage['messages_included'] - monthly_usage['messages_sent'])\n",
    "monthly_usage['messages_total'] = monthly_usage['qtd_messages'] * monthly_usage['usd_per_message']\n",
    "monthly_usage.head()"
   ]
  },
  {
   "cell_type": "code",
   "execution_count": 184,
   "metadata": {},
   "outputs": [
    {
     "data": {
      "application/vnd.microsoft.datawrangler.viewer.v0+json": {
       "columns": [
        {
         "name": "index",
         "rawType": "int64",
         "type": "integer"
        },
        {
         "name": "user_id",
         "rawType": "int64",
         "type": "integer"
        },
        {
         "name": "month",
         "rawType": "int32",
         "type": "integer"
        },
        {
         "name": "minutes_used",
         "rawType": "int64",
         "type": "integer"
        },
        {
         "name": "messages_sent",
         "rawType": "int64",
         "type": "integer"
        },
        {
         "name": "mb_used_total",
         "rawType": "float64",
         "type": "float"
        },
        {
         "name": "gb_used_total",
         "rawType": "float64",
         "type": "float"
        },
        {
         "name": "calls_made",
         "rawType": "int64",
         "type": "integer"
        },
        {
         "name": "plan",
         "rawType": "object",
         "type": "string"
        },
        {
         "name": "messages_included",
         "rawType": "int64",
         "type": "integer"
        },
        {
         "name": "mb_per_month_included",
         "rawType": "int64",
         "type": "integer"
        },
        {
         "name": "minutes_included",
         "rawType": "int64",
         "type": "integer"
        },
        {
         "name": "usd_monthly_pay",
         "rawType": "int64",
         "type": "integer"
        },
        {
         "name": "usd_per_gb",
         "rawType": "int64",
         "type": "integer"
        },
        {
         "name": "usd_per_message",
         "rawType": "float64",
         "type": "float"
        },
        {
         "name": "usd_per_minute",
         "rawType": "float64",
         "type": "float"
        },
        {
         "name": "plan_name",
         "rawType": "object",
         "type": "string"
        },
        {
         "name": "gb_per_month_included",
         "rawType": "int64",
         "type": "integer"
        },
        {
         "name": "mb_exceded",
         "rawType": "float64",
         "type": "float"
        },
        {
         "name": "gb_exceded",
         "rawType": "float64",
         "type": "float"
        },
        {
         "name": "total_internet",
         "rawType": "float64",
         "type": "float"
        },
        {
         "name": "receita",
         "rawType": "float64",
         "type": "float"
        },
        {
         "name": "qtd_messages",
         "rawType": "int64",
         "type": "integer"
        },
        {
         "name": "messages_total",
         "rawType": "float64",
         "type": "float"
        },
        {
         "name": "d_chamadas",
         "rawType": "int64",
         "type": "integer"
        },
        {
         "name": "chamadas_total",
         "rawType": "float64",
         "type": "float"
        }
       ],
       "ref": "d8346268-551d-4f35-93ef-3ca9cc742077",
       "rows": [
        [
         "0",
         "1000",
         "12",
         "124",
         "11",
         "1903.0",
         "2.0",
         "16",
         "ultimate",
         "1000",
         "30720",
         "3000",
         "70",
         "7",
         "0.01",
         "0.01",
         "ultimate",
         "30",
         "0.0",
         "0.0",
         "0.0",
         "70.0",
         "989",
         "9.89",
         "0",
         "0.0"
        ],
        [
         "1",
         "1001",
         "8",
         "219",
         "30",
         "6929.0",
         "7.0",
         "27",
         "surf",
         "50",
         "15360",
         "500",
         "20",
         "10",
         "0.03",
         "0.03",
         "surf",
         "15",
         "0.0",
         "0.0",
         "0.0",
         "20.0",
         "20",
         "0.6",
         "0",
         "0.0"
        ],
        [
         "2",
         "1001",
         "9",
         "414",
         "44",
         "13333.0",
         "14.0",
         "49",
         "surf",
         "50",
         "15360",
         "500",
         "20",
         "10",
         "0.03",
         "0.03",
         "surf",
         "15",
         "0.0",
         "0.0",
         "0.0",
         "20.0",
         "6",
         "0.18",
         "0",
         "0.0"
        ],
        [
         "3",
         "1001",
         "10",
         "578",
         "53",
         "22356.0",
         "22.0",
         "65",
         "surf",
         "50",
         "15360",
         "500",
         "20",
         "10",
         "0.03",
         "0.03",
         "surf",
         "15",
         "6996.0",
         "7.0",
         "70.0",
         "90.0",
         "0",
         "0.0",
         "78",
         "2.34"
        ],
        [
         "4",
         "1001",
         "11",
         "575",
         "36",
         "18524.0",
         "19.0",
         "64",
         "surf",
         "50",
         "15360",
         "500",
         "20",
         "10",
         "0.03",
         "0.03",
         "surf",
         "15",
         "3164.0",
         "4.0",
         "40.0",
         "60.0",
         "14",
         "0.42",
         "75",
         "2.25"
        ]
       ],
       "shape": {
        "columns": 25,
        "rows": 5
       }
      },
      "text/html": [
       "<div>\n",
       "<style scoped>\n",
       "    .dataframe tbody tr th:only-of-type {\n",
       "        vertical-align: middle;\n",
       "    }\n",
       "\n",
       "    .dataframe tbody tr th {\n",
       "        vertical-align: top;\n",
       "    }\n",
       "\n",
       "    .dataframe thead th {\n",
       "        text-align: right;\n",
       "    }\n",
       "</style>\n",
       "<table border=\"1\" class=\"dataframe\">\n",
       "  <thead>\n",
       "    <tr style=\"text-align: right;\">\n",
       "      <th></th>\n",
       "      <th>user_id</th>\n",
       "      <th>month</th>\n",
       "      <th>minutes_used</th>\n",
       "      <th>messages_sent</th>\n",
       "      <th>mb_used_total</th>\n",
       "      <th>gb_used_total</th>\n",
       "      <th>calls_made</th>\n",
       "      <th>plan</th>\n",
       "      <th>messages_included</th>\n",
       "      <th>mb_per_month_included</th>\n",
       "      <th>...</th>\n",
       "      <th>plan_name</th>\n",
       "      <th>gb_per_month_included</th>\n",
       "      <th>mb_exceded</th>\n",
       "      <th>gb_exceded</th>\n",
       "      <th>total_internet</th>\n",
       "      <th>receita</th>\n",
       "      <th>qtd_messages</th>\n",
       "      <th>messages_total</th>\n",
       "      <th>d_chamadas</th>\n",
       "      <th>chamadas_total</th>\n",
       "    </tr>\n",
       "  </thead>\n",
       "  <tbody>\n",
       "    <tr>\n",
       "      <th>0</th>\n",
       "      <td>1000</td>\n",
       "      <td>12</td>\n",
       "      <td>124</td>\n",
       "      <td>11</td>\n",
       "      <td>1903.0</td>\n",
       "      <td>2.0</td>\n",
       "      <td>16</td>\n",
       "      <td>ultimate</td>\n",
       "      <td>1000</td>\n",
       "      <td>30720</td>\n",
       "      <td>...</td>\n",
       "      <td>ultimate</td>\n",
       "      <td>30</td>\n",
       "      <td>0.0</td>\n",
       "      <td>0.0</td>\n",
       "      <td>0.0</td>\n",
       "      <td>70.0</td>\n",
       "      <td>989</td>\n",
       "      <td>9.89</td>\n",
       "      <td>0</td>\n",
       "      <td>0.00</td>\n",
       "    </tr>\n",
       "    <tr>\n",
       "      <th>1</th>\n",
       "      <td>1001</td>\n",
       "      <td>8</td>\n",
       "      <td>219</td>\n",
       "      <td>30</td>\n",
       "      <td>6929.0</td>\n",
       "      <td>7.0</td>\n",
       "      <td>27</td>\n",
       "      <td>surf</td>\n",
       "      <td>50</td>\n",
       "      <td>15360</td>\n",
       "      <td>...</td>\n",
       "      <td>surf</td>\n",
       "      <td>15</td>\n",
       "      <td>0.0</td>\n",
       "      <td>0.0</td>\n",
       "      <td>0.0</td>\n",
       "      <td>20.0</td>\n",
       "      <td>20</td>\n",
       "      <td>0.60</td>\n",
       "      <td>0</td>\n",
       "      <td>0.00</td>\n",
       "    </tr>\n",
       "    <tr>\n",
       "      <th>2</th>\n",
       "      <td>1001</td>\n",
       "      <td>9</td>\n",
       "      <td>414</td>\n",
       "      <td>44</td>\n",
       "      <td>13333.0</td>\n",
       "      <td>14.0</td>\n",
       "      <td>49</td>\n",
       "      <td>surf</td>\n",
       "      <td>50</td>\n",
       "      <td>15360</td>\n",
       "      <td>...</td>\n",
       "      <td>surf</td>\n",
       "      <td>15</td>\n",
       "      <td>0.0</td>\n",
       "      <td>0.0</td>\n",
       "      <td>0.0</td>\n",
       "      <td>20.0</td>\n",
       "      <td>6</td>\n",
       "      <td>0.18</td>\n",
       "      <td>0</td>\n",
       "      <td>0.00</td>\n",
       "    </tr>\n",
       "    <tr>\n",
       "      <th>3</th>\n",
       "      <td>1001</td>\n",
       "      <td>10</td>\n",
       "      <td>578</td>\n",
       "      <td>53</td>\n",
       "      <td>22356.0</td>\n",
       "      <td>22.0</td>\n",
       "      <td>65</td>\n",
       "      <td>surf</td>\n",
       "      <td>50</td>\n",
       "      <td>15360</td>\n",
       "      <td>...</td>\n",
       "      <td>surf</td>\n",
       "      <td>15</td>\n",
       "      <td>6996.0</td>\n",
       "      <td>7.0</td>\n",
       "      <td>70.0</td>\n",
       "      <td>90.0</td>\n",
       "      <td>0</td>\n",
       "      <td>0.00</td>\n",
       "      <td>78</td>\n",
       "      <td>2.34</td>\n",
       "    </tr>\n",
       "    <tr>\n",
       "      <th>4</th>\n",
       "      <td>1001</td>\n",
       "      <td>11</td>\n",
       "      <td>575</td>\n",
       "      <td>36</td>\n",
       "      <td>18524.0</td>\n",
       "      <td>19.0</td>\n",
       "      <td>64</td>\n",
       "      <td>surf</td>\n",
       "      <td>50</td>\n",
       "      <td>15360</td>\n",
       "      <td>...</td>\n",
       "      <td>surf</td>\n",
       "      <td>15</td>\n",
       "      <td>3164.0</td>\n",
       "      <td>4.0</td>\n",
       "      <td>40.0</td>\n",
       "      <td>60.0</td>\n",
       "      <td>14</td>\n",
       "      <td>0.42</td>\n",
       "      <td>75</td>\n",
       "      <td>2.25</td>\n",
       "    </tr>\n",
       "  </tbody>\n",
       "</table>\n",
       "<p>5 rows × 25 columns</p>\n",
       "</div>"
      ],
      "text/plain": [
       "   user_id  month  minutes_used  messages_sent  mb_used_total  gb_used_total  \\\n",
       "0     1000     12           124             11         1903.0            2.0   \n",
       "1     1001      8           219             30         6929.0            7.0   \n",
       "2     1001      9           414             44        13333.0           14.0   \n",
       "3     1001     10           578             53        22356.0           22.0   \n",
       "4     1001     11           575             36        18524.0           19.0   \n",
       "\n",
       "   calls_made      plan  messages_included  mb_per_month_included  ...  \\\n",
       "0          16  ultimate               1000                  30720  ...   \n",
       "1          27      surf                 50                  15360  ...   \n",
       "2          49      surf                 50                  15360  ...   \n",
       "3          65      surf                 50                  15360  ...   \n",
       "4          64      surf                 50                  15360  ...   \n",
       "\n",
       "   plan_name  gb_per_month_included  mb_exceded  gb_exceded  total_internet  \\\n",
       "0   ultimate                     30         0.0         0.0             0.0   \n",
       "1       surf                     15         0.0         0.0             0.0   \n",
       "2       surf                     15         0.0         0.0             0.0   \n",
       "3       surf                     15      6996.0         7.0            70.0   \n",
       "4       surf                     15      3164.0         4.0            40.0   \n",
       "\n",
       "  receita  qtd_messages  messages_total  d_chamadas  chamadas_total  \n",
       "0    70.0           989            9.89           0            0.00  \n",
       "1    20.0            20            0.60           0            0.00  \n",
       "2    20.0             6            0.18           0            0.00  \n",
       "3    90.0             0            0.00          78            2.34  \n",
       "4    60.0            14            0.42          75            2.25  \n",
       "\n",
       "[5 rows x 25 columns]"
      ]
     },
     "execution_count": 184,
     "metadata": {},
     "output_type": "execute_result"
    }
   ],
   "source": [
    "monthly_usage['d_chamadas'] = np.maximum(0, monthly_usage['minutes_used'] - monthly_usage['minutes_included'])\n",
    "monthly_usage['chamadas_total'] = monthly_usage['d_chamadas'] * monthly_usage['usd_per_minute']\n",
    "monthly_usage.head()"
   ]
  },
  {
   "cell_type": "code",
   "execution_count": 185,
   "metadata": {},
   "outputs": [
    {
     "data": {
      "text/plain": [
       "np.float64(63.00915830789359)"
      ]
     },
     "execution_count": 185,
     "metadata": {},
     "output_type": "execute_result"
    }
   ],
   "source": [
    "monthly_usage['receita'].mean()"
   ]
  },
  {
   "cell_type": "code",
   "execution_count": 186,
   "metadata": {},
   "outputs": [
    {
     "data": {
      "application/vnd.microsoft.datawrangler.viewer.v0+json": {
       "columns": [
        {
         "name": "index",
         "rawType": "int64",
         "type": "integer"
        },
        {
         "name": "plan",
         "rawType": "object",
         "type": "string"
        },
        {
         "name": "month",
         "rawType": "int32",
         "type": "integer"
        },
        {
         "name": "receita",
         "rawType": "float64",
         "type": "float"
        }
       ],
       "ref": "48046cef-617a-4e07-8df0-99094e996d5d",
       "rows": [
        [
         "0",
         "surf",
         "1",
         "40.0"
        ],
        [
         "1",
         "surf",
         "2",
         "300.0"
        ],
        [
         "2",
         "surf",
         "3",
         "1040.0"
        ],
        [
         "3",
         "surf",
         "4",
         "1980.0"
        ],
        [
         "4",
         "surf",
         "5",
         "3530.0"
        ],
        [
         "5",
         "surf",
         "6",
         "4610.0"
        ],
        [
         "6",
         "surf",
         "7",
         "7320.0"
        ],
        [
         "7",
         "surf",
         "8",
         "10080.0"
        ],
        [
         "8",
         "surf",
         "9",
         "10990.0"
        ],
        [
         "9",
         "surf",
         "10",
         "15060.0"
        ],
        [
         "10",
         "surf",
         "11",
         "15890.0"
        ],
        [
         "11",
         "surf",
         "12",
         "21560.0"
        ],
        [
         "12",
         "ultimate",
         "1",
         "280.0"
        ],
        [
         "13",
         "ultimate",
         "2",
         "490.0"
        ],
        [
         "14",
         "ultimate",
         "3",
         "896.0"
        ],
        [
         "15",
         "ultimate",
         "4",
         "1533.0"
        ],
        [
         "16",
         "ultimate",
         "5",
         "2051.0"
        ],
        [
         "17",
         "ultimate",
         "6",
         "3367.0"
        ],
        [
         "18",
         "ultimate",
         "7",
         "4242.0"
        ],
        [
         "19",
         "ultimate",
         "8",
         "5173.0"
        ],
        [
         "20",
         "ultimate",
         "9",
         "6195.0"
        ],
        [
         "21",
         "ultimate",
         "10",
         "7665.0"
        ],
        [
         "22",
         "ultimate",
         "11",
         "9114.0"
        ],
        [
         "23",
         "ultimate",
         "12",
         "11074.0"
        ]
       ],
       "shape": {
        "columns": 3,
        "rows": 24
       }
      },
      "text/html": [
       "<div>\n",
       "<style scoped>\n",
       "    .dataframe tbody tr th:only-of-type {\n",
       "        vertical-align: middle;\n",
       "    }\n",
       "\n",
       "    .dataframe tbody tr th {\n",
       "        vertical-align: top;\n",
       "    }\n",
       "\n",
       "    .dataframe thead th {\n",
       "        text-align: right;\n",
       "    }\n",
       "</style>\n",
       "<table border=\"1\" class=\"dataframe\">\n",
       "  <thead>\n",
       "    <tr style=\"text-align: right;\">\n",
       "      <th></th>\n",
       "      <th>plan</th>\n",
       "      <th>month</th>\n",
       "      <th>receita</th>\n",
       "    </tr>\n",
       "  </thead>\n",
       "  <tbody>\n",
       "    <tr>\n",
       "      <th>0</th>\n",
       "      <td>surf</td>\n",
       "      <td>1</td>\n",
       "      <td>40.0</td>\n",
       "    </tr>\n",
       "    <tr>\n",
       "      <th>1</th>\n",
       "      <td>surf</td>\n",
       "      <td>2</td>\n",
       "      <td>300.0</td>\n",
       "    </tr>\n",
       "    <tr>\n",
       "      <th>2</th>\n",
       "      <td>surf</td>\n",
       "      <td>3</td>\n",
       "      <td>1040.0</td>\n",
       "    </tr>\n",
       "    <tr>\n",
       "      <th>3</th>\n",
       "      <td>surf</td>\n",
       "      <td>4</td>\n",
       "      <td>1980.0</td>\n",
       "    </tr>\n",
       "    <tr>\n",
       "      <th>4</th>\n",
       "      <td>surf</td>\n",
       "      <td>5</td>\n",
       "      <td>3530.0</td>\n",
       "    </tr>\n",
       "    <tr>\n",
       "      <th>5</th>\n",
       "      <td>surf</td>\n",
       "      <td>6</td>\n",
       "      <td>4610.0</td>\n",
       "    </tr>\n",
       "    <tr>\n",
       "      <th>6</th>\n",
       "      <td>surf</td>\n",
       "      <td>7</td>\n",
       "      <td>7320.0</td>\n",
       "    </tr>\n",
       "    <tr>\n",
       "      <th>7</th>\n",
       "      <td>surf</td>\n",
       "      <td>8</td>\n",
       "      <td>10080.0</td>\n",
       "    </tr>\n",
       "    <tr>\n",
       "      <th>8</th>\n",
       "      <td>surf</td>\n",
       "      <td>9</td>\n",
       "      <td>10990.0</td>\n",
       "    </tr>\n",
       "    <tr>\n",
       "      <th>9</th>\n",
       "      <td>surf</td>\n",
       "      <td>10</td>\n",
       "      <td>15060.0</td>\n",
       "    </tr>\n",
       "    <tr>\n",
       "      <th>10</th>\n",
       "      <td>surf</td>\n",
       "      <td>11</td>\n",
       "      <td>15890.0</td>\n",
       "    </tr>\n",
       "    <tr>\n",
       "      <th>11</th>\n",
       "      <td>surf</td>\n",
       "      <td>12</td>\n",
       "      <td>21560.0</td>\n",
       "    </tr>\n",
       "    <tr>\n",
       "      <th>12</th>\n",
       "      <td>ultimate</td>\n",
       "      <td>1</td>\n",
       "      <td>280.0</td>\n",
       "    </tr>\n",
       "    <tr>\n",
       "      <th>13</th>\n",
       "      <td>ultimate</td>\n",
       "      <td>2</td>\n",
       "      <td>490.0</td>\n",
       "    </tr>\n",
       "    <tr>\n",
       "      <th>14</th>\n",
       "      <td>ultimate</td>\n",
       "      <td>3</td>\n",
       "      <td>896.0</td>\n",
       "    </tr>\n",
       "    <tr>\n",
       "      <th>15</th>\n",
       "      <td>ultimate</td>\n",
       "      <td>4</td>\n",
       "      <td>1533.0</td>\n",
       "    </tr>\n",
       "    <tr>\n",
       "      <th>16</th>\n",
       "      <td>ultimate</td>\n",
       "      <td>5</td>\n",
       "      <td>2051.0</td>\n",
       "    </tr>\n",
       "    <tr>\n",
       "      <th>17</th>\n",
       "      <td>ultimate</td>\n",
       "      <td>6</td>\n",
       "      <td>3367.0</td>\n",
       "    </tr>\n",
       "    <tr>\n",
       "      <th>18</th>\n",
       "      <td>ultimate</td>\n",
       "      <td>7</td>\n",
       "      <td>4242.0</td>\n",
       "    </tr>\n",
       "    <tr>\n",
       "      <th>19</th>\n",
       "      <td>ultimate</td>\n",
       "      <td>8</td>\n",
       "      <td>5173.0</td>\n",
       "    </tr>\n",
       "    <tr>\n",
       "      <th>20</th>\n",
       "      <td>ultimate</td>\n",
       "      <td>9</td>\n",
       "      <td>6195.0</td>\n",
       "    </tr>\n",
       "    <tr>\n",
       "      <th>21</th>\n",
       "      <td>ultimate</td>\n",
       "      <td>10</td>\n",
       "      <td>7665.0</td>\n",
       "    </tr>\n",
       "    <tr>\n",
       "      <th>22</th>\n",
       "      <td>ultimate</td>\n",
       "      <td>11</td>\n",
       "      <td>9114.0</td>\n",
       "    </tr>\n",
       "    <tr>\n",
       "      <th>23</th>\n",
       "      <td>ultimate</td>\n",
       "      <td>12</td>\n",
       "      <td>11074.0</td>\n",
       "    </tr>\n",
       "  </tbody>\n",
       "</table>\n",
       "</div>"
      ],
      "text/plain": [
       "        plan  month  receita\n",
       "0       surf      1     40.0\n",
       "1       surf      2    300.0\n",
       "2       surf      3   1040.0\n",
       "3       surf      4   1980.0\n",
       "4       surf      5   3530.0\n",
       "5       surf      6   4610.0\n",
       "6       surf      7   7320.0\n",
       "7       surf      8  10080.0\n",
       "8       surf      9  10990.0\n",
       "9       surf     10  15060.0\n",
       "10      surf     11  15890.0\n",
       "11      surf     12  21560.0\n",
       "12  ultimate      1    280.0\n",
       "13  ultimate      2    490.0\n",
       "14  ultimate      3    896.0\n",
       "15  ultimate      4   1533.0\n",
       "16  ultimate      5   2051.0\n",
       "17  ultimate      6   3367.0\n",
       "18  ultimate      7   4242.0\n",
       "19  ultimate      8   5173.0\n",
       "20  ultimate      9   6195.0\n",
       "21  ultimate     10   7665.0\n",
       "22  ultimate     11   9114.0\n",
       "23  ultimate     12  11074.0"
      ]
     },
     "execution_count": 186,
     "metadata": {},
     "output_type": "execute_result"
    }
   ],
   "source": [
    "receita_plano = monthly_usage.groupby([monthly_usage['plan'], monthly_usage['month']])['receita'].sum().reset_index()\n",
    "receita_plano"
   ]
  },
  {
   "cell_type": "code",
   "execution_count": 187,
   "metadata": {},
   "outputs": [
    {
     "data": {
      "image/png": "[encoded data removed]",
      "text/plain": [
       "<Figure size 1000x600 with 1 Axes>"
      ]
     },
     "metadata": {},
     "output_type": "display_data"
    }
   ],
   "source": [
    "plt.figure(figsize=(10, 6))\n",
    "sns.lineplot(data=receita_plano, x='month', y='receita', hue='plan', marker='o', palette='Set1')\n",
    "plt.title('Receita por Plano e Mês')\n",
    "plt.xlabel('Mês')\n",
    "plt.ylabel('Receita')\n",
    "plt.xticks(range(1, 13), ['Jan', 'Fev', 'Mar', 'Abr', 'Mai', 'Jun', 'Jul', 'Ago', 'Set', 'Out', 'Nov', 'Dez'])\n",
    "plt.grid(True)\n",
    "plt.legend(title='Plano')\n",
    "plt.show()"
   ]
  },
  {
   "cell_type": "markdown",
   "metadata": {
    "id": "6X34EwHpuj8z"
   },
   "source": [
    "[Formule conclusões sobre como a receita difere entre os planos.]\n",
    "*Há diferenças na receita entre os planos.*"
   ]
  },
  {
   "cell_type": "markdown",
   "metadata": {
    "id": "xJ6Mu-KAuj8z"
   },
   "source": [
    "## Teste hipóteses estatísticas"
   ]
  },
  {
   "cell_type": "markdown",
   "metadata": {
    "id": "lop_0j4Duj8z"
   },
   "source": [
    "[Teste a hipótese de que a receita média dos usuários dos planos Ultimate e Surf são diferentes.]"
   ]
  },
  {
   "cell_type": "markdown",
   "metadata": {
    "id": "-X2l1R8Luj80"
   },
   "source": [
    "[Formule as hipóteses nula e alternativa, escolha o teste estatístico, escolha o valor alfa.]"
   ]
  },
  {
   "cell_type": "code",
   "execution_count": 188,
   "metadata": {
    "id": "LyGrPhpUuj80"
   },
   "outputs": [
    {
     "data": {
      "text/plain": [
       "np.False_"
      ]
     },
     "execution_count": 188,
     "metadata": {},
     "output_type": "execute_result"
    }
   ],
   "source": [
    "# Teste as hipóteses\n",
    "receita_plano = monthly_usage.groupby([monthly_usage['plan'], monthly_usage['month']])['receita'].sum().reset_index()\n",
    "receita_surf = monthly_usage[monthly_usage['plan'] == 'surf']['receita']\n",
    "receita_ultimate = monthly_usage[monthly_usage['plan'] == 'ultimate']['receita']\n",
    "receita_surf.var() == receita_ultimate.var()\n"
   ]
  },
  {
   "cell_type": "code",
   "execution_count": 189,
   "metadata": {},
   "outputs": [
    {
     "name": "stdout",
     "output_type": "stream",
     "text": [
      "p-value:  1.077197315189433e-20\n"
     ]
    }
   ],
   "source": [
    "from scipy import stats as st\n",
    "results = st.ttest_ind(receita_surf, receita_ultimate, equal_var=False)\n",
    "print('p-value: ', results.pvalue)"
   ]
  },
  {
   "cell_type": "code",
   "execution_count": 190,
   "metadata": {},
   "outputs": [
    {
     "name": "stdout",
     "output_type": "stream",
     "text": [
      "Rejeitamos a hipótese nula. Há evidências de que a média é diferente\n"
     ]
    }
   ],
   "source": [
    "if results.pvalue <= 0.05:\n",
    "    print(\"Rejeitamos a hipótese nula. Há evidências de que a média é diferente\") \n",
    "else:\n",
    "    print(\"Não rejeitamos a hipótese nula.\")"
   ]
  },
  {
   "cell_type": "markdown",
   "metadata": {
    "id": "Cz6rwE56uj80"
   },
   "source": [
    "[Teste a hipótese de que a receita média dos usuários da área de NY-NJ difere dos usuários das demais regiões.]"
   ]
  },
  {
   "cell_type": "markdown",
   "metadata": {
    "id": "kMHim5__uj80"
   },
   "source": [
    "[Formule as hipóteses nula e alternativa, escolha o teste estatístico, escolha o valor alfa.]"
   ]
  },
  {
   "cell_type": "code",
   "execution_count": 191,
   "metadata": {},
   "outputs": [
    {
     "data": {
      "application/vnd.microsoft.datawrangler.viewer.v0+json": {
       "columns": [
        {
         "name": "index",
         "rawType": "int64",
         "type": "integer"
        },
        {
         "name": "user_id",
         "rawType": "int64",
         "type": "integer"
        },
        {
         "name": "month",
         "rawType": "int32",
         "type": "integer"
        },
        {
         "name": "minutes_used",
         "rawType": "int64",
         "type": "integer"
        },
        {
         "name": "messages_sent",
         "rawType": "int64",
         "type": "integer"
        },
        {
         "name": "mb_used_total",
         "rawType": "float64",
         "type": "float"
        },
        {
         "name": "gb_used_total",
         "rawType": "float64",
         "type": "float"
        },
        {
         "name": "calls_made",
         "rawType": "int64",
         "type": "integer"
        },
        {
         "name": "plan_x",
         "rawType": "object",
         "type": "string"
        },
        {
         "name": "messages_included",
         "rawType": "int64",
         "type": "integer"
        },
        {
         "name": "mb_per_month_included",
         "rawType": "int64",
         "type": "integer"
        },
        {
         "name": "minutes_included",
         "rawType": "int64",
         "type": "integer"
        },
        {
         "name": "usd_monthly_pay",
         "rawType": "int64",
         "type": "integer"
        },
        {
         "name": "usd_per_gb",
         "rawType": "int64",
         "type": "integer"
        },
        {
         "name": "usd_per_message",
         "rawType": "float64",
         "type": "float"
        },
        {
         "name": "usd_per_minute",
         "rawType": "float64",
         "type": "float"
        },
        {
         "name": "plan_name",
         "rawType": "object",
         "type": "string"
        },
        {
         "name": "gb_per_month_included",
         "rawType": "int64",
         "type": "integer"
        },
        {
         "name": "mb_exceded",
         "rawType": "float64",
         "type": "float"
        },
        {
         "name": "gb_exceded",
         "rawType": "float64",
         "type": "float"
        },
        {
         "name": "total_internet",
         "rawType": "float64",
         "type": "float"
        },
        {
         "name": "receita",
         "rawType": "float64",
         "type": "float"
        },
        {
         "name": "qtd_messages",
         "rawType": "int64",
         "type": "integer"
        },
        {
         "name": "messages_total",
         "rawType": "float64",
         "type": "float"
        },
        {
         "name": "d_chamadas",
         "rawType": "int64",
         "type": "integer"
        },
        {
         "name": "chamadas_total",
         "rawType": "float64",
         "type": "float"
        },
        {
         "name": "first_name",
         "rawType": "object",
         "type": "string"
        },
        {
         "name": "last_name",
         "rawType": "object",
         "type": "string"
        },
        {
         "name": "age",
         "rawType": "int64",
         "type": "integer"
        },
        {
         "name": "city",
         "rawType": "object",
         "type": "string"
        },
        {
         "name": "reg_date",
         "rawType": "object",
         "type": "string"
        },
        {
         "name": "plan_y",
         "rawType": "object",
         "type": "string"
        },
        {
         "name": "churn_date",
         "rawType": "object",
         "type": "unknown"
        },
        {
         "name": "reg_year",
         "rawType": "int32",
         "type": "integer"
        }
       ],
       "ref": "04156a1a-591d-4f22-bc54-eafdbeb058e4",
       "rows": [
        [
         "0",
         "1000",
         "12",
         "124",
         "11",
         "1903.0",
         "2.0",
         "16",
         "ultimate",
         "1000",
         "30720",
         "3000",
         "70",
         "7",
         "0.01",
         "0.01",
         "ultimate",
         "30",
         "0.0",
         "0.0",
         "0.0",
         "70.0",
         "989",
         "9.89",
         "0",
         "0.0",
         "Anamaria",
         "Bauer",
         "45",
         "Atlanta-Sandy Springs-Roswell, GA MSA",
         "2018-12-24",
         "ultimate",
         null,
         "2018"
        ],
        [
         "1",
         "1001",
         "8",
         "219",
         "30",
         "6929.0",
         "7.0",
         "27",
         "surf",
         "50",
         "15360",
         "500",
         "20",
         "10",
         "0.03",
         "0.03",
         "surf",
         "15",
         "0.0",
         "0.0",
         "0.0",
         "20.0",
         "20",
         "0.6",
         "0",
         "0.0",
         "Mickey",
         "Wilkerson",
         "28",
         "Seattle-Tacoma-Bellevue, WA MSA",
         "2018-08-13",
         "surf",
         null,
         "2018"
        ],
        [
         "2",
         "1001",
         "9",
         "414",
         "44",
         "13333.0",
         "14.0",
         "49",
         "surf",
         "50",
         "15360",
         "500",
         "20",
         "10",
         "0.03",
         "0.03",
         "surf",
         "15",
         "0.0",
         "0.0",
         "0.0",
         "20.0",
         "6",
         "0.18",
         "0",
         "0.0",
         "Mickey",
         "Wilkerson",
         "28",
         "Seattle-Tacoma-Bellevue, WA MSA",
         "2018-08-13",
         "surf",
         null,
         "2018"
        ],
        [
         "3",
         "1001",
         "10",
         "578",
         "53",
         "22356.0",
         "22.0",
         "65",
         "surf",
         "50",
         "15360",
         "500",
         "20",
         "10",
         "0.03",
         "0.03",
         "surf",
         "15",
         "6996.0",
         "7.0",
         "70.0",
         "90.0",
         "0",
         "0.0",
         "78",
         "2.34",
         "Mickey",
         "Wilkerson",
         "28",
         "Seattle-Tacoma-Bellevue, WA MSA",
         "2018-08-13",
         "surf",
         null,
         "2018"
        ],
        [
         "4",
         "1001",
         "11",
         "575",
         "36",
         "18524.0",
         "19.0",
         "64",
         "surf",
         "50",
         "15360",
         "500",
         "20",
         "10",
         "0.03",
         "0.03",
         "surf",
         "15",
         "3164.0",
         "4.0",
         "40.0",
         "60.0",
         "14",
         "0.42",
         "75",
         "2.25",
         "Mickey",
         "Wilkerson",
         "28",
         "Seattle-Tacoma-Bellevue, WA MSA",
         "2018-08-13",
         "surf",
         null,
         "2018"
        ]
       ],
       "shape": {
        "columns": 33,
        "rows": 5
       }
      },
      "text/html": [
       "<div>\n",
       "<style scoped>\n",
       "    .dataframe tbody tr th:only-of-type {\n",
       "        vertical-align: middle;\n",
       "    }\n",
       "\n",
       "    .dataframe tbody tr th {\n",
       "        vertical-align: top;\n",
       "    }\n",
       "\n",
       "    .dataframe thead th {\n",
       "        text-align: right;\n",
       "    }\n",
       "</style>\n",
       "<table border=\"1\" class=\"dataframe\">\n",
       "  <thead>\n",
       "    <tr style=\"text-align: right;\">\n",
       "      <th></th>\n",
       "      <th>user_id</th>\n",
       "      <th>month</th>\n",
       "      <th>minutes_used</th>\n",
       "      <th>messages_sent</th>\n",
       "      <th>mb_used_total</th>\n",
       "      <th>gb_used_total</th>\n",
       "      <th>calls_made</th>\n",
       "      <th>plan_x</th>\n",
       "      <th>messages_included</th>\n",
       "      <th>mb_per_month_included</th>\n",
       "      <th>...</th>\n",
       "      <th>d_chamadas</th>\n",
       "      <th>chamadas_total</th>\n",
       "      <th>first_name</th>\n",
       "      <th>last_name</th>\n",
       "      <th>age</th>\n",
       "      <th>city</th>\n",
       "      <th>reg_date</th>\n",
       "      <th>plan_y</th>\n",
       "      <th>churn_date</th>\n",
       "      <th>reg_year</th>\n",
       "    </tr>\n",
       "  </thead>\n",
       "  <tbody>\n",
       "    <tr>\n",
       "      <th>0</th>\n",
       "      <td>1000</td>\n",
       "      <td>12</td>\n",
       "      <td>124</td>\n",
       "      <td>11</td>\n",
       "      <td>1903.0</td>\n",
       "      <td>2.0</td>\n",
       "      <td>16</td>\n",
       "      <td>ultimate</td>\n",
       "      <td>1000</td>\n",
       "      <td>30720</td>\n",
       "      <td>...</td>\n",
       "      <td>0</td>\n",
       "      <td>0.00</td>\n",
       "      <td>Anamaria</td>\n",
       "      <td>Bauer</td>\n",
       "      <td>45</td>\n",
       "      <td>Atlanta-Sandy Springs-Roswell, GA MSA</td>\n",
       "      <td>2018-12-24</td>\n",
       "      <td>ultimate</td>\n",
       "      <td>NaN</td>\n",
       "      <td>2018</td>\n",
       "    </tr>\n",
       "    <tr>\n",
       "      <th>1</th>\n",
       "      <td>1001</td>\n",
       "      <td>8</td>\n",
       "      <td>219</td>\n",
       "      <td>30</td>\n",
       "      <td>6929.0</td>\n",
       "      <td>7.0</td>\n",
       "      <td>27</td>\n",
       "      <td>surf</td>\n",
       "      <td>50</td>\n",
       "      <td>15360</td>\n",
       "      <td>...</td>\n",
       "      <td>0</td>\n",
       "      <td>0.00</td>\n",
       "      <td>Mickey</td>\n",
       "      <td>Wilkerson</td>\n",
       "      <td>28</td>\n",
       "      <td>Seattle-Tacoma-Bellevue, WA MSA</td>\n",
       "      <td>2018-08-13</td>\n",
       "      <td>surf</td>\n",
       "      <td>NaN</td>\n",
       "      <td>2018</td>\n",
       "    </tr>\n",
       "    <tr>\n",
       "      <th>2</th>\n",
       "      <td>1001</td>\n",
       "      <td>9</td>\n",
       "      <td>414</td>\n",
       "      <td>44</td>\n",
       "      <td>13333.0</td>\n",
       "      <td>14.0</td>\n",
       "      <td>49</td>\n",
       "      <td>surf</td>\n",
       "      <td>50</td>\n",
       "      <td>15360</td>\n",
       "      <td>...</td>\n",
       "      <td>0</td>\n",
       "      <td>0.00</td>\n",
       "      <td>Mickey</td>\n",
       "      <td>Wilkerson</td>\n",
       "      <td>28</td>\n",
       "      <td>Seattle-Tacoma-Bellevue, WA MSA</td>\n",
       "      <td>2018-08-13</td>\n",
       "      <td>surf</td>\n",
       "      <td>NaN</td>\n",
       "      <td>2018</td>\n",
       "    </tr>\n",
       "    <tr>\n",
       "      <th>3</th>\n",
       "      <td>1001</td>\n",
       "      <td>10</td>\n",
       "      <td>578</td>\n",
       "      <td>53</td>\n",
       "      <td>22356.0</td>\n",
       "      <td>22.0</td>\n",
       "      <td>65</td>\n",
       "      <td>surf</td>\n",
       "      <td>50</td>\n",
       "      <td>15360</td>\n",
       "      <td>...</td>\n",
       "      <td>78</td>\n",
       "      <td>2.34</td>\n",
       "      <td>Mickey</td>\n",
       "      <td>Wilkerson</td>\n",
       "      <td>28</td>\n",
       "      <td>Seattle-Tacoma-Bellevue, WA MSA</td>\n",
       "      <td>2018-08-13</td>\n",
       "      <td>surf</td>\n",
       "      <td>NaN</td>\n",
       "      <td>2018</td>\n",
       "    </tr>\n",
       "    <tr>\n",
       "      <th>4</th>\n",
       "      <td>1001</td>\n",
       "      <td>11</td>\n",
       "      <td>575</td>\n",
       "      <td>36</td>\n",
       "      <td>18524.0</td>\n",
       "      <td>19.0</td>\n",
       "      <td>64</td>\n",
       "      <td>surf</td>\n",
       "      <td>50</td>\n",
       "      <td>15360</td>\n",
       "      <td>...</td>\n",
       "      <td>75</td>\n",
       "      <td>2.25</td>\n",
       "      <td>Mickey</td>\n",
       "      <td>Wilkerson</td>\n",
       "      <td>28</td>\n",
       "      <td>Seattle-Tacoma-Bellevue, WA MSA</td>\n",
       "      <td>2018-08-13</td>\n",
       "      <td>surf</td>\n",
       "      <td>NaN</td>\n",
       "      <td>2018</td>\n",
       "    </tr>\n",
       "  </tbody>\n",
       "</table>\n",
       "<p>5 rows × 33 columns</p>\n",
       "</div>"
      ],
      "text/plain": [
       "   user_id  month  minutes_used  messages_sent  mb_used_total  gb_used_total  \\\n",
       "0     1000     12           124             11         1903.0            2.0   \n",
       "1     1001      8           219             30         6929.0            7.0   \n",
       "2     1001      9           414             44        13333.0           14.0   \n",
       "3     1001     10           578             53        22356.0           22.0   \n",
       "4     1001     11           575             36        18524.0           19.0   \n",
       "\n",
       "   calls_made    plan_x  messages_included  mb_per_month_included  ...  \\\n",
       "0          16  ultimate               1000                  30720  ...   \n",
       "1          27      surf                 50                  15360  ...   \n",
       "2          49      surf                 50                  15360  ...   \n",
       "3          65      surf                 50                  15360  ...   \n",
       "4          64      surf                 50                  15360  ...   \n",
       "\n",
       "   d_chamadas  chamadas_total  first_name  last_name  age  \\\n",
       "0           0            0.00    Anamaria      Bauer   45   \n",
       "1           0            0.00      Mickey  Wilkerson   28   \n",
       "2           0            0.00      Mickey  Wilkerson   28   \n",
       "3          78            2.34      Mickey  Wilkerson   28   \n",
       "4          75            2.25      Mickey  Wilkerson   28   \n",
       "\n",
       "                                    city    reg_date    plan_y  churn_date  \\\n",
       "0  Atlanta-Sandy Springs-Roswell, GA MSA  2018-12-24  ultimate         NaN   \n",
       "1        Seattle-Tacoma-Bellevue, WA MSA  2018-08-13      surf         NaN   \n",
       "2        Seattle-Tacoma-Bellevue, WA MSA  2018-08-13      surf         NaN   \n",
       "3        Seattle-Tacoma-Bellevue, WA MSA  2018-08-13      surf         NaN   \n",
       "4        Seattle-Tacoma-Bellevue, WA MSA  2018-08-13      surf         NaN   \n",
       "\n",
       "   reg_year  \n",
       "0      2018  \n",
       "1      2018  \n",
       "2      2018  \n",
       "3      2018  \n",
       "4      2018  \n",
       "\n",
       "[5 rows x 33 columns]"
      ]
     },
     "execution_count": 191,
     "metadata": {},
     "output_type": "execute_result"
    }
   ],
   "source": [
    "monthly_usage = monthly_usage.merge(users, right_on='user_id', left_on='user_id', how='left')\n",
    "monthly_usage.head()\n"
   ]
  },
  {
   "cell_type": "code",
   "execution_count": 192,
   "metadata": {},
   "outputs": [
    {
     "data": {
      "text/plain": [
       "array(['Atlanta-Sandy Springs-Roswell, GA MSA',\n",
       "       'Seattle-Tacoma-Bellevue, WA MSA',\n",
       "       'Las Vegas-Henderson-Paradise, NV MSA', 'Tulsa, OK MSA',\n",
       "       'Dallas-Fort Worth-Arlington, TX MSA',\n",
       "       'San Francisco-Oakland-Berkeley, CA MSA',\n",
       "       'Grand Rapids-Kentwood, MI MSA',\n",
       "       'Orlando-Kissimmee-Sanford, FL MSA',\n",
       "       'San Jose-Sunnyvale-Santa Clara, CA MSA',\n",
       "       'Cleveland-Elyria, OH MSA',\n",
       "       'Chicago-Naperville-Elgin, IL-IN-WI MSA', 'Knoxville, TN MSA',\n",
       "       'New York-Newark-Jersey City, NY-NJ-PA MSA', 'Pittsburgh, PA MSA',\n",
       "       'Fresno, CA MSA',\n",
       "       'Washington-Arlington-Alexandria, DC-VA-MD-WV MSA',\n",
       "       'Indianapolis-Carmel-Anderson, IN MSA', 'Jacksonville, FL MSA',\n",
       "       'Los Angeles-Long Beach-Anaheim, CA MSA',\n",
       "       'Omaha-Council Bluffs, NE-IA MSA',\n",
       "       'Houston-The Woodlands-Sugar Land, TX MSA',\n",
       "       'Philadelphia-Camden-Wilmington, PA-NJ-DE-MD MSA',\n",
       "       'Tampa-St. Petersburg-Clearwater, FL MSA',\n",
       "       'Birmingham-Hoover, AL MSA', 'Oklahoma City, OK MSA',\n",
       "       'Charlotte-Concord-Gastonia, NC-SC MSA',\n",
       "       'Denver-Aurora-Lakewood, CO MSA',\n",
       "       'Nashville-Davidson–Murfreesboro–Franklin, TN MSA',\n",
       "       'Columbus, OH MSA', 'Albuquerque, NM MSA',\n",
       "       'Boston-Cambridge-Newton, MA-NH MSA',\n",
       "       'Miami-Fort Lauderdale-West Palm Beach, FL MSA',\n",
       "       'San Diego-Chula Vista-Carlsbad, CA MSA',\n",
       "       'Phoenix-Mesa-Chandler, AZ MSA',\n",
       "       'Portland-Vancouver-Hillsboro, OR-WA MSA',\n",
       "       'Cincinnati, OH-KY-IN MSA', 'Columbia, SC MSA',\n",
       "       'San Antonio-New Braunfels, TX MSA', 'Buffalo-Cheektowaga, NY MSA',\n",
       "       'Memphis, TN-MS-AR MSA',\n",
       "       'Riverside-San Bernardino-Ontario, CA MSA',\n",
       "       'Louisville/Jefferson County, KY-IN MSA',\n",
       "       'Albany-Schenectady-Troy, NY MSA', 'Providence-Warwick, RI-MA MSA',\n",
       "       'Salt Lake City, UT MSA', 'Urban Honolulu, HI MSA',\n",
       "       'El Paso, TX MSA', 'New Haven-Milford, CT MSA',\n",
       "       'North Port-Sarasota-Bradenton, FL MSA',\n",
       "       'New Orleans-Metairie, LA MSA',\n",
       "       'Bridgeport-Stamford-Norwalk, CT MSA',\n",
       "       'Virginia Beach-Norfolk-Newport News, VA-NC MSA',\n",
       "       'Baltimore-Columbia-Towson, MD MSA', 'Milwaukee-Waukesha, WI MSA',\n",
       "       'Oxnard-Thousand Oaks-Ventura, CA MSA',\n",
       "       'Sacramento–Roseville–Folsom, CA MSA',\n",
       "       'Austin-Round Rock-Georgetown, TX MSA', 'Richmond, VA MSA',\n",
       "       'St. Louis, MO-IL MSA',\n",
       "       'Minneapolis-St. Paul-Bloomington, MN-WI MSA',\n",
       "       'Dayton-Kettering, OH MSA', 'Bakersfield, CA MSA',\n",
       "       'Detroit-Warren-Dearborn, MI MSA', 'Baton Rouge, LA MSA',\n",
       "       'Kansas City, MO-KS MSA', 'Charleston-North Charleston, SC MSA',\n",
       "       'Rochester, NY MSA', 'Raleigh-Cary, NC MSA',\n",
       "       'Greensboro-High Point, NC MSA', 'Tucson, AZ MSA',\n",
       "       'Colorado Springs, CO MSA', 'Stockton, CA MSA',\n",
       "       'Cape Coral-Fort Myers, FL MSA'], dtype=object)"
      ]
     },
     "execution_count": 192,
     "metadata": {},
     "output_type": "execute_result"
    }
   ],
   "source": [
    "monthly_usage['city'].unique()"
   ]
  },
  {
   "cell_type": "code",
   "execution_count": 193,
   "metadata": {},
   "outputs": [
    {
     "data": {
      "text/plain": [
       "np.False_"
      ]
     },
     "execution_count": 193,
     "metadata": {},
     "output_type": "execute_result"
    }
   ],
   "source": [
    "receita_NY_NJ = monthly_usage[monthly_usage['city'].str.contains('NY-NJ')]['receita']\n",
    "receita_region = monthly_usage[~monthly_usage['city'].str.contains('NY-NJ')]['receita']\n",
    "receita_NY_NJ.var() == receita_region.var()"
   ]
  },
  {
   "cell_type": "code",
   "execution_count": 194,
   "metadata": {},
   "outputs": [
    {
     "name": "stdout",
     "output_type": "stream",
     "text": [
      "p-value:  0.03150389499975021\n"
     ]
    }
   ],
   "source": [
    "results = st.ttest_ind(receita_NY_NJ, receita_region, equal_var=False)\n",
    "print('p-value: ', results.pvalue)"
   ]
  },
  {
   "cell_type": "code",
   "execution_count": 195,
   "metadata": {},
   "outputs": [
    {
     "name": "stdout",
     "output_type": "stream",
     "text": [
      "Rejeitamos a hipótese nula. Há evidências de que a média é diferente\n"
     ]
    }
   ],
   "source": [
    "if results.pvalue <= 0.05:\n",
    "    print(\"Rejeitamos a hipótese nula. Há evidências de que a média é diferente\") \n",
    "else:\n",
    "    print(\"Não rejeitamos a hipótese nula.\")"
   ]
  },
  {
   "cell_type": "markdown",
   "metadata": {
    "id": "M8WycwWFuj81"
   },
   "source": [
    "## Conclusão geral\n",
    "\n",
    "[Liste suas conclusões importantes nesta seção final, certifique-se de que elas cobrem todas as decisões (suposições) importantes que você tomou e que levaram à maneira como você processou e analisou os dados.]\n",
    "*Não há evidências estatisticamente significativas para concluir que a renda média dos usuários na área de NY-NJ difere da dos usuários de outras regiões.*\n",
    "Os usuários do plano Surf utilizada mais das chamadas (talvez por causa das menssagens esgotarem mais rápido). Os usuários do plano Ultimate utiliza mais das menssagens. Essas são diferenças significativas.*"
   ]
  }
 ],
 "metadata": {
  "ExecuteTimeLog": [
   {
    "duration": 828,
    "start_time": "2021-11-16T09:21:11.304Z"
   },
   {
    "duration": 893,
    "start_time": "2021-11-16T09:21:17.728Z"
   },
   {
    "duration": 1150,
    "start_time": "2021-11-16T09:21:29.568Z"
   },
   {
    "duration": 3,
    "start_time": "2021-11-16T09:24:14.495Z"
   },
   {
    "duration": 120,
    "start_time": "2021-11-16T09:24:46.630Z"
   },
   {
    "duration": 3,
    "start_time": "2021-11-16T09:28:27.882Z"
   },
   {
    "duration": 4,
    "start_time": "2021-11-16T09:29:54.281Z"
   },
   {
    "duration": 3,
    "start_time": "2021-11-16T09:30:45.936Z"
   },
   {
    "duration": 4,
    "start_time": "2021-11-16T09:31:06.300Z"
   },
   {
    "duration": 113,
    "start_time": "2021-11-16T09:31:37.208Z"
   },
   {
    "duration": 143,
    "start_time": "2021-11-16T09:31:48.656Z"
   },
   {
    "duration": 98,
    "start_time": "2021-11-16T09:31:55.678Z"
   },
   {
    "duration": 3,
    "start_time": "2021-11-16T09:32:08.535Z"
   },
   {
    "duration": 111,
    "start_time": "2021-11-16T09:32:10.120Z"
   },
   {
    "duration": 3,
    "start_time": "2021-11-16T09:32:15.732Z"
   },
   {
    "duration": 4,
    "start_time": "2021-11-16T09:32:29.423Z"
   },
   {
    "duration": 3,
    "start_time": "2021-11-16T10:03:03.074Z"
   },
   {
    "duration": 3,
    "start_time": "2021-11-16T10:10:01.288Z"
   },
   {
    "duration": 3,
    "start_time": "2021-11-16T10:10:46.923Z"
   },
   {
    "duration": 121,
    "start_time": "2021-11-16T10:37:46.494Z"
   },
   {
    "duration": 125,
    "start_time": "2021-11-16T10:38:20.632Z"
   },
   {
    "duration": 112,
    "start_time": "2021-11-16T10:46:53.001Z"
   },
   {
    "duration": 110,
    "start_time": "2021-11-16T10:48:25.775Z"
   },
   {
    "duration": 3,
    "start_time": "2021-11-16T10:50:18.720Z"
   },
   {
    "duration": 4,
    "start_time": "2021-11-16T10:50:37.649Z"
   },
   {
    "duration": 2,
    "start_time": "2021-11-16T10:50:51.884Z"
   },
   {
    "duration": 3,
    "start_time": "2021-11-16T10:51:56.237Z"
   },
   {
    "duration": 101,
    "start_time": "2021-11-16T10:53:13.791Z"
   },
   {
    "duration": 3,
    "start_time": "2021-11-16T10:55:59.186Z"
   },
   {
    "duration": 3,
    "start_time": "2021-11-16T10:56:10.751Z"
   },
   {
    "duration": 3,
    "start_time": "2021-11-16T10:56:49.038Z"
   },
   {
    "duration": 3,
    "start_time": "2021-11-16T10:56:49.174Z"
   },
   {
    "duration": 4,
    "start_time": "2021-11-16T10:56:49.414Z"
   },
   {
    "duration": 3,
    "start_time": "2021-11-16T10:56:49.680Z"
   },
   {
    "duration": 3,
    "start_time": "2021-11-16T10:56:50.370Z"
   },
   {
    "duration": 114,
    "start_time": "2021-11-16T10:59:34.518Z"
   },
   {
    "duration": 3,
    "start_time": "2021-11-16T11:01:41.201Z"
   },
   {
    "duration": 116,
    "start_time": "2021-11-16T11:01:48.754Z"
   },
   {
    "duration": 3,
    "start_time": "2021-11-16T11:02:16.685Z"
   },
   {
    "duration": 3,
    "start_time": "2021-11-16T11:02:19.479Z"
   },
   {
    "duration": 3,
    "start_time": "2021-11-16T11:02:47.067Z"
   },
   {
    "duration": 3,
    "start_time": "2021-11-16T11:02:49.353Z"
   },
   {
    "duration": 3,
    "start_time": "2021-11-16T11:03:07.835Z"
   },
   {
    "duration": 3,
    "start_time": "2021-11-16T11:03:07.953Z"
   },
   {
    "duration": 112,
    "start_time": "2021-11-16T11:07:52.072Z"
   },
   {
    "duration": 187,
    "start_time": "2021-11-16T11:09:23.468Z"
   },
   {
    "duration": 4,
    "start_time": "2021-11-16T11:10:01.455Z"
   },
   {
    "duration": 3,
    "start_time": "2021-11-16T11:10:05.069Z"
   },
   {
    "duration": 4,
    "start_time": "2021-11-16T11:10:13.376Z"
   },
   {
    "duration": 3,
    "start_time": "2021-11-16T11:10:14.434Z"
   },
   {
    "duration": 3,
    "start_time": "2021-11-16T11:10:22.853Z"
   },
   {
    "duration": 4,
    "start_time": "2021-11-16T11:27:29.279Z"
   },
   {
    "duration": 4,
    "start_time": "2021-11-16T11:29:08.919Z"
   },
   {
    "duration": 118,
    "start_time": "2021-11-16T11:29:46.703Z"
   },
   {
    "duration": 437,
    "start_time": "2021-11-16T11:36:02.181Z"
   },
   {
    "duration": 157,
    "start_time": "2021-11-16T11:36:14.388Z"
   },
   {
    "duration": 207,
    "start_time": "2021-11-16T11:47:15.898Z"
   },
   {
    "duration": 3,
    "start_time": "2021-11-16T11:53:52.092Z"
   },
   {
    "duration": 3,
    "start_time": "2021-11-16T11:53:52.236Z"
   },
   {
    "duration": 3,
    "start_time": "2021-11-16T11:59:12.005Z"
   },
   {
    "duration": 112,
    "start_time": "2021-11-16T12:00:33.446Z"
   },
   {
    "duration": 3,
    "start_time": "2021-11-16T12:02:14.453Z"
   },
   {
    "duration": 3,
    "start_time": "2021-11-16T12:02:39.512Z"
   },
   {
    "duration": 106,
    "start_time": "2021-11-16T12:03:03.460Z"
   },
   {
    "duration": 3,
    "start_time": "2021-11-17T20:37:21.139Z"
   },
   {
    "duration": 3,
    "start_time": "2021-11-17T20:37:22.229Z"
   },
   {
    "duration": 3,
    "start_time": "2021-11-17T20:38:38.806Z"
   },
   {
    "duration": 3,
    "start_time": "2021-11-17T20:38:41.958Z"
   },
   {
    "duration": 3,
    "start_time": "2021-11-17T20:43:46.551Z"
   },
   {
    "duration": 4,
    "start_time": "2021-11-17T20:58:21.835Z"
   },
   {
    "duration": 3,
    "start_time": "2021-11-17T20:59:21.872Z"
   },
   {
    "duration": 4,
    "start_time": "2021-11-17T20:59:45.352Z"
   },
   {
    "duration": 4,
    "start_time": "2021-11-17T20:59:49.646Z"
   },
   {
    "duration": 159,
    "start_time": "2021-11-17T21:02:26.949Z"
   },
   {
    "duration": 3,
    "start_time": "2021-11-17T21:03:53.461Z"
   },
   {
    "duration": 3,
    "start_time": "2021-11-17T21:03:53.694Z"
   },
   {
    "duration": 3,
    "start_time": "2021-11-17T21:05:28.145Z"
   },
   {
    "duration": 116,
    "start_time": "2021-11-17T21:05:57.787Z"
   },
   {
    "duration": 3,
    "start_time": "2021-11-17T21:06:37.993Z"
   },
   {
    "duration": 3,
    "start_time": "2021-11-17T21:06:38.261Z"
   },
   {
    "duration": 3,
    "start_time": "2021-11-17T21:11:54.358Z"
   },
   {
    "duration": 3,
    "start_time": "2021-11-17T21:12:43.846Z"
   },
   {
    "duration": 4,
    "start_time": "2021-11-17T21:13:08.773Z"
   },
   {
    "duration": 3,
    "start_time": "2021-11-17T21:14:44.441Z"
   },
   {
    "duration": 3,
    "start_time": "2021-11-17T21:15:42.059Z"
   },
   {
    "duration": 4,
    "start_time": "2021-11-17T21:15:51.995Z"
   },
   {
    "duration": 3,
    "start_time": "2021-11-17T21:15:53.923Z"
   },
   {
    "duration": 3,
    "start_time": "2021-11-17T21:15:55.282Z"
   },
   {
    "duration": 3,
    "start_time": "2021-11-17T21:16:28.492Z"
   },
   {
    "duration": 3,
    "start_time": "2021-11-17T21:16:32.603Z"
   },
   {
    "duration": 3,
    "start_time": "2021-11-17T21:17:06.941Z"
   },
   {
    "duration": 98,
    "start_time": "2021-11-17T21:18:05.733Z"
   },
   {
    "duration": 4,
    "start_time": "2021-11-17T21:21:35.255Z"
   },
   {
    "duration": 3,
    "start_time": "2021-11-17T21:21:37.804Z"
   },
   {
    "duration": 4,
    "start_time": "2021-11-17T21:23:06.071Z"
   },
   {
    "duration": 3,
    "start_time": "2021-11-17T21:23:24.799Z"
   },
   {
    "duration": 3,
    "start_time": "2021-11-17T21:23:32.591Z"
   },
   {
    "duration": 98,
    "start_time": "2021-11-17T21:28:31.559Z"
   },
   {
    "duration": 3,
    "start_time": "2021-11-17T21:28:45.448Z"
   },
   {
    "duration": 3,
    "start_time": "2021-11-17T21:29:17.303Z"
   },
   {
    "duration": 3,
    "start_time": "2021-11-17T21:29:29.617Z"
   },
   {
    "duration": 3,
    "start_time": "2021-11-17T21:29:32.681Z"
   },
   {
    "duration": 3,
    "start_time": "2021-11-17T21:36:11.474Z"
   },
   {
    "duration": 3,
    "start_time": "2021-11-17T21:36:14.791Z"
   },
   {
    "duration": 3,
    "start_time": "2021-11-17T21:36:53.943Z"
   },
   {
    "duration": 3,
    "start_time": "2021-11-17T21:36:56.165Z"
   },
   {
    "duration": 4,
    "start_time": "2021-11-17T21:37:16.590Z"
   },
   {
    "duration": 3,
    "start_time": "2021-11-17T21:37:22.702Z"
   },
   {
    "duration": 4,
    "start_time": "2021-11-17T21:38:03.479Z"
   },
   {
    "duration": 3,
    "start_time": "2021-11-17T21:38:08.601Z"
   },
   {
    "duration": 3,
    "start_time": "2021-11-17T21:38:12.928Z"
   },
   {
    "duration": 3,
    "start_time": "2021-11-17T21:38:48.896Z"
   },
   {
    "duration": 2,
    "start_time": "2021-11-17T21:38:49.171Z"
   },
   {
    "duration": 4,
    "start_time": "2021-11-17T21:39:57.889Z"
   },
   {
    "duration": 3,
    "start_time": "2021-11-17T21:39:58.057Z"
   },
   {
    "duration": 3,
    "start_time": "2021-11-17T21:41:20.108Z"
   },
   {
    "duration": 3,
    "start_time": "2021-11-17T21:41:20.629Z"
   },
   {
    "duration": 3,
    "start_time": "2021-11-17T21:42:49.136Z"
   },
   {
    "duration": 3,
    "start_time": "2021-11-17T21:43:15.137Z"
   },
   {
    "duration": 4,
    "start_time": "2021-11-17T21:43:16.766Z"
   },
   {
    "duration": 4,
    "start_time": "2021-11-17T21:43:31.711Z"
   },
   {
    "duration": 3,
    "start_time": "2021-11-17T21:43:36.312Z"
   },
   {
    "duration": 4,
    "start_time": "2021-11-17T21:45:08.825Z"
   },
   {
    "duration": 4,
    "start_time": "2021-11-17T21:45:10.119Z"
   },
   {
    "duration": 4,
    "start_time": "2021-11-17T21:45:13.748Z"
   },
   {
    "duration": 3,
    "start_time": "2021-11-17T21:45:22.219Z"
   },
   {
    "duration": 3,
    "start_time": "2021-11-17T21:45:33.412Z"
   },
   {
    "duration": 2,
    "start_time": "2021-11-17T21:46:01.885Z"
   },
   {
    "duration": 3,
    "start_time": "2021-11-17T21:46:03.628Z"
   },
   {
    "duration": 107,
    "start_time": "2021-11-17T21:47:32.512Z"
   },
   {
    "duration": 103,
    "start_time": "2021-11-17T21:50:36.243Z"
   },
   {
    "duration": 3,
    "start_time": "2021-11-18T06:28:31.440Z"
   },
   {
    "duration": 3,
    "start_time": "2021-11-18T06:29:00.168Z"
   },
   {
    "duration": 3,
    "start_time": "2021-11-18T06:31:27.008Z"
   },
   {
    "duration": 2,
    "start_time": "2021-11-18T06:35:34.288Z"
   },
   {
    "duration": 2,
    "start_time": "2021-11-18T06:38:04.527Z"
   }
  ],
  "colab": {
   "provenance": []
  },
  "kernelspec": {
   "display_name": ".venv",
   "language": "python",
   "name": "python3"
  },
  "language_info": {
   "codemirror_mode": {
    "name": "ipython",
    "version": 3
   },
   "file_extension": ".py",
   "mimetype": "text/x-python",
   "name": "python",
   "nbconvert_exporter": "python",
   "pygments_lexer": "ipython3",
   "version": "3.11.9"
  },
  "toc": {
   "base_numbering": 1,
   "nav_menu": {},
   "number_sections": true,
   "sideBar": true,
   "skip_h1_title": false,
   "title_cell": "Table of Contents",
   "title_sidebar": "Contents",
   "toc_cell": false,
   "toc_position": {},
   "toc_section_display": true,
   "toc_window_display": true
  }
 },
 "nbformat": 4,
 "nbformat_minor": 4
}
