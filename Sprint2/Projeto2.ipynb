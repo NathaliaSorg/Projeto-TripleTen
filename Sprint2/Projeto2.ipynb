{
 "cells": [
  {
   "cell_type": "markdown",
   "metadata": {
    "id": "E0vqbgi9ay0H"
   },
   "source": [
    "# Se liga na música"
   ]
  },
  {
   "cell_type": "markdown",
   "metadata": {
    "id": "fhq_eyov_Zcs"
   },
   "source": [
    "# Conteúdo <a id='back'></a>\n",
    "\n",
    "* [Introdução](#intro)\n",
    "* [Etapa 1. Visão geral dos dados](#data_review)\n",
    "    * [Conclusões](#data_review_conclusions)\n",
    "* [Etapa 2. Pré-processamento de dados](#data_preprocessing)\n",
    "    * [2.1 Estilo do cabeçalho](#header_style)\n",
    "    * [2.2 Valores ausentes](#missing_values)\n",
    "    * [2.3 Duplicados](#duplicates)\n",
    "    * [2.4 Conclusões](#data_preprocessing_conclusions)\n",
    "* [Etapa 3. Teste da hipótese](#hypothesis)\n",
    "    * [3.1 Hipótese 1: atividade dos usuários nas duas cidades](#activity)\n",
    "* [Conclusões](#end)"
   ]
  },
  {
   "cell_type": "markdown",
   "metadata": {
    "id": "VUC88oWjTJw2"
   },
   "source": [
    "## Introdução <a id='intro'></a>\n",
    "O trabalho de um analista é analisar dados para obter percepções valiosas dos dados e tomar decisões fundamentadas neles. Esse processo consiste em várias etapas, como visão geral dos dados, pré-processamento dos dados e testes de hipóteses.\n",
    "\n",
    "Sempre que fazemos uma pesquisa, precisamos formular uma hipótese que depois poderemos testar. Às vezes nós aceitamos essas hipóteses; outras vezes, nós as rejeitamos. Para fazer as escolhas certas, um negócio deve ser capaz de entender se está fazendo as suposições certas ou não.\n",
    "\n",
    "Neste projeto, você vai comparar as preferências musicais dos habitantes de Springfild e Shelbyville. Você vai estudar os dados de um serviço de streaming de música online para testar a hipótese apresentada abaixo e comparar o comportamento dos usuários dessas duas cidades.\n",
    "\n",
    "### Objetivo:\n",
    "Teste a hipótese:\n",
    "1. A atividade dos usuários é diferente dependendo do dia da semana e da cidade.\n",
    "\n",
    "\n",
    "### Etapas\n",
    "Os dados sobre o comportamento do usuário são armazenados no arquivo `/datasets/music_project_en.csv`. Não há informações sobre a qualidade dos dados, então será necessário examiná-los antes de testar a hipótese.\n",
    "\n",
    "Primeiro, você avaliará a qualidade dos dados e verá se seus problemas são significativos. Depois, durante o pré-processamento dos dados, você tentará tratar dos problemas mais críticos.\n",
    "\n",
    "O seu projeto consistirá em três etapas:\n",
    " 1. Visão geral dos dados\n",
    " 2. Pré-processamento de dados\n",
    " 3. Teste da hipótese\n",
    "\n",
    "\n",
    "\n",
    "\n",
    "\n",
    "\n"
   ]
  },
  {
   "cell_type": "markdown",
   "metadata": {
    "id": "hDt6pg-Rw-1U"
   },
   "source": [
    "[Voltar ao Índice](#back)"
   ]
  },
  {
   "cell_type": "markdown",
   "metadata": {
    "id": "Ml1hmfXC_Zcs"
   },
   "source": [
    "## Etapa 1. Visão geral dos dados <a id='data_review'></a>\n",
    "\n",
    "Abra os dados e examine-os."
   ]
  },
  {
   "cell_type": "markdown",
   "metadata": {
    "id": "57eAOGIz_Zcs"
   },
   "source": [
    "Você precisará da `pandas`, então, importe-a."
   ]
  },
  {
   "cell_type": "code",
   "execution_count": 1,
   "metadata": {
    "id": "AXN7PHPN_Zcs",
    "trusted": false
   },
   "outputs": [],
   "source": [
    "import pandas as pd\n"
   ]
  },
  {
   "cell_type": "markdown",
   "metadata": {
    "id": "SG23P8tt_Zcs"
   },
   "source": [
    "Leia o arquivo `music_project_en.csv` da pasta `/datasets/` e salve-o na variável `df`:"
   ]
  },
  {
   "cell_type": "code",
   "execution_count": 2,
   "metadata": {
    "id": "fFVu7vqh_Zct",
    "trusted": false
   },
   "outputs": [
    {
     "ename": "FileNotFoundError",
     "evalue": "[Errno 2] No such file or directory: '/datasets/music_project_en.csv'",
     "output_type": "error",
     "traceback": [
      "\u001b[31m---------------------------------------------------------------------------\u001b[39m",
      "\u001b[31mFileNotFoundError\u001b[39m                         Traceback (most recent call last)",
      "\u001b[36mCell\u001b[39m\u001b[36m \u001b[39m\u001b[32mIn[2]\u001b[39m\u001b[32m, line 1\u001b[39m\n\u001b[32m----> \u001b[39m\u001b[32m1\u001b[39m df = \u001b[43mpd\u001b[49m\u001b[43m.\u001b[49m\u001b[43mread_csv\u001b[49m\u001b[43m(\u001b[49m\u001b[33;43m'\u001b[39;49m\u001b[33;43m/datasets/music_project_en.csv\u001b[39;49m\u001b[33;43m'\u001b[39;49m\u001b[43m)\u001b[49m\n",
      "\u001b[36mFile \u001b[39m\u001b[32mc:\\Users\\Usuário\\Documents\\Projetos TripleTen\\.venv\\Lib\\site-packages\\pandas\\io\\parsers\\readers.py:1026\u001b[39m, in \u001b[36mread_csv\u001b[39m\u001b[34m(filepath_or_buffer, sep, delimiter, header, names, index_col, usecols, dtype, engine, converters, true_values, false_values, skipinitialspace, skiprows, skipfooter, nrows, na_values, keep_default_na, na_filter, verbose, skip_blank_lines, parse_dates, infer_datetime_format, keep_date_col, date_parser, date_format, dayfirst, cache_dates, iterator, chunksize, compression, thousands, decimal, lineterminator, quotechar, quoting, doublequote, escapechar, comment, encoding, encoding_errors, dialect, on_bad_lines, delim_whitespace, low_memory, memory_map, float_precision, storage_options, dtype_backend)\u001b[39m\n\u001b[32m   1013\u001b[39m kwds_defaults = _refine_defaults_read(\n\u001b[32m   1014\u001b[39m     dialect,\n\u001b[32m   1015\u001b[39m     delimiter,\n\u001b[32m   (...)\u001b[39m\u001b[32m   1022\u001b[39m     dtype_backend=dtype_backend,\n\u001b[32m   1023\u001b[39m )\n\u001b[32m   1024\u001b[39m kwds.update(kwds_defaults)\n\u001b[32m-> \u001b[39m\u001b[32m1026\u001b[39m \u001b[38;5;28;01mreturn\u001b[39;00m \u001b[43m_read\u001b[49m\u001b[43m(\u001b[49m\u001b[43mfilepath_or_buffer\u001b[49m\u001b[43m,\u001b[49m\u001b[43m \u001b[49m\u001b[43mkwds\u001b[49m\u001b[43m)\u001b[49m\n",
      "\u001b[36mFile \u001b[39m\u001b[32mc:\\Users\\Usuário\\Documents\\Projetos TripleTen\\.venv\\Lib\\site-packages\\pandas\\io\\parsers\\readers.py:620\u001b[39m, in \u001b[36m_read\u001b[39m\u001b[34m(filepath_or_buffer, kwds)\u001b[39m\n\u001b[32m    617\u001b[39m _validate_names(kwds.get(\u001b[33m\"\u001b[39m\u001b[33mnames\u001b[39m\u001b[33m\"\u001b[39m, \u001b[38;5;28;01mNone\u001b[39;00m))\n\u001b[32m    619\u001b[39m \u001b[38;5;66;03m# Create the parser.\u001b[39;00m\n\u001b[32m--> \u001b[39m\u001b[32m620\u001b[39m parser = \u001b[43mTextFileReader\u001b[49m\u001b[43m(\u001b[49m\u001b[43mfilepath_or_buffer\u001b[49m\u001b[43m,\u001b[49m\u001b[43m \u001b[49m\u001b[43m*\u001b[49m\u001b[43m*\u001b[49m\u001b[43mkwds\u001b[49m\u001b[43m)\u001b[49m\n\u001b[32m    622\u001b[39m \u001b[38;5;28;01mif\u001b[39;00m chunksize \u001b[38;5;129;01mor\u001b[39;00m iterator:\n\u001b[32m    623\u001b[39m     \u001b[38;5;28;01mreturn\u001b[39;00m parser\n",
      "\u001b[36mFile \u001b[39m\u001b[32mc:\\Users\\Usuário\\Documents\\Projetos TripleTen\\.venv\\Lib\\site-packages\\pandas\\io\\parsers\\readers.py:1620\u001b[39m, in \u001b[36mTextFileReader.__init__\u001b[39m\u001b[34m(self, f, engine, **kwds)\u001b[39m\n\u001b[32m   1617\u001b[39m     \u001b[38;5;28mself\u001b[39m.options[\u001b[33m\"\u001b[39m\u001b[33mhas_index_names\u001b[39m\u001b[33m\"\u001b[39m] = kwds[\u001b[33m\"\u001b[39m\u001b[33mhas_index_names\u001b[39m\u001b[33m\"\u001b[39m]\n\u001b[32m   1619\u001b[39m \u001b[38;5;28mself\u001b[39m.handles: IOHandles | \u001b[38;5;28;01mNone\u001b[39;00m = \u001b[38;5;28;01mNone\u001b[39;00m\n\u001b[32m-> \u001b[39m\u001b[32m1620\u001b[39m \u001b[38;5;28mself\u001b[39m._engine = \u001b[38;5;28;43mself\u001b[39;49m\u001b[43m.\u001b[49m\u001b[43m_make_engine\u001b[49m\u001b[43m(\u001b[49m\u001b[43mf\u001b[49m\u001b[43m,\u001b[49m\u001b[43m \u001b[49m\u001b[38;5;28;43mself\u001b[39;49m\u001b[43m.\u001b[49m\u001b[43mengine\u001b[49m\u001b[43m)\u001b[49m\n",
      "\u001b[36mFile \u001b[39m\u001b[32mc:\\Users\\Usuário\\Documents\\Projetos TripleTen\\.venv\\Lib\\site-packages\\pandas\\io\\parsers\\readers.py:1880\u001b[39m, in \u001b[36mTextFileReader._make_engine\u001b[39m\u001b[34m(self, f, engine)\u001b[39m\n\u001b[32m   1878\u001b[39m     \u001b[38;5;28;01mif\u001b[39;00m \u001b[33m\"\u001b[39m\u001b[33mb\u001b[39m\u001b[33m\"\u001b[39m \u001b[38;5;129;01mnot\u001b[39;00m \u001b[38;5;129;01min\u001b[39;00m mode:\n\u001b[32m   1879\u001b[39m         mode += \u001b[33m\"\u001b[39m\u001b[33mb\u001b[39m\u001b[33m\"\u001b[39m\n\u001b[32m-> \u001b[39m\u001b[32m1880\u001b[39m \u001b[38;5;28mself\u001b[39m.handles = \u001b[43mget_handle\u001b[49m\u001b[43m(\u001b[49m\n\u001b[32m   1881\u001b[39m \u001b[43m    \u001b[49m\u001b[43mf\u001b[49m\u001b[43m,\u001b[49m\n\u001b[32m   1882\u001b[39m \u001b[43m    \u001b[49m\u001b[43mmode\u001b[49m\u001b[43m,\u001b[49m\n\u001b[32m   1883\u001b[39m \u001b[43m    \u001b[49m\u001b[43mencoding\u001b[49m\u001b[43m=\u001b[49m\u001b[38;5;28;43mself\u001b[39;49m\u001b[43m.\u001b[49m\u001b[43moptions\u001b[49m\u001b[43m.\u001b[49m\u001b[43mget\u001b[49m\u001b[43m(\u001b[49m\u001b[33;43m\"\u001b[39;49m\u001b[33;43mencoding\u001b[39;49m\u001b[33;43m\"\u001b[39;49m\u001b[43m,\u001b[49m\u001b[43m \u001b[49m\u001b[38;5;28;43;01mNone\u001b[39;49;00m\u001b[43m)\u001b[49m\u001b[43m,\u001b[49m\n\u001b[32m   1884\u001b[39m \u001b[43m    \u001b[49m\u001b[43mcompression\u001b[49m\u001b[43m=\u001b[49m\u001b[38;5;28;43mself\u001b[39;49m\u001b[43m.\u001b[49m\u001b[43moptions\u001b[49m\u001b[43m.\u001b[49m\u001b[43mget\u001b[49m\u001b[43m(\u001b[49m\u001b[33;43m\"\u001b[39;49m\u001b[33;43mcompression\u001b[39;49m\u001b[33;43m\"\u001b[39;49m\u001b[43m,\u001b[49m\u001b[43m \u001b[49m\u001b[38;5;28;43;01mNone\u001b[39;49;00m\u001b[43m)\u001b[49m\u001b[43m,\u001b[49m\n\u001b[32m   1885\u001b[39m \u001b[43m    \u001b[49m\u001b[43mmemory_map\u001b[49m\u001b[43m=\u001b[49m\u001b[38;5;28;43mself\u001b[39;49m\u001b[43m.\u001b[49m\u001b[43moptions\u001b[49m\u001b[43m.\u001b[49m\u001b[43mget\u001b[49m\u001b[43m(\u001b[49m\u001b[33;43m\"\u001b[39;49m\u001b[33;43mmemory_map\u001b[39;49m\u001b[33;43m\"\u001b[39;49m\u001b[43m,\u001b[49m\u001b[43m \u001b[49m\u001b[38;5;28;43;01mFalse\u001b[39;49;00m\u001b[43m)\u001b[49m\u001b[43m,\u001b[49m\n\u001b[32m   1886\u001b[39m \u001b[43m    \u001b[49m\u001b[43mis_text\u001b[49m\u001b[43m=\u001b[49m\u001b[43mis_text\u001b[49m\u001b[43m,\u001b[49m\n\u001b[32m   1887\u001b[39m \u001b[43m    \u001b[49m\u001b[43merrors\u001b[49m\u001b[43m=\u001b[49m\u001b[38;5;28;43mself\u001b[39;49m\u001b[43m.\u001b[49m\u001b[43moptions\u001b[49m\u001b[43m.\u001b[49m\u001b[43mget\u001b[49m\u001b[43m(\u001b[49m\u001b[33;43m\"\u001b[39;49m\u001b[33;43mencoding_errors\u001b[39;49m\u001b[33;43m\"\u001b[39;49m\u001b[43m,\u001b[49m\u001b[43m \u001b[49m\u001b[33;43m\"\u001b[39;49m\u001b[33;43mstrict\u001b[39;49m\u001b[33;43m\"\u001b[39;49m\u001b[43m)\u001b[49m\u001b[43m,\u001b[49m\n\u001b[32m   1888\u001b[39m \u001b[43m    \u001b[49m\u001b[43mstorage_options\u001b[49m\u001b[43m=\u001b[49m\u001b[38;5;28;43mself\u001b[39;49m\u001b[43m.\u001b[49m\u001b[43moptions\u001b[49m\u001b[43m.\u001b[49m\u001b[43mget\u001b[49m\u001b[43m(\u001b[49m\u001b[33;43m\"\u001b[39;49m\u001b[33;43mstorage_options\u001b[39;49m\u001b[33;43m\"\u001b[39;49m\u001b[43m,\u001b[49m\u001b[43m \u001b[49m\u001b[38;5;28;43;01mNone\u001b[39;49;00m\u001b[43m)\u001b[49m\u001b[43m,\u001b[49m\n\u001b[32m   1889\u001b[39m \u001b[43m\u001b[49m\u001b[43m)\u001b[49m\n\u001b[32m   1890\u001b[39m \u001b[38;5;28;01massert\u001b[39;00m \u001b[38;5;28mself\u001b[39m.handles \u001b[38;5;129;01mis\u001b[39;00m \u001b[38;5;129;01mnot\u001b[39;00m \u001b[38;5;28;01mNone\u001b[39;00m\n\u001b[32m   1891\u001b[39m f = \u001b[38;5;28mself\u001b[39m.handles.handle\n",
      "\u001b[36mFile \u001b[39m\u001b[32mc:\\Users\\Usuário\\Documents\\Projetos TripleTen\\.venv\\Lib\\site-packages\\pandas\\io\\common.py:873\u001b[39m, in \u001b[36mget_handle\u001b[39m\u001b[34m(path_or_buf, mode, encoding, compression, memory_map, is_text, errors, storage_options)\u001b[39m\n\u001b[32m    868\u001b[39m \u001b[38;5;28;01melif\u001b[39;00m \u001b[38;5;28misinstance\u001b[39m(handle, \u001b[38;5;28mstr\u001b[39m):\n\u001b[32m    869\u001b[39m     \u001b[38;5;66;03m# Check whether the filename is to be opened in binary mode.\u001b[39;00m\n\u001b[32m    870\u001b[39m     \u001b[38;5;66;03m# Binary mode does not support 'encoding' and 'newline'.\u001b[39;00m\n\u001b[32m    871\u001b[39m     \u001b[38;5;28;01mif\u001b[39;00m ioargs.encoding \u001b[38;5;129;01mand\u001b[39;00m \u001b[33m\"\u001b[39m\u001b[33mb\u001b[39m\u001b[33m\"\u001b[39m \u001b[38;5;129;01mnot\u001b[39;00m \u001b[38;5;129;01min\u001b[39;00m ioargs.mode:\n\u001b[32m    872\u001b[39m         \u001b[38;5;66;03m# Encoding\u001b[39;00m\n\u001b[32m--> \u001b[39m\u001b[32m873\u001b[39m         handle = \u001b[38;5;28;43mopen\u001b[39;49m\u001b[43m(\u001b[49m\n\u001b[32m    874\u001b[39m \u001b[43m            \u001b[49m\u001b[43mhandle\u001b[49m\u001b[43m,\u001b[49m\n\u001b[32m    875\u001b[39m \u001b[43m            \u001b[49m\u001b[43mioargs\u001b[49m\u001b[43m.\u001b[49m\u001b[43mmode\u001b[49m\u001b[43m,\u001b[49m\n\u001b[32m    876\u001b[39m \u001b[43m            \u001b[49m\u001b[43mencoding\u001b[49m\u001b[43m=\u001b[49m\u001b[43mioargs\u001b[49m\u001b[43m.\u001b[49m\u001b[43mencoding\u001b[49m\u001b[43m,\u001b[49m\n\u001b[32m    877\u001b[39m \u001b[43m            \u001b[49m\u001b[43merrors\u001b[49m\u001b[43m=\u001b[49m\u001b[43merrors\u001b[49m\u001b[43m,\u001b[49m\n\u001b[32m    878\u001b[39m \u001b[43m            \u001b[49m\u001b[43mnewline\u001b[49m\u001b[43m=\u001b[49m\u001b[33;43m\"\u001b[39;49m\u001b[33;43m\"\u001b[39;49m\u001b[43m,\u001b[49m\n\u001b[32m    879\u001b[39m \u001b[43m        \u001b[49m\u001b[43m)\u001b[49m\n\u001b[32m    880\u001b[39m     \u001b[38;5;28;01melse\u001b[39;00m:\n\u001b[32m    881\u001b[39m         \u001b[38;5;66;03m# Binary mode\u001b[39;00m\n\u001b[32m    882\u001b[39m         handle = \u001b[38;5;28mopen\u001b[39m(handle, ioargs.mode)\n",
      "\u001b[31mFileNotFoundError\u001b[39m: [Errno 2] No such file or directory: '/datasets/music_project_en.csv'"
     ]
    }
   ],
   "source": [
    "df = pd.read_csv('/datasets/music_project_en.csv')\n"
   ]
  },
  {
   "cell_type": "markdown",
   "metadata": {
    "id": "rDoOMd3uTqnZ"
   },
   "source": [
    "Imprima as primeiras 10 linhas da tabela:"
   ]
  },
  {
   "cell_type": "code",
   "execution_count": null,
   "metadata": {
    "id": "oWTVX3gW_Zct",
    "trusted": false
   },
   "outputs": [
    {
     "name": "stdout",
     "output_type": "stream",
     "text": [
      "     userID                        Track            artist   genre  \\\n",
      "0  FFB692EC            Kamigata To Boots  The Mass Missile    rock   \n",
      "1  55204538  Delayed Because of Accident  Andreas Rönnberg    rock   \n",
      "2    20EC38            Funiculì funiculà       Mario Lanza     pop   \n",
      "3  A3DD03C9        Dragons in the Sunset        Fire + Ice    folk   \n",
      "4  E2DC1FAE                  Soul People        Space Echo   dance   \n",
      "5  842029A1                       Chains          Obladaet  rusrap   \n",
      "6  4CB90AA5                         True      Roman Messer   dance   \n",
      "7  F03E1C1F             Feeling This Way   Polina Griffith   dance   \n",
      "8  8FA1D3BE                     L’estate       Julia Dalia  ruspop   \n",
      "9  E772D5C0                    Pessimist               NaN   dance   \n",
      "\n",
      "        City        time        Day  \n",
      "0  Shelbyville  20:28:33  Wednesday  \n",
      "1  Springfield  14:07:09     Friday  \n",
      "2  Shelbyville  20:58:07  Wednesday  \n",
      "3  Shelbyville  08:37:09     Monday  \n",
      "4  Springfield  08:34:34     Monday  \n",
      "5  Shelbyville  13:09:41     Friday  \n",
      "6  Springfield  13:00:07  Wednesday  \n",
      "7  Springfield  20:47:49  Wednesday  \n",
      "8  Springfield  09:17:40     Friday  \n",
      "9  Shelbyville  21:20:49  Wednesday  \n"
     ]
    }
   ],
   "source": [
    "print(df.head(10))\n"
   ]
  },
  {
   "cell_type": "markdown",
   "metadata": {
    "id": "EO73Kwic_Zct"
   },
   "source": [
    "Obtenha informações gerais sobre a tabela usando um comando. Você conhece o método para exibir informações gerais que precisamos obter."
   ]
  },
  {
   "cell_type": "code",
   "execution_count": null,
   "metadata": {
    "id": "DSf2kIb-_Zct",
    "scrolled": true,
    "trusted": false
   },
   "outputs": [
    {
     "name": "stdout",
     "output_type": "stream",
     "text": [
      "<class 'pandas.core.frame.DataFrame'>\n",
      "RangeIndex: 65079 entries, 0 to 65078\n",
      "Data columns (total 7 columns):\n",
      " #   Column    Non-Null Count  Dtype \n",
      "---  ------    --------------  ----- \n",
      " 0     userID  65079 non-null  object\n",
      " 1   Track     63736 non-null  object\n",
      " 2   artist    57512 non-null  object\n",
      " 3   genre     63881 non-null  object\n",
      " 4     City    65079 non-null  object\n",
      " 5   time      65079 non-null  object\n",
      " 6   Day       65079 non-null  object\n",
      "dtypes: object(7)\n",
      "memory usage: 3.5+ MB\n"
     ]
    }
   ],
   "source": [
    "df.info()\n"
   ]
  },
  {
   "cell_type": "markdown",
   "metadata": {
    "id": "TaQ2Iwbr_Zct"
   },
   "source": [
    "Aqui estão as nossas observações sobre a tabela. Ela contém sete colunas. Elas armazenam o mesmo tipo de dado: `object`.\n",
    "\n",
    "De acordo com a documentação:\n",
    "- `' userID'` — identificação do usuário\n",
    "- `'Track'` — título da música\n",
    "- `'artist'` — nome do artista\n",
    "- `'genre'` — gênero da música\n",
    "- `'City'` — cidade do usuário\n",
    "- `'time'` — o tempo exato que a música foi reproduzida\n",
    "- `'Day'` — dia da semana\n",
    "\n",
    "Podemos ver três problemas de estilo nos cabeçalhos da tabela:\n",
    "1. Alguns cabeçalhos são escritos em letras maiúsculas, outros estão em minúsculas.\n",
    "2. Alguns cabeçalhos contêm espaços.\n",
    "3. `Detecte o problema e o descreva aqui`.\n",
    "*Userid sem padrão snake_case, presença de valores nulos/falatantes/Nan/Na nas colunas genre, track e artist*\n",
    "\n",
    "\n"
   ]
  },
  {
   "cell_type": "markdown",
   "metadata": {
    "id": "MCB6-dXG_Zct"
   },
   "source": [
    "### Escreva suas observações. Aqui estão algumas perguntas que podem ajudar: <a id='data_review_conclusions'></a>\n",
    "\n",
    "`1.   Que tipo de dados temos nas linhas? E como podemos entender as colunas?`\n",
    "*Identificação do usuário, título de música, nome da música, gênero, cidade dos usuários, tempo da música e dia que música tomou.* *Através da descrição de cada título.*\n",
    "`2.   Esses dados são suficientes para responder à nossa hipótese ou precisamos de mais dados?`\n",
    "*Precisamos de mais dados, quanto mais soubermos a respeito do \"assunto\" ou \"informação\", melhor para a aplicação da estratégias*\n",
    "`3.   Você notou algum problema nos dados, como valores ausentes, duplicados ou tipos de dados errados`\n",
    "*Sim, não apresenta padronização, organização, e falta de dados.*"
   ]
  },
  {
   "cell_type": "markdown",
   "metadata": {
    "id": "3eL__vcwViOi"
   },
   "source": [
    "[Voltar ao Índice](#back)"
   ]
  },
  {
   "cell_type": "markdown",
   "metadata": {
    "id": "SjYF6Ub9_Zct"
   },
   "source": [
    "## Etapa 2. Pré-processamento de dados <a id='data_preprocessing'></a>\n",
    "\n",
    "O objetivo aqui é preparar os dados para a análise.\n",
    "O primeiro passo é resolver todos os problemas com o cabeçalho. E então podemos passar para os valores ausentes e duplicados. Vamos começar.\n",
    "\n",
    "Corrija a formatação nos cabeçalhos da tabela.\n"
   ]
  },
  {
   "cell_type": "markdown",
   "metadata": {
    "id": "dIaKXr29_Zct"
   },
   "source": [
    "### Estilo do cabeçalho <a id='header_style'></a>\n",
    "Imprima os cabeçalhos da tabela (os nomes das colunas):"
   ]
  },
  {
   "cell_type": "code",
   "execution_count": null,
   "metadata": {
    "id": "oKOTdF_Q_Zct",
    "trusted": false
   },
   "outputs": [
    {
     "name": "stdout",
     "output_type": "stream",
     "text": [
      "Index(['  userID', 'Track', 'artist', 'genre', '  City  ', 'time', 'Day'], dtype='object')\n"
     ]
    }
   ],
   "source": [
    "print(df.columns)\n"
   ]
  },
  {
   "cell_type": "markdown",
   "metadata": {
    "id": "zj5534cv_Zct"
   },
   "source": [
    "Mude os cabeçalhos da tabela conforme as boas práticas de estilo:\n",
    "* Todos os caracteres precisam estar com letras minúsculas\n",
    "* Exclua espaços\n",
    "* Se o nome tiver várias palavras, use snake_case"
   ]
  },
  {
   "cell_type": "markdown",
   "metadata": {
    "id": "Xu0zkfe5zNJe"
   },
   "source": [
    "Anteriormente, você aprendeu sobre uma maneira automatizada de renomear colunas. Vamos usá-la agora. Use o ciclo for para percorrer os nomes das colunas e transformar todos os caracteres em letras minúsculas. Após fazer isso, imprima os cabeçalhos da tabela novamente:"
   ]
  },
  {
   "cell_type": "code",
   "execution_count": null,
   "metadata": {
    "id": "6I_RwwMhzM4e",
    "trusted": false
   },
   "outputs": [
    {
     "name": "stdout",
     "output_type": "stream",
     "text": [
      "Index(['  userid', 'track', 'artist', 'genre', '  city  ', 'time', 'day'], dtype='object')\n"
     ]
    }
   ],
   "source": [
    "new_column_names = [col.lower() for col in df.columns]\n",
    "    \n",
    "df.columns = new_column_names\n",
    "    \n",
    "print(df.columns)\n"
   ]
  },
  {
   "cell_type": "markdown",
   "metadata": {
    "id": "pweIRxjSzPYW"
   },
   "source": [
    "Agora, usando a mesma abordagem, exclua os espaços no início e no final de cada nome de coluna e imprima os nomes das colunas novamente:"
   ]
  },
  {
   "cell_type": "code",
   "execution_count": null,
   "metadata": {
    "id": "vVQXbFyJzSYl",
    "trusted": false
   },
   "outputs": [
    {
     "name": "stdout",
     "output_type": "stream",
     "text": [
      "Index(['userid', 'track', 'artist', 'genre', 'city', 'time', 'day'], dtype='object')\n"
     ]
    }
   ],
   "source": [
    "df.columns = df.columns.str.strip()\n",
    "        \n",
    "print(df.columns)\n"
   ]
  },
  {
   "cell_type": "markdown",
   "metadata": {
    "id": "yCb8MW1JzURd"
   },
   "source": [
    "Precisamos aplicar a regra de sublinhado no lugar de espaço à coluna `userid`. Deveria ser `user_id`. Renomeie essa coluna e imprima os nomes de todas as colunas quando terminar."
   ]
  },
  {
   "cell_type": "code",
   "execution_count": null,
   "metadata": {
    "id": "ISlFqs5y_Zct",
    "trusted": false
   },
   "outputs": [
    {
     "name": "stdout",
     "output_type": "stream",
     "text": [
      "Index(['user_id', 'track', 'artist', 'genre', 'city', 'time', 'day'], dtype='object')\n"
     ]
    }
   ],
   "source": [
    "df.rename(columns={'userid': 'user_id'}, inplace=True)\n",
    "    \n",
    "print(df.columns)\n"
   ]
  },
  {
   "cell_type": "markdown",
   "metadata": {
    "id": "1dqbh00J_Zct"
   },
   "source": [
    "Verifique o resultado. Imprima os cabeçalhos novamente:"
   ]
  },
  {
   "cell_type": "code",
   "execution_count": null,
   "metadata": {
    "id": "d4NOAmTW_Zct",
    "trusted": false
   },
   "outputs": [
    {
     "name": "stdout",
     "output_type": "stream",
     "text": [
      "Index(['user_id', 'track', 'artist', 'genre', 'city', 'time', 'day'], dtype='object')\n"
     ]
    }
   ],
   "source": [
    "print(df.columns)\n"
   ]
  },
  {
   "cell_type": "markdown",
   "metadata": {
    "id": "xYJk6ksJVpOl"
   },
   "source": [
    "[Voltar ao Índice](#back)"
   ]
  },
  {
   "cell_type": "markdown",
   "metadata": {
    "id": "5ISfbcfY_Zct"
   },
   "source": [
    "### Valores Ausentes <a id='missing_values'></a>\n",
    " Primeiro, encontre a quantidade de valores ausentes na tabela. Você precisa usar dois métodos em sequência para obter o número de valores ausentes."
   ]
  },
  {
   "cell_type": "code",
   "execution_count": null,
   "metadata": {
    "id": "RskX29qr_Zct",
    "trusted": false
   },
   "outputs": [
    {
     "name": "stdout",
     "output_type": "stream",
     "text": [
      "user_id       0\n",
      "track      1343\n",
      "artist     7567\n",
      "genre      1198\n",
      "city          0\n",
      "time          0\n",
      "day           0\n",
      "dtype: int64\n"
     ]
    }
   ],
   "source": [
    "missing_values_count = df.isnull().sum()\n",
    "    \n",
    "print(missing_values_count)\n"
   ]
  },
  {
   "cell_type": "markdown",
   "metadata": {
    "id": "qubhgnlO_Zct"
   },
   "source": [
    "Nem todos os valores ausentes afetam a pesquisa. Por exemplo, os valores ausentes em `track` e `artist` não são críticos. Você pode simplesmente substituí-los por valores padrão, como a string `'unknown'`.\n",
    "\n",
    "Mas valores ausentes em `'genre'` podem afetar a comparação de preferências musicais de Springfield e Shelbyville. Na vida real, seria útil descobrir as razões pelas quais os dados estão ausentes e tentar corrigi-los. Mas nós não temos essa possibilidade neste projeto. Então, você terá que:\n",
    "* Preencha esses valores ausentes com um valor padrão\n",
    "* Avalie em que medida os valores ausentes podem afetar sua análise"
   ]
  },
  {
   "cell_type": "markdown",
   "metadata": {
    "id": "fSv2laPA_Zct"
   },
   "source": [
    "Substitua os valores ausentes nas colunas `'track'`, `'artist'` e `'genre'` pela string `'unknown'`. Como mostramos nas lições anteriores, a melhor maneira de fazer isso é criar uma lista para armazenar os nomes das colunas nas quais precisamos fazer a substituição. Em seguida, use essa lista e percorra as colunas nas quais a substituição seja necessária e faça a substituição."
   ]
  },
  {
   "cell_type": "code",
   "execution_count": null,
   "metadata": {
    "id": "KplB5qWs_Zct",
    "trusted": false
   },
   "outputs": [
    {
     "name": "stdout",
     "output_type": "stream",
     "text": [
      "user_id    0\n",
      "track      0\n",
      "artist     0\n",
      "genre      0\n",
      "city       0\n",
      "time       0\n",
      "day        0\n",
      "dtype: int64\n"
     ]
    }
   ],
   "source": [
    "cols_to_fill = ['track' , 'artist' , 'genre']\n",
    "    \n",
    "for col in cols_to_fill:\n",
    "    df[col].fillna('unknown', inplace=True)\n",
    "        \n",
    "print(df.isnull().sum())    \n"
   ]
  },
  {
   "cell_type": "markdown",
   "metadata": {
    "id": "Ilsm-MZo_Zct"
   },
   "source": [
    "Agora verifique o resultado para ter certeza de que o conjunto de dados não contenha valores ausentes após a substituição. Para fazer isso, conte os valores ausentes novamente."
   ]
  },
  {
   "cell_type": "code",
   "execution_count": null,
   "metadata": {
    "id": "Tq4nYRX4_Zct",
    "trusted": false
   },
   "outputs": [
    {
     "name": "stdout",
     "output_type": "stream",
     "text": [
      "user_id    0\n",
      "track      0\n",
      "artist     0\n",
      "genre      0\n",
      "city       0\n",
      "time       0\n",
      "day        0\n",
      "dtype: int64\n"
     ]
    }
   ],
   "source": [
    "print(df.isnull().sum())\n"
   ]
  },
  {
   "cell_type": "markdown",
   "metadata": {
    "id": "74ZIBmq9VrsK"
   },
   "source": [
    "[Voltar ao Índice](#back)"
   ]
  },
  {
   "cell_type": "markdown",
   "metadata": {
    "id": "BWKRtBJ3_Zct"
   },
   "source": [
    "### Duplicados <a id='duplicates'></a>\n",
    "Encontre o número de duplicados explícitos na tabela. Lembre-se de que você precisa aplicar dois métodos em sequência para obter o número de duplicados explícitos."
   ]
  },
  {
   "cell_type": "code",
   "execution_count": null,
   "metadata": {
    "id": "36eES_S0_Zct",
    "trusted": false
   },
   "outputs": [
    {
     "name": "stdout",
     "output_type": "stream",
     "text": [
      "O número de duplicados explícitos na tabela é: 3826\n"
     ]
    }
   ],
   "source": [
    "duplicates_count = df.duplicated().sum()\n",
    "    \n",
    "   \n",
    "print(f\"O número de duplicados explícitos na tabela é: {duplicates_count}\")"
   ]
  },
  {
   "cell_type": "markdown",
   "metadata": {
    "id": "Ot25h6XR_Zct"
   },
   "source": [
    "Agora descarte todos os duplicados. Para fazer isso, chame o método que faz exatamente isso."
   ]
  },
  {
   "cell_type": "code",
   "execution_count": null,
   "metadata": {
    "id": "exFHq6tt_Zct",
    "trusted": false
   },
   "outputs": [],
   "source": [
    "df.drop_duplicates(inplace=True)\n",
    "    \n",
    "\n"
   ]
  },
  {
   "cell_type": "markdown",
   "metadata": {
    "id": "Im2YwBEG_Zct"
   },
   "source": [
    "Agora vamos verificar se descartamos todos os duplicados. Conte duplicados explícitos mais uma vez para ter certeza de que você removeu todos eles:"
   ]
  },
  {
   "cell_type": "code",
   "execution_count": null,
   "metadata": {
    "id": "-8PuNWQ0_Zct",
    "trusted": false
   },
   "outputs": [
    {
     "name": "stdout",
     "output_type": "stream",
     "text": [
      "O número de linhas após remover os duplicados é: 61253\n"
     ]
    }
   ],
   "source": [
    "print(f\"O número de linhas após remover os duplicados é: {len(df)}\")\n",
    "\n"
   ]
  },
  {
   "cell_type": "markdown",
   "metadata": {
    "id": "QlFBsxAr_Zct"
   },
   "source": [
    "Agora queremos nos livrar dos duplicados implícitos na coluna `genre`. Por exemplo, o nome de um gênero pode ser escrito de maneiras diferentes. Alguns erros afetarão também o resultado."
   ]
  },
  {
   "cell_type": "markdown",
   "metadata": {
    "id": "eSjWwsOh_Zct"
   },
   "source": [
    "Para fazer isso, vamos começar imprimindo uma lista de nomes de gênero únicos, ordenados em ordem alfabética: Para fazer isso:\n",
    "* Extraia a coluna `genre` do DataFrame\n",
    "* Chame o método que retornará todos os valores únicos na coluna extraída\n"
   ]
  },
  {
   "cell_type": "code",
   "execution_count": null,
   "metadata": {
    "id": "JIUcqzZN_Zct",
    "trusted": false
   },
   "outputs": [
    {
     "name": "stdout",
     "output_type": "stream",
     "text": [
      "['acid', 'acoustic', 'action', 'adult', 'africa', 'afrikaans', 'alternative', 'ambient', 'americana', 'animated', 'anime', 'arabesk', 'arabic', 'arena', 'argentinetango', 'art', 'audiobook', 'avantgarde', 'axé', 'baile', 'balkan', 'beats', 'bigroom', 'black', 'bluegrass', 'blues', 'bollywood', 'bossa', 'brazilian', 'breakbeat', 'breaks', 'broadway', 'cantautori', 'cantopop', 'canzone', 'caribbean', 'caucasian', 'celtic', 'chamber', 'children', 'chill', 'chinese', 'choral', 'christian', 'christmas', 'classical', 'classicmetal', 'club', 'colombian', 'comedy', 'conjazz', 'contemporary', 'country', 'cuban', 'dance', 'dancehall', 'dancepop', 'dark', 'death', 'deep', 'deutschrock', 'deutschspr', 'dirty', 'disco', 'dnb', 'documentary', 'downbeat', 'downtempo', 'drum', 'dub', 'dubstep', 'eastern', 'easy', 'electronic', 'electropop', 'emo', 'entehno', 'epicmetal', 'estrada', 'ethnic', 'eurofolk', 'european', 'experimental', 'extrememetal', 'fado', 'film', 'fitness', 'flamenco', 'folk', 'folklore', 'folkmetal', 'folkrock', 'folktronica', 'forró', 'frankreich', 'französisch', 'french', 'funk', 'future', 'gangsta', 'garage', 'german', 'ghazal', 'gitarre', 'glitch', 'gospel', 'gothic', 'grime', 'grunge', 'gypsy', 'handsup', \"hard'n'heavy\", 'hardcore', 'hardstyle', 'hardtechno', 'hip', 'hip-hop', 'hiphop', 'historisch', 'holiday', 'hop', 'horror', 'house', 'idm', 'independent', 'indian', 'indie', 'indipop', 'industrial', 'inspirational', 'instrumental', 'international', 'irish', 'jam', 'japanese', 'jazz', 'jewish', 'jpop', 'jungle', 'k-pop', 'karadeniz', 'karaoke', 'kayokyoku', 'korean', 'laiko', 'latin', 'latino', 'leftfield', 'local', 'lounge', 'loungeelectronic', 'lovers', 'malaysian', 'mandopop', 'marschmusik', 'meditative', 'mediterranean', 'melodic', 'metal', 'metalcore', 'mexican', 'middle', 'minimal', 'miscellaneous', 'modern', 'mood', 'mpb', 'muslim', 'native', 'neoklassik', 'neue', 'new', 'newage', 'newwave', 'nu', 'nujazz', 'numetal', 'oceania', 'old', 'opera', 'orchestral', 'other', 'piano', 'pop', 'popelectronic', 'popeurodance', 'post', 'posthardcore', 'postrock', 'power', 'progmetal', 'progressive', 'psychedelic', 'punjabi', 'punk', 'quebecois', 'ragga', 'ram', 'rancheras', 'rap', 'rave', 'reggae', 'reggaeton', 'regional', 'relax', 'religious', 'retro', 'rhythm', 'rnb', 'rnr', 'rock', 'rockabilly', 'romance', 'roots', 'ruspop', 'rusrap', 'rusrock', 'salsa', 'samba', 'schlager', 'self', 'sertanejo', 'shoegazing', 'showtunes', 'singer', 'ska', 'slow', 'smooth', 'soul', 'soulful', 'sound', 'soundtrack', 'southern', 'specialty', 'speech', 'spiritual', 'sport', 'stonerrock', 'surf', 'swing', 'synthpop', 'sängerportrait', 'tango', 'tanzorchester', 'taraftar', 'tech', 'techno', 'thrash', 'top', 'traditional', 'tradjazz', 'trance', 'tribal', 'trip', 'triphop', 'tropical', 'türk', 'türkçe', 'unknown', 'urban', 'uzbek', 'variété', 'vi', 'videogame', 'vocal', 'western', 'world', 'worldbeat', 'ïîï']\n"
     ]
    }
   ],
   "source": [
    "genres = df['genre']\n",
    "wrong_genres = genres.unique()\n",
    "correct_genres = sorted(wrong_genres)\n",
    "print(correct_genres)"
   ]
  },
  {
   "cell_type": "markdown",
   "metadata": {
    "id": "qej-Qmuo_Zct"
   },
   "source": [
    "Olhe a lista e encontre duplicados implícitos do gênero `hiphop`. Esses podem ser nomes escritos incorretamente, ou nomes alternativos para o mesmo gênero.\n",
    "\n",
    "Você verá os seguintes duplicados implícitos:\n",
    "* `hip`\n",
    "* `hop`\n",
    "* `hip-hop`\n",
    "\n",
    "Para se livrar deles, crie uma função `replace_wrong_genres()` com dois parâmetros:\n",
    "* `wrong_genres=` — essa é uma lista que contém todos os valores que você precisa substituir\n",
    "* `correct_genre=` — essa é uma string que você vai usar para a substituição\n",
    "\n",
    "Como resultado, a função deve corrigir os nomes na coluna `'genre'` da tabela `df`, isto é, substituindo cada valor da lista `wrong_genres` por valores de `correct_genre`.\n",
    "\n",
    "Dentro do corpo da função, use um ciclo `'for'` para percorrer a lista de gêneros errados, extrair a coluna `'genre'` e aplicar o método `replace` para fazer as correções."
   ]
  },
  {
   "cell_type": "code",
   "execution_count": null,
   "metadata": {
    "id": "ErNDkmns_Zct",
    "trusted": false
   },
   "outputs": [],
   "source": [
    "# função para substituir duplicados implícitos\n",
    "def replace_wrong_genres(wrong_genres, correct_genre):\n",
    "    for wrong_genre in wrong_genres:\n",
    "        df['genre'] = df['genre'].replace(wrong_genre, correct_genre)"
   ]
  },
  {
   "cell_type": "markdown",
   "metadata": {
    "id": "aDoBJxbA_Zct"
   },
   "source": [
    "Agora, chame a função `replace_wrong_genres()` e passe argumentos apropriados para que ela limpe duplicados implícitos (`hip`, `hop` e `hip-hop`) substituindo-os por `hiphop`:"
   ]
  },
  {
   "cell_type": "code",
   "execution_count": null,
   "metadata": {
    "id": "YN5i2hpmSo09",
    "trusted": false
   },
   "outputs": [],
   "source": [
    "# removendo duplicados implícitos\n",
    "wrong_genre = ['hip', 'hop', 'hip-hop']\n",
    "correct_genre = 'hiphop'\n",
    "replace_wrong_genres(wrong_genre, correct_genre)"
   ]
  },
  {
   "cell_type": "markdown",
   "metadata": {
    "id": "zQKF16_RG15m"
   },
   "source": [
    "Certifique-se que os nomes duplicados foram removidos. Imprima a lista de valores únicos da coluna `'genre'` mais uma vez:"
   ]
  },
  {
   "cell_type": "code",
   "execution_count": null,
   "metadata": {
    "id": "wvixALnFG15m",
    "trusted": false
   },
   "outputs": [
    {
     "name": "stdout",
     "output_type": "stream",
     "text": [
      "['acid', 'acoustic', 'action', 'adult', 'africa', 'afrikaans', 'alternative', 'ambient', 'americana', 'animated', 'anime', 'arabesk', 'arabic', 'arena', 'argentinetango', 'art', 'audiobook', 'avantgarde', 'axé', 'baile', 'balkan', 'beats', 'bigroom', 'black', 'bluegrass', 'blues', 'bollywood', 'bossa', 'brazilian', 'breakbeat', 'breaks', 'broadway', 'cantautori', 'cantopop', 'canzone', 'caribbean', 'caucasian', 'celtic', 'chamber', 'children', 'chill', 'chinese', 'choral', 'christian', 'christmas', 'classical', 'classicmetal', 'club', 'colombian', 'comedy', 'conjazz', 'contemporary', 'country', 'cuban', 'dance', 'dancehall', 'dancepop', 'dark', 'death', 'deep', 'deutschrock', 'deutschspr', 'dirty', 'disco', 'dnb', 'documentary', 'downbeat', 'downtempo', 'drum', 'dub', 'dubstep', 'eastern', 'easy', 'electronic', 'electropop', 'emo', 'entehno', 'epicmetal', 'estrada', 'ethnic', 'eurofolk', 'european', 'experimental', 'extrememetal', 'fado', 'film', 'fitness', 'flamenco', 'folk', 'folklore', 'folkmetal', 'folkrock', 'folktronica', 'forró', 'frankreich', 'französisch', 'french', 'funk', 'future', 'gangsta', 'garage', 'german', 'ghazal', 'gitarre', 'glitch', 'gospel', 'gothic', 'grime', 'grunge', 'gypsy', 'handsup', \"hard'n'heavy\", 'hardcore', 'hardstyle', 'hardtechno', 'hiphop', 'historisch', 'holiday', 'horror', 'house', 'idm', 'independent', 'indian', 'indie', 'indipop', 'industrial', 'inspirational', 'instrumental', 'international', 'irish', 'jam', 'japanese', 'jazz', 'jewish', 'jpop', 'jungle', 'k-pop', 'karadeniz', 'karaoke', 'kayokyoku', 'korean', 'laiko', 'latin', 'latino', 'leftfield', 'local', 'lounge', 'loungeelectronic', 'lovers', 'malaysian', 'mandopop', 'marschmusik', 'meditative', 'mediterranean', 'melodic', 'metal', 'metalcore', 'mexican', 'middle', 'minimal', 'miscellaneous', 'modern', 'mood', 'mpb', 'muslim', 'native', 'neoklassik', 'neue', 'new', 'newage', 'newwave', 'nu', 'nujazz', 'numetal', 'oceania', 'old', 'opera', 'orchestral', 'other', 'piano', 'pop', 'popelectronic', 'popeurodance', 'post', 'posthardcore', 'postrock', 'power', 'progmetal', 'progressive', 'psychedelic', 'punjabi', 'punk', 'quebecois', 'ragga', 'ram', 'rancheras', 'rap', 'rave', 'reggae', 'reggaeton', 'regional', 'relax', 'religious', 'retro', 'rhythm', 'rnb', 'rnr', 'rock', 'rockabilly', 'romance', 'roots', 'ruspop', 'rusrap', 'rusrock', 'salsa', 'samba', 'schlager', 'self', 'sertanejo', 'shoegazing', 'showtunes', 'singer', 'ska', 'slow', 'smooth', 'soul', 'soulful', 'sound', 'soundtrack', 'southern', 'specialty', 'speech', 'spiritual', 'sport', 'stonerrock', 'surf', 'swing', 'synthpop', 'sängerportrait', 'tango', 'tanzorchester', 'taraftar', 'tech', 'techno', 'thrash', 'top', 'traditional', 'tradjazz', 'trance', 'tribal', 'trip', 'triphop', 'tropical', 'türk', 'türkçe', 'unknown', 'urban', 'uzbek', 'variété', 'vi', 'videogame', 'vocal', 'western', 'world', 'worldbeat', 'ïîï']\n"
     ]
    }
   ],
   "source": [
    "# verificando valores duplicados\n",
    "print(sorted(df['genre'].unique()))"
   ]
  },
  {
   "cell_type": "markdown",
   "metadata": {
    "id": "ALgNbvF3VtPA"
   },
   "source": [
    "[Voltar ao Índice](#back)"
   ]
  },
  {
   "cell_type": "markdown",
   "metadata": {
    "id": "jz6a9-7HQUDd"
   },
   "source": [
    "### Suas observações <a id='data_preprocessing_conclusions'></a>\n",
    "\n",
    "` Descreva brevemente o que você reparou ao analisar duplicados, bem como a abordagem que usou para eliminá-los e os resultados que alcançou.`\n",
    "*Pouco  gênero como \"hip hop\" ( mostrou um \"hiphop\" junto). Pelo contrário, mostrou outros tipos de gênero de músicas.*"
   ]
  },
  {
   "cell_type": "markdown",
   "metadata": {
    "id": "eK1es74rVujj"
   },
   "source": [
    "[Voltar ao Índice](#back)"
   ]
  },
  {
   "cell_type": "markdown",
   "metadata": {
    "id": "WttZHXH0SqKk"
   },
   "source": [
    "## Etapa 3. Teste da hipótese <a id='hypothesis'></a>"
   ]
  },
  {
   "cell_type": "markdown",
   "metadata": {
    "id": "Im936VVi_Zcu"
   },
   "source": [
    "### Hipótese: comparação do comportamento dos usuários nas duas cidades <a id='activity'></a>"
   ]
  },
  {
   "cell_type": "markdown",
   "metadata": {
    "id": "nwt_MuaL_Zcu"
   },
   "source": [
    "A hipótese afirma que existem diferenças no consumo de música pelos usuários em Springfield e em Shelbyville. Para testar a hipótese, use os dados dos três dias da semana: segunda-feira (Monday), quarta-feira (Wednesday) e sexta-feira (Friday).\n",
    "\n",
    "* Agrupe os usuários por cidade.\n",
    "* Compare o número de músicas tocadas por cada grupo na segunda, quarta e sexta.\n"
   ]
  },
  {
   "cell_type": "markdown",
   "metadata": {
    "id": "8Dw_YMmT_Zcu"
   },
   "source": [
    "Execute cada cálculo separadamente.\n",
    "\n",
    "O primeiro passo é avaliar a atividade dos usuários em cada cidade. Não se esqueça das etapas \"divisão-aplicação-combinação\" sobre as quais falamos anteriormente na lição. Agora seu objetivo é agrupar os dados por cidade, aplicar o método de contagem apropriado durante a etapa de aplicação e então encontrar o número de músicas tocadas por cada grupo, especificando a coluna para a qual você quer obter a contagem.\n",
    "\n",
    "Veja um exemplo de como o resultado final deve ser:\n",
    "`df.groupby(by='....')['column'].method()` Execute cada cálculo separadamente.\n",
    "\n",
    "Para avaliar a atividade dos usuários em cada cidade, agrupe os dados por cidade e encontre o número de músicas reproduzidas em cada grupo.\n",
    "\n"
   ]
  },
  {
   "cell_type": "code",
   "execution_count": null,
   "metadata": {
    "id": "0_Qs96oh_Zcu",
    "trusted": false
   },
   "outputs": [
    {
     "name": "stdout",
     "output_type": "stream",
     "text": [
      "Número total de músicas tocadas por cidade (segunda, quarta e sexta):\n",
      "city\n",
      "Shelbyville    18512\n",
      "Springfield    42741\n",
      "Name: genre, dtype: int64\n"
     ]
    }
   ],
   "source": [
    "# Contando as músicas tocadas em cada cidade\n",
    "\n",
    "df_selected_days = df[df['day'].isin(['Monday', 'Wednesday', 'Friday'])].copy()\n",
    "activity_per_city = df_selected_days.groupby(by='city')['genre'].count()\n",
    "print(\"Número total de músicas tocadas por cidade (segunda, quarta e sexta):\")\n",
    "print(activity_per_city)\n"
   ]
  },
  {
   "cell_type": "markdown",
   "metadata": {
    "id": "t_Qx-3NewAnK"
   },
   "source": [
    "`Comente sobre suas observações aqui` - * Avaliação total de músicas tocadas por cidade, indica que a cidade de Springfield, os usuários tem o costume de ouvir um número maior de músicas durante a segunda, quarta e sexta.*"
   ]
  },
  {
   "cell_type": "markdown",
   "metadata": {
    "id": "dzli3w8o_Zcu"
   },
   "source": [
    "Agora vamos agrupar os dados por dia da semana e encontrar a quantidade de músicas tocadas na segunda, quarta e sexta-feira. Use a mesma abordagem que antes, mas agora precisamos agrupar os dados de uma forma diferente.\n"
   ]
  },
  {
   "cell_type": "code",
   "execution_count": null,
   "metadata": {
    "id": "uZMKjiJz_Zcu",
    "trusted": false
   },
   "outputs": [
    {
     "name": "stdout",
     "output_type": "stream",
     "text": [
      "\n",
      "Número de músicas tocadas por cidade na segunda-feira:\n",
      "city\n",
      "Shelbyville     5614\n",
      "Springfield    15740\n",
      "Name: genre, dtype: int64\n",
      "\n",
      "Número de músicas tocadas por cidade na quarta-feira:\n",
      "city\n",
      "Shelbyville     7003\n",
      "Springfield    11056\n",
      "Name: genre, dtype: int64\n",
      "\n",
      "Número de músicas tocadas por cidade na sexta-feira:\n",
      "city\n",
      "Shelbyville     5895\n",
      "Springfield    15945\n",
      "Name: genre, dtype: int64\n"
     ]
    }
   ],
   "source": [
    "# Calculando as músicas escutadas em cada um desses três dias\n",
    "  \n",
    "monday_activity = df_selected_days[df_selected_days['day'] == 'Monday'].groupby(by='city')['genre'].count()\n",
    "print(\"\\nNúmero de músicas tocadas por cidade na segunda-feira:\")\n",
    "print(monday_activity)\n",
    "\n",
    "wednesday_activity = df_selected_days[df_selected_days['day'] == 'Wednesday'].groupby(by='city')['genre'].count()\n",
    "print(\"\\nNúmero de músicas tocadas por cidade na quarta-feira:\")\n",
    "print(wednesday_activity)\n",
    "\n",
    "friday_activity = df_selected_days[df_selected_days['day'] == 'Friday'].groupby(by='city')['genre'].count()\n",
    "print(\"\\nNúmero de músicas tocadas por cidade na sexta-feira:\")\n",
    "print(friday_activity)\n",
    "    \n",
    "\n"
   ]
  },
  {
   "cell_type": "markdown",
   "metadata": {
    "id": "cC2tNrlL_Zcu"
   },
   "source": [
    "`Comente sobre suas observações aqui' - *Novamente a cidade de Springfield tocam músicas em quantidades maiores que a cidade de Shelbyville. Comparado as semanas na cidade de Springfield, de segunda e sexta são os dias que os usários mais tocam músicas. Já na cidade de Shelbyville a semana que os usuários mais tocam as músicas é de quarta-feira.*"
   ]
  },
  {
   "cell_type": "markdown",
   "metadata": {
    "id": "POzs8bGa_Zcu"
   },
   "source": [
    "Você acabou de aprender como contar entradas agrupando-as por cidade ou por dia. E agora você precisa escrever uma função que possa contar entradas simultaneamente com base em ambos os critérios.\n",
    "\n",
    "Crie a função `number_tracks()` para calcular o número de músicas tocadas em um determinado dia **e** em uma determinada cidade. A função deve aceitar dois parâmetros:\n",
    "\n",
    "- `day`: um dia da semana pelo qual precisamos filtrar os dados. Por exemplo, `'Monday'`.\n",
    "- `city`: uma cidade pela qual precisamos filtrar os dados. Por exemplo, `'Springfield'`.\n",
    "\n",
    "Dentro da função, você vai aplicar uma filtragem consecutiva com indexação lógica.\n",
    "\n",
    "Primeiro, filtre os dados por dia e então filtre a tabela resultante por cidade.\n",
    "\n",
    "Depois de filtrar os dados usando os dois critérios, conte o número de valores na coluna 'user_id' da tabela resultante. O resultado da contagem representará o número de entradas que você quer encontrar. Armazene o resultado em uma nova variável e imprima-o."
   ]
  },
  {
   "cell_type": "code",
   "execution_count": null,
   "metadata": {
    "id": "Nz3GdQB1_Zcu",
    "trusted": false
   },
   "outputs": [],
   "source": [
    "\n",
    "    def number_tracks(day, city):\n",
    "        day_filtered = df[df['day'] == day]\n",
    "        city_filtered = day_filtered[day_filtered['city'] == city]\n",
    "        track_count = city_filtered['user_id'].count()\n",
    "        print(f\"Número de músicas tocadas em {city} na {day}: {track_count}\")\n",
    "        return track_count\n",
    "        \n",
    "   "
   ]
  },
  {
   "cell_type": "markdown",
   "metadata": {
    "id": "ytf7xFrFJQ2r"
   },
   "source": [
    "Chame a função `number_tracks()` seis vezes, mudando os valores dos parâmetros, para que você possa recuperar os dados de ambas as cidades para cada um dos três dias."
   ]
  },
  {
   "cell_type": "code",
   "execution_count": null,
   "metadata": {
    "id": "rJcRATNQ_Zcu",
    "trusted": false
   },
   "outputs": [
    {
     "name": "stdout",
     "output_type": "stream",
     "text": [
      "Número de músicas tocadas em Springfield na Monday: 15740\n"
     ]
    },
    {
     "data": {
      "text/plain": [
       "15740"
      ]
     },
     "execution_count": 23,
     "metadata": {},
     "output_type": "execute_result"
    }
   ],
   "source": [
    "# a quantidade de músicas tocadas em Springfield na segunda-feira\n",
    "number_tracks('Monday', 'Springfield')"
   ]
  },
  {
   "cell_type": "code",
   "execution_count": null,
   "metadata": {
    "id": "hq_ncZ5T_Zcu",
    "trusted": false
   },
   "outputs": [
    {
     "name": "stdout",
     "output_type": "stream",
     "text": [
      "Número de músicas tocadas em Shelbyville na Monday: 5614\n"
     ]
    },
    {
     "data": {
      "text/plain": [
       "5614"
      ]
     },
     "execution_count": 24,
     "metadata": {},
     "output_type": "execute_result"
    }
   ],
   "source": [
    "# a quantidade de músicas tocadas em Shelbyville na segunda-feira\n",
    "number_tracks('Monday', 'Shelbyville')"
   ]
  },
  {
   "cell_type": "code",
   "execution_count": null,
   "metadata": {
    "id": "_NTy2VPU_Zcu",
    "trusted": false
   },
   "outputs": [
    {
     "name": "stdout",
     "output_type": "stream",
     "text": [
      "Número de músicas tocadas em Springfield na Wednesday: 11056\n"
     ]
    },
    {
     "data": {
      "text/plain": [
       "11056"
      ]
     },
     "execution_count": 25,
     "metadata": {},
     "output_type": "execute_result"
    }
   ],
   "source": [
    "# a quantidade de músicas tocadas em Springfield na quarta-feira\n",
    "number_tracks('Wednesday', 'Springfield')"
   ]
  },
  {
   "cell_type": "code",
   "execution_count": null,
   "metadata": {
    "id": "j2y3TAwo_Zcu",
    "trusted": false
   },
   "outputs": [
    {
     "name": "stdout",
     "output_type": "stream",
     "text": [
      "Número de músicas tocadas em Shelbyville na Wednesday: 7003\n"
     ]
    },
    {
     "data": {
      "text/plain": [
       "7003"
      ]
     },
     "execution_count": 26,
     "metadata": {},
     "output_type": "execute_result"
    }
   ],
   "source": [
    "# a quantidade de músicas tocadas em Shelbyville na quarta-feira\n",
    "number_tracks('Wednesday', 'Shelbyville')"
   ]
  },
  {
   "cell_type": "code",
   "execution_count": null,
   "metadata": {
    "id": "vYDw5u_K_Zcu",
    "trusted": false
   },
   "outputs": [
    {
     "name": "stdout",
     "output_type": "stream",
     "text": [
      "Número de músicas tocadas em Springfield na Friday: 15945\n"
     ]
    },
    {
     "data": {
      "text/plain": [
       "15945"
      ]
     },
     "execution_count": 27,
     "metadata": {},
     "output_type": "execute_result"
    }
   ],
   "source": [
    "# a quantidade de músicas tocadas em Springfield na sexta-feira\n",
    "number_tracks('Friday', 'Springfield')"
   ]
  },
  {
   "cell_type": "code",
   "execution_count": null,
   "metadata": {
    "id": "8_yzFtW3_Zcu",
    "trusted": false
   },
   "outputs": [
    {
     "name": "stdout",
     "output_type": "stream",
     "text": [
      "Número de músicas tocadas em Shelbyville na Friday: 5895\n"
     ]
    },
    {
     "data": {
      "text/plain": [
       "5895"
      ]
     },
     "execution_count": 28,
     "metadata": {},
     "output_type": "execute_result"
    }
   ],
   "source": [
    "# a quantidade de músicas tocadas em Shelbyville na sexta-feira\n",
    "number_tracks('Friday', 'Shelbyville')"
   ]
  },
  {
   "cell_type": "markdown",
   "metadata": {
    "id": "-EgPIHYu_Zcu"
   },
   "source": [
    "**Conclusões**\n",
    "\n",
    "`Comente sobre se a terceira hipótese está correta ou deve ser rejeitada. Explique seu raciocínio.`- *A parte de chamar a variável number_tracks seis vezes é desnecessária, porque as atividades anteriores já responde o total de músicas de cada cidade e responde os dias e números que foram tocadas as músicas.* A questão seria saber o por que dos usuários da cidade de Shebyville ter essa grande diferença de músicas tocadas?! Número de habitantes? Idade dos usuários? Qual o gênero de uma cidade pra outra?!* "
   ]
  },
  {
   "cell_type": "markdown",
   "metadata": {
    "id": "p7nFQajCVw5B"
   },
   "source": [
    "[Voltar ao Índice](#back)"
   ]
  },
  {
   "cell_type": "markdown",
   "metadata": {
    "id": "ykKQ0N65_Zcv"
   },
   "source": [
    "# Conclusões <a id='end'></a>"
   ]
  },
  {
   "cell_type": "markdown",
   "metadata": {
    "id": "tjUwbHb3_Zcv"
   },
   "source": [
    "`Resuma suas conclusões sobre a hipótese aqui`\n",
    "*Não podemos concluir de fato os dados dessa hipótese porque faltam dados importantes para ter uma afirmação correta. A única coisa que podemos afirmar, é que a cidade de Springfield - os usuários tocam em quantidades maiores (mais que o dobro de vezes) em comparação com a os usuários da cidade de Shelbyville. Não podendo concluir o porque existe essa diferença de dados?! O ideal seria destrinchar "
   ]
  },
  {
   "cell_type": "markdown",
   "metadata": {
    "id": "azLHu64yOIp7"
   },
   "source": [
    "### Importante\n",
    "Em projetos de pesquisas reais, o teste estatístico de hipóteses é mais preciso e quantitativo. Observe também que conclusões sobre uma cidade inteira nem sempre podem ser tiradas a partir de dados de apenas uma fonte.\n",
    "\n",
    "Você aprenderá mais sobre testes de hipóteses no sprint sobre a análise estatística de dados."
   ]
  },
  {
   "cell_type": "markdown",
   "metadata": {
    "id": "Ju4AHDSgV1FE"
   },
   "source": [
    "[Voltar ao Índice](#back)"
   ]
  }
 ],
 "metadata": {
  "ExecuteTimeLog": [
   {
    "duration": 288,
    "start_time": "2025-05-08T01:18:07.868Z"
   },
   {
    "duration": 5,
    "start_time": "2025-05-08T01:19:30.555Z"
   },
   {
    "duration": 184,
    "start_time": "2025-05-08T01:19:54.392Z"
   },
   {
    "duration": 174,
    "start_time": "2025-05-08T01:20:47.239Z"
   },
   {
    "duration": 12,
    "start_time": "2025-05-08T01:21:09.665Z"
   },
   {
    "duration": 353,
    "start_time": "2025-05-08T01:21:51.114Z"
   },
   {
    "duration": 471,
    "start_time": "2025-05-08T01:25:56.442Z"
   },
   {
    "duration": 59,
    "start_time": "2025-05-08T01:26:28.258Z"
   },
   {
    "duration": 74,
    "start_time": "2025-05-08T01:26:53.677Z"
   },
   {
    "duration": 168,
    "start_time": "2025-05-08T01:27:09.693Z"
   },
   {
    "duration": 12,
    "start_time": "2025-05-08T01:27:22.657Z"
   },
   {
    "duration": 12,
    "start_time": "2025-05-08T01:28:45.679Z"
   },
   {
    "duration": 294,
    "start_time": "2025-05-08T01:29:29.595Z"
   },
   {
    "duration": 35,
    "start_time": "2025-05-08T01:31:29.557Z"
   },
   {
    "duration": 318,
    "start_time": "2025-05-08T01:32:53.743Z"
   },
   {
    "duration": 199,
    "start_time": "2025-05-08T01:34:37.450Z"
   },
   {
    "duration": 111,
    "start_time": "2025-05-08T01:36:48.326Z"
   },
   {
    "duration": 7,
    "start_time": "2025-05-08T01:37:55.333Z"
   },
   {
    "duration": 14,
    "start_time": "2025-05-08T01:40:29.853Z"
   },
   {
    "duration": 14,
    "start_time": "2025-05-08T01:40:56.085Z"
   },
   {
    "duration": 5,
    "start_time": "2025-05-08T01:42:09.750Z"
   },
   {
    "duration": 3,
    "start_time": "2025-05-08T01:56:32.601Z"
   },
   {
    "duration": 5,
    "start_time": "2025-05-08T02:02:32.598Z"
   },
   {
    "duration": 4,
    "start_time": "2025-05-08T02:03:15.043Z"
   },
   {
    "duration": 4,
    "start_time": "2025-05-08T02:04:22.893Z"
   },
   {
    "duration": 4,
    "start_time": "2025-05-08T02:08:15.571Z"
   },
   {
    "duration": 3,
    "start_time": "2025-05-08T02:08:30.985Z"
   },
   {
    "duration": 4,
    "start_time": "2025-05-08T02:17:50.437Z"
   },
   {
    "duration": 3,
    "start_time": "2025-05-08T02:18:15.469Z"
   },
   {
    "duration": 3,
    "start_time": "2025-05-08T02:19:17.531Z"
   },
   {
    "duration": 19,
    "start_time": "2025-05-08T02:22:36.146Z"
   },
   {
    "duration": 27,
    "start_time": "2025-05-08T02:29:24.291Z"
   },
   {
    "duration": 24,
    "start_time": "2025-05-08T02:31:13.454Z"
   },
   {
    "duration": 45,
    "start_time": "2025-05-08T02:33:16.069Z"
   },
   {
    "duration": 41,
    "start_time": "2025-05-08T02:35:09.317Z"
   },
   {
    "duration": 49,
    "start_time": "2025-05-08T02:35:39.326Z"
   },
   {
    "duration": 47,
    "start_time": "2025-05-08T02:37:07.805Z"
   },
   {
    "duration": 3,
    "start_time": "2025-05-08T02:39:02.013Z"
   },
   {
    "duration": 45,
    "start_time": "2025-05-08T02:39:14.063Z"
   },
   {
    "duration": 4,
    "start_time": "2025-05-08T02:39:41.918Z"
   },
   {
    "duration": 45,
    "start_time": "2025-05-08T02:39:57.502Z"
   },
   {
    "duration": 163,
    "start_time": "2025-05-08T02:40:11.645Z"
   },
   {
    "duration": 163,
    "start_time": "2025-05-08T02:40:46.997Z"
   },
   {
    "duration": 11,
    "start_time": "2025-05-08T02:41:18.190Z"
   },
   {
    "duration": 160,
    "start_time": "2025-05-08T02:42:32.298Z"
   },
   {
    "duration": 4,
    "start_time": "2025-05-08T02:42:44.389Z"
   },
   {
    "duration": 12,
    "start_time": "2025-05-08T02:42:52.707Z"
   },
   {
    "duration": 12,
    "start_time": "2025-05-08T02:43:22.644Z"
   },
   {
    "duration": 341,
    "start_time": "2025-05-08T02:43:51.519Z"
   },
   {
    "duration": 94,
    "start_time": "2025-05-08T02:43:54.312Z"
   },
   {
    "duration": 7,
    "start_time": "2025-05-08T02:43:57.700Z"
   },
   {
    "duration": 3,
    "start_time": "2025-05-08T02:44:03.782Z"
   },
   {
    "duration": 3,
    "start_time": "2025-05-08T02:44:18.260Z"
   },
   {
    "duration": 4,
    "start_time": "2025-05-08T02:44:39.116Z"
   },
   {
    "duration": 3,
    "start_time": "2025-05-08T02:44:44.836Z"
   },
   {
    "duration": 3,
    "start_time": "2025-05-08T02:44:50.155Z"
   },
   {
    "duration": 4,
    "start_time": "2025-05-08T02:44:58.363Z"
   },
   {
    "duration": 17,
    "start_time": "2025-05-08T02:45:09.966Z"
   },
   {
    "duration": 26,
    "start_time": "2025-05-08T02:45:18.402Z"
   },
   {
    "duration": 18,
    "start_time": "2025-05-08T02:45:26.100Z"
   },
   {
    "duration": 44,
    "start_time": "2025-05-08T02:45:34.337Z"
   },
   {
    "duration": 46,
    "start_time": "2025-05-08T02:45:39.478Z"
   },
   {
    "duration": 3,
    "start_time": "2025-05-08T02:46:00.187Z"
   },
   {
    "duration": 4,
    "start_time": "2025-05-08T02:51:39.042Z"
   },
   {
    "duration": 175,
    "start_time": "2025-05-08T02:51:51.862Z"
   },
   {
    "duration": 163,
    "start_time": "2025-05-08T02:52:15.698Z"
   },
   {
    "duration": 4,
    "start_time": "2025-05-08T02:52:39.981Z"
   },
   {
    "duration": 165,
    "start_time": "2025-05-08T02:53:00.753Z"
   },
   {
    "duration": 159,
    "start_time": "2025-05-08T02:53:33.466Z"
   },
   {
    "duration": 6,
    "start_time": "2025-05-08T02:55:24.560Z"
   },
   {
    "duration": 6,
    "start_time": "2025-05-08T03:00:49.047Z"
   },
   {
    "duration": 6,
    "start_time": "2025-05-08T03:01:06.374Z"
   },
   {
    "duration": 4,
    "start_time": "2025-05-08T03:02:07.799Z"
   },
   {
    "duration": 5,
    "start_time": "2025-05-08T03:03:09.019Z"
   },
   {
    "duration": 7,
    "start_time": "2025-05-08T03:08:50.506Z"
   },
   {
    "duration": 157,
    "start_time": "2025-05-08T03:09:18.270Z"
   },
   {
    "duration": 3,
    "start_time": "2025-05-08T03:09:43.040Z"
   },
   {
    "duration": 171,
    "start_time": "2025-05-08T20:59:13.790Z"
   },
   {
    "duration": 12,
    "start_time": "2025-05-08T20:59:46.511Z"
   },
   {
    "duration": 12,
    "start_time": "2025-05-08T21:00:13.237Z"
   },
   {
    "duration": 12,
    "start_time": "2025-05-08T21:00:26.932Z"
   },
   {
    "duration": 13,
    "start_time": "2025-05-08T21:00:48.652Z"
   },
   {
    "duration": 6,
    "start_time": "2025-05-08T21:01:09.937Z"
   },
   {
    "duration": 3,
    "start_time": "2025-05-08T21:16:32.480Z"
   },
   {
    "duration": 5,
    "start_time": "2025-05-08T21:16:49.361Z"
   },
   {
    "duration": 3,
    "start_time": "2025-05-08T21:16:55.935Z"
   },
   {
    "duration": 12,
    "start_time": "2025-05-08T21:17:03.456Z"
   },
   {
    "duration": 13,
    "start_time": "2025-05-08T21:17:11.169Z"
   },
   {
    "duration": 34,
    "start_time": "2025-05-08T21:17:18.462Z"
   },
   {
    "duration": 12,
    "start_time": "2025-05-08T21:17:27.082Z"
   },
   {
    "duration": 12,
    "start_time": "2025-05-08T21:17:33.002Z"
   },
   {
    "duration": 157,
    "start_time": "2025-05-08T21:18:16.365Z"
   },
   {
    "duration": 7,
    "start_time": "2025-05-08T21:18:43.586Z"
   },
   {
    "duration": 4,
    "start_time": "2025-05-08T21:19:43.330Z"
   },
   {
    "duration": 154,
    "start_time": "2025-05-08T22:00:52.625Z"
   },
   {
    "duration": 11,
    "start_time": "2025-05-08T22:01:00.558Z"
   },
   {
    "duration": 154,
    "start_time": "2025-05-08T22:01:17.883Z"
   },
   {
    "duration": 331,
    "start_time": "2025-05-08T22:02:41.378Z"
   },
   {
    "duration": 111,
    "start_time": "2025-05-08T22:02:41.711Z"
   },
   {
    "duration": 7,
    "start_time": "2025-05-08T22:02:41.824Z"
   },
   {
    "duration": 20,
    "start_time": "2025-05-08T22:02:45.643Z"
   },
   {
    "duration": 37,
    "start_time": "2025-05-08T22:27:38.565Z"
   },
   {
    "duration": 320,
    "start_time": "2025-05-08T22:28:10.782Z"
   },
   {
    "duration": 100,
    "start_time": "2025-05-08T22:28:13.863Z"
   },
   {
    "duration": 7,
    "start_time": "2025-05-08T22:28:16.523Z"
   },
   {
    "duration": 21,
    "start_time": "2025-05-08T22:28:21.253Z"
   },
   {
    "duration": 3,
    "start_time": "2025-05-08T22:28:27.263Z"
   },
   {
    "duration": 3,
    "start_time": "2025-05-08T22:28:32.868Z"
   },
   {
    "duration": 3,
    "start_time": "2025-05-08T22:28:37.596Z"
   },
   {
    "duration": 3,
    "start_time": "2025-05-08T22:28:40.475Z"
   },
   {
    "duration": 3,
    "start_time": "2025-05-08T22:28:43.931Z"
   },
   {
    "duration": 17,
    "start_time": "2025-05-08T22:28:48.672Z"
   },
   {
    "duration": 24,
    "start_time": "2025-05-08T22:28:54.595Z"
   },
   {
    "duration": 17,
    "start_time": "2025-05-08T22:28:58.987Z"
   },
   {
    "duration": 42,
    "start_time": "2025-05-08T22:29:03.420Z"
   },
   {
    "duration": 47,
    "start_time": "2025-05-08T22:29:06.431Z"
   },
   {
    "duration": 3,
    "start_time": "2025-05-08T22:29:10.091Z"
   },
   {
    "duration": 6,
    "start_time": "2025-05-08T22:29:13.884Z"
   },
   {
    "duration": 177,
    "start_time": "2025-05-08T22:50:24.472Z"
   },
   {
    "duration": 5,
    "start_time": "2025-05-08T22:50:36.763Z"
   },
   {
    "duration": 4,
    "start_time": "2025-05-08T22:51:03.631Z"
   },
   {
    "duration": 12,
    "start_time": "2025-05-08T22:52:52.821Z"
   },
   {
    "duration": 2,
    "start_time": "2025-05-08T23:05:25.238Z"
   },
   {
    "duration": 13,
    "start_time": "2025-05-08T23:10:47.139Z"
   },
   {
    "duration": 4,
    "start_time": "2025-05-08T23:11:04.118Z"
   },
   {
    "duration": 4,
    "start_time": "2025-05-08T23:11:17.329Z"
   },
   {
    "duration": 4,
    "start_time": "2025-05-08T23:11:42.919Z"
   },
   {
    "duration": 5,
    "start_time": "2025-05-08T23:16:24.125Z"
   },
   {
    "duration": 3,
    "start_time": "2025-05-08T23:16:40.590Z"
   },
   {
    "duration": 4,
    "start_time": "2025-05-08T23:16:57.151Z"
   },
   {
    "duration": 3,
    "start_time": "2025-05-08T23:17:22.462Z"
   },
   {
    "duration": 2,
    "start_time": "2025-05-08T23:17:36.108Z"
   },
   {
    "duration": 3,
    "start_time": "2025-05-08T23:17:51.862Z"
   },
   {
    "duration": 4,
    "start_time": "2025-05-08T23:17:59.072Z"
   },
   {
    "duration": 323,
    "start_time": "2025-05-08T23:18:19.389Z"
   },
   {
    "duration": 92,
    "start_time": "2025-05-08T23:18:22.076Z"
   },
   {
    "duration": 7,
    "start_time": "2025-05-08T23:18:24.701Z"
   },
   {
    "duration": 20,
    "start_time": "2025-05-08T23:18:29.716Z"
   },
   {
    "duration": 3,
    "start_time": "2025-05-08T23:18:40.110Z"
   },
   {
    "duration": 4,
    "start_time": "2025-05-08T23:18:44.467Z"
   },
   {
    "duration": 4,
    "start_time": "2025-05-08T23:18:47.966Z"
   },
   {
    "duration": 4,
    "start_time": "2025-05-08T23:18:52.652Z"
   },
   {
    "duration": 3,
    "start_time": "2025-05-08T23:18:56.164Z"
   },
   {
    "duration": 18,
    "start_time": "2025-05-08T23:19:00.640Z"
   },
   {
    "duration": 24,
    "start_time": "2025-05-08T23:19:05.674Z"
   },
   {
    "duration": 16,
    "start_time": "2025-05-08T23:19:10.674Z"
   },
   {
    "duration": 43,
    "start_time": "2025-05-08T23:19:15.998Z"
   },
   {
    "duration": 46,
    "start_time": "2025-05-08T23:19:20.011Z"
   },
   {
    "duration": 2,
    "start_time": "2025-05-08T23:19:23.462Z"
   },
   {
    "duration": 6,
    "start_time": "2025-05-08T23:19:27.590Z"
   },
   {
    "duration": 3,
    "start_time": "2025-05-08T23:19:34.271Z"
   },
   {
    "duration": 3,
    "start_time": "2025-05-08T23:19:38.404Z"
   },
   {
    "duration": 11,
    "start_time": "2025-05-08T23:32:08.282Z"
   },
   {
    "duration": 5,
    "start_time": "2025-05-08T23:35:52.239Z"
   },
   {
    "duration": 8,
    "start_time": "2025-05-08T23:36:06.396Z"
   },
   {
    "duration": 14,
    "start_time": "2025-05-09T00:26:18.405Z"
   },
   {
    "duration": 5,
    "start_time": "2025-05-09T00:30:36.263Z"
   },
   {
    "duration": 4,
    "start_time": "2025-05-09T00:31:18.900Z"
   },
   {
    "duration": 206,
    "start_time": "2025-05-09T00:31:36.634Z"
   },
   {
    "duration": 313,
    "start_time": "2025-05-09T00:32:00.216Z"
   },
   {
    "duration": 94,
    "start_time": "2025-05-09T00:32:02.847Z"
   },
   {
    "duration": 7,
    "start_time": "2025-05-09T00:32:05.156Z"
   },
   {
    "duration": 22,
    "start_time": "2025-05-09T00:32:10.058Z"
   },
   {
    "duration": 3,
    "start_time": "2025-05-09T00:32:22.959Z"
   },
   {
    "duration": 4,
    "start_time": "2025-05-09T00:32:26.130Z"
   },
   {
    "duration": 4,
    "start_time": "2025-05-09T00:32:28.985Z"
   },
   {
    "duration": 4,
    "start_time": "2025-05-09T00:32:32.830Z"
   },
   {
    "duration": 2,
    "start_time": "2025-05-09T00:32:35.514Z"
   },
   {
    "duration": 17,
    "start_time": "2025-05-09T00:32:39.702Z"
   },
   {
    "duration": 37,
    "start_time": "2025-05-09T00:32:44.769Z"
   },
   {
    "duration": 18,
    "start_time": "2025-05-09T00:32:50.095Z"
   },
   {
    "duration": 43,
    "start_time": "2025-05-09T00:32:55.248Z"
   },
   {
    "duration": 48,
    "start_time": "2025-05-09T00:32:59.141Z"
   },
   {
    "duration": 3,
    "start_time": "2025-05-09T00:33:02.310Z"
   },
   {
    "duration": 12,
    "start_time": "2025-05-09T00:33:06.049Z"
   },
   {
    "duration": 3,
    "start_time": "2025-05-09T00:33:13.602Z"
   },
   {
    "duration": 8,
    "start_time": "2025-05-09T00:33:17.806Z"
   },
   {
    "duration": 6,
    "start_time": "2025-05-09T00:33:21.450Z"
   },
   {
    "duration": 176,
    "start_time": "2025-05-09T00:33:28.663Z"
   },
   {
    "duration": 22,
    "start_time": "2025-05-09T00:34:04.186Z"
   },
   {
    "duration": 25,
    "start_time": "2025-05-09T00:34:46.078Z"
   },
   {
    "duration": 3,
    "start_time": "2025-05-09T00:35:01.464Z"
   },
   {
    "duration": 5,
    "start_time": "2025-05-09T00:35:40.249Z"
   },
   {
    "duration": 5,
    "start_time": "2025-05-09T00:36:27.086Z"
   },
   {
    "duration": 124,
    "start_time": "2025-05-09T00:36:43.755Z"
   },
   {
    "duration": 4,
    "start_time": "2025-05-09T00:38:00.848Z"
   },
   {
    "duration": 23,
    "start_time": "2025-05-09T00:38:44.207Z"
   },
   {
    "duration": 271,
    "start_time": "2025-05-09T00:39:20.654Z"
   },
   {
    "duration": 92,
    "start_time": "2025-05-09T00:39:23.565Z"
   },
   {
    "duration": 7,
    "start_time": "2025-05-09T00:39:26.514Z"
   },
   {
    "duration": 21,
    "start_time": "2025-05-09T00:39:31.851Z"
   },
   {
    "duration": 3,
    "start_time": "2025-05-09T00:39:37.617Z"
   },
   {
    "duration": 4,
    "start_time": "2025-05-09T00:39:41.475Z"
   },
   {
    "duration": 3,
    "start_time": "2025-05-09T00:39:45.241Z"
   },
   {
    "duration": 4,
    "start_time": "2025-05-09T00:39:50.234Z"
   },
   {
    "duration": 3,
    "start_time": "2025-05-09T00:39:54.289Z"
   },
   {
    "duration": 16,
    "start_time": "2025-05-09T00:39:58.979Z"
   },
   {
    "duration": 24,
    "start_time": "2025-05-09T00:40:04.273Z"
   },
   {
    "duration": 18,
    "start_time": "2025-05-09T00:40:08.554Z"
   },
   {
    "duration": 44,
    "start_time": "2025-05-09T00:40:15.398Z"
   },
   {
    "duration": 47,
    "start_time": "2025-05-09T00:40:19.562Z"
   },
   {
    "duration": 3,
    "start_time": "2025-05-09T00:40:23.812Z"
   },
   {
    "duration": 6,
    "start_time": "2025-05-09T00:40:27.868Z"
   },
   {
    "duration": 3,
    "start_time": "2025-05-09T00:40:34.851Z"
   },
   {
    "duration": 8,
    "start_time": "2025-05-09T00:40:44.915Z"
   },
   {
    "duration": 6,
    "start_time": "2025-05-09T00:40:51.994Z"
   },
   {
    "duration": 4,
    "start_time": "2025-05-09T00:41:06.634Z"
   },
   {
    "duration": 5,
    "start_time": "2025-05-09T00:41:18.707Z"
   },
   {
    "duration": 4,
    "start_time": "2025-05-09T00:46:50.892Z"
   },
   {
    "duration": 172,
    "start_time": "2025-05-09T00:47:00.024Z"
   },
   {
    "duration": 8,
    "start_time": "2025-05-09T00:47:41.450Z"
   },
   {
    "duration": 8,
    "start_time": "2025-05-09T00:57:07.052Z"
   },
   {
    "duration": 3,
    "start_time": "2025-05-09T00:57:17.068Z"
   },
   {
    "duration": 4,
    "start_time": "2025-05-09T00:57:45.786Z"
   },
   {
    "duration": 4,
    "start_time": "2025-05-09T00:58:00.168Z"
   },
   {
    "duration": 5,
    "start_time": "2025-05-09T00:58:11.673Z"
   },
   {
    "duration": 24,
    "start_time": "2025-05-09T00:58:21.257Z"
   },
   {
    "duration": 4,
    "start_time": "2025-05-09T00:58:49.255Z"
   },
   {
    "duration": 19,
    "start_time": "2025-05-09T01:06:33.858Z"
   },
   {
    "duration": 33,
    "start_time": "2025-05-09T01:11:52.903Z"
   },
   {
    "duration": 4,
    "start_time": "2025-05-09T01:30:11.825Z"
   },
   {
    "duration": 4,
    "start_time": "2025-05-09T01:31:12.836Z"
   },
   {
    "duration": 15,
    "start_time": "2025-05-09T01:31:49.378Z"
   },
   {
    "duration": 15,
    "start_time": "2025-05-09T01:32:04.974Z"
   },
   {
    "duration": 14,
    "start_time": "2025-05-09T01:32:24.343Z"
   },
   {
    "duration": 4,
    "start_time": "2025-05-09T01:33:00.883Z"
   },
   {
    "duration": 5,
    "start_time": "2025-05-09T01:33:16.977Z"
   },
   {
    "duration": 4,
    "start_time": "2025-05-09T01:33:26.752Z"
   },
   {
    "duration": 326,
    "start_time": "2025-05-09T01:34:12.680Z"
   },
   {
    "duration": 92,
    "start_time": "2025-05-09T01:34:15.642Z"
   },
   {
    "duration": 7,
    "start_time": "2025-05-09T01:34:19.801Z"
   },
   {
    "duration": 21,
    "start_time": "2025-05-09T01:34:24.417Z"
   },
   {
    "duration": 3,
    "start_time": "2025-05-09T01:34:31.642Z"
   },
   {
    "duration": 3,
    "start_time": "2025-05-09T01:34:53.949Z"
   },
   {
    "duration": 3,
    "start_time": "2025-05-09T01:35:14.095Z"
   },
   {
    "duration": 3,
    "start_time": "2025-05-09T01:35:19.723Z"
   },
   {
    "duration": 3,
    "start_time": "2025-05-09T01:35:45.122Z"
   },
   {
    "duration": 21,
    "start_time": "2025-05-09T01:37:11.312Z"
   },
   {
    "duration": 2,
    "start_time": "2025-05-09T01:37:19.134Z"
   },
   {
    "duration": 95,
    "start_time": "2025-05-09T01:37:22.467Z"
   },
   {
    "duration": 273,
    "start_time": "2025-05-09T01:37:32.950Z"
   },
   {
    "duration": 91,
    "start_time": "2025-05-09T01:37:36.078Z"
   },
   {
    "duration": 7,
    "start_time": "2025-05-09T01:37:39.158Z"
   },
   {
    "duration": 20,
    "start_time": "2025-05-09T01:37:44.009Z"
   },
   {
    "duration": 4,
    "start_time": "2025-05-09T01:37:53.099Z"
   },
   {
    "duration": 4,
    "start_time": "2025-05-09T01:37:57.498Z"
   },
   {
    "duration": 5,
    "start_time": "2025-05-09T01:38:03.017Z"
   },
   {
    "duration": 4,
    "start_time": "2025-05-09T01:38:07.004Z"
   },
   {
    "duration": 3,
    "start_time": "2025-05-09T01:38:11.230Z"
   },
   {
    "duration": 19,
    "start_time": "2025-05-09T01:38:16.437Z"
   },
   {
    "duration": 28,
    "start_time": "2025-05-09T01:38:21.553Z"
   },
   {
    "duration": 16,
    "start_time": "2025-05-09T01:38:25.469Z"
   },
   {
    "duration": 43,
    "start_time": "2025-05-09T01:38:32.698Z"
   },
   {
    "duration": 56,
    "start_time": "2025-05-09T01:38:36.319Z"
   },
   {
    "duration": 2,
    "start_time": "2025-05-09T01:38:39.279Z"
   },
   {
    "duration": 5,
    "start_time": "2025-05-09T01:38:53.866Z"
   },
   {
    "duration": 2,
    "start_time": "2025-05-09T01:39:02.506Z"
   },
   {
    "duration": 8,
    "start_time": "2025-05-09T01:39:06.600Z"
   },
   {
    "duration": 5,
    "start_time": "2025-05-09T01:39:18.753Z"
   },
   {
    "duration": 22,
    "start_time": "2025-05-09T01:39:28.406Z"
   },
   {
    "duration": 28,
    "start_time": "2025-05-09T01:39:36.947Z"
   },
   {
    "duration": 4,
    "start_time": "2025-05-09T01:39:46.177Z"
   },
   {
    "duration": 3,
    "start_time": "2025-05-09T01:40:06.373Z"
   },
   {
    "duration": 307,
    "start_time": "2025-05-09T01:40:58.303Z"
   },
   {
    "duration": 93,
    "start_time": "2025-05-09T01:41:02.558Z"
   },
   {
    "duration": 7,
    "start_time": "2025-05-09T01:41:06.215Z"
   },
   {
    "duration": 21,
    "start_time": "2025-05-09T01:41:12.151Z"
   },
   {
    "duration": 4,
    "start_time": "2025-05-09T01:41:18.252Z"
   },
   {
    "duration": 4,
    "start_time": "2025-05-09T01:41:23.173Z"
   },
   {
    "duration": 3,
    "start_time": "2025-05-09T01:41:26.964Z"
   },
   {
    "duration": 4,
    "start_time": "2025-05-09T01:41:31.292Z"
   },
   {
    "duration": 3,
    "start_time": "2025-05-09T01:41:36.166Z"
   },
   {
    "duration": 17,
    "start_time": "2025-05-09T01:41:40.422Z"
   },
   {
    "duration": 25,
    "start_time": "2025-05-09T01:41:46.017Z"
   },
   {
    "duration": 16,
    "start_time": "2025-05-09T01:41:52.832Z"
   },
   {
    "duration": 43,
    "start_time": "2025-05-09T01:41:59.566Z"
   },
   {
    "duration": 68,
    "start_time": "2025-05-09T01:42:03.182Z"
   },
   {
    "duration": 3,
    "start_time": "2025-05-09T01:42:07.457Z"
   },
   {
    "duration": 6,
    "start_time": "2025-05-09T01:42:11.560Z"
   },
   {
    "duration": 3,
    "start_time": "2025-05-09T01:42:18.454Z"
   },
   {
    "duration": 8,
    "start_time": "2025-05-09T01:42:24.746Z"
   },
   {
    "duration": 6,
    "start_time": "2025-05-09T01:42:30.681Z"
   },
   {
    "duration": 18,
    "start_time": "2025-05-09T01:42:38.407Z"
   },
   {
    "duration": 29,
    "start_time": "2025-05-09T01:42:44.555Z"
   },
   {
    "duration": 3,
    "start_time": "2025-05-09T01:42:51.671Z"
   },
   {
    "duration": 170,
    "start_time": "2025-05-09T01:46:25.903Z"
   },
   {
    "duration": 4,
    "start_time": "2025-05-09T01:46:35.872Z"
   },
   {
    "duration": 4,
    "start_time": "2025-05-09T01:47:45.462Z"
   },
   {
    "duration": 2,
    "start_time": "2025-05-09T01:48:00.095Z"
   },
   {
    "duration": 3,
    "start_time": "2025-05-09T01:53:02.438Z"
   },
   {
    "duration": 390,
    "start_time": "2025-05-09T01:53:15.642Z"
   },
   {
    "duration": 3,
    "start_time": "2025-05-09T01:53:41.327Z"
   },
   {
    "duration": 4,
    "start_time": "2025-05-09T01:55:29.678Z"
   },
   {
    "duration": 30,
    "start_time": "2025-05-09T01:59:50.375Z"
   },
   {
    "duration": 3,
    "start_time": "2025-05-09T02:00:03.702Z"
   },
   {
    "duration": 274,
    "start_time": "2025-05-09T02:00:42.251Z"
   },
   {
    "duration": 91,
    "start_time": "2025-05-09T02:00:45.048Z"
   },
   {
    "duration": 7,
    "start_time": "2025-05-09T02:00:47.830Z"
   },
   {
    "duration": 22,
    "start_time": "2025-05-09T02:00:54.024Z"
   },
   {
    "duration": 4,
    "start_time": "2025-05-09T02:01:14.269Z"
   },
   {
    "duration": 3,
    "start_time": "2025-05-09T02:01:18.015Z"
   },
   {
    "duration": 3,
    "start_time": "2025-05-09T02:01:21.143Z"
   },
   {
    "duration": 3,
    "start_time": "2025-05-09T02:01:24.768Z"
   },
   {
    "duration": 3,
    "start_time": "2025-05-09T02:01:28.469Z"
   },
   {
    "duration": 17,
    "start_time": "2025-05-09T02:01:31.919Z"
   },
   {
    "duration": 24,
    "start_time": "2025-05-09T02:01:35.546Z"
   },
   {
    "duration": 18,
    "start_time": "2025-05-09T02:01:39.163Z"
   },
   {
    "duration": 43,
    "start_time": "2025-05-09T02:01:45.321Z"
   },
   {
    "duration": 46,
    "start_time": "2025-05-09T02:01:48.572Z"
   },
   {
    "duration": 3,
    "start_time": "2025-05-09T02:01:54.247Z"
   },
   {
    "duration": 5,
    "start_time": "2025-05-09T02:01:58.060Z"
   },
   {
    "duration": 3,
    "start_time": "2025-05-09T02:02:03.633Z"
   },
   {
    "duration": 8,
    "start_time": "2025-05-09T02:02:06.869Z"
   },
   {
    "duration": 7,
    "start_time": "2025-05-09T02:02:13.622Z"
   },
   {
    "duration": 21,
    "start_time": "2025-05-09T02:02:22.816Z"
   },
   {
    "duration": 33,
    "start_time": "2025-05-09T02:02:32.436Z"
   },
   {
    "duration": 3,
    "start_time": "2025-05-09T02:02:50.992Z"
   },
   {
    "duration": 4,
    "start_time": "2025-05-09T02:18:43.463Z"
   },
   {
    "duration": 583,
    "start_time": "2025-05-09T02:18:53.642Z"
   },
   {
    "duration": 2,
    "start_time": "2025-05-09T02:19:56.555Z"
   },
   {
    "duration": 3,
    "start_time": "2025-05-09T02:20:25.406Z"
   },
   {
    "duration": 3,
    "start_time": "2025-05-09T02:21:58.322Z"
   },
   {
    "duration": 321,
    "start_time": "2025-05-09T02:22:31.197Z"
   },
   {
    "duration": 91,
    "start_time": "2025-05-09T02:22:35.078Z"
   },
   {
    "duration": 7,
    "start_time": "2025-05-09T02:22:37.289Z"
   },
   {
    "duration": 22,
    "start_time": "2025-05-09T02:22:42.264Z"
   },
   {
    "duration": 3,
    "start_time": "2025-05-09T02:22:47.574Z"
   },
   {
    "duration": 4,
    "start_time": "2025-05-09T02:22:50.913Z"
   },
   {
    "duration": 4,
    "start_time": "2025-05-09T02:22:53.400Z"
   },
   {
    "duration": 4,
    "start_time": "2025-05-09T02:22:58.064Z"
   },
   {
    "duration": 3,
    "start_time": "2025-05-09T02:23:00.720Z"
   },
   {
    "duration": 17,
    "start_time": "2025-05-09T02:23:05.178Z"
   },
   {
    "duration": 24,
    "start_time": "2025-05-09T02:23:09.843Z"
   },
   {
    "duration": 16,
    "start_time": "2025-05-09T02:23:14.417Z"
   },
   {
    "duration": 42,
    "start_time": "2025-05-09T02:23:19.066Z"
   },
   {
    "duration": 3,
    "start_time": "2025-05-09T02:23:22.377Z"
   },
   {
    "duration": 5,
    "start_time": "2025-05-09T02:23:26.303Z"
   },
   {
    "duration": 2,
    "start_time": "2025-05-09T02:23:31.814Z"
   },
   {
    "duration": 8,
    "start_time": "2025-05-09T02:23:34.822Z"
   },
   {
    "duration": 6,
    "start_time": "2025-05-09T02:23:38.103Z"
   },
   {
    "duration": 20,
    "start_time": "2025-05-09T02:23:45.088Z"
   },
   {
    "duration": 28,
    "start_time": "2025-05-09T02:23:51.226Z"
   },
   {
    "duration": 4,
    "start_time": "2025-05-09T02:23:57.168Z"
   },
   {
    "duration": 3,
    "start_time": "2025-05-09T02:24:00.305Z"
   },
   {
    "duration": 29,
    "start_time": "2025-05-09T02:26:02.086Z"
   },
   {
    "duration": 5,
    "start_time": "2025-05-09T02:26:13.272Z"
   },
   {
    "duration": 2,
    "start_time": "2025-05-09T02:26:30.501Z"
   },
   {
    "duration": 302,
    "start_time": "2025-05-09T02:26:42.509Z"
   },
   {
    "duration": 91,
    "start_time": "2025-05-09T02:26:49.359Z"
   },
   {
    "duration": 8,
    "start_time": "2025-05-09T02:26:53.424Z"
   },
   {
    "duration": 21,
    "start_time": "2025-05-09T02:26:57.759Z"
   },
   {
    "duration": 3,
    "start_time": "2025-05-09T02:27:04.138Z"
   },
   {
    "duration": 3,
    "start_time": "2025-05-09T02:27:11.343Z"
   },
   {
    "duration": 4,
    "start_time": "2025-05-09T02:27:14.837Z"
   },
   {
    "duration": 3,
    "start_time": "2025-05-09T02:27:18.640Z"
   },
   {
    "duration": 3,
    "start_time": "2025-05-09T02:27:23.957Z"
   },
   {
    "duration": 17,
    "start_time": "2025-05-09T02:27:27.294Z"
   },
   {
    "duration": 24,
    "start_time": "2025-05-09T02:27:34.031Z"
   },
   {
    "duration": 18,
    "start_time": "2025-05-09T02:27:40.099Z"
   },
   {
    "duration": 43,
    "start_time": "2025-05-09T02:27:46.344Z"
   },
   {
    "duration": 47,
    "start_time": "2025-05-09T02:27:49.374Z"
   },
   {
    "duration": 3,
    "start_time": "2025-05-09T02:27:52.753Z"
   },
   {
    "duration": 6,
    "start_time": "2025-05-09T02:27:57.903Z"
   },
   {
    "duration": 3,
    "start_time": "2025-05-09T02:28:11.209Z"
   },
   {
    "duration": 8,
    "start_time": "2025-05-09T02:28:15.188Z"
   },
   {
    "duration": 6,
    "start_time": "2025-05-09T02:28:19.600Z"
   },
   {
    "duration": 19,
    "start_time": "2025-05-09T02:28:27.215Z"
   },
   {
    "duration": 29,
    "start_time": "2025-05-09T02:28:36.245Z"
   },
   {
    "duration": 3,
    "start_time": "2025-05-09T02:28:46.144Z"
   },
   {
    "duration": 331,
    "start_time": "2025-05-09T10:48:45.498Z"
   },
   {
    "duration": 113,
    "start_time": "2025-05-09T10:48:45.832Z"
   },
   {
    "duration": 7,
    "start_time": "2025-05-09T10:48:45.947Z"
   },
   {
    "duration": 34,
    "start_time": "2025-05-09T10:48:45.957Z"
   },
   {
    "duration": 3,
    "start_time": "2025-05-09T10:48:45.993Z"
   },
   {
    "duration": 4,
    "start_time": "2025-05-09T10:48:45.998Z"
   },
   {
    "duration": 3,
    "start_time": "2025-05-09T10:48:46.004Z"
   },
   {
    "duration": 4,
    "start_time": "2025-05-09T10:48:46.009Z"
   },
   {
    "duration": 4,
    "start_time": "2025-05-09T10:48:46.014Z"
   },
   {
    "duration": 16,
    "start_time": "2025-05-09T10:48:46.021Z"
   },
   {
    "duration": 60,
    "start_time": "2025-05-09T10:48:46.040Z"
   },
   {
    "duration": 16,
    "start_time": "2025-05-09T10:48:46.102Z"
   },
   {
    "duration": 42,
    "start_time": "2025-05-09T10:48:46.120Z"
   },
   {
    "duration": 68,
    "start_time": "2025-05-09T10:48:46.164Z"
   },
   {
    "duration": 3,
    "start_time": "2025-05-09T10:48:46.233Z"
   },
   {
    "duration": 6,
    "start_time": "2025-05-09T10:48:46.238Z"
   },
   {
    "duration": 3,
    "start_time": "2025-05-09T10:48:46.246Z"
   },
   {
    "duration": 7,
    "start_time": "2025-05-09T10:48:46.250Z"
   },
   {
    "duration": 31,
    "start_time": "2025-05-09T10:48:46.259Z"
   },
   {
    "duration": 20,
    "start_time": "2025-05-09T10:48:46.291Z"
   },
   {
    "duration": 28,
    "start_time": "2025-05-09T10:48:46.312Z"
   },
   {
    "duration": 3,
    "start_time": "2025-05-09T10:48:46.342Z"
   },
   {
    "duration": 6,
    "start_time": "2025-05-09T10:48:46.347Z"
   },
   {
    "duration": 5,
    "start_time": "2025-05-09T10:48:46.387Z"
   },
   {
    "duration": 0,
    "start_time": "2025-05-09T10:48:46.395Z"
   },
   {
    "duration": 0,
    "start_time": "2025-05-09T10:48:46.396Z"
   },
   {
    "duration": 0,
    "start_time": "2025-05-09T10:48:46.397Z"
   },
   {
    "duration": 0,
    "start_time": "2025-05-09T10:48:46.398Z"
   },
   {
    "duration": 623,
    "start_time": "2025-05-09T10:49:20.712Z"
   },
   {
    "duration": 55,
    "start_time": "2025-05-09T10:49:23.065Z"
   },
   {
    "duration": 11,
    "start_time": "2025-05-09T10:49:39.363Z"
   },
   {
    "duration": 6,
    "start_time": "2025-05-09T10:50:29.966Z"
   },
   {
    "duration": 292,
    "start_time": "2025-05-09T10:50:51.133Z"
   },
   {
    "duration": 91,
    "start_time": "2025-05-09T10:51:08.603Z"
   },
   {
    "duration": 6,
    "start_time": "2025-05-09T10:51:08.937Z"
   },
   {
    "duration": 22,
    "start_time": "2025-05-09T10:51:09.416Z"
   },
   {
    "duration": 4,
    "start_time": "2025-05-09T10:51:12.064Z"
   },
   {
    "duration": 4,
    "start_time": "2025-05-09T10:51:15.146Z"
   },
   {
    "duration": 3,
    "start_time": "2025-05-09T10:51:18.141Z"
   },
   {
    "duration": 4,
    "start_time": "2025-05-09T10:51:20.780Z"
   },
   {
    "duration": 3,
    "start_time": "2025-05-09T10:51:39.324Z"
   },
   {
    "duration": 17,
    "start_time": "2025-05-09T10:51:40.308Z"
   },
   {
    "duration": 24,
    "start_time": "2025-05-09T10:51:43.969Z"
   },
   {
    "duration": 17,
    "start_time": "2025-05-09T10:51:46.035Z"
   },
   {
    "duration": 42,
    "start_time": "2025-05-09T10:51:46.933Z"
   },
   {
    "duration": 48,
    "start_time": "2025-05-09T10:51:48.802Z"
   },
   {
    "duration": 3,
    "start_time": "2025-05-09T10:51:49.811Z"
   },
   {
    "duration": 6,
    "start_time": "2025-05-09T10:51:53.476Z"
   },
   {
    "duration": 2,
    "start_time": "2025-05-09T10:51:59.806Z"
   },
   {
    "duration": 7,
    "start_time": "2025-05-09T10:52:16.546Z"
   },
   {
    "duration": 5,
    "start_time": "2025-05-09T10:52:17.152Z"
   },
   {
    "duration": 327,
    "start_time": "2025-05-09T10:52:56.200Z"
   },
   {
    "duration": 96,
    "start_time": "2025-05-09T10:52:56.530Z"
   },
   {
    "duration": 7,
    "start_time": "2025-05-09T10:52:56.627Z"
   },
   {
    "duration": 21,
    "start_time": "2025-05-09T10:52:56.636Z"
   },
   {
    "duration": 3,
    "start_time": "2025-05-09T10:52:56.659Z"
   },
   {
    "duration": 23,
    "start_time": "2025-05-09T10:52:56.664Z"
   },
   {
    "duration": 4,
    "start_time": "2025-05-09T10:52:56.689Z"
   },
   {
    "duration": 4,
    "start_time": "2025-05-09T10:52:56.695Z"
   },
   {
    "duration": 4,
    "start_time": "2025-05-09T10:52:56.700Z"
   },
   {
    "duration": 17,
    "start_time": "2025-05-09T10:52:56.707Z"
   },
   {
    "duration": 24,
    "start_time": "2025-05-09T10:52:56.725Z"
   },
   {
    "duration": 50,
    "start_time": "2025-05-09T10:52:56.751Z"
   },
   {
    "duration": 43,
    "start_time": "2025-05-09T10:52:56.803Z"
   },
   {
    "duration": 66,
    "start_time": "2025-05-09T10:52:56.849Z"
   },
   {
    "duration": 3,
    "start_time": "2025-05-09T10:52:56.917Z"
   },
   {
    "duration": 7,
    "start_time": "2025-05-09T10:52:56.922Z"
   },
   {
    "duration": 3,
    "start_time": "2025-05-09T10:52:56.930Z"
   },
   {
    "duration": 7,
    "start_time": "2025-05-09T10:52:56.936Z"
   },
   {
    "duration": 5,
    "start_time": "2025-05-09T10:52:56.945Z"
   },
   {
    "duration": 50,
    "start_time": "2025-05-09T10:52:56.951Z"
   },
   {
    "duration": 28,
    "start_time": "2025-05-09T10:52:57.002Z"
   },
   {
    "duration": 3,
    "start_time": "2025-05-09T10:52:57.032Z"
   },
   {
    "duration": 564,
    "start_time": "2025-05-09T10:52:57.037Z"
   },
   {
    "duration": 0,
    "start_time": "2025-05-09T10:52:57.603Z"
   },
   {
    "duration": 0,
    "start_time": "2025-05-09T10:52:57.605Z"
   },
   {
    "duration": 0,
    "start_time": "2025-05-09T10:52:57.607Z"
   },
   {
    "duration": 0,
    "start_time": "2025-05-09T10:52:57.608Z"
   },
   {
    "duration": 0,
    "start_time": "2025-05-09T10:52:57.610Z"
   },
   {
    "duration": 0,
    "start_time": "2025-05-09T10:52:57.611Z"
   },
   {
    "duration": 305,
    "start_time": "2025-05-09T13:07:11.232Z"
   },
   {
    "duration": 185,
    "start_time": "2025-05-09T13:07:57.744Z"
   },
   {
    "duration": 5,
    "start_time": "2025-05-09T13:08:09.645Z"
   },
   {
    "duration": 12,
    "start_time": "2025-05-09T13:08:20.773Z"
   },
   {
    "duration": 11,
    "start_time": "2025-05-09T13:08:29.270Z"
   },
   {
    "duration": 12,
    "start_time": "2025-05-09T13:08:42.100Z"
   },
   {
    "duration": 297,
    "start_time": "2025-05-09T13:09:04.134Z"
   },
   {
    "duration": 110,
    "start_time": "2025-05-09T13:09:08.777Z"
   },
   {
    "duration": 7,
    "start_time": "2025-05-09T13:09:12.170Z"
   },
   {
    "duration": 19,
    "start_time": "2025-05-09T13:09:16.705Z"
   },
   {
    "duration": 3,
    "start_time": "2025-05-09T13:09:24.332Z"
   },
   {
    "duration": 3,
    "start_time": "2025-05-09T13:09:28.698Z"
   },
   {
    "duration": 4,
    "start_time": "2025-05-09T13:09:40.240Z"
   },
   {
    "duration": 4,
    "start_time": "2025-05-09T13:09:52.300Z"
   },
   {
    "duration": 3,
    "start_time": "2025-05-09T13:10:05.486Z"
   },
   {
    "duration": 17,
    "start_time": "2025-05-09T13:10:12.907Z"
   },
   {
    "duration": 24,
    "start_time": "2025-05-09T13:10:19.689Z"
   },
   {
    "duration": 18,
    "start_time": "2025-05-09T13:10:23.410Z"
   },
   {
    "duration": 61,
    "start_time": "2025-05-09T13:10:31.673Z"
   },
   {
    "duration": 48,
    "start_time": "2025-05-09T13:10:36.006Z"
   },
   {
    "duration": 3,
    "start_time": "2025-05-09T13:10:40.140Z"
   },
   {
    "duration": 6,
    "start_time": "2025-05-09T13:10:45.066Z"
   },
   {
    "duration": 3,
    "start_time": "2025-05-09T13:10:54.754Z"
   },
   {
    "duration": 8,
    "start_time": "2025-05-09T13:10:58.097Z"
   },
   {
    "duration": 6,
    "start_time": "2025-05-09T13:11:02.901Z"
   },
   {
    "duration": 21,
    "start_time": "2025-05-09T13:11:12.762Z"
   },
   {
    "duration": 31,
    "start_time": "2025-05-09T13:11:17.937Z"
   },
   {
    "duration": 3,
    "start_time": "2025-05-09T13:12:01.045Z"
   },
   {
    "duration": 2,
    "start_time": "2025-05-09T13:13:57.915Z"
   },
   {
    "duration": 16,
    "start_time": "2025-05-09T13:14:59.917Z"
   },
   {
    "duration": 13,
    "start_time": "2025-05-09T13:15:51.607Z"
   },
   {
    "duration": 13,
    "start_time": "2025-05-09T13:17:10.740Z"
   },
   {
    "duration": 173,
    "start_time": "2025-05-09T13:18:15.769Z"
   },
   {
    "duration": 12,
    "start_time": "2025-05-09T13:18:26.171Z"
   },
   {
    "duration": 11,
    "start_time": "2025-05-09T13:19:03.826Z"
   },
   {
    "duration": 13,
    "start_time": "2025-05-09T13:19:20.340Z"
   },
   {
    "duration": 5,
    "start_time": "2025-05-09T13:19:59.795Z"
   },
   {
    "duration": 17,
    "start_time": "2025-05-09T13:20:14.390Z"
   },
   {
    "duration": 11,
    "start_time": "2025-05-09T13:20:49.814Z"
   },
   {
    "duration": 12,
    "start_time": "2025-05-09T13:21:47.652Z"
   },
   {
    "duration": 288,
    "start_time": "2025-05-09T13:22:18.676Z"
   },
   {
    "duration": 123,
    "start_time": "2025-05-09T13:22:22.599Z"
   },
   {
    "duration": 7,
    "start_time": "2025-05-09T13:22:26.888Z"
   },
   {
    "duration": 29,
    "start_time": "2025-05-09T13:22:31.090Z"
   },
   {
    "duration": 3,
    "start_time": "2025-05-09T13:22:56.671Z"
   },
   {
    "duration": 3,
    "start_time": "2025-05-09T13:23:03.157Z"
   },
   {
    "duration": 4,
    "start_time": "2025-05-09T13:23:07.151Z"
   },
   {
    "duration": 3,
    "start_time": "2025-05-09T13:23:15.130Z"
   },
   {
    "duration": 4,
    "start_time": "2025-05-09T13:23:25.839Z"
   },
   {
    "duration": 24,
    "start_time": "2025-05-09T13:23:30.950Z"
   },
   {
    "duration": 27,
    "start_time": "2025-05-09T13:23:35.554Z"
   },
   {
    "duration": 22,
    "start_time": "2025-05-09T13:23:40.027Z"
   },
   {
    "duration": 52,
    "start_time": "2025-05-09T13:23:47.834Z"
   },
   {
    "duration": 58,
    "start_time": "2025-05-09T13:23:50.855Z"
   },
   {
    "duration": 3,
    "start_time": "2025-05-09T13:23:54.631Z"
   },
   {
    "duration": 6,
    "start_time": "2025-05-09T13:23:58.303Z"
   },
   {
    "duration": 3,
    "start_time": "2025-05-09T13:24:05.714Z"
   },
   {
    "duration": 9,
    "start_time": "2025-05-09T13:24:08.655Z"
   },
   {
    "duration": 6,
    "start_time": "2025-05-09T13:24:12.153Z"
   },
   {
    "duration": 26,
    "start_time": "2025-05-09T13:24:20.087Z"
   },
   {
    "duration": 33,
    "start_time": "2025-05-09T13:24:26.094Z"
   },
   {
    "duration": 3,
    "start_time": "2025-05-09T13:24:32.031Z"
   },
   {
    "duration": 19,
    "start_time": "2025-05-09T13:24:37.673Z"
   },
   {
    "duration": 21,
    "start_time": "2025-05-09T13:24:44.780Z"
   },
   {
    "duration": 16,
    "start_time": "2025-05-09T13:24:50.040Z"
   },
   {
    "duration": 15,
    "start_time": "2025-05-09T13:24:54.553Z"
   },
   {
    "duration": 18,
    "start_time": "2025-05-09T13:24:59.961Z"
   },
   {
    "duration": 16,
    "start_time": "2025-05-09T13:25:04.506Z"
   },
   {
    "duration": 352,
    "start_time": "2025-05-09T14:04:34.409Z"
   },
   {
    "duration": 98,
    "start_time": "2025-05-09T14:04:34.763Z"
   },
   {
    "duration": 8,
    "start_time": "2025-05-09T14:04:34.863Z"
   },
   {
    "duration": 30,
    "start_time": "2025-05-09T14:04:34.875Z"
   },
   {
    "duration": 3,
    "start_time": "2025-05-09T14:04:34.907Z"
   },
   {
    "duration": 4,
    "start_time": "2025-05-09T14:04:34.912Z"
   },
   {
    "duration": 3,
    "start_time": "2025-05-09T14:04:34.918Z"
   },
   {
    "duration": 4,
    "start_time": "2025-05-09T14:04:34.923Z"
   },
   {
    "duration": 4,
    "start_time": "2025-05-09T14:04:34.928Z"
   },
   {
    "duration": 18,
    "start_time": "2025-05-09T14:04:34.935Z"
   },
   {
    "duration": 25,
    "start_time": "2025-05-09T14:04:34.988Z"
   },
   {
    "duration": 19,
    "start_time": "2025-05-09T14:04:35.015Z"
   },
   {
    "duration": 66,
    "start_time": "2025-05-09T14:04:35.037Z"
   },
   {
    "duration": 47,
    "start_time": "2025-05-09T14:04:35.105Z"
   },
   {
    "duration": 3,
    "start_time": "2025-05-09T14:04:35.154Z"
   },
   {
    "duration": 27,
    "start_time": "2025-05-09T14:04:35.159Z"
   },
   {
    "duration": 3,
    "start_time": "2025-05-09T14:04:35.188Z"
   },
   {
    "duration": 7,
    "start_time": "2025-05-09T14:04:35.194Z"
   },
   {
    "duration": 6,
    "start_time": "2025-05-09T14:04:35.202Z"
   },
   {
    "duration": 19,
    "start_time": "2025-05-09T14:04:35.209Z"
   },
   {
    "duration": 57,
    "start_time": "2025-05-09T14:04:35.230Z"
   },
   {
    "duration": 3,
    "start_time": "2025-05-09T14:04:35.289Z"
   },
   {
    "duration": 16,
    "start_time": "2025-05-09T14:04:35.293Z"
   },
   {
    "duration": 13,
    "start_time": "2025-05-09T14:04:35.310Z"
   },
   {
    "duration": 12,
    "start_time": "2025-05-09T14:04:35.325Z"
   },
   {
    "duration": 12,
    "start_time": "2025-05-09T14:04:35.339Z"
   },
   {
    "duration": 50,
    "start_time": "2025-05-09T14:04:35.353Z"
   },
   {
    "duration": 14,
    "start_time": "2025-05-09T14:04:35.406Z"
   },
   {
    "duration": 356,
    "start_time": "2025-05-09T14:05:11.398Z"
   },
   {
    "duration": 101,
    "start_time": "2025-05-09T14:05:11.756Z"
   },
   {
    "duration": 7,
    "start_time": "2025-05-09T14:05:11.859Z"
   },
   {
    "duration": 31,
    "start_time": "2025-05-09T14:05:11.869Z"
   },
   {
    "duration": 3,
    "start_time": "2025-05-09T14:05:11.901Z"
   },
   {
    "duration": 4,
    "start_time": "2025-05-09T14:05:11.906Z"
   },
   {
    "duration": 4,
    "start_time": "2025-05-09T14:05:11.912Z"
   },
   {
    "duration": 4,
    "start_time": "2025-05-09T14:05:11.918Z"
   },
   {
    "duration": 5,
    "start_time": "2025-05-09T14:05:11.923Z"
   },
   {
    "duration": 17,
    "start_time": "2025-05-09T14:05:11.931Z"
   },
   {
    "duration": 25,
    "start_time": "2025-05-09T14:05:11.987Z"
   },
   {
    "duration": 17,
    "start_time": "2025-05-09T14:05:12.014Z"
   },
   {
    "duration": 73,
    "start_time": "2025-05-09T14:05:12.033Z"
   },
   {
    "duration": 50,
    "start_time": "2025-05-09T14:05:12.108Z"
   },
   {
    "duration": 3,
    "start_time": "2025-05-09T14:05:12.160Z"
   },
   {
    "duration": 26,
    "start_time": "2025-05-09T14:05:12.165Z"
   },
   {
    "duration": 4,
    "start_time": "2025-05-09T14:05:12.193Z"
   },
   {
    "duration": 8,
    "start_time": "2025-05-09T14:05:12.199Z"
   },
   {
    "duration": 6,
    "start_time": "2025-05-09T14:05:12.209Z"
   },
   {
    "duration": 20,
    "start_time": "2025-05-09T14:05:12.217Z"
   },
   {
    "duration": 64,
    "start_time": "2025-05-09T14:05:12.239Z"
   },
   {
    "duration": 3,
    "start_time": "2025-05-09T14:05:12.305Z"
   },
   {
    "duration": 16,
    "start_time": "2025-05-09T14:05:12.310Z"
   },
   {
    "duration": 13,
    "start_time": "2025-05-09T14:05:12.329Z"
   },
   {
    "duration": 44,
    "start_time": "2025-05-09T14:05:12.344Z"
   },
   {
    "duration": 13,
    "start_time": "2025-05-09T14:05:12.390Z"
   },
   {
    "duration": 15,
    "start_time": "2025-05-09T14:05:12.405Z"
   },
   {
    "duration": 13,
    "start_time": "2025-05-09T14:05:12.424Z"
   }
  ],
  "colab": {
   "collapsed_sections": [
    "E0vqbgi9ay0H",
    "VUC88oWjTJw2"
   ],
   "provenance": []
  },
  "kernelspec": {
   "display_name": ".venv",
   "language": "python",
   "name": "python3"
  },
  "language_info": {
   "codemirror_mode": {
    "name": "ipython",
    "version": 3
   },
   "file_extension": ".py",
   "mimetype": "text/x-python",
   "name": "python",
   "nbconvert_exporter": "python",
   "pygments_lexer": "ipython3",
   "version": "3.11.9"
  },
  "toc": {
   "base_numbering": 1,
   "nav_menu": {},
   "number_sections": true,
   "sideBar": true,
   "skip_h1_title": true,
   "title_cell": "Table of Contents",
   "title_sidebar": "Contents",
   "toc_cell": false,
   "toc_position": {},
   "toc_section_display": true,
   "toc_window_display": false
  }
 },
 "nbformat": 4,
 "nbformat_minor": 1
}
