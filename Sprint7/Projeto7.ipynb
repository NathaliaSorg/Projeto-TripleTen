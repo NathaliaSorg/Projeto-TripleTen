{
 "cells": [
  {
   "cell_type": "markdown",
   "id": "53424f82",
   "metadata": {},
   "source": [
    "Estará trabalhando como analista da Zuber, uma nova empresa de compartilhamento de caronas que está sendo lançada em Chicago. A tarefa é encontrar padrões nas informações disponíveis. Entender as preferências dos passageiros e o impacto de fatores externos nas corridas.\n",
    "\n",
    "Trabalhando com um banco de dados, você analisará dados de concorrentes e testará uma hipótese sobre o impacto do clima na frequência das viagens."
   ]
  },
  {
   "cell_type": "markdown",
   "id": "b33e930c",
   "metadata": {},
   "source": [
    "Análise exploratória de dados (Python)"
   ]
  },
  {
   "cell_type": "code",
   "execution_count": null,
   "id": "21856ef8",
   "metadata": {},
   "outputs": [],
   "source": [
    "#Importar os arquivos\n",
    "import pandas as pd\n",
    "import numpy as np\n",
    "import matplotlib.pyplot as plt\n",
    "import seaborn as sns\n",
    "from scipy import stats"
   ]
  },
  {
   "cell_type": "code",
   "execution_count": 2,
   "id": "ec07db99",
   "metadata": {},
   "outputs": [],
   "source": [
    "df_trips_amount = pd.read_csv('moved_project_sql_result_01.csv')\n",
    "df_dropoff_location_name = pd.read_csv('moved_project_sql_result_04.csv')\n",
    "df_average_trips = pd.read_csv('moved_project_sql_result_07.csv')"
   ]
  },
  {
   "cell_type": "code",
   "execution_count": 3,
   "id": "e356cb79",
   "metadata": {},
   "outputs": [
    {
     "name": "stdout",
     "output_type": "stream",
     "text": [
      "                      company_name  trips_amount\n",
      "0                        Flash Cab         19558\n",
      "1        Taxi Affiliation Services         11422\n",
      "2                 Medallion Leasin         10367\n",
      "3                       Yellow Cab          9888\n",
      "4  Taxi Affiliation Service Yellow          9299\n",
      "  dropoff_location_name  average_trips\n",
      "0                  Loop   10727.466667\n",
      "1           River North    9523.666667\n",
      "2         Streeterville    6664.666667\n",
      "3             West Loop    5163.666667\n",
      "4                O'Hare    2546.900000\n",
      "              start_ts weather_conditions  duration_seconds\n",
      "0  2017-11-25 16:00:00               Good            2410.0\n",
      "1  2017-11-25 14:00:00               Good            1920.0\n",
      "2  2017-11-25 12:00:00               Good            1543.0\n",
      "3  2017-11-04 10:00:00               Good            2512.0\n",
      "4  2017-11-11 07:00:00               Good            1440.0\n"
     ]
    }
   ],
   "source": [
    "#Estudar os dados que eles contêm\n",
    "print(df_trips_amount.head())\n",
    "print(df_dropoff_location_name.head())\n",
    "print(df_average_trips.head())"
   ]
  },
  {
   "cell_type": "code",
   "execution_count": 4,
   "id": "2aac72ca",
   "metadata": {},
   "outputs": [
    {
     "data": {
      "application/vnd.microsoft.datawrangler.viewer.v0+json": {
       "columns": [
        {
         "name": "index",
         "rawType": "int64",
         "type": "integer"
        },
        {
         "name": "company_name",
         "rawType": "object",
         "type": "string"
        },
        {
         "name": "trips_amount",
         "rawType": "int64",
         "type": "integer"
        }
       ],
       "ref": "c3f03aed-a2ac-43bd-8584-02be0a510637",
       "rows": [
        [
         "0",
         "Flash Cab",
         "19558"
        ],
        [
         "1",
         "Taxi Affiliation Services",
         "11422"
        ],
        [
         "2",
         "Medallion Leasin",
         "10367"
        ],
        [
         "3",
         "Yellow Cab",
         "9888"
        ],
        [
         "4",
         "Taxi Affiliation Service Yellow",
         "9299"
        ],
        [
         "5",
         "Chicago Carriage Cab Corp",
         "9181"
        ],
        [
         "6",
         "City Service",
         "8448"
        ],
        [
         "7",
         "Sun Taxi",
         "7701"
        ],
        [
         "8",
         "Star North Management LLC",
         "7455"
        ],
        [
         "9",
         "Blue Ribbon Taxi Association Inc.",
         "5953"
        ],
        [
         "10",
         "Choice Taxi Association",
         "5015"
        ],
        [
         "11",
         "Globe Taxi",
         "4383"
        ],
        [
         "12",
         "Dispatch Taxi Affiliation",
         "3355"
        ],
        [
         "13",
         "Nova Taxi Affiliation Llc",
         "3175"
        ],
        [
         "14",
         "Patriot Taxi Dba Peace Taxi Associat",
         "2235"
        ],
        [
         "15",
         "Checker Taxi Affiliation",
         "2216"
        ],
        [
         "16",
         "Blue Diamond",
         "2070"
        ],
        [
         "17",
         "Chicago Medallion Management",
         "1955"
        ],
        [
         "18",
         "24 Seven Taxi",
         "1775"
        ],
        [
         "19",
         "Chicago Medallion Leasing INC",
         "1607"
        ],
        [
         "20",
         "Checker Taxi",
         "1486"
        ],
        [
         "21",
         "American United",
         "1404"
        ],
        [
         "22",
         "Chicago Independents",
         "1296"
        ],
        [
         "23",
         "KOAM Taxi Association",
         "1259"
        ],
        [
         "24",
         "Chicago Taxicab",
         "1014"
        ],
        [
         "25",
         "Top Cab Affiliation",
         "978"
        ],
        [
         "26",
         "Gold Coast Taxi",
         "428"
        ],
        [
         "27",
         "Service Taxi Association",
         "402"
        ],
        [
         "28",
         "5 Star Taxi",
         "310"
        ],
        [
         "29",
         "303 Taxi",
         "250"
        ],
        [
         "30",
         "Setare Inc",
         "230"
        ],
        [
         "31",
         "American United Taxi Affiliation",
         "210"
        ],
        [
         "32",
         "Leonard Cab Co",
         "147"
        ],
        [
         "33",
         "Metro Jet Taxi A",
         "146"
        ],
        [
         "34",
         "Norshore Cab",
         "127"
        ],
        [
         "35",
         "6742 - 83735 Tasha ride inc",
         "39"
        ],
        [
         "36",
         "3591 - 63480 Chuks Cab",
         "37"
        ],
        [
         "37",
         "1469 - 64126 Omar Jada",
         "36"
        ],
        [
         "38",
         "6743 - 78771 Luhak Corp",
         "33"
        ],
        [
         "39",
         "0118 - 42111 Godfrey S.Awir",
         "33"
        ],
        [
         "40",
         "6574 - Babylon Express Inc.",
         "31"
        ],
        [
         "41",
         "Chicago Star Taxicab",
         "29"
        ],
        [
         "42",
         "1085 - 72312 N and W Cab Co",
         "29"
        ],
        [
         "43",
         "2809 - 95474 C & D Cab Co Inc.",
         "29"
        ],
        [
         "44",
         "2092 - 61288 Sbeih company",
         "27"
        ],
        [
         "45",
         "3011 - 66308 JBL Cab Inc.",
         "25"
        ],
        [
         "46",
         "3620 - 52292 David K. Cab Corp.",
         "21"
        ],
        [
         "47",
         "4615 - 83503 Tyrone Henderson",
         "21"
        ],
        [
         "48",
         "3623 - 72222 Arrington Enterprises",
         "20"
        ],
        [
         "49",
         "5074 - 54002 Ahzmi Inc",
         "16"
        ]
       ],
       "shape": {
        "columns": 2,
        "rows": 64
       }
      },
      "text/html": [
       "<div>\n",
       "<style scoped>\n",
       "    .dataframe tbody tr th:only-of-type {\n",
       "        vertical-align: middle;\n",
       "    }\n",
       "\n",
       "    .dataframe tbody tr th {\n",
       "        vertical-align: top;\n",
       "    }\n",
       "\n",
       "    .dataframe thead th {\n",
       "        text-align: right;\n",
       "    }\n",
       "</style>\n",
       "<table border=\"1\" class=\"dataframe\">\n",
       "  <thead>\n",
       "    <tr style=\"text-align: right;\">\n",
       "      <th></th>\n",
       "      <th>company_name</th>\n",
       "      <th>trips_amount</th>\n",
       "    </tr>\n",
       "  </thead>\n",
       "  <tbody>\n",
       "    <tr>\n",
       "      <th>0</th>\n",
       "      <td>Flash Cab</td>\n",
       "      <td>19558</td>\n",
       "    </tr>\n",
       "    <tr>\n",
       "      <th>1</th>\n",
       "      <td>Taxi Affiliation Services</td>\n",
       "      <td>11422</td>\n",
       "    </tr>\n",
       "    <tr>\n",
       "      <th>2</th>\n",
       "      <td>Medallion Leasin</td>\n",
       "      <td>10367</td>\n",
       "    </tr>\n",
       "    <tr>\n",
       "      <th>3</th>\n",
       "      <td>Yellow Cab</td>\n",
       "      <td>9888</td>\n",
       "    </tr>\n",
       "    <tr>\n",
       "      <th>4</th>\n",
       "      <td>Taxi Affiliation Service Yellow</td>\n",
       "      <td>9299</td>\n",
       "    </tr>\n",
       "    <tr>\n",
       "      <th>...</th>\n",
       "      <td>...</td>\n",
       "      <td>...</td>\n",
       "    </tr>\n",
       "    <tr>\n",
       "      <th>59</th>\n",
       "      <td>4053 - 40193 Adwar H. Nikola</td>\n",
       "      <td>7</td>\n",
       "    </tr>\n",
       "    <tr>\n",
       "      <th>60</th>\n",
       "      <td>2733 - 74600 Benny Jona</td>\n",
       "      <td>7</td>\n",
       "    </tr>\n",
       "    <tr>\n",
       "      <th>61</th>\n",
       "      <td>5874 - 73628 Sergey Cab Corp.</td>\n",
       "      <td>5</td>\n",
       "    </tr>\n",
       "    <tr>\n",
       "      <th>62</th>\n",
       "      <td>2241 - 44667 - Felman Corp, Manuel Alonso</td>\n",
       "      <td>3</td>\n",
       "    </tr>\n",
       "    <tr>\n",
       "      <th>63</th>\n",
       "      <td>3556 - 36214 RC Andrews Cab</td>\n",
       "      <td>2</td>\n",
       "    </tr>\n",
       "  </tbody>\n",
       "</table>\n",
       "<p>64 rows × 2 columns</p>\n",
       "</div>"
      ],
      "text/plain": [
       "                                 company_name  trips_amount\n",
       "0                                   Flash Cab         19558\n",
       "1                   Taxi Affiliation Services         11422\n",
       "2                            Medallion Leasin         10367\n",
       "3                                  Yellow Cab          9888\n",
       "4             Taxi Affiliation Service Yellow          9299\n",
       "..                                        ...           ...\n",
       "59               4053 - 40193 Adwar H. Nikola             7\n",
       "60                    2733 - 74600 Benny Jona             7\n",
       "61              5874 - 73628 Sergey Cab Corp.             5\n",
       "62  2241 - 44667 - Felman Corp, Manuel Alonso             3\n",
       "63                3556 - 36214 RC Andrews Cab             2\n",
       "\n",
       "[64 rows x 2 columns]"
      ]
     },
     "execution_count": 4,
     "metadata": {},
     "output_type": "execute_result"
    }
   ],
   "source": [
    "df_trips_amount"
   ]
  },
  {
   "cell_type": "code",
   "execution_count": 5,
   "id": "4bb9345d",
   "metadata": {},
   "outputs": [
    {
     "data": {
      "application/vnd.microsoft.datawrangler.viewer.v0+json": {
       "columns": [
        {
         "name": "index",
         "rawType": "int64",
         "type": "integer"
        },
        {
         "name": "start_ts",
         "rawType": "object",
         "type": "string"
        },
        {
         "name": "weather_conditions",
         "rawType": "object",
         "type": "string"
        },
        {
         "name": "duration_seconds",
         "rawType": "float64",
         "type": "float"
        }
       ],
       "ref": "e61f217a-d8f4-4233-b3ad-f23df0e2a77e",
       "rows": [
        [
         "0",
         "2017-11-25 16:00:00",
         "Good",
         "2410.0"
        ],
        [
         "1",
         "2017-11-25 14:00:00",
         "Good",
         "1920.0"
        ],
        [
         "2",
         "2017-11-25 12:00:00",
         "Good",
         "1543.0"
        ],
        [
         "3",
         "2017-11-04 10:00:00",
         "Good",
         "2512.0"
        ],
        [
         "4",
         "2017-11-11 07:00:00",
         "Good",
         "1440.0"
        ],
        [
         "5",
         "2017-11-11 04:00:00",
         "Good",
         "1320.0"
        ],
        [
         "6",
         "2017-11-04 16:00:00",
         "Bad",
         "2969.0"
        ],
        [
         "7",
         "2017-11-18 11:00:00",
         "Good",
         "2280.0"
        ],
        [
         "8",
         "2017-11-11 14:00:00",
         "Good",
         "2460.0"
        ],
        [
         "9",
         "2017-11-11 12:00:00",
         "Good",
         "2040.0"
        ],
        [
         "10",
         "2017-11-18 06:00:00",
         "Good",
         "1500.0"
        ],
        [
         "11",
         "2017-11-04 11:00:00",
         "Good",
         "2040.0"
        ],
        [
         "12",
         "2017-11-11 08:00:00",
         "Good",
         "1470.0"
        ],
        [
         "13",
         "2017-11-04 08:00:00",
         "Good",
         "1546.0"
        ],
        [
         "14",
         "2017-11-11 16:00:00",
         "Good",
         "2100.0"
        ],
        [
         "15",
         "2017-11-25 13:00:00",
         "Good",
         "60.0"
        ],
        [
         "16",
         "2017-11-04 12:00:00",
         "Good",
         "2640.0"
        ],
        [
         "17",
         "2017-11-25 10:00:00",
         "Good",
         "1502.0"
        ],
        [
         "18",
         "2017-11-11 12:00:00",
         "Good",
         "1915.0"
        ],
        [
         "19",
         "2017-11-04 12:00:00",
         "Good",
         "2769.0"
        ],
        [
         "20",
         "2017-11-11 13:00:00",
         "Good",
         "2250.0"
        ],
        [
         "21",
         "2017-11-11 04:00:00",
         "Good",
         "1260.0"
        ],
        [
         "22",
         "2017-11-18 14:00:00",
         "Good",
         "2826.0"
        ],
        [
         "23",
         "2017-11-04 14:00:00",
         "Good",
         "3360.0"
        ],
        [
         "24",
         "2017-11-04 14:00:00",
         "Good",
         "3180.0"
        ],
        [
         "25",
         "2017-11-25 20:00:00",
         "Good",
         "2100.0"
        ],
        [
         "26",
         "2017-11-04 10:00:00",
         "Good",
         "1800.0"
        ],
        [
         "27",
         "2017-11-11 12:00:00",
         "Good",
         "2289.0"
        ],
        [
         "28",
         "2017-11-04 08:00:00",
         "Good",
         "1494.0"
        ],
        [
         "29",
         "2017-11-11 11:00:00",
         "Good",
         "1560.0"
        ],
        [
         "30",
         "2017-11-18 12:00:00",
         "Bad",
         "1980.0"
        ],
        [
         "31",
         "2017-11-11 13:00:00",
         "Good",
         "2115.0"
        ],
        [
         "32",
         "2017-11-11 10:00:00",
         "Good",
         "1506.0"
        ],
        [
         "33",
         "2017-11-04 12:00:00",
         "Good",
         "2580.0"
        ],
        [
         "34",
         "2017-11-04 17:00:00",
         "Bad",
         "2460.0"
        ],
        [
         "35",
         "2017-11-11 09:00:00",
         "Good",
         "1620.0"
        ],
        [
         "36",
         "2017-11-04 06:00:00",
         "Good",
         "1163.0"
        ],
        [
         "37",
         "2017-11-04 05:00:00",
         "Good",
         "1533.0"
        ],
        [
         "38",
         "2017-11-11 04:00:00",
         "Good",
         "1477.0"
        ],
        [
         "39",
         "2017-11-11 19:00:00",
         "Good",
         "1984.0"
        ],
        [
         "40",
         "2017-11-04 13:00:00",
         "Good",
         "2940.0"
        ],
        [
         "41",
         "2017-11-04 07:00:00",
         "Good",
         "1320.0"
        ],
        [
         "42",
         "2017-11-04 06:00:00",
         "Good",
         "1440.0"
        ],
        [
         "43",
         "2017-11-11 06:00:00",
         "Good",
         "1260.0"
        ],
        [
         "44",
         "2017-11-11 08:00:00",
         "Good",
         "1560.0"
        ],
        [
         "45",
         "2017-11-04 09:00:00",
         "Good",
         "1683.0"
        ],
        [
         "46",
         "2017-11-11 05:00:00",
         "Good",
         "1343.0"
        ],
        [
         "47",
         "2017-11-18 06:00:00",
         "Good",
         "1742.0"
        ],
        [
         "48",
         "2017-11-04 09:00:00",
         "Good",
         "1560.0"
        ],
        [
         "49",
         "2017-11-11 08:00:00",
         "Good",
         "1358.0"
        ]
       ],
       "shape": {
        "columns": 3,
        "rows": 1068
       }
      },
      "text/html": [
       "<div>\n",
       "<style scoped>\n",
       "    .dataframe tbody tr th:only-of-type {\n",
       "        vertical-align: middle;\n",
       "    }\n",
       "\n",
       "    .dataframe tbody tr th {\n",
       "        vertical-align: top;\n",
       "    }\n",
       "\n",
       "    .dataframe thead th {\n",
       "        text-align: right;\n",
       "    }\n",
       "</style>\n",
       "<table border=\"1\" class=\"dataframe\">\n",
       "  <thead>\n",
       "    <tr style=\"text-align: right;\">\n",
       "      <th></th>\n",
       "      <th>start_ts</th>\n",
       "      <th>weather_conditions</th>\n",
       "      <th>duration_seconds</th>\n",
       "    </tr>\n",
       "  </thead>\n",
       "  <tbody>\n",
       "    <tr>\n",
       "      <th>0</th>\n",
       "      <td>2017-11-25 16:00:00</td>\n",
       "      <td>Good</td>\n",
       "      <td>2410.0</td>\n",
       "    </tr>\n",
       "    <tr>\n",
       "      <th>1</th>\n",
       "      <td>2017-11-25 14:00:00</td>\n",
       "      <td>Good</td>\n",
       "      <td>1920.0</td>\n",
       "    </tr>\n",
       "    <tr>\n",
       "      <th>2</th>\n",
       "      <td>2017-11-25 12:00:00</td>\n",
       "      <td>Good</td>\n",
       "      <td>1543.0</td>\n",
       "    </tr>\n",
       "    <tr>\n",
       "      <th>3</th>\n",
       "      <td>2017-11-04 10:00:00</td>\n",
       "      <td>Good</td>\n",
       "      <td>2512.0</td>\n",
       "    </tr>\n",
       "    <tr>\n",
       "      <th>4</th>\n",
       "      <td>2017-11-11 07:00:00</td>\n",
       "      <td>Good</td>\n",
       "      <td>1440.0</td>\n",
       "    </tr>\n",
       "    <tr>\n",
       "      <th>...</th>\n",
       "      <td>...</td>\n",
       "      <td>...</td>\n",
       "      <td>...</td>\n",
       "    </tr>\n",
       "    <tr>\n",
       "      <th>1063</th>\n",
       "      <td>2017-11-25 11:00:00</td>\n",
       "      <td>Good</td>\n",
       "      <td>0.0</td>\n",
       "    </tr>\n",
       "    <tr>\n",
       "      <th>1064</th>\n",
       "      <td>2017-11-11 10:00:00</td>\n",
       "      <td>Good</td>\n",
       "      <td>1318.0</td>\n",
       "    </tr>\n",
       "    <tr>\n",
       "      <th>1065</th>\n",
       "      <td>2017-11-11 13:00:00</td>\n",
       "      <td>Good</td>\n",
       "      <td>2100.0</td>\n",
       "    </tr>\n",
       "    <tr>\n",
       "      <th>1066</th>\n",
       "      <td>2017-11-11 08:00:00</td>\n",
       "      <td>Good</td>\n",
       "      <td>1380.0</td>\n",
       "    </tr>\n",
       "    <tr>\n",
       "      <th>1067</th>\n",
       "      <td>2017-11-04 16:00:00</td>\n",
       "      <td>Bad</td>\n",
       "      <td>2834.0</td>\n",
       "    </tr>\n",
       "  </tbody>\n",
       "</table>\n",
       "<p>1068 rows × 3 columns</p>\n",
       "</div>"
      ],
      "text/plain": [
       "                 start_ts weather_conditions  duration_seconds\n",
       "0     2017-11-25 16:00:00               Good            2410.0\n",
       "1     2017-11-25 14:00:00               Good            1920.0\n",
       "2     2017-11-25 12:00:00               Good            1543.0\n",
       "3     2017-11-04 10:00:00               Good            2512.0\n",
       "4     2017-11-11 07:00:00               Good            1440.0\n",
       "...                   ...                ...               ...\n",
       "1063  2017-11-25 11:00:00               Good               0.0\n",
       "1064  2017-11-11 10:00:00               Good            1318.0\n",
       "1065  2017-11-11 13:00:00               Good            2100.0\n",
       "1066  2017-11-11 08:00:00               Good            1380.0\n",
       "1067  2017-11-04 16:00:00                Bad            2834.0\n",
       "\n",
       "[1068 rows x 3 columns]"
      ]
     },
     "execution_count": 5,
     "metadata": {},
     "output_type": "execute_result"
    }
   ],
   "source": [
    "df_average_trips"
   ]
  },
  {
   "cell_type": "code",
   "execution_count": 6,
   "id": "2f2405f0",
   "metadata": {},
   "outputs": [
    {
     "name": "stdout",
     "output_type": "stream",
     "text": [
      "company_name    object\n",
      "trips_amount     int64\n",
      "dtype: object\n",
      "dropoff_location_name     object\n",
      "average_trips            float64\n",
      "dtype: object\n",
      "start_ts               object\n",
      "weather_conditions     object\n",
      "duration_seconds      float64\n",
      "dtype: object\n"
     ]
    }
   ],
   "source": [
    "#Verificar se os tipos de dados estão corretos\n",
    "print(df_trips_amount.dtypes)\n",
    "print(df_dropoff_location_name.dtypes)\n",
    "print(df_average_trips.dtypes)\n"
   ]
  },
  {
   "cell_type": "code",
   "execution_count": 7,
   "id": "3d82f97c",
   "metadata": {},
   "outputs": [
    {
     "name": "stdout",
     "output_type": "stream",
     "text": [
      "company_name    0\n",
      "trips_amount    0\n",
      "dtype: int64\n",
      "dropoff_location_name    0\n",
      "average_trips            0\n",
      "dtype: int64\n",
      "start_ts              0\n",
      "weather_conditions    0\n",
      "duration_seconds      0\n",
      "dtype: int64\n"
     ]
    }
   ],
   "source": [
    "#Verificar se há valores ausentes\n",
    "print(df_trips_amount.isna().sum())\n",
    "print(df_dropoff_location_name.isna().sum())\n",
    "print(df_average_trips.isna().sum())"
   ]
  },
  {
   "cell_type": "code",
   "execution_count": null,
   "id": "c51c16ef",
   "metadata": {},
   "outputs": [
    {
     "data": {
      "application/vnd.microsoft.datawrangler.viewer.v0+json": {
       "columns": [
        {
         "name": "index",
         "rawType": "int64",
         "type": "integer"
        },
        {
         "name": "dropoff_location_name",
         "rawType": "object",
         "type": "string"
        },
        {
         "name": "average_trips",
         "rawType": "float64",
         "type": "float"
        }
       ],
       "ref": "c79ddfdd-fafb-4e5b-a793-0503f0dbfac6",
       "rows": [
        [
         "0",
         "Loop",
         "10727.466666666667"
        ],
        [
         "1",
         "River North",
         "9523.666666666666"
        ],
        [
         "2",
         "Streeterville",
         "6664.666666666667"
        ],
        [
         "3",
         "West Loop",
         "5163.666666666667"
        ],
        [
         "4",
         "O'Hare",
         "2546.9"
        ],
        [
         "5",
         "Lake View",
         "2420.9666666666667"
        ],
        [
         "6",
         "Grant Park",
         "2068.5333333333333"
        ],
        [
         "7",
         "Museum Campus",
         "1510.0"
        ],
        [
         "8",
         "Gold Coast",
         "1364.2333333333331"
        ],
        [
         "9",
         "Sheffield & DePaul",
         "1259.7666666666669"
        ]
       ],
       "shape": {
        "columns": 2,
        "rows": 10
       }
      },
      "text/html": [
       "<div>\n",
       "<style scoped>\n",
       "    .dataframe tbody tr th:only-of-type {\n",
       "        vertical-align: middle;\n",
       "    }\n",
       "\n",
       "    .dataframe tbody tr th {\n",
       "        vertical-align: top;\n",
       "    }\n",
       "\n",
       "    .dataframe thead th {\n",
       "        text-align: right;\n",
       "    }\n",
       "</style>\n",
       "<table border=\"1\" class=\"dataframe\">\n",
       "  <thead>\n",
       "    <tr style=\"text-align: right;\">\n",
       "      <th></th>\n",
       "      <th>dropoff_location_name</th>\n",
       "      <th>average_trips</th>\n",
       "    </tr>\n",
       "  </thead>\n",
       "  <tbody>\n",
       "    <tr>\n",
       "      <th>0</th>\n",
       "      <td>Loop</td>\n",
       "      <td>10727.466667</td>\n",
       "    </tr>\n",
       "    <tr>\n",
       "      <th>1</th>\n",
       "      <td>River North</td>\n",
       "      <td>9523.666667</td>\n",
       "    </tr>\n",
       "    <tr>\n",
       "      <th>2</th>\n",
       "      <td>Streeterville</td>\n",
       "      <td>6664.666667</td>\n",
       "    </tr>\n",
       "    <tr>\n",
       "      <th>3</th>\n",
       "      <td>West Loop</td>\n",
       "      <td>5163.666667</td>\n",
       "    </tr>\n",
       "    <tr>\n",
       "      <th>4</th>\n",
       "      <td>O'Hare</td>\n",
       "      <td>2546.900000</td>\n",
       "    </tr>\n",
       "    <tr>\n",
       "      <th>5</th>\n",
       "      <td>Lake View</td>\n",
       "      <td>2420.966667</td>\n",
       "    </tr>\n",
       "    <tr>\n",
       "      <th>6</th>\n",
       "      <td>Grant Park</td>\n",
       "      <td>2068.533333</td>\n",
       "    </tr>\n",
       "    <tr>\n",
       "      <th>7</th>\n",
       "      <td>Museum Campus</td>\n",
       "      <td>1510.000000</td>\n",
       "    </tr>\n",
       "    <tr>\n",
       "      <th>8</th>\n",
       "      <td>Gold Coast</td>\n",
       "      <td>1364.233333</td>\n",
       "    </tr>\n",
       "    <tr>\n",
       "      <th>9</th>\n",
       "      <td>Sheffield &amp; DePaul</td>\n",
       "      <td>1259.766667</td>\n",
       "    </tr>\n",
       "  </tbody>\n",
       "</table>\n",
       "</div>"
      ],
      "text/plain": [
       "  dropoff_location_name  average_trips\n",
       "0                  Loop   10727.466667\n",
       "1           River North    9523.666667\n",
       "2         Streeterville    6664.666667\n",
       "3             West Loop    5163.666667\n",
       "4                O'Hare    2546.900000\n",
       "5             Lake View    2420.966667\n",
       "6            Grant Park    2068.533333\n",
       "7         Museum Campus    1510.000000\n",
       "8            Gold Coast    1364.233333\n",
       "9    Sheffield & DePaul    1259.766667"
      ]
     },
     "execution_count": 8,
     "metadata": {},
     "output_type": "execute_result"
    }
   ],
   "source": [
    "#Identificar os 10 principais bairros em termos de destinos?\n",
    "df_dropoff_location_name.head(10)"
   ]
  },
  {
   "cell_type": "code",
   "execution_count": 9,
   "id": "6c249a8a",
   "metadata": {},
   "outputs": [
    {
     "name": "stderr",
     "output_type": "stream",
     "text": [
      "C:\\Users\\Usuário\\AppData\\Local\\Temp\\ipykernel_12156\\3480466972.py:4: FutureWarning: \n",
      "\n",
      "Passing `palette` without assigning `hue` is deprecated and will be removed in v0.14.0. Assign the `x` variable to `hue` and set `legend=False` for the same effect.\n",
      "\n",
      "  sns.barplot(x='dropoff_location_name', y='average_trips', data=df_dropoff_location_name.head(10), palette='coolwarm')\n"
     ]
    },
    {
     "data": {
      "image/png": "[encoded data removed]",
      "text/plain": [
       "<Figure size 1200x600 with 1 Axes>"
      ]
     },
     "metadata": {},
     "output_type": "display_data"
    }
   ],
   "source": [
    "#Fazer gráficos:Top 10 bairros por número de corridas.\n",
    "\n",
    "plt.figure(figsize=(12, 6))\n",
    "sns.barplot(x='dropoff_location_name', y='average_trips', data=df_dropoff_location_name.head(10), palette='coolwarm')\n",
    "plt.title('Top 10 Bairros por Número de Corridas')\n",
    "plt.xlabel('Bairro')\n",
    "plt.ylabel('Número de Corridas')\n",
    "plt.xticks(rotation=45)\n",
    "plt.show()\n"
   ]
  },
  {
   "cell_type": "code",
   "execution_count": 10,
   "id": "f4f281a9",
   "metadata": {},
   "outputs": [
    {
     "data": {
      "application/vnd.microsoft.datawrangler.viewer.v0+json": {
       "columns": [
        {
         "name": "index",
         "rawType": "int64",
         "type": "integer"
        },
        {
         "name": "company_name",
         "rawType": "object",
         "type": "string"
        },
        {
         "name": "trips_amount",
         "rawType": "int64",
         "type": "integer"
        }
       ],
       "ref": "4f39d9e5-ccb8-490b-9eaf-bda97aec5895",
       "rows": [
        [
         "0",
         "Flash Cab",
         "19558"
        ],
        [
         "1",
         "Taxi Affiliation Services",
         "11422"
        ],
        [
         "2",
         "Medallion Leasin",
         "10367"
        ],
        [
         "3",
         "Yellow Cab",
         "9888"
        ],
        [
         "4",
         "Taxi Affiliation Service Yellow",
         "9299"
        ],
        [
         "5",
         "Chicago Carriage Cab Corp",
         "9181"
        ],
        [
         "6",
         "City Service",
         "8448"
        ],
        [
         "7",
         "Sun Taxi",
         "7701"
        ],
        [
         "8",
         "Star North Management LLC",
         "7455"
        ],
        [
         "9",
         "Blue Ribbon Taxi Association Inc.",
         "5953"
        ]
       ],
       "shape": {
        "columns": 2,
        "rows": 10
       }
      },
      "text/html": [
       "<div>\n",
       "<style scoped>\n",
       "    .dataframe tbody tr th:only-of-type {\n",
       "        vertical-align: middle;\n",
       "    }\n",
       "\n",
       "    .dataframe tbody tr th {\n",
       "        vertical-align: top;\n",
       "    }\n",
       "\n",
       "    .dataframe thead th {\n",
       "        text-align: right;\n",
       "    }\n",
       "</style>\n",
       "<table border=\"1\" class=\"dataframe\">\n",
       "  <thead>\n",
       "    <tr style=\"text-align: right;\">\n",
       "      <th></th>\n",
       "      <th>company_name</th>\n",
       "      <th>trips_amount</th>\n",
       "    </tr>\n",
       "  </thead>\n",
       "  <tbody>\n",
       "    <tr>\n",
       "      <th>0</th>\n",
       "      <td>Flash Cab</td>\n",
       "      <td>19558</td>\n",
       "    </tr>\n",
       "    <tr>\n",
       "      <th>1</th>\n",
       "      <td>Taxi Affiliation Services</td>\n",
       "      <td>11422</td>\n",
       "    </tr>\n",
       "    <tr>\n",
       "      <th>2</th>\n",
       "      <td>Medallion Leasin</td>\n",
       "      <td>10367</td>\n",
       "    </tr>\n",
       "    <tr>\n",
       "      <th>3</th>\n",
       "      <td>Yellow Cab</td>\n",
       "      <td>9888</td>\n",
       "    </tr>\n",
       "    <tr>\n",
       "      <th>4</th>\n",
       "      <td>Taxi Affiliation Service Yellow</td>\n",
       "      <td>9299</td>\n",
       "    </tr>\n",
       "    <tr>\n",
       "      <th>5</th>\n",
       "      <td>Chicago Carriage Cab Corp</td>\n",
       "      <td>9181</td>\n",
       "    </tr>\n",
       "    <tr>\n",
       "      <th>6</th>\n",
       "      <td>City Service</td>\n",
       "      <td>8448</td>\n",
       "    </tr>\n",
       "    <tr>\n",
       "      <th>7</th>\n",
       "      <td>Sun Taxi</td>\n",
       "      <td>7701</td>\n",
       "    </tr>\n",
       "    <tr>\n",
       "      <th>8</th>\n",
       "      <td>Star North Management LLC</td>\n",
       "      <td>7455</td>\n",
       "    </tr>\n",
       "    <tr>\n",
       "      <th>9</th>\n",
       "      <td>Blue Ribbon Taxi Association Inc.</td>\n",
       "      <td>5953</td>\n",
       "    </tr>\n",
       "  </tbody>\n",
       "</table>\n",
       "</div>"
      ],
      "text/plain": [
       "                        company_name  trips_amount\n",
       "0                          Flash Cab         19558\n",
       "1          Taxi Affiliation Services         11422\n",
       "2                   Medallion Leasin         10367\n",
       "3                         Yellow Cab          9888\n",
       "4    Taxi Affiliation Service Yellow          9299\n",
       "5          Chicago Carriage Cab Corp          9181\n",
       "6                       City Service          8448\n",
       "7                           Sun Taxi          7701\n",
       "8          Star North Management LLC          7455\n",
       "9  Blue Ribbon Taxi Association Inc.          5953"
      ]
     },
     "execution_count": 10,
     "metadata": {},
     "output_type": "execute_result"
    }
   ],
   "source": [
    "df_trips_amount.head(10)"
   ]
  },
  {
   "cell_type": "code",
   "execution_count": 11,
   "id": "8b873c35",
   "metadata": {},
   "outputs": [
    {
     "name": "stderr",
     "output_type": "stream",
     "text": [
      "C:\\Users\\Usuário\\AppData\\Local\\Temp\\ipykernel_12156\\1322630726.py:3: FutureWarning: \n",
      "\n",
      "Passing `palette` without assigning `hue` is deprecated and will be removed in v0.14.0. Assign the `x` variable to `hue` and set `legend=False` for the same effect.\n",
      "\n",
      "  sns.barplot(x='company_name', y='trips_amount', data=df_trips_amount.head(10), palette='viridis')\n"
     ]
    },
    {
     "data": {
      "image/png": "[encoded data removed]",
      "text/plain": [
       "<Figure size 1200x600 with 1 Axes>"
      ]
     },
     "metadata": {},
     "output_type": "display_data"
    }
   ],
   "source": [
    "#Empresas de táxi e número de corridas\n",
    "plt.figure(figsize=(12, 6))\n",
    "sns.barplot(x='company_name', y='trips_amount', data=df_trips_amount.head(10), palette='viridis')\n",
    "plt.title('Número de Corridas por Empresa de Táxi')\n",
    "plt.xlabel('Empresa de Táxi')\n",
    "plt.ylabel('Número de Corridas')\n",
    "plt.xticks(rotation=45)\n",
    "plt.show()\n"
   ]
  },
  {
   "cell_type": "markdown",
   "id": "b862872c",
   "metadata": {},
   "source": [
    "#Conclusões com base em cada gráfico e explicar os resultados\n",
    "1. O gráfico de barras mostra os 10 bairros com maior número de corridas, indicando onde a demanda é mais alta.\n",
    "2. O gráfico de barras das empresas de táxi mostra quais empresas têm mais corridas, o que pode indicar popularidade ou eficiência.\n",
    "3. A análise de dados pode ajudar a identificar tendências e padrões, como horários de pico, áreas de alta demanda e preferências dos clientes.\n",
    "4. A visualização dos dados facilita a compreensão e a comunicação dos resultados para stakeholders.\n",
    "5. A análise pode ser usada para otimizar operações, melhorar o serviço ao cliente e aumentar a eficiência das empresas de táxi."
   ]
  },
  {
   "cell_type": "markdown",
   "id": "0be71291",
   "metadata": {},
   "source": [
    "Testando hipóteses (Python)"
   ]
  },
  {
   "cell_type": "code",
   "execution_count": 12,
   "id": "0e9f74ce",
   "metadata": {},
   "outputs": [],
   "source": [
    "df_average_trips['start_ts'] = pd.to_datetime(df_average_trips['start_ts'])"
   ]
  },
  {
   "cell_type": "code",
   "execution_count": 13,
   "id": "645664d1",
   "metadata": {},
   "outputs": [
    {
     "data": {
      "application/vnd.microsoft.datawrangler.viewer.v0+json": {
       "columns": [
        {
         "name": "index",
         "rawType": "int64",
         "type": "integer"
        },
        {
         "name": "start_ts",
         "rawType": "int32",
         "type": "integer"
        }
       ],
       "ref": "fd055a42-20a7-40f2-bd0a-8f57a7322145",
       "rows": [
        [
         "0",
         "5"
        ],
        [
         "1",
         "5"
        ],
        [
         "2",
         "5"
        ],
        [
         "3",
         "5"
        ],
        [
         "4",
         "5"
        ],
        [
         "5",
         "5"
        ],
        [
         "6",
         "5"
        ],
        [
         "7",
         "5"
        ],
        [
         "8",
         "5"
        ],
        [
         "9",
         "5"
        ],
        [
         "10",
         "5"
        ],
        [
         "11",
         "5"
        ],
        [
         "12",
         "5"
        ],
        [
         "13",
         "5"
        ],
        [
         "14",
         "5"
        ],
        [
         "15",
         "5"
        ],
        [
         "16",
         "5"
        ],
        [
         "17",
         "5"
        ],
        [
         "18",
         "5"
        ],
        [
         "19",
         "5"
        ],
        [
         "20",
         "5"
        ],
        [
         "21",
         "5"
        ],
        [
         "22",
         "5"
        ],
        [
         "23",
         "5"
        ],
        [
         "24",
         "5"
        ],
        [
         "25",
         "5"
        ],
        [
         "26",
         "5"
        ],
        [
         "27",
         "5"
        ],
        [
         "28",
         "5"
        ],
        [
         "29",
         "5"
        ],
        [
         "30",
         "5"
        ],
        [
         "31",
         "5"
        ],
        [
         "32",
         "5"
        ],
        [
         "33",
         "5"
        ],
        [
         "34",
         "5"
        ],
        [
         "35",
         "5"
        ],
        [
         "36",
         "5"
        ],
        [
         "37",
         "5"
        ],
        [
         "38",
         "5"
        ],
        [
         "39",
         "5"
        ],
        [
         "40",
         "5"
        ],
        [
         "41",
         "5"
        ],
        [
         "42",
         "5"
        ],
        [
         "43",
         "5"
        ],
        [
         "44",
         "5"
        ],
        [
         "45",
         "5"
        ],
        [
         "46",
         "5"
        ],
        [
         "47",
         "5"
        ],
        [
         "48",
         "5"
        ],
        [
         "49",
         "5"
        ]
       ],
       "shape": {
        "columns": 1,
        "rows": 1068
       }
      },
      "text/plain": [
       "0       5\n",
       "1       5\n",
       "2       5\n",
       "3       5\n",
       "4       5\n",
       "       ..\n",
       "1063    5\n",
       "1064    5\n",
       "1065    5\n",
       "1066    5\n",
       "1067    5\n",
       "Name: start_ts, Length: 1068, dtype: int32"
      ]
     },
     "execution_count": 13,
     "metadata": {},
     "output_type": "execute_result"
    }
   ],
   "source": [
    "df_average_trips['start_ts'].dt.dayofweek"
   ]
  },
  {
   "cell_type": "code",
   "execution_count": 14,
   "id": "f2d2fb00",
   "metadata": {},
   "outputs": [
    {
     "name": "stdout",
     "output_type": "stream",
     "text": [
      "   duration_seconds weather_conditions\n",
      "0       2427.205556                Bad\n",
      "1       1999.675676               Good\n"
     ]
    }
   ],
   "source": [
    "#Teste a hipótese:\n",
    "\n",
    "#\"A duração média dos passeios do Loop para o Aeroporto Internacional O'Hare muda nos sábados chuvosos.\" \n",
    "df_average_trips_agg = df_average_trips.groupby(['weather_conditions']).mean().reset_index()\n",
    "#df_average_trips = df_average_trips[df_average_trips['weather_conditions'] == 'Bad']\n",
    "df_average_trips_add = df_average_trips_agg[['duration_seconds', 'weather_conditions']]\n",
    "print(df_average_trips_add.head())\n"
   ]
  },
  {
   "cell_type": "code",
   "execution_count": 15,
   "id": "3c195ef9",
   "metadata": {},
   "outputs": [
    {
     "name": "stderr",
     "output_type": "stream",
     "text": [
      "C:\\Users\\Usuário\\AppData\\Local\\Temp\\ipykernel_12156\\707883284.py:3: FutureWarning: \n",
      "\n",
      "Passing `palette` without assigning `hue` is deprecated and will be removed in v0.14.0. Assign the `x` variable to `hue` and set `legend=False` for the same effect.\n",
      "\n",
      "  sns.boxplot(x='weather_conditions', y='duration_seconds', data=df_average_trips, palette='mako')\n"
     ]
    },
    {
     "data": {
      "image/png": "[encoded data removed]",
      "text/plain": [
       "<Figure size 1200x600 with 1 Axes>"
      ]
     },
     "metadata": {},
     "output_type": "display_data"
    }
   ],
   "source": [
    "#Gráfico da duração média dos passeios do Loop para o Aeroporto Internacional O'Hare em dias chuvosos\n",
    "plt.figure(figsize=(12, 6))\n",
    "sns.boxplot(x='weather_conditions', y='duration_seconds', data=df_average_trips, palette='mako')\n",
    "plt.title('Loop para dias Chuvosos')\n",
    "plt.xlabel('Condições Meteorológicas')\n",
    "plt.ylabel('Duração Média dos Passeios (segundos)')\n",
    "plt.xticks(rotation=45)\n",
    "plt.show()"
   ]
  },
  {
   "cell_type": "code",
   "execution_count": 16,
   "id": "7a2db62e",
   "metadata": {},
   "outputs": [
    {
     "name": "stdout",
     "output_type": "stream",
     "text": [
      "Variância da duração média dos passeios: 91390.89909505236\n"
     ]
    }
   ],
   "source": [
    "#Decida onde definir o nível de significância (alfa) por conta própria.\n",
    "#Cálculo da variância da duração média dos passeios\n",
    "df_avg_trips = df_average_trips_add['duration_seconds'].dropna()\n",
    "df_var = df_avg_trips.var()\n",
    "print(f\"Variância da duração média dos passeios: {df_var}\")"
   ]
  },
  {
   "cell_type": "code",
   "execution_count": 17,
   "id": "3a069200",
   "metadata": {},
   "outputs": [
    {
     "name": "stdout",
     "output_type": "stream",
     "text": [
      "1438.25 2580.0 1141.75 0 4292.625\n"
     ]
    }
   ],
   "source": [
    "conditions = 'Good'\n",
    "Q1 = df_average_trips['duration_seconds'].quantile(0.25)\n",
    "Q3 = df_average_trips['duration_seconds'].quantile(0.75)\n",
    "IQR = Q3 - Q1\n",
    "cort_out = Q1 - (1.5 * IQR)\n",
    "top_cort = Q3 +(1.5 * IQR)\n",
    "if cort_out < 0:\n",
    "    cort_out = 0\n",
    "print(Q1, Q3, IQR, cort_out, top_cort)"
   ]
  },
  {
   "cell_type": "code",
   "execution_count": 18,
   "id": "98ca1901",
   "metadata": {},
   "outputs": [
    {
     "name": "stderr",
     "output_type": "stream",
     "text": [
      "C:\\Users\\Usuário\\AppData\\Local\\Temp\\ipykernel_12156\\455895389.py:3: FutureWarning: \n",
      "\n",
      "Passing `palette` without assigning `hue` is deprecated and will be removed in v0.14.0. Assign the `y` variable to `hue` and set `legend=False` for the same effect.\n",
      "\n",
      "  sns.boxplot(x='duration_seconds', y='weather_conditions', data=df_average_trips_wo, palette='Set2')\n"
     ]
    },
    {
     "data": {
      "text/plain": [
       "<Axes: xlabel='duration_seconds', ylabel='weather_conditions'>"
      ]
     },
     "execution_count": 18,
     "metadata": {},
     "output_type": "execute_result"
    },
    {
     "data": {
      "image/png": "[encoded data removed]",
      "text/plain": [
       "<Figure size 640x480 with 1 Axes>"
      ]
     },
     "metadata": {},
     "output_type": "display_data"
    }
   ],
   "source": [
    "df_average_trips_wo = df_average_trips.query('duration_seconds <= @top_cort')\n",
    "\n",
    "sns.boxplot(x='duration_seconds', y='weather_conditions', data=df_average_trips_wo, palette='Set2')"
   ]
  },
  {
   "cell_type": "code",
   "execution_count": 19,
   "id": "eb77223c",
   "metadata": {},
   "outputs": [
    {
     "name": "stdout",
     "output_type": "stream",
     "text": [
      "test t: -7.5110122934882755, p valor: 1.2430038032744411e-13\n",
      "Rejeitamos a hipótese nula: A duração média dos passeios do Loop para o Aeroporto Internacional O'Hare muda nos sábados chuvosos.\n"
     ]
    }
   ],
   "source": [
    "#Teste t para os passeios do Loop para o Aeroporto Internacional O'Hare muda nos sábados chuvosos.\n",
    "alpha = 0.05\n",
    "sample1 = df_average_trips_wo.query('weather_conditions == \"Good\"')\n",
    "sample2 = df_average_trips_wo.query('weather_conditions == \"Bad\"')\n",
    "t_stat, p_value = stats.ttest_ind(sample1.duration_seconds, sample2.duration_seconds)\n",
    "print(f\"test t: {t_stat}, p valor: {p_value}\")\n",
    "alpha = 0.05\n",
    "if p_value < alpha:\n",
    "    print(\"Rejeitamos a hipótese nula: A duração média dos passeios do Loop para o Aeroporto Internacional O'Hare muda nos sábados chuvosos.\")\n",
    "else:\n",
    "    print(\"Aceitamos a hipótese nula: A duração média dos passeios do Loop para o Aeroporto Internacional O'Hare não muda nos sábados chuvosos\")"
   ]
  },
  {
   "cell_type": "markdown",
   "id": "06d3464e",
   "metadata": {},
   "source": [
    "#Como você formou as hipóteses nula e alternativa?\n",
    "Hipótese nula (H0): A duração média dos passeios do Loop para o Aeroporto Internacional O'Hare não muda nos sábados chuvosos.\n",
    "Hipótese alternativa (H1): A duração média dos passeios do Loop para o Aeroporto Internacional O'Hare muda nos sábados chuvosos.\n",
    "O valor p obtido do teste t é comparado com o nível de significância(alpha) de 0.05. Se o valor o p for menor que alpha, rejeitamos a hipótese nula e concluímos que há uma diferença significativa na duração média dos passeios nos sábados chuvosos."
   ]
  },
  {
   "cell_type": "markdown",
   "id": "021b5407",
   "metadata": {},
   "source": [
    "#Qual critério você usou para testar a hipótese e porque?\n",
    "Eu usei o teste t para comparar a média da duração dos passeios em dias chuvosos com a média geral, pois é adequado para comparar duas médias quando os dados são normalmente distribuídos e as variâncias são iguais ou diferentes. O p-valor resultante indica se há uma diferença estatisticamente significativa entre as médias.\n"
   ]
  },
  {
   "cell_type": "markdown",
   "id": "1c9d37cc",
   "metadata": {},
   "source": [
    "Nathália Sorg"
   ]
  }
 ],
 "metadata": {
  "kernelspec": {
   "display_name": ".venv",
   "language": "python",
   "name": "python3"
  },
  "language_info": {
   "codemirror_mode": {
    "name": "ipython",
    "version": 3
   },
   "file_extension": ".py",
   "mimetype": "text/x-python",
   "name": "python",
   "nbconvert_exporter": "python",
   "pygments_lexer": "ipython3",
   "version": "3.11.9"
  }
 },
 "nbformat": 4,
 "nbformat_minor": 5
}
