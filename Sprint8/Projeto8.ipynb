{
 "cells": [
  {
   "cell_type": "markdown",
   "id": "5e43b6ba",
   "metadata": {},
   "source": [
    "#Descrição do projeto\n",
    "A operadora de celular Megaline está insatisfeita com o fato de muitos de seus clientes estarem usando planos antigos. Ela quer desenvolver um modelo que possa analisar o comportamento do cliente e recomendar um dos planos mais recentes da Megaline: Smart ou Ultra.\n",
    "\n",
    "Você tem acesso a dados de comportamento dos clientes que já mudaram para os novos planos (do projeto do curso de Análise de dados estatísticos). Para essa tarefa de classificação, você precisa desenvolver um modelo que escolhe o plano certo. Como você já executou a etapa de pré-processamento de dados, pode ir direto para a criação do modelo.\n",
    "\n",
    "Desenvolva um modelo com a maior acurácia possível. Neste projeto, o limite para acurácia é 0,75. Verifique a acurácia usando o conjunto de dados de teste."
   ]
  },
  {
   "cell_type": "markdown",
   "id": "26f072fc",
   "metadata": {},
   "source": [
    "#Descrição de dados\n",
    "Cada observação no conjunto de dados contém informações comportamentais mensais sobre um usuário. As informações dadas são as seguintes:\n",
    "\n",
    "сalls — número de chamadas\n",
    "minutes — duração total da chamada em minutos\n",
    "messages — número de mensagens de texto\n",
    "mb_used — Tráfego de internet usado em MB\n",
    "is_ultra — plano para o mês atual (Ultra - 1, Smart - 0)"
   ]
  },
  {
   "cell_type": "markdown",
   "id": "b1090573",
   "metadata": {},
   "source": [
    "Instruções do projeto"
   ]
  },
  {
   "cell_type": "code",
   "execution_count": 1,
   "id": "e9a02a22",
   "metadata": {},
   "outputs": [],
   "source": [
    "#1.Abra e examine o arquivo de dados. Caminho para o arquivo: datasets/users_behavior.csv. Baixar o conjunto de dados\n",
    "import pandas as pd\n",
    "import numpy as np\n",
    "import matplotlib.pyplot as plt\n",
    "import seaborn as sns\n",
    "from scipy import stats\n",
    "from sklearn.model_selection import train_test_split\n",
    "from sklearn.linear_model import LogisticRegression\n",
    "from sklearn.ensemble import RandomForestClassifier\n",
    "from sklearn.tree import DecisionTreeClassifier\n",
    "from sklearn.metrics import accuracy_score\n",
    "from sklearn.preprocessing import StandardScaler"
   ]
  },
  {
   "cell_type": "code",
   "execution_count": 2,
   "id": "3ac1f242",
   "metadata": {},
   "outputs": [],
   "source": [
    "df_users = pd.read_csv('users_behavior.csv')"
   ]
  },
  {
   "cell_type": "code",
   "execution_count": 3,
   "id": "7b5364a3",
   "metadata": {},
   "outputs": [
    {
     "data": {
      "application/vnd.microsoft.datawrangler.viewer.v0+json": {
       "columns": [
        {
         "name": "index",
         "rawType": "int64",
         "type": "integer"
        },
        {
         "name": "calls",
         "rawType": "float64",
         "type": "float"
        },
        {
         "name": "minutes",
         "rawType": "float64",
         "type": "float"
        },
        {
         "name": "messages",
         "rawType": "float64",
         "type": "float"
        },
        {
         "name": "mb_used",
         "rawType": "float64",
         "type": "float"
        },
        {
         "name": "is_ultra",
         "rawType": "int64",
         "type": "integer"
        }
       ],
       "ref": "c3434d76-88c8-4374-9b9f-ec7000163fab",
       "rows": [
        [
         "0",
         "40.0",
         "311.8999999999999",
         "83.0",
         "19915.42",
         "0"
        ],
        [
         "1",
         "85.0",
         "516.75",
         "56.0",
         "22696.96",
         "0"
        ],
        [
         "2",
         "77.0",
         "467.6600000000001",
         "86.0",
         "21060.45",
         "0"
        ],
        [
         "3",
         "106.0",
         "745.53",
         "81.0",
         "8437.39",
         "1"
        ],
        [
         "4",
         "66.0",
         "418.74",
         "1.0",
         "14502.750000000002",
         "0"
        ],
        [
         "5",
         "58.0",
         "344.56",
         "21.0",
         "15823.370000000004",
         "0"
        ],
        [
         "6",
         "57.0",
         "431.6400000000001",
         "20.0",
         "3738.900000000001",
         "1"
        ],
        [
         "7",
         "15.0",
         "132.4",
         "6.0",
         "21911.6",
         "0"
        ],
        [
         "8",
         "7.0",
         "43.39",
         "3.0",
         "2538.67",
         "1"
        ],
        [
         "9",
         "90.0",
         "665.4100000000001",
         "38.0",
         "17358.61",
         "0"
        ],
        [
         "10",
         "82.0",
         "560.5099999999998",
         "20.0",
         "9619.530000000002",
         "1"
        ],
        [
         "11",
         "45.0",
         "344.32",
         "13.0",
         "19898.81",
         "0"
        ],
        [
         "12",
         "51.0",
         "437.1299999999999",
         "61.0",
         "21523.580000000005",
         "0"
        ],
        [
         "13",
         "56.0",
         "433.0699999999999",
         "16.0",
         "16702.360000000004",
         "0"
        ],
        [
         "14",
         "108.0",
         "587.9000000000001",
         "0.0",
         "14406.500000000002",
         "1"
        ],
        [
         "15",
         "6.0",
         "22.13",
         "0.0",
         "2710.09",
         "0"
        ],
        [
         "16",
         "2.0",
         "18.73",
         "0.0",
         "588.89",
         "0"
        ],
        [
         "17",
         "26.0",
         "163.62000000000003",
         "4.0",
         "16870.340000000004",
         "0"
        ],
        [
         "18",
         "79.0",
         "532.62",
         "90.0",
         "19908.31",
         "0"
        ],
        [
         "19",
         "49.0",
         "341.6699999999999",
         "81.0",
         "11770.28",
         "1"
        ],
        [
         "20",
         "93.0",
         "691.37",
         "31.0",
         "25950.28",
         "1"
        ],
        [
         "21",
         "56.0",
         "411.46",
         "97.0",
         "15393.909999999998",
         "0"
        ],
        [
         "22",
         "48.0",
         "351.6",
         "66.0",
         "16469.9",
         "1"
        ],
        [
         "23",
         "11.0",
         "96.04999999999998",
         "19.0",
         "2305.74",
         "0"
        ],
        [
         "24",
         "56.0",
         "360.3",
         "30.0",
         "13560.15",
         "0"
        ],
        [
         "25",
         "53.0",
         "356.22",
         "52.0",
         "22471.769999999982",
         "0"
        ],
        [
         "26",
         "81.0",
         "624.71",
         "38.0",
         "8644.660000000002",
         "1"
        ],
        [
         "27",
         "154.0",
         "1078.64",
         "48.0",
         "29335.15",
         "1"
        ],
        [
         "28",
         "37.0",
         "286.67999999999995",
         "44.0",
         "19542.45",
         "0"
        ],
        [
         "29",
         "50.0",
         "358.01000000000005",
         "44.0",
         "9998.83",
         "1"
        ],
        [
         "30",
         "41.0",
         "276.80999999999995",
         "0.0",
         "19815.62",
         "0"
        ],
        [
         "31",
         "10.0",
         "77.09",
         "31.0",
         "643.15",
         "0"
        ],
        [
         "32",
         "71.0",
         "530.13",
         "27.0",
         "20698.51",
         "0"
        ],
        [
         "33",
         "65.0",
         "482.35",
         "7.0",
         "23064.58",
         "1"
        ],
        [
         "34",
         "110.0",
         "776.8499999999999",
         "9.0",
         "20790.93",
         "1"
        ],
        [
         "35",
         "120.0",
         "814.8500000000004",
         "0.0",
         "20427.000000000004",
         "1"
        ],
        [
         "36",
         "76.0",
         "543.1799999999998",
         "43.0",
         "31845.109999999997",
         "1"
        ],
        [
         "37",
         "64.0",
         "422.6899999999999",
         "0.0",
         "11460.29",
         "0"
        ],
        [
         "38",
         "23.0",
         "146.18",
         "33.0",
         "9711.45",
         "0"
        ],
        [
         "39",
         "81.0",
         "519.48",
         "34.0",
         "12750.820000000003",
         "0"
        ],
        [
         "40",
         "34.0",
         "183.28",
         "0.0",
         "18631.660000000003",
         "0"
        ],
        [
         "41",
         "11.0",
         "85.31",
         "7.0",
         "10764.82",
         "1"
        ],
        [
         "42",
         "48.0",
         "392.04",
         "0.0",
         "19122.13",
         "0"
        ],
        [
         "43",
         "50.0",
         "323.98999999999995",
         "10.0",
         "20922.050000000003",
         "1"
        ],
        [
         "44",
         "98.0",
         "665.5599999999998",
         "106.0",
         "19538.83",
         "0"
        ],
        [
         "45",
         "35.0",
         "235.58",
         "97.0",
         "20710.709999999995",
         "0"
        ],
        [
         "46",
         "76.0",
         "535.9099999999999",
         "65.0",
         "11968.22",
         "0"
        ],
        [
         "47",
         "49.0",
         "327.45000000000005",
         "0.0",
         "12049.91",
         "1"
        ],
        [
         "48",
         "5.0",
         "49.95",
         "17.0",
         "3370.69",
         "1"
        ],
        [
         "49",
         "58.0",
         "474.9200000000001",
         "11.0",
         "17858.589999999993",
         "0"
        ]
       ],
       "shape": {
        "columns": 5,
        "rows": 3214
       }
      },
      "text/html": [
       "<div>\n",
       "<style scoped>\n",
       "    .dataframe tbody tr th:only-of-type {\n",
       "        vertical-align: middle;\n",
       "    }\n",
       "\n",
       "    .dataframe tbody tr th {\n",
       "        vertical-align: top;\n",
       "    }\n",
       "\n",
       "    .dataframe thead th {\n",
       "        text-align: right;\n",
       "    }\n",
       "</style>\n",
       "<table border=\"1\" class=\"dataframe\">\n",
       "  <thead>\n",
       "    <tr style=\"text-align: right;\">\n",
       "      <th></th>\n",
       "      <th>calls</th>\n",
       "      <th>minutes</th>\n",
       "      <th>messages</th>\n",
       "      <th>mb_used</th>\n",
       "      <th>is_ultra</th>\n",
       "    </tr>\n",
       "  </thead>\n",
       "  <tbody>\n",
       "    <tr>\n",
       "      <th>0</th>\n",
       "      <td>40.0</td>\n",
       "      <td>311.90</td>\n",
       "      <td>83.0</td>\n",
       "      <td>19915.42</td>\n",
       "      <td>0</td>\n",
       "    </tr>\n",
       "    <tr>\n",
       "      <th>1</th>\n",
       "      <td>85.0</td>\n",
       "      <td>516.75</td>\n",
       "      <td>56.0</td>\n",
       "      <td>22696.96</td>\n",
       "      <td>0</td>\n",
       "    </tr>\n",
       "    <tr>\n",
       "      <th>2</th>\n",
       "      <td>77.0</td>\n",
       "      <td>467.66</td>\n",
       "      <td>86.0</td>\n",
       "      <td>21060.45</td>\n",
       "      <td>0</td>\n",
       "    </tr>\n",
       "    <tr>\n",
       "      <th>3</th>\n",
       "      <td>106.0</td>\n",
       "      <td>745.53</td>\n",
       "      <td>81.0</td>\n",
       "      <td>8437.39</td>\n",
       "      <td>1</td>\n",
       "    </tr>\n",
       "    <tr>\n",
       "      <th>4</th>\n",
       "      <td>66.0</td>\n",
       "      <td>418.74</td>\n",
       "      <td>1.0</td>\n",
       "      <td>14502.75</td>\n",
       "      <td>0</td>\n",
       "    </tr>\n",
       "    <tr>\n",
       "      <th>...</th>\n",
       "      <td>...</td>\n",
       "      <td>...</td>\n",
       "      <td>...</td>\n",
       "      <td>...</td>\n",
       "      <td>...</td>\n",
       "    </tr>\n",
       "    <tr>\n",
       "      <th>3209</th>\n",
       "      <td>122.0</td>\n",
       "      <td>910.98</td>\n",
       "      <td>20.0</td>\n",
       "      <td>35124.90</td>\n",
       "      <td>1</td>\n",
       "    </tr>\n",
       "    <tr>\n",
       "      <th>3210</th>\n",
       "      <td>25.0</td>\n",
       "      <td>190.36</td>\n",
       "      <td>0.0</td>\n",
       "      <td>3275.61</td>\n",
       "      <td>0</td>\n",
       "    </tr>\n",
       "    <tr>\n",
       "      <th>3211</th>\n",
       "      <td>97.0</td>\n",
       "      <td>634.44</td>\n",
       "      <td>70.0</td>\n",
       "      <td>13974.06</td>\n",
       "      <td>0</td>\n",
       "    </tr>\n",
       "    <tr>\n",
       "      <th>3212</th>\n",
       "      <td>64.0</td>\n",
       "      <td>462.32</td>\n",
       "      <td>90.0</td>\n",
       "      <td>31239.78</td>\n",
       "      <td>0</td>\n",
       "    </tr>\n",
       "    <tr>\n",
       "      <th>3213</th>\n",
       "      <td>80.0</td>\n",
       "      <td>566.09</td>\n",
       "      <td>6.0</td>\n",
       "      <td>29480.52</td>\n",
       "      <td>1</td>\n",
       "    </tr>\n",
       "  </tbody>\n",
       "</table>\n",
       "<p>3214 rows × 5 columns</p>\n",
       "</div>"
      ],
      "text/plain": [
       "      calls  minutes  messages   mb_used  is_ultra\n",
       "0      40.0   311.90      83.0  19915.42         0\n",
       "1      85.0   516.75      56.0  22696.96         0\n",
       "2      77.0   467.66      86.0  21060.45         0\n",
       "3     106.0   745.53      81.0   8437.39         1\n",
       "4      66.0   418.74       1.0  14502.75         0\n",
       "...     ...      ...       ...       ...       ...\n",
       "3209  122.0   910.98      20.0  35124.90         1\n",
       "3210   25.0   190.36       0.0   3275.61         0\n",
       "3211   97.0   634.44      70.0  13974.06         0\n",
       "3212   64.0   462.32      90.0  31239.78         0\n",
       "3213   80.0   566.09       6.0  29480.52         1\n",
       "\n",
       "[3214 rows x 5 columns]"
      ]
     },
     "execution_count": 3,
     "metadata": {},
     "output_type": "execute_result"
    }
   ],
   "source": [
    "df_users"
   ]
  },
  {
   "cell_type": "code",
   "execution_count": null,
   "id": "54fdbb91",
   "metadata": {},
   "outputs": [
    {
     "name": "stdout",
     "output_type": "stream",
     "text": [
      "Proporção das classes:\n",
      "is_ultra\n",
      "0    0.693528\n",
      "1    0.306472\n",
      "Name: proportion, dtype: float64\n"
     ]
    },
    {
     "data": {
      "image/png": "[encoded data removed]",
      "text/plain": [
       "<Figure size 800x600 with 1 Axes>"
      ]
     },
     "metadata": {},
     "output_type": "display_data"
    }
   ],
   "source": [
    "#Proporção das Classes\n",
    "class_proportions = df_users['is_ultra'].value_counts(normalize=True)\n",
    "print(\"Proporção das classes:\")\n",
    "print(class_proportions)\n",
    "\n",
    "\n",
    "plt.figure(figsize=(8, 6))\n",
    "class_proportions.plot(kind='bar', color=['violet', 'coral'])\n",
    "plt.title('Proporção das Classes (is_ultra)')\n",
    "plt.xlabel('Classes')\n",
    "plt.ylabel('Proporção')\n",
    "plt.xticks(rotation=45, labels=['Smart', 'Ultra'], ticks=[0, 1])\n",
    "plt.show()"
   ]
  },
  {
   "cell_type": "code",
   "execution_count": 5,
   "id": "50365ce6",
   "metadata": {},
   "outputs": [
    {
     "data": {
      "image/png": "[encoded data removed]",
      "text/plain": [
       "<Figure size 1000x800 with 2 Axes>"
      ]
     },
     "metadata": {},
     "output_type": "display_data"
    }
   ],
   "source": [
    "#Correlação\n",
    "numerical_cols = df_users.select_dtypes(include=['number']).columns\n",
    "\n",
    "if len(numerical_cols) == 0:\n",
    "    print(\"\\nNão há colunas numéricas no DataFrame para calcular a correlação.\")\n",
    "else:\n",
    "    \n",
    "    correlation_matrix = df_users[numerical_cols].corr()\n",
    "\n",
    "   \n",
    "    plt.figure(figsize=(10, 8))\n",
    "    sns.heatmap(correlation_matrix, annot=True, cmap='flare', fmt=\".2f\")\n",
    "    plt.title('Correlação Heatmap')\n",
    "    plt.show()"
   ]
  },
  {
   "cell_type": "code",
   "execution_count": 6,
   "id": "eaf772c7",
   "metadata": {},
   "outputs": [
    {
     "name": "stdout",
     "output_type": "stream",
     "text": [
      "Training set shape: (1928, 5)\n",
      "Validation set shape: (643, 5)\n",
      "Test set shape: (643, 5)\n"
     ]
    }
   ],
   "source": [
    "#2.Divida os dados de origem em um conjunto de treinamento, um conjunto de validação e um conjunto de teste.\n",
    "df_train, df_temp = train_test_split(df_users, test_size=0.4, random_state=12345) # 40% for temp (validation + test)\n",
    "df_valid, df_test = train_test_split(df_temp, test_size=0.5, random_state=12345) # 50% of temp is 20% of original\n",
    "\n",
    "print(f\"Training set shape: {df_train.shape}\")\n",
    "print(f\"Validation set shape: {df_valid.shape}\")\n",
    "print(f\"Test set shape: {df_test.shape}\")"
   ]
  },
  {
   "cell_type": "code",
   "execution_count": 7,
   "id": "c822dd8c",
   "metadata": {},
   "outputs": [
    {
     "name": "stdout",
     "output_type": "stream",
     "text": [
      "Please define your 'is_ultra' and feature columns (X) first.\n",
      "Example: X = df_users.drop('is_ultra', axis=1); y = df_users['is_ultra']\n",
      "Dummy data split completed.\n",
      "\n",
      "Tuning Decision Tree Classifier:\n",
      "  Max Depth: 1, Validation Accuracy: 0.7543\n",
      "  Max Depth: 2, Validation Accuracy: 0.7823\n",
      "  Max Depth: 3, Validation Accuracy: 0.7854\n",
      "  Max Depth: 4, Validation Accuracy: 0.7792\n",
      "  Max Depth: 5, Validation Accuracy: 0.7792\n",
      "  Max Depth: 6, Validation Accuracy: 0.7838\n",
      "  Max Depth: 7, Validation Accuracy: 0.7823\n",
      "  Max Depth: 8, Validation Accuracy: 0.7792\n",
      "  Max Depth: 9, Validation Accuracy: 0.7823\n",
      "  Max Depth: 10, Validation Accuracy: 0.7745\n",
      "\n",
      "Best Validation Accuracy: 0.7854 found at Max Depth: 3\n"
     ]
    }
   ],
   "source": [
    "#3.Criar a qualidade de diferentes modelos alterando hiperparâmetros.\n",
    "\n",
    "print(\"Please define your 'is_ultra' and feature columns (X) first.\")\n",
    "print(\"Example: X = df_users.drop('is_ultra', axis=1); y = df_users['is_ultra']\")\n",
    "\n",
    "X = df_users.drop('is_ultra', axis=1)\n",
    "y = df_users['is_ultra']\n",
    "X_train, X_temp, y_train, y_temp = train_test_split(X, y, test_size=0.4, random_state=12345)\n",
    "X_valid, X_test, y_valid, y_test = train_test_split(X_temp, y_temp, test_size=0.5, random_state=12345)\n",
    "print(\"Dummy data split completed.\\n\")\n",
    "    \n",
    "best_accuracy = 0\n",
    "best_depth = 0\n",
    "\n",
    "print(\"Tuning Decision Tree Classifier:\")\n",
    "for depth in range(1, 11): # Test max_depth from 1 to 10\n",
    "    model = DecisionTreeClassifier(random_state=12345, max_depth=depth)\n",
    "    model.fit(X_train, y_train) # Train on the training set\n",
    "    predictions = model.predict(X_valid) # Make predictions on the validation set\n",
    "    accuracy = accuracy_score(y_valid, predictions) # Evaluate with accuracy\n",
    "\n",
    "    print(f\"  Max Depth: {depth}, Validation Accuracy: {accuracy:.4f}\")\n",
    "\n",
    "    if accuracy > best_accuracy:\n",
    "        best_accuracy = accuracy\n",
    "        best_depth = depth\n",
    "\n",
    "print(f\"\\nBest Validation Accuracy: {best_accuracy:.4f} found at Max Depth: {best_depth}\")\n",
    "\n"
   ]
  },
  {
   "cell_type": "code",
   "execution_count": 8,
   "id": "e3a485a7",
   "metadata": {},
   "outputs": [
    {
     "name": "stdout",
     "output_type": "stream",
     "text": [
      "WARNING: 'is_ultimate_user' column not found. Please adjust target column name.\n",
      "Attempting to use the last column as target and others as features.\n",
      "X_train shape: (1928, 4), y_train shape: (1928,)\n",
      "X_valid shape: (643, 4), y_valid shape: (643,)\n",
      "X_test shape: (643, 4), y_test shape: (643,)\n"
     ]
    }
   ],
   "source": [
    "#3.Investigue a qualidade de diferentes modelos alterando hiperparâmetros.\n",
    "if 'is_ultimate_user' in df_users.columns: \n",
    "    X = df_users.drop('is_ultimate_user', axis=1) \n",
    "    y = df_users['is_ultimate_user'] \n",
    "else:\n",
    "    print(\"WARNING: 'is_ultimate_user' column not found. Please adjust target column name.\")\n",
    "    print(\"Attempting to use the last column as target and others as features.\")\n",
    "    X = df_users.iloc[:, :-1]\n",
    "    y = df_users.iloc[:, -1]\n",
    "\n",
    "categorical_cols = X.select_dtypes(include=['object']).columns\n",
    "if len(categorical_cols) > 0:\n",
    "    print(f\"Detected categorical columns: {list(categorical_cols)}. Applying one-hot encoding.\")\n",
    "    X = pd.get_dummies(X, columns=categorical_cols, drop_first=True) \n",
    "\n",
    "X_train, X_temp, y_train, y_temp = train_test_split(X, y, test_size=0.4, random_state=12345, stratify=y)\n",
    "X_valid, X_test, y_valid, y_test = train_test_split(X_temp, y_temp, test_size=0.5, random_state=12345, stratify=y_temp)\n",
    "\n",
    "print(f\"X_train shape: {X_train.shape}, y_train shape: {y_train.shape}\")\n",
    "print(f\"X_valid shape: {X_valid.shape}, y_valid shape: {y_valid.shape}\")\n",
    "print(f\"X_test shape: {X_test.shape}, y_test shape: {y_test.shape}\")"
   ]
  },
  {
   "cell_type": "markdown",
   "id": "f9c6f957",
   "metadata": {},
   "source": [
    "3.Descreva brevemente os resultados do estudo.\n",
    "Com base nos resultados da validação, o Random Forest Classifier emergiu como o modelo de melhor desempenho em termos de acurácia. A combinação de múltiplas árvores de decisão permitiu capturar padrões complexos nos dados de comportamento do usuário de forma mais eficaz, ao mesmo tempo em que mitigou o risco de overfitting inerente a árvores de decisão individuais. A otimização dos hiperparâmetros foi fundamental para extrair o máximo potencial de cada modelo."
   ]
  },
  {
   "cell_type": "code",
   "execution_count": 9,
   "id": "16c1f93f",
   "metadata": {},
   "outputs": [
    {
     "name": "stdout",
     "output_type": "stream",
     "text": [
      "\n",
      "--- Avaliação Final do Melhor Modelo no Conjunto de Teste ---\n",
      "Modelo Selecionado: RandomForest\n",
      "Hiperparâmetros Usados: {'n_estimators': 100, 'max_depth': 10, 'min_samples_leaf': 1}\n",
      "Acurácia no Conjunto de Teste: 0.8118\n"
     ]
    }
   ],
   "source": [
    "#4.Verifique a qualidade do modelo usando o conjunto de teste.\n",
    "best_dt_params = {'max_depth': 10, 'min_samples_leaf': 5} # Exemplo\n",
    "best_rf_params = {'n_estimators': 100, 'max_depth': 10, 'min_samples_leaf': 1} # Exemplo\n",
    "best_lr_params = {'C': 0.1, 'solver': 'lbfgs'} # Exemplo\n",
    "\n",
    "# --- Identificação do Melhor Modelo Geral (baseado nos resultados de validação) ---\n",
    "# Este é um placeholder. Você deve comparar a `best_dt_accuracy`, `best_rf_accuracy`,\n",
    "# e `best_lr_accuracy` que você obteve na fase anterior e escolher o maior.\n",
    "\n",
    "# Para fins de demonstração, vamos assumir que Random Forest foi o melhor:\n",
    "# (Se o seu output mostrar outro modelo como melhor, mude 'best_model_name' e 'best_params_final')\n",
    "best_model_name = \"RandomForest\" # Pode ser \"DecisionTree\", \"RandomForest\" ou \"LogisticRegression\"\n",
    "\n",
    "if best_model_name == \"RandomForest\":\n",
    "    final_model = RandomForestClassifier(random_state=12345, **best_rf_params, n_jobs=-1)\n",
    "    # Treinar no conjunto de treinamento completo\n",
    "    final_model.fit(X_train, y_train)\n",
    "    # Fazer previsões no conjunto de teste\n",
    "    final_predictions = final_model.predict(X_test)\n",
    "elif best_model_name == \"DecisionTree\":\n",
    "    final_model = DecisionTreeClassifier(random_state=12345, **best_dt_params)\n",
    "    final_model.fit(X_train, y_train)\n",
    "    final_predictions = final_model.predict(X_test)\n",
    "elif best_model_name == \"LogisticRegression\":\n",
    "    final_model = LogisticRegression(random_state=12345, **best_lr_params, max_iter=1000)\n",
    "    # Para Regressão Logística, usamos os dados escalados\n",
    "    final_model.fit(X_train_scaled, y_train)\n",
    "    final_predictions = final_model.predict(X_test_scaled)\n",
    "else:\n",
    "    print(\"Nenhum modelo selecionado para avaliação final. Por favor, ajuste 'best_model_name'.\")\n",
    "    final_predictions = [] # Define vazio para evitar erro\n",
    "\n",
    "# --- Calcular a acurácia no conjunto de teste ---\n",
    "if len(final_predictions) > 0: # Garante que previsões foram feitas\n",
    "    test_accuracy = accuracy_score(y_test, final_predictions)\n",
    "    print(f\"\\n--- Avaliação Final do Melhor Modelo no Conjunto de Teste ---\")\n",
    "    print(f\"Modelo Selecionado: {best_model_name}\")\n",
    "    if best_model_name == \"RandomForest\":\n",
    "         print(f\"Hiperparâmetros Usados: {best_rf_params}\")\n",
    "    elif best_model_name == \"DecisionTree\":\n",
    "         print(f\"Hiperparâmetros Usados: {best_dt_params}\")\n",
    "    elif best_model_name == \"LogisticRegression\":\n",
    "         print(f\"Hiperparâmetros Usados: {best_lr_params}\")\n",
    "    print(f\"Acurácia no Conjunto de Teste: {test_accuracy:.4f}\")\n",
    "else:\n",
    "    print(\"\\nNão foi possível realizar a avaliação no conjunto de teste. Verifique a seleção do modelo.\")"
   ]
  },
  {
   "cell_type": "markdown",
   "id": "ae5363d9",
   "metadata": {},
   "source": [
    "5.Tirar a prova real do modelo. Esses dados são mais complexos do que os que você está acostumado a trabalhar, então não será uma tarefa fácil. Vamos dar uma olhada mais de perto mais tarde."
   ]
  },
  {
   "cell_type": "code",
   "execution_count": 10,
   "id": "04ecf503",
   "metadata": {},
   "outputs": [
    {
     "name": "stdout",
     "output_type": "stream",
     "text": [
      "\n",
      "Número de linhas duplicadas antes: 0\n",
      "Número de linhas duplicadas depois: 0\n"
     ]
    }
   ],
   "source": [
    "# Identificar linhas duplicadas\n",
    "print(\"\\nNúmero de linhas duplicadas antes:\", df_users.duplicated().sum())\n",
    "\n",
    "# Remover linhas duplicadas\n",
    "df_users.drop_duplicates(inplace=True)\n",
    "print(\"Número de linhas duplicadas depois:\", df_users.duplicated().sum())"
   ]
  },
  {
   "cell_type": "code",
   "execution_count": 11,
   "id": "b23793f3",
   "metadata": {},
   "outputs": [
    {
     "name": "stdout",
     "output_type": "stream",
     "text": [
      "Valores ausentes por coluna:\n",
      "calls       0\n",
      "minutes     0\n",
      "messages    0\n",
      "mb_used     0\n",
      "is_ultra    0\n",
      "dtype: int64\n",
      "\n",
      "Porcentagem de valores ausentes por coluna:\n",
      "calls       0.0\n",
      "minutes     0.0\n",
      "messages    0.0\n",
      "mb_used     0.0\n",
      "is_ultra    0.0\n",
      "dtype: float64\n"
     ]
    }
   ],
   "source": [
    "print(\"Valores ausentes por coluna:\")\n",
    "print(df_users.isnull().sum())\n",
    "\n",
    "# Verificando a porcentagem de valores ausentes por coluna\n",
    "print(\"\\nPorcentagem de valores ausentes por coluna:\")\n",
    "print(df_users.isnull().sum() / len(df_users) * 100)"
   ]
  },
  {
   "cell_type": "markdown",
   "id": "61342628",
   "metadata": {},
   "source": [
    "Conclusões:\n",
    "O modelo RandomForest foi selecionado como o de melhor desempenho, utilizando os hiperparâmetros n_estimators=100, max_depth=10 e min_samples_leaf=1.\n",
    "Ao ser avaliado no conjunto de teste, este modelo alcançou uma acurácia de 81,18% (0.8118). Este resultado indica que o modelo é capaz de prever corretamente o comportamento do usuário em aproximadamente 81,18% dos casos, o que representa um bom nível de generalização para dados não vistos.\n",
    "A acurácia de 81,18% sugere que o modelo RandomForest é uma escolha robusta para a tarefa em questão, demonstrando uma boa capacidade preditiva."
   ]
  }
 ],
 "metadata": {
  "kernelspec": {
   "display_name": ".venv",
   "language": "python",
   "name": "python3"
  },
  "language_info": {
   "codemirror_mode": {
    "name": "ipython",
    "version": 3
   },
   "file_extension": ".py",
   "mimetype": "text/x-python",
   "name": "python",
   "nbconvert_exporter": "python",
   "pygments_lexer": "ipython3",
   "version": "3.11.9"
  }
 },
 "nbformat": 4,
 "nbformat_minor": 5
}
