{
 "cells": [
  {
   "cell_type": "markdown",
   "metadata": {
    "id": "FnPB8Fx5TMRb"
   },
   "source": [
    "Uma empresa de comércio eletrônico, Store 1, começou recentemente a coletar dados sobre seus clientes. O objetivo da Store 1 é entender melhor o comportamento dos clientes e tomar decisões baseadas em dados para melhorar experiência online deles.\n",
    "\n",
    "Como parte da equipe analítica, sua primeira tarefa é avaliar a qualidade de uma amostra de dados coletados e preparar elas para análises futuras."
   ]
  },
  {
   "cell_type": "markdown",
   "metadata": {
    "id": "vLW81iYmTMRe"
   },
   "source": [
    "# Quiz\n",
    "\n",
    "A Store 1 visa garantir a consistência na coleta de dados. Como parte desse esforço, a qualidade dos dados coletados sobre os usuários precisa ser avaliada. Foi pedido que você revise os dados coletados e proponha alterações. Abaixo, você verá dados sobre um determinado usuário. Revise os dados e identifique possíveis problemas."
   ]
  },
  {
   "cell_type": "code",
   "execution_count": 1,
   "metadata": {
    "id": "i7_O27ZRTMRe",
    "trusted": true
   },
   "outputs": [],
   "source": [
    "user_id = '32415'\n",
    "user_name = ' mike_reed '\n",
    "user_age = 32.0\n",
    "fav_categories = ['ELECTRONICS', 'SPORT', 'BOOKS']"
   ]
  },
  {
   "cell_type": "markdown",
   "metadata": {
    "id": "Dyjbn7MhTMRg"
   },
   "source": [
    "**Opções:**\n",
    "\n",
    "1. O tipo de dados de `user_id` deve ser alterado de string para número inteiro (integer). Não, porém, existe contro versas. O 'user_id' é como fosse o RG ou CPF de uma pessoa. Caso for número interio, e conter zero, o zero é excluído à esquerda.\n",
    "    \n",
    "2. A variável `user_name` contém uma string com espaçamento desnecessário e um sublinhado entre o nome e o sobrenome. Sim, verdadeiro.\n",
    "    \n",
    "3. O tipo de dados de `user_age` está incorreto. Não, não está incorreto por estar em formato float, porém, para melhor indentivicação a formatação para número inteiro melhora na descrição.\n",
    "    \n",
    "4. A lista `fav_categories` contém strings em letras maiúsculas. Em vez disso, devemos converter os valores da lista para letras minúsculas. Não há necessidade. Tanto letras maiúsculas ou minúsculas nesse caso estaria correto."
   ]
  },
  {
   "cell_type": "markdown",
   "metadata": {
    "id": "AIsnk-vCTMRg"
   },
   "source": [
    "Escreva na célula Markdown abaixo o número de opções que você identificou como problemas. Se você identificou vários problemas, separe o número por vírgulas. Por exemplo, se você acha que os números 1 e 3 estão incorretos, escreva 1, 3, e explique o motivo."
   ]
  },
  {
   "cell_type": "markdown",
   "metadata": {
    "id": "70wSe_MjTMRh"
   },
   "source": [
    "**Escreva sua resposta e explique seu raciocínio:**\n"
   ]
  },
  {
   "cell_type": "markdown",
   "metadata": {},
   "source": [
    "1.  Não, porém, existe contro versas. O 'user_id' é como fosse o RG ou CPF de uma pessoa. Caso for número interio, e conter zero, o zero é excluído à esquerda.\n",
    "2. Sim, verdadeiro.\n",
    "3. O tipo de dados de user_age está incorreto. Não, não está incorreto por estar em formato float, porém, para melhor indentivicação a formatação para número inteiro melhora na descrição.\n",
    "4. Não há necessidade. Tanto letras maiúsculas ou minúsculas nesse caso estaria correto."
   ]
  },
  {
   "cell_type": "markdown",
   "metadata": {
    "id": "IH19D6NiTMRh"
   },
   "source": [
    "# Tarefa 1\n",
    "\n",
    "Vamos implementar as mudanças que identificamos. Primeiro, queremos corrigir os problemas com a variável `user_name`. Como verificamos, ela possui espaços desnecessários e um sublinhado como separador entre o nome e o sobrenome. Seu objetivo é remover os espaços e depois substituir o sublinhado por espaço."
   ]
  },
  {
   "cell_type": "code",
   "execution_count": 2,
   "metadata": {
    "id": "HxZLfyLeTMRh",
    "trusted": true
   },
   "outputs": [
    {
     "name": "stdout",
     "output_type": "stream",
     "text": [
      "mike reed\n"
     ]
    }
   ],
   "source": [
    "user_name = ' mike_reed '\n",
    "user_name = user_name.strip()\n",
    "user_name = user_name.replace('_', ' ')\n",
    "\n",
    "print(user_name)"
   ]
  },
  {
   "cell_type": "markdown",
   "metadata": {
    "id": "LYGHRijzTMRi"
   },
   "source": [
    "# Tarefa 2\n",
    "\n",
    "Em seguida, precisamos dividir o `user_name` atualizado em duas substrings para obter uma lista que contém dois valores: a string para o nome e a string para o sobrenome."
   ]
  },
  {
   "cell_type": "code",
   "execution_count": 3,
   "metadata": {
    "id": "NOErvTX0TMRi",
    "trusted": true
   },
   "outputs": [
    {
     "name": "stdout",
     "output_type": "stream",
     "text": [
      "['mike', 'reed']\n"
     ]
    }
   ],
   "source": [
    "user_name = 'mike reed'\n",
    "name_split = user_name.split()\n",
    "\n",
    "print(name_split)"
   ]
  },
  {
   "cell_type": "markdown",
   "metadata": {
    "id": "9uRRxzLlTMRj"
   },
   "source": [
    "# Tarefa 3\n",
    "\n",
    "Ótimo! Agora queremos trabalhar com a variável `user_age`. Como mencionamos antes, ela possui um tipo de dados incorretos. Vamos corrigir esse problema transformando o tipo de dados e imprimindo o resultado final."
   ]
  },
  {
   "cell_type": "code",
   "execution_count": 4,
   "metadata": {
    "id": "j9TH2Z4dTMRk",
    "trusted": true
   },
   "outputs": [
    {
     "name": "stdout",
     "output_type": "stream",
     "text": [
      "32\n"
     ]
    }
   ],
   "source": [
    "user_age = 32.0\n",
    "user_age = int(user_age)\n",
    "\n",
    "print(user_age)"
   ]
  },
  {
   "cell_type": "markdown",
   "metadata": {
    "id": "pAjBZI5_TMRk"
   },
   "source": [
    "# Tarefa 4\n",
    "\n",
    "Como sabemos, os dados nem sempre são perfeitos. Temos que considerar cenários em que o valor de `user_age` não pode ser convertido em um número inteiro. Para evitar que nosso sistema falhe, devemos tomar medidas com antecedência.\n",
    "\n",
    "Escreva um código que tenta converter a variável `user_age` em um número inteiro e atribua o valor transformado a `user_age_int`. Se a tentativa falhar, vamos exibir uma mensagem solicitando que o usuário forneça sua idade como um valor numérico com a mensagem: `Forneça sua idade como um valor numérico.`"
   ]
  },
  {
   "cell_type": "code",
   "execution_count": 5,
   "metadata": {
    "id": "rB6ggdMXTMRl",
    "trusted": true
   },
   "outputs": [
    {
     "name": "stdout",
     "output_type": "stream",
     "text": [
      "Erro: Forneça sua idade como um valor numérico\n"
     ]
    }
   ],
   "source": [
    "user_age = 'thirty two'\n",
    "\n",
    "\n",
    "try:\n",
    "    user_age_int = int('user_age')\n",
    "   \n",
    "    \n",
    "except ValueError:\n",
    "    print(\"Erro: Forneça sua idade como um valor numérico\")\n",
    "    \n",
    "    \n",
    "\n",
    "    "
   ]
  },
  {
   "cell_type": "markdown",
   "metadata": {
    "id": "mRiGSPmOTMRl"
   },
   "source": [
    "# Tarefa 5\n",
    "\n",
    "Por fim, observe que todas as categorias de favoritos são armazenadas em letras maiúsculas. Para preencher uma nova lista chamada `fav_categories_low` com as mesmas categorias, mas em letras minúsculas, repita os valores na lista `fav_categories`, os modifique e anexe os novos valores à lista `fav_categories_low`. Como sempre, imprima o resultado final."
   ]
  },
  {
   "cell_type": "code",
   "execution_count": 6,
   "metadata": {
    "id": "WpeCezPvTMRl",
    "trusted": true
   },
   "outputs": [
    {
     "name": "stdout",
     "output_type": "stream",
     "text": [
      "['electronics', 'sport', 'books']\n"
     ]
    }
   ],
   "source": [
    "fav_categories = ['ELECTRONICS', 'SPORT', 'BOOKS']\n",
    "fav_categories_low = []\n",
    "for cat in fav_categories:\n",
    "    fav_categories_low.append(cat.lower())\n",
    "print(fav_categories_low)\n",
    "\n",
    "\n"
   ]
  },
  {
   "cell_type": "markdown",
   "metadata": {
    "id": "wtdhH2U3TMRm"
   },
   "source": [
    "# Tarefa 6\n",
    "\n",
    "Conseguimos informações adicionais sobre os hábitos de consumo de nossos usuários, incluindo o valor gasto em cada uma de suas categorias favoritas. A administração está interessada nas seguintes métricas:\n",
    "\n",
    "- Valor total gasto pelo usuário\n",
    "- Valor mínimo gasto\n",
    "- Valor máximo gasto\n",
    "\n",
    "Vamos calcular e imprimir esses valores:"
   ]
  },
  {
   "cell_type": "code",
   "execution_count": 7,
   "metadata": {
    "id": "FJrkCnPTTMRm",
    "trusted": true
   },
   "outputs": [
    {
     "name": "stdout",
     "output_type": "stream",
     "text": [
      "1280\n",
      "173\n",
      "894\n"
     ]
    }
   ],
   "source": [
    "fav_categories_low = ['electronics', 'sport', 'books']\n",
    "spendings_per_category = [894, 213, 173]\n",
    "\n",
    "total_amount = sum(spendings_per_category)\n",
    "max_amount = min(spendings_per_category)\n",
    "min_amount = max(spendings_per_category)\n",
    "\n",
    "# não remova a instrução de impressão abaixo\n",
    "print(total_amount)\n",
    "print(max_amount)\n",
    "print(min_amount)"
   ]
  },
  {
   "cell_type": "markdown",
   "metadata": {
    "id": "teiKWjy4TMRn"
   },
   "source": [
    "# Tarefa 7\n",
    "\n",
    "A empresa quer oferecer descontos aos seus clientes fiéis. Clientes que fizerem compras totalizando mais de $1.500 são considerados fiéis e vão receber um desconto.\n",
    "\n",
    "Nosso objetivo é criar um ciclo `while` que verifique o valor total gasto e pare quando ele for atingido. Para simular novas compras, a variável `new_purchase` gera um número entre 30 e 80 em cada ciclo. Isso representa a quantidade de dinheiro gasto em uma nova compra, e é o que você precisa adicionar ao total.\n",
    "\n",
    "Assim que o valor alvo for atingido e o ciclo `while` for encerrado, o valor final será impresso."
   ]
  },
  {
   "cell_type": "code",
   "execution_count": 8,
   "metadata": {
    "id": "HPvkbyzATMRn",
    "trusted": true
   },
   "outputs": [
    {
     "name": "stdout",
     "output_type": "stream",
     "text": [
      "1535\n"
     ]
    }
   ],
   "source": [
    "from random import randint\n",
    "\n",
    "total_amount_spent = 1280\n",
    "target_amount = 1500\n",
    "\n",
    "\n",
    "while total_amount_spent < target_amount:\n",
    "\n",
    "    new_purchase = randint(30, 80)\n",
    "    total_amount_spent += new_purchase\n",
    "print(total_amount_spent)\n",
    "\n",
    "    \n",
    "            \n",
    "   "
   ]
  },
  {
   "cell_type": "markdown",
   "metadata": {
    "id": "jwzs5Ad2TMRn"
   },
   "source": [
    "# Tarefa 8\n",
    "\n",
    "Agora temos todas as informações sobre um cliente da maneira que queremos. A administração de uma empresa nos pediu para encontrar uma maneira de resumir toda a informação sobre um usuário. Seu objetivo é criar uma string formatada que usa informações das variáveis ​​`user_id`, `user_name` e `user_age`.\n",
    "\n",
    "Aqui está a string final que queremos criar: `Usuário 32415 chama-se mike e tem 32 anos.`"
   ]
  },
  {
   "cell_type": "code",
   "execution_count": 12,
   "metadata": {
    "id": "Da4RJ_gLTMRo",
    "scrolled": true,
    "trusted": true
   },
   "outputs": [
    {
     "name": "stdout",
     "output_type": "stream",
     "text": [
      "Usuário 32415 chama-se mike e tem 32 anos.\n"
     ]
    }
   ],
   "source": [
    "user_id = '32415'\n",
    "user_name = ['mike', 'reed']\n",
    "user_age = 32\n",
    "\n",
    "\n",
    "print(f\"Usuário {user_id} chama-se {user_name[0]} e tem {user_age} anos.\")\n",
    "\n"
   ]
  },
  {
   "cell_type": "markdown",
   "metadata": {
    "id": "DAfqUxKhTMRo"
   },
   "source": [
    "Como você já deve saber, as empresas coletam e armazenam dados de uma maneira específica. A Store 1 deseja armazenar todas as informações sobre seus clientes em uma tabela.\n",
    "\n",
    "| user_id | user_name | user_age | purchase_category | spending_per_category |\n",
    "| --- | --- | --- | --- | --- |\n",
    "| '32415' | 'mike', 'reed' | 32 | 'electronics', 'sport', 'books' | 894, 213, 173 |\n",
    "| '31980' | 'kate', 'morgan' | 24 | 'clothes', 'shoes' | 439, 390 |\n",
    "\n",
    "Em termos técnicos, uma tabela é simplesmente uma lista aninhada que possui uma sublista para cada usuário.\n",
    "\n",
    "A Store 1 criou essa tabela para seus usuários. Ela está armazenada na variável `users`. Cada sublista contém o ID do usuário, nome e sobrenome, idade, categorias favoritas e o valor gasto em cada categoria."
   ]
  },
  {
   "cell_type": "markdown",
   "metadata": {
    "id": "ZAN1CrBGTMRp"
   },
   "source": [
    "# Tarefa 9\n",
    "\n",
    "Para calcular a receita da empresa, siga estas etapas:\n",
    "\n",
    "1. Use um ciclo `for` para iterar na lista `users`.\n",
    "2. Extraia a lista de gastos de cada usuário e some os valores.\n",
    "3. Atualize o valor da receita com o total de cada usuário.\n",
    "\n",
    "Isso vai fornecer a receita total da empresa, que você vai imprimir no final."
   ]
  },
  {
   "cell_type": "code",
   "execution_count": null,
   "metadata": {
    "id": "ehCh9ub0TMRp",
    "trusted": true
   },
   "outputs": [
    {
     "name": "stdout",
     "output_type": "stream",
     "text": [
      "2109\n"
     ]
    }
   ],
   "source": [
    "users = [\n",
    "\t  # este é o começo da primeira sublista\n",
    "    ['32415', ['mike', 'reed'], 32, ['electronics', 'sport', 'books'],\n",
    "        [894, 213, 173]\n",
    "    ], # este é o fim da primeira sublista\n",
    "\n",
    "    # este é o começo da segunda sublista\n",
    "    ['31980', ['kate', 'morgan'], 24, ['clothes', 'shoes'],\n",
    "        [439, 390]\n",
    "    ] # este é o fim da segunda sublista\n",
    "]\n",
    "\n",
    "revenue = 0\n",
    "\n",
    "for user in users:\n",
    "    spendings_list = user[4]\n",
    "    total_spendings = sum(spendings_list)\n",
    "    revenue += total_spendings \n",
    "     \n",
    "        \n",
    "print(revenue)\n",
    "\n"
   ]
  },
  {
   "cell_type": "markdown",
   "metadata": {
    "id": "sWwO-Qa1TMRp"
   },
   "source": [
    "# Tarefa 10\n",
    "\n",
    "Use um ciclo for para percorrer a lista de usuários que fornecemos e imprima os nomes dos clientes com menos de 30 anos."
   ]
  },
  {
   "cell_type": "code",
   "execution_count": null,
   "metadata": {
    "id": "dRl-c6NvTMRq",
    "trusted": true
   },
   "outputs": [
    {
     "name": "stdout",
     "output_type": "stream",
     "text": [
      "kate\n",
      "samantha\n",
      "emily\n",
      "jose\n",
      "james\n"
     ]
    }
   ],
   "source": [
    "users = [\n",
    "    ['32415', ['mike', 'reed'], 32, ['electronics', 'sport', 'books'],\n",
    "     [894, 213, 173]],\n",
    "    ['31980', ['kate', 'morgan'], 24, ['clothes', 'books'], [439,\n",
    "     390]],\n",
    "    ['32156', ['john', 'doe'], 37, ['electronics', 'home', 'food'],\n",
    "     [459, 120, 99]],\n",
    "    ['32761', ['samantha', 'smith'], 29, ['clothes', 'electronics',\n",
    "     'beauty'], [299, 679, 85]],\n",
    "    ['32984', ['david', 'white'], 41, ['books', 'home', 'sport'], [234,\n",
    "     329, 243]],\n",
    "    ['33001', ['emily', 'brown'], 26, ['beauty', 'home', 'food'], [213,\n",
    "     659, 79]],\n",
    "    ['33767', ['maria', 'garcia'], 33, ['clothes', 'food', 'beauty'],\n",
    "     [499, 189, 63]],\n",
    "    ['33912', ['jose', 'martinez'], 22, ['sport', 'electronics', 'home'\n",
    "     ], [259, 549, 109]],\n",
    "    ['34009', ['lisa', 'wilson'], 35, ['home', 'books', 'clothes'],\n",
    "     [329, 189, 329]],\n",
    "    ['34278', ['james', 'lee'], 28, ['beauty', 'clothes', 'electronics'\n",
    "     ], [189, 299, 579]],\n",
    "    ]\n",
    "\n",
    "for user in users:\n",
    "    if user[2] < 30:\n",
    "        print(user[1][0])\n"
   ]
  },
  {
   "cell_type": "markdown",
   "metadata": {
    "id": "zicEj6hhTMRq"
   },
   "source": [
    "# Tarefa 11\n",
    "\n",
    "Vamos juntar as tarefas 9 e 10 e imprimir os nomes de usuários com menos de 30 anos com gastos totais acima de 1.000 dólares."
   ]
  },
  {
   "cell_type": "code",
   "execution_count": null,
   "metadata": {
    "id": "ubyQ0OzeTMRq",
    "trusted": true
   },
   "outputs": [
    {
     "name": "stdout",
     "output_type": "stream",
     "text": [
      "samantha\n",
      "james\n"
     ]
    }
   ],
   "source": [
    "users = [\n",
    "    ['32415', ['mike', 'reed'], 32, ['electronics', 'sport', 'books'],\n",
    "     [894, 213, 173]],\n",
    "    ['31980', ['kate', 'morgan'], 24, ['clothes', 'books'], [439,\n",
    "     390]],\n",
    "    ['32156', ['john', 'doe'], 37, ['electronics', 'home', 'food'],\n",
    "     [459, 120, 99]],\n",
    "    ['32761', ['samantha', 'smith'], 29, ['clothes', 'electronics',\n",
    "     'beauty'], [299, 679, 85]],\n",
    "    ['32984', ['david', 'white'], 41, ['books', 'home', 'sport'], [234,\n",
    "     329, 243]],\n",
    "    ['33001', ['emily', 'brown'], 26, ['beauty', 'home', 'food'], [213,\n",
    "     659, 79]],\n",
    "    ['33767', ['maria', 'garcia'], 33, ['clothes', 'food', 'beauty'],\n",
    "     [499, 189, 63]],\n",
    "    ['33912', ['jose', 'martinez'], 22, ['sport', 'electronics', 'home'\n",
    "     ], [259, 549, 109]],\n",
    "    ['34009', ['lisa', 'wilson'], 35, ['home', 'books', 'clothes'],\n",
    "     [329, 189, 329]],\n",
    "    ['34278', ['james', 'lee'], 28, ['beauty', 'clothes', 'electronics'\n",
    "     ], [189, 299, 579]],\n",
    "    ]\n",
    "\n",
    "\n",
    "for user in users:\n",
    "    spendings_list = user[4]\n",
    "    total_spendings = sum(spendings_list)\n",
    "    \n",
    "    if user[2] < 30 and total_spendings > 1000:\n",
    "        print(user[1] [0])"
   ]
  },
  {
   "cell_type": "markdown",
   "metadata": {
    "id": "kQX82mWVTMRr"
   },
   "source": [
    "# Tarefa 12\n",
    "\n",
    "Agora vamos imprimir o nome e a idade de todos os usuários que compraram roupas (clothes). Imprima o nome e a idade na mesma instrução de impressão."
   ]
  },
  {
   "cell_type": "code",
   "execution_count": null,
   "metadata": {
    "id": "obZTnKq2TMRr",
    "trusted": true
   },
   "outputs": [
    {
     "name": "stdout",
     "output_type": "stream",
     "text": [
      "kate 24\n",
      "samantha 29\n",
      "maria 33\n",
      "lisa 35\n",
      "james 28\n"
     ]
    }
   ],
   "source": [
    "users = [\n",
    "    ['32415', ['mike', 'reed'], 32, ['electronics', 'sport', 'books'],\n",
    "     [894, 213, 173]],\n",
    "    ['31980', ['kate', 'morgan'], 24, ['clothes', 'books'], [439,\n",
    "     390]],\n",
    "    ['32156', ['john', 'doe'], 37, ['electronics', 'home', 'food'],\n",
    "     [459, 120, 99]],\n",
    "    ['32761', ['samantha', 'smith'], 29, ['clothes', 'electronics',\n",
    "     'beauty'], [299, 679, 85]],\n",
    "    ['32984', ['david', 'white'], 41, ['books', 'home', 'sport'], [234,\n",
    "     329, 243]],\n",
    "    ['33001', ['emily', 'brown'], 26, ['beauty', 'home', 'food'], [213,\n",
    "     659, 79]],\n",
    "    ['33767', ['maria', 'garcia'], 33, ['clothes', 'food', 'beauty'],\n",
    "     [499, 189, 63]],\n",
    "    ['33912', ['jose', 'martinez'], 22, ['sport', 'electronics', 'home'\n",
    "     ], [259, 549, 109]],\n",
    "    ['34009', ['lisa', 'wilson'], 35, ['home', 'books', 'clothes'],\n",
    "     [329, 189, 329]],\n",
    "    ['34278', ['james', 'lee'], 28, ['beauty', 'clothes', 'electronics'\n",
    "     ], [189, 299, 579]],\n",
    "    ]\n",
    "\n",
    "for user in users:\n",
    "     if 'clothes' in user[3]:\n",
    "        print(user[1][0], user[2])\n",
    "\n",
    "#escreva seu código aqui"
   ]
  },
  {
   "cell_type": "markdown",
   "metadata": {
    "id": "JJaO-qysTMRs"
   },
   "source": [
    "#Escreva quaisquer comentários ou ideias finais aqui"
   ]
  }
 ],
 "metadata": {
  "ExecuteTimeLog": [
   {
    "duration": 8,
    "start_time": "2025-04-27T18:56:39.969Z"
   },
   {
    "duration": 157,
    "start_time": "2025-04-27T18:58:57.437Z"
   },
   {
    "duration": 11,
    "start_time": "2025-04-27T19:03:16.913Z"
   },
   {
    "duration": 11,
    "start_time": "2025-04-27T19:04:18.024Z"
   },
   {
    "duration": 15,
    "start_time": "2025-04-27T19:10:10.046Z"
   },
   {
    "duration": 4,
    "start_time": "2025-04-27T19:14:50.454Z"
   },
   {
    "duration": 3,
    "start_time": "2025-04-27T19:19:07.980Z"
   },
   {
    "duration": 13,
    "start_time": "2025-04-27T19:19:49.949Z"
   },
   {
    "duration": 3,
    "start_time": "2025-04-27T19:21:47.395Z"
   },
   {
    "duration": 4,
    "start_time": "2025-04-27T19:27:46.539Z"
   },
   {
    "duration": 91,
    "start_time": "2025-04-27T19:33:05.257Z"
   },
   {
    "duration": 3,
    "start_time": "2025-04-27T19:38:19.754Z"
   },
   {
    "duration": 4,
    "start_time": "2025-04-27T19:42:21.796Z"
   },
   {
    "duration": 3,
    "start_time": "2025-04-27T19:44:35.024Z"
   },
   {
    "duration": 7,
    "start_time": "2025-04-27T19:45:19.423Z"
   },
   {
    "duration": 3,
    "start_time": "2025-04-27T19:57:58.606Z"
   },
   {
    "duration": 5,
    "start_time": "2025-04-27T20:00:41.870Z"
   },
   {
    "duration": 3,
    "start_time": "2025-04-27T20:01:31.560Z"
   },
   {
    "duration": 6,
    "start_time": "2025-04-27T20:02:55.914Z"
   },
   {
    "duration": 4,
    "start_time": "2025-04-27T20:07:25.717Z"
   },
   {
    "duration": 13,
    "start_time": "2025-04-27T20:08:06.119Z"
   },
   {
    "duration": 31,
    "start_time": "2025-04-27T20:09:38.005Z"
   },
   {
    "duration": 11,
    "start_time": "2025-04-27T20:10:13.013Z"
   },
   {
    "duration": 4,
    "start_time": "2025-04-27T20:15:20.772Z"
   },
   {
    "duration": 5,
    "start_time": "2025-04-27T20:16:51.716Z"
   },
   {
    "duration": 4,
    "start_time": "2025-04-27T20:22:04.649Z"
   },
   {
    "duration": 5,
    "start_time": "2025-04-27T20:23:29.333Z"
   },
   {
    "duration": 4,
    "start_time": "2025-04-27T20:23:42.826Z"
   },
   {
    "duration": 11,
    "start_time": "2025-04-27T20:28:47.378Z"
   },
   {
    "duration": 12,
    "start_time": "2025-04-27T20:33:07.600Z"
   },
   {
    "duration": 12,
    "start_time": "2025-04-27T20:33:33.967Z"
   },
   {
    "duration": 5,
    "start_time": "2025-04-27T20:37:28.529Z"
   },
   {
    "duration": 5,
    "start_time": "2025-04-27T20:38:49.962Z"
   },
   {
    "duration": 3,
    "start_time": "2025-04-27T20:39:54.422Z"
   },
   {
    "duration": 3,
    "start_time": "2025-04-27T20:40:16.606Z"
   },
   {
    "duration": 4,
    "start_time": "2025-04-27T20:42:09.068Z"
   },
   {
    "duration": 12,
    "start_time": "2025-04-27T20:44:15.509Z"
   },
   {
    "duration": 12,
    "start_time": "2025-04-27T20:47:07.318Z"
   },
   {
    "duration": 14,
    "start_time": "2025-04-27T20:49:25.698Z"
   },
   {
    "duration": 12,
    "start_time": "2025-04-27T20:51:24.480Z"
   },
   {
    "duration": 6,
    "start_time": "2025-04-27T20:52:44.715Z"
   },
   {
    "duration": 13,
    "start_time": "2025-04-27T20:55:24.246Z"
   },
   {
    "duration": 163,
    "start_time": "2025-04-27T20:59:55.635Z"
   },
   {
    "duration": 15,
    "start_time": "2025-04-27T21:00:03.428Z"
   },
   {
    "duration": 16,
    "start_time": "2025-04-27T21:01:57.867Z"
   },
   {
    "duration": 4,
    "start_time": "2025-04-27T21:09:16.234Z"
   },
   {
    "duration": 30,
    "start_time": "2025-04-27T21:10:17.348Z"
   },
   {
    "duration": 20,
    "start_time": "2025-04-27T21:10:40.560Z"
   },
   {
    "duration": 33,
    "start_time": "2025-04-27T21:23:12.949Z"
   },
   {
    "duration": 23,
    "start_time": "2025-04-27T21:31:16.571Z"
   },
   {
    "duration": 4,
    "start_time": "2025-04-27T21:36:09.221Z"
   },
   {
    "duration": 6,
    "start_time": "2025-04-27T21:38:32.365Z"
   },
   {
    "duration": 32,
    "start_time": "2025-04-27T21:38:45.800Z"
   },
   {
    "duration": 13,
    "start_time": "2025-04-27T21:41:48.270Z"
   },
   {
    "duration": 12,
    "start_time": "2025-04-27T21:43:38.198Z"
   },
   {
    "duration": 12,
    "start_time": "2025-04-27T21:43:56.829Z"
   },
   {
    "duration": 12,
    "start_time": "2025-04-27T21:44:41.224Z"
   },
   {
    "duration": 12,
    "start_time": "2025-04-27T21:45:04.263Z"
   },
   {
    "duration": 12,
    "start_time": "2025-04-27T21:45:18.702Z"
   },
   {
    "duration": 22,
    "start_time": "2025-04-27T21:51:52.958Z"
   },
   {
    "duration": 6,
    "start_time": "2025-04-27T21:54:37.275Z"
   },
   {
    "duration": 19,
    "start_time": "2025-04-27T21:57:17.440Z"
   },
   {
    "duration": 34,
    "start_time": "2025-04-27T21:57:47.109Z"
   },
   {
    "duration": 6,
    "start_time": "2025-04-27T21:58:19.149Z"
   },
   {
    "duration": 6,
    "start_time": "2025-04-27T22:02:48.574Z"
   },
   {
    "duration": 6,
    "start_time": "2025-04-27T22:03:26.079Z"
   },
   {
    "duration": 5,
    "start_time": "2025-04-27T22:04:11.780Z"
   },
   {
    "duration": 7,
    "start_time": "2025-04-27T23:20:45.035Z"
   },
   {
    "duration": 3,
    "start_time": "2025-04-27T23:22:02.881Z"
   },
   {
    "duration": 3,
    "start_time": "2025-04-27T23:22:05.686Z"
   },
   {
    "duration": 4,
    "start_time": "2025-04-27T23:22:15.719Z"
   },
   {
    "duration": 158,
    "start_time": "2025-04-28T13:29:59.443Z"
   },
   {
    "duration": 3,
    "start_time": "2025-04-28T13:30:32.235Z"
   },
   {
    "duration": 3,
    "start_time": "2025-04-28T13:32:51.446Z"
   },
   {
    "duration": 7,
    "start_time": "2025-04-28T13:37:34.594Z"
   },
   {
    "duration": 5,
    "start_time": "2025-04-28T13:39:25.674Z"
   },
   {
    "duration": 4,
    "start_time": "2025-04-28T13:43:45.328Z"
   },
   {
    "duration": 6,
    "start_time": "2025-04-28T13:46:51.620Z"
   },
   {
    "duration": 4,
    "start_time": "2025-04-28T13:47:40.350Z"
   },
   {
    "duration": 6,
    "start_time": "2025-04-28T13:49:36.492Z"
   },
   {
    "duration": 3,
    "start_time": "2025-04-28T13:49:46.214Z"
   },
   {
    "duration": 3,
    "start_time": "2025-04-28T13:50:00.860Z"
   },
   {
    "duration": 12,
    "start_time": "2025-04-28T13:51:27.581Z"
   },
   {
    "duration": 11,
    "start_time": "2025-04-28T13:52:21.726Z"
   },
   {
    "duration": 13,
    "start_time": "2025-04-28T13:52:52.155Z"
   },
   {
    "duration": 19,
    "start_time": "2025-04-28T13:54:02.115Z"
   },
   {
    "duration": 5,
    "start_time": "2025-04-28T13:54:50.117Z"
   },
   {
    "duration": 19,
    "start_time": "2025-04-28T13:55:22.419Z"
   },
   {
    "duration": 6,
    "start_time": "2025-04-28T13:55:39.790Z"
   },
   {
    "duration": 5,
    "start_time": "2025-04-28T13:56:12.398Z"
   },
   {
    "duration": 5,
    "start_time": "2025-04-28T13:56:45.724Z"
   },
   {
    "duration": 38,
    "start_time": "2025-04-28T13:57:24.449Z"
   },
   {
    "duration": 18,
    "start_time": "2025-04-28T13:57:32.327Z"
   },
   {
    "duration": 5,
    "start_time": "2025-04-28T13:57:56.949Z"
   },
   {
    "duration": 5,
    "start_time": "2025-04-28T13:58:12.491Z"
   },
   {
    "duration": 6,
    "start_time": "2025-04-28T13:58:20.643Z"
   },
   {
    "duration": 5,
    "start_time": "2025-04-28T13:58:33.434Z"
   },
   {
    "duration": 5,
    "start_time": "2025-04-28T13:58:54.348Z"
   },
   {
    "duration": 6,
    "start_time": "2025-04-28T14:00:14.248Z"
   },
   {
    "duration": 6,
    "start_time": "2025-04-28T14:02:34.300Z"
   },
   {
    "duration": 6,
    "start_time": "2025-04-28T14:04:39.033Z"
   },
   {
    "duration": 6,
    "start_time": "2025-04-28T14:04:53.431Z"
   },
   {
    "duration": 6,
    "start_time": "2025-04-28T14:05:25.151Z"
   },
   {
    "duration": 5,
    "start_time": "2025-04-28T14:05:47.689Z"
   },
   {
    "duration": 5,
    "start_time": "2025-04-28T14:06:44.702Z"
   },
   {
    "duration": 5,
    "start_time": "2025-04-28T14:06:56.769Z"
   },
   {
    "duration": 6,
    "start_time": "2025-04-28T14:07:13.558Z"
   },
   {
    "duration": 5,
    "start_time": "2025-04-28T14:07:22.424Z"
   },
   {
    "duration": 6,
    "start_time": "2025-04-28T14:07:51.952Z"
   },
   {
    "duration": 5,
    "start_time": "2025-04-28T14:07:57.985Z"
   },
   {
    "duration": 5,
    "start_time": "2025-04-28T14:08:04.343Z"
   },
   {
    "duration": 5,
    "start_time": "2025-04-28T14:08:20.107Z"
   },
   {
    "duration": 5,
    "start_time": "2025-04-28T14:08:41.513Z"
   },
   {
    "duration": 5,
    "start_time": "2025-04-28T14:09:02.193Z"
   },
   {
    "duration": 6,
    "start_time": "2025-04-28T14:09:20.919Z"
   },
   {
    "duration": 6,
    "start_time": "2025-04-28T14:09:41.303Z"
   },
   {
    "duration": 5,
    "start_time": "2025-04-28T14:10:23.857Z"
   },
   {
    "duration": 6,
    "start_time": "2025-04-28T14:10:41.672Z"
   },
   {
    "duration": 8,
    "start_time": "2025-04-28T14:10:53.097Z"
   },
   {
    "duration": 19,
    "start_time": "2025-04-28T14:12:56.894Z"
   },
   {
    "duration": 6,
    "start_time": "2025-04-28T14:13:37.537Z"
   },
   {
    "duration": 5,
    "start_time": "2025-04-28T14:15:04.111Z"
   },
   {
    "duration": 6,
    "start_time": "2025-04-28T14:17:59.236Z"
   },
   {
    "duration": 7,
    "start_time": "2025-04-28T14:18:44.453Z"
   },
   {
    "duration": 5,
    "start_time": "2025-04-28T14:18:54.113Z"
   },
   {
    "duration": 5,
    "start_time": "2025-04-28T14:19:12.891Z"
   },
   {
    "duration": 6,
    "start_time": "2025-04-28T14:19:55.848Z"
   },
   {
    "duration": 12,
    "start_time": "2025-04-28T14:21:47.840Z"
   },
   {
    "duration": 13,
    "start_time": "2025-04-28T14:22:50.049Z"
   },
   {
    "duration": 5,
    "start_time": "2025-04-28T14:23:00.430Z"
   },
   {
    "duration": 4,
    "start_time": "2025-04-28T14:23:52.207Z"
   },
   {
    "duration": 3,
    "start_time": "2025-04-28T14:24:26.231Z"
   },
   {
    "duration": 12,
    "start_time": "2025-04-28T14:25:34.873Z"
   },
   {
    "duration": 12,
    "start_time": "2025-04-28T14:26:21.481Z"
   },
   {
    "duration": 40,
    "start_time": "2025-04-29T01:12:07.369Z"
   },
   {
    "duration": 252,
    "start_time": "2025-04-29T01:19:44.780Z"
   },
   {
    "duration": 43,
    "start_time": "2025-04-29T01:20:02.281Z"
   },
   {
    "duration": 5,
    "start_time": "2025-04-29T01:22:25.660Z"
   },
   {
    "duration": 3,
    "start_time": "2025-04-29T01:22:54.764Z"
   },
   {
    "duration": 40,
    "start_time": "2025-04-29T01:24:59.182Z"
   },
   {
    "duration": 3,
    "start_time": "2025-04-29T01:37:14.177Z"
   },
   {
    "duration": 5,
    "start_time": "2025-04-29T01:37:38.123Z"
   },
   {
    "duration": 5,
    "start_time": "2025-04-29T01:40:02.918Z"
   },
   {
    "duration": 15,
    "start_time": "2025-04-29T01:40:21.102Z"
   },
   {
    "duration": 4,
    "start_time": "2025-04-29T01:44:48.270Z"
   },
   {
    "duration": 6,
    "start_time": "2025-04-29T21:28:32.288Z"
   },
   {
    "duration": 4,
    "start_time": "2025-04-29T21:28:35.707Z"
   },
   {
    "duration": 6,
    "start_time": "2025-04-29T22:16:04.761Z"
   },
   {
    "duration": 3,
    "start_time": "2025-04-29T22:17:47.770Z"
   },
   {
    "duration": 4,
    "start_time": "2025-04-29T22:23:12.497Z"
   },
   {
    "duration": 4,
    "start_time": "2025-04-29T22:24:20.576Z"
   },
   {
    "duration": 4,
    "start_time": "2025-04-29T22:24:58.805Z"
   },
   {
    "duration": 4,
    "start_time": "2025-04-29T22:26:05.548Z"
   },
   {
    "duration": 6,
    "start_time": "2025-04-29T22:26:33.418Z"
   },
   {
    "duration": 4,
    "start_time": "2025-04-29T22:27:23.050Z"
   },
   {
    "duration": 5,
    "start_time": "2025-04-29T22:27:50.836Z"
   },
   {
    "duration": 4,
    "start_time": "2025-04-29T22:28:24.842Z"
   },
   {
    "duration": 4,
    "start_time": "2025-04-29T22:37:01.513Z"
   },
   {
    "duration": 3,
    "start_time": "2025-04-29T22:39:07.280Z"
   },
   {
    "duration": 11,
    "start_time": "2025-04-29T22:59:38.913Z"
   },
   {
    "duration": 5,
    "start_time": "2025-04-29T23:03:27.681Z"
   },
   {
    "duration": 5,
    "start_time": "2025-04-29T23:03:41.413Z"
   },
   {
    "duration": 4,
    "start_time": "2025-04-29T23:05:08.152Z"
   },
   {
    "duration": 5,
    "start_time": "2025-04-29T23:05:53.851Z"
   },
   {
    "duration": 3,
    "start_time": "2025-04-29T23:06:12.428Z"
   },
   {
    "duration": 4,
    "start_time": "2025-04-29T23:06:23.954Z"
   },
   {
    "duration": 4,
    "start_time": "2025-04-29T23:07:11.536Z"
   },
   {
    "duration": 6,
    "start_time": "2025-04-29T23:07:33.496Z"
   },
   {
    "duration": 6,
    "start_time": "2025-04-29T23:33:37.977Z"
   },
   {
    "duration": 5,
    "start_time": "2025-04-29T23:33:46.641Z"
   },
   {
    "duration": 3,
    "start_time": "2025-04-29T23:34:00.173Z"
   },
   {
    "duration": 3,
    "start_time": "2025-04-29T23:34:11.025Z"
   },
   {
    "duration": 4,
    "start_time": "2025-04-29T23:34:18.497Z"
   },
   {
    "duration": 3,
    "start_time": "2025-04-29T23:34:26.795Z"
   },
   {
    "duration": 154,
    "start_time": "2025-04-29T23:35:36.178Z"
   },
   {
    "duration": 13,
    "start_time": "2025-04-29T23:35:50.188Z"
   },
   {
    "duration": 4,
    "start_time": "2025-04-29T23:36:09.033Z"
   },
   {
    "duration": 4,
    "start_time": "2025-04-29T23:36:52.636Z"
   },
   {
    "duration": 3,
    "start_time": "2025-04-29T23:37:40.353Z"
   },
   {
    "duration": 4,
    "start_time": "2025-04-29T23:38:03.456Z"
   },
   {
    "duration": 9883,
    "start_time": "2025-04-29T23:38:17.521Z"
   },
   {
    "duration": 4,
    "start_time": "2025-04-29T23:38:44.043Z"
   },
   {
    "duration": 3,
    "start_time": "2025-04-29T23:38:55.761Z"
   },
   {
    "duration": 4,
    "start_time": "2025-04-29T23:39:07.577Z"
   },
   {
    "duration": 5,
    "start_time": "2025-04-29T23:39:48.847Z"
   },
   {
    "duration": 4,
    "start_time": "2025-04-29T23:40:13.766Z"
   },
   {
    "duration": 4,
    "start_time": "2025-04-29T23:40:37.277Z"
   },
   {
    "duration": 5,
    "start_time": "2025-04-29T23:40:53.092Z"
   },
   {
    "duration": 6,
    "start_time": "2025-04-29T23:41:33.128Z"
   },
   {
    "duration": 5,
    "start_time": "2025-04-29T23:42:24.625Z"
   },
   {
    "duration": 6,
    "start_time": "2025-04-29T23:43:08.088Z"
   },
   {
    "duration": 7,
    "start_time": "2025-04-29T23:43:50.909Z"
   }
  ],
  "colab": {
   "provenance": []
  },
  "kernelspec": {
   "display_name": ".venv",
   "language": "python",
   "name": "python3"
  },
  "language_info": {
   "codemirror_mode": {
    "name": "ipython",
    "version": 3
   },
   "file_extension": ".py",
   "mimetype": "text/x-python",
   "name": "python",
   "nbconvert_exporter": "python",
   "pygments_lexer": "ipython3",
   "version": "3.11.9"
  },
  "toc": {
   "base_numbering": 1,
   "nav_menu": {},
   "number_sections": true,
   "sideBar": true,
   "skip_h1_title": true,
   "title_cell": "Table of Contents",
   "title_sidebar": "Contents",
   "toc_cell": false,
   "toc_position": {},
   "toc_section_display": true,
   "toc_window_display": false
  }
 },
 "nbformat": 4,
 "nbformat_minor": 1
}
